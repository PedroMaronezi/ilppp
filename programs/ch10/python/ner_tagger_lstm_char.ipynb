{
 "cells": [
  {
   "cell_type": "markdown",
   "metadata": {},
   "source": [
    "# Named-Entity Recognition\n",
    "Implementation of a NER tagger following Chiu-Nichols' paper (2016): \n",
    "Named Entity Recognition with Bidirectional LSTM-CNNs.\n",
    "\n",
    "Author: Pierre Nugues"
   ]
  },
  {
   "cell_type": "markdown",
   "metadata": {},
   "source": [
    "## A Note on the Performance"
   ]
  },
  {
   "cell_type": "markdown",
   "metadata": {},
   "source": [
    "Chiu and Nichols reported a maximal performance of 91.62 on the CoNLL 2003 English corpus. The performance we obtain here is not completely comparable to theirs as we have a slightly different configuration.\n",
    "\n",
    "The program below uses word and character features only. It sets aside the capitalization and lexicons features proposed by Chiu and Nichols. We believe this makes our program more easily adaptable to other languages. In addition, Chiu and Nichols trained their model on the training and development sets. We only use the training set.\n",
    "\n",
    "Nonetheless, we can try to compare their figures with ours. In Table 6 of their paper, Chiu and Nichols report a best performance of 91.62 with a model trained on the training and development sets with all the features. When trained on the training set, they reached 91.23 (Table 8). From this, we can estimate that the contribution of the development set is of about 91.62 - 91.23 ~= 0.39. \n",
    "\n",
    "When using the word and character features and training their model on the training and development sets, Chiu and Nichols trained 90.91 (Table 6, second row, BLSTM-CNN). We can posit that Chiu and Nichols' system trained on the training set only would reach 90.91 - 0.39 ~= 90.52."
   ]
  },
  {
   "cell_type": "markdown",
   "metadata": {},
   "source": [
    "## Preliminaries"
   ]
  },
  {
   "cell_type": "markdown",
   "metadata": {},
   "source": [
    "The imported modules"
   ]
  },
  {
   "cell_type": "code",
   "execution_count": 1,
   "metadata": {},
   "outputs": [
    {
     "name": "stderr",
     "output_type": "stream",
     "text": [
      "Using TensorFlow backend.\n"
     ]
    }
   ],
   "source": [
    "import sys\n",
    "import os\n",
    "import time\n",
    "import numpy as np\n",
    "from tqdm import tqdm\n",
    "from random import shuffle\n",
    "from keras import callbacks\n",
    "from keras.initializers import RandomUniform\n",
    "from keras.models import Sequential, Input\n",
    "from keras.layers import Embedding, Flatten, Dense, Dropout, Lambda, TimeDistributed, concatenate\n",
    "from keras.layers import LSTM, Bidirectional, SimpleRNN, Conv1D, MaxPooling1D\n",
    "from keras.optimizers import RMSprop\n",
    "from keras.models import Model\n",
    "from keras.preprocessing.sequence import pad_sequences\n",
    "from keras.utils.np_utils import to_categorical\n",
    "from keras_contrib.layers import CRF\n",
    "import matplotlib.pyplot as plt\n",
    "import seaborn as sns\n",
    "import tensorflow as tf"
   ]
  },
  {
   "cell_type": "markdown",
   "metadata": {},
   "source": [
    "A few functions we'll be using"
   ]
  },
  {
   "cell_type": "code",
   "execution_count": 2,
   "metadata": {},
   "outputs": [],
   "source": [
    "sys.path.append('/Users/pierre/Documents/Cours/EDAN20/programs/')\n",
    "\n",
    "from ch06.python.conll_dictorizer import CoNLLDictorizer\n",
    "from ch08.python.datasets import load_conll2003_en, load_glove_vectors\n",
    "from ch08.python.rnn_preprocessing import build_sequences, to_index, to_char_index"
   ]
  },
  {
   "cell_type": "markdown",
   "metadata": {},
   "source": [
    "Different possible configurations, including those from Chiu-Nichols"
   ]
  },
  {
   "cell_type": "code",
   "execution_count": 3,
   "metadata": {},
   "outputs": [],
   "source": [
    "OPTIMIZER = 'rmsprop'\n",
    "ANNOTATION = 'IOBES'  # 'IOBES' or 'IOB'\n",
    "EMBEDDING_DIM = 100\n",
    "BATCH_SIZE =  512 # Chiu-Nichols 8\n",
    "EPOCHS = 80 # Chiu-Nichols 80\n",
    "LSTM_UNITS = 200 # Chiu-Nichols 275\n",
    "CHAR_EMBEDDING_DIM = 50  # Chiu-Nichols 25\n",
    "CHAR_UNITS = 50  # Chiu-Nichols 53\n",
    "CHAR_DROPOUT = 0.5 # Chiu-Nichols 0?\n",
    "DROPOUT_RATE_PRE = 0.5 # Dropout before the LSTM\n",
    "RECURRENT_DROPOUT = 0.5 # Chiu-Nichols 0?\n",
    "DROPOUT_RATE = 0.0 # Chiu-Nichols 0.68?\n",
    "DROPOUT_RATE_POST = 0.0 # Dropout after the LSTM # Chiu-Nichols 0.0?\n",
    "MAX_LEN_CHARS = 20 # 10 or 20\n",
    "RAND_INIT_RANGE = 0.05\n",
    "add_CRF = True\n",
    "\n",
    "VILDE = False  # The computing machine\n",
    "\n",
    "config = {'Optimizer': OPTIMIZER, 'Annotation': ANNOTATION,\n",
    "          'Batch size': BATCH_SIZE, 'Epochs': EPOCHS, 'LSTM units': LSTM_UNITS,\n",
    "          'Char embedding dim': CHAR_EMBEDDING_DIM, 'Embedding dim': EMBEDDING_DIM,\n",
    "         'Char dropout': CHAR_DROPOUT, 'Pre dropout': DROPOUT_RATE_PRE, \n",
    "          'Recurrent dropout': RECURRENT_DROPOUT, 'Dropout': DROPOUT_RATE, \n",
    "          'Post dropout': DROPOUT_RATE_POST}"
   ]
  },
  {
   "cell_type": "code",
   "execution_count": 4,
   "metadata": {},
   "outputs": [],
   "source": [
    "np.random.seed(0)\n",
    "tf.random.set_seed(0)"
   ]
  },
  {
   "cell_type": "markdown",
   "metadata": {},
   "source": [
    "## Creating the $\\mathbf{X}$ and $\\mathbf{Y}$ matrices"
   ]
  },
  {
   "cell_type": "code",
   "execution_count": 5,
   "metadata": {},
   "outputs": [
    {
     "name": "stdout",
     "output_type": "stream",
     "text": [
      "Configuration:: {'Optimizer': 'rmsprop', 'Annotation': 'IOBES', 'Batch size': 512, 'Epochs': 80, 'LSTM units': 200, 'Char embedding dim': 50, 'Embedding dim': 100, 'Char dropout': 0.5, 'Pre dropout': 0.5, 'Recurrent dropout': 0.5, 'Dropout': 0.0, 'Post dropout': 0.0}\n",
      "Second sentence, CoNLL rows: [{'form': 'EU', 'ppos': 'NNP', 'pchunk': 'S-NP', 'ner': 'S-ORG'}, {'form': 'rejects', 'ppos': 'VBZ', 'pchunk': 'S-VP', 'ner': 'O'}, {'form': 'German', 'ppos': 'JJ', 'pchunk': 'B-NP', 'ner': 'S-MISC'}, {'form': 'call', 'ppos': 'NN', 'pchunk': 'E-NP', 'ner': 'O'}, {'form': 'to', 'ppos': 'TO', 'pchunk': 'B-VP', 'ner': 'O'}, {'form': 'boycott', 'ppos': 'VB', 'pchunk': 'E-VP', 'ner': 'O'}, {'form': 'British', 'ppos': 'JJ', 'pchunk': 'B-NP', 'ner': 'S-MISC'}, {'form': 'lamb', 'ppos': 'NN', 'pchunk': 'E-NP', 'ner': 'O'}, {'form': '.', 'ppos': '.', 'pchunk': 'O', 'ner': 'O'}]\n",
      "Second sentence, words ['EU', 'rejects', 'German', 'call', 'to', 'boycott', 'British', 'lamb', '.']\n",
      "Second sentence, NER ['S-ORG', 'O', 'S-MISC', 'O', 'O', 'O', 'S-MISC', 'O', 'O']\n"
     ]
    }
   ],
   "source": [
    "print('Configuration::', config)\n",
    "start_time = time.perf_counter()\n",
    "if ANNOTATION == 'IOBES':\n",
    "    if VILDE:\n",
    "        train_sentences, dev_sentences, test_sentences, column_names = load_conll2003_en(\n",
    "            BASE_DIR='./')\n",
    "    else:\n",
    "        train_sentences, dev_sentences, test_sentences, column_names = load_conll2003_en(BASE_DIR='./IOBES/')\n",
    "else:\n",
    "    if VILDE:\n",
    "        train_sentences, dev_sentences, test_sentences, column_names = load_conll2003_en(\n",
    "            BASE_DIR='/home/pierre/Cours/EDAN20/corpus/CoNLL2003/')\n",
    "    else:\n",
    "        train_sentences, dev_sentences, test_sentences, column_names = load_conll2003_en(\n",
    "            BASE_DIR='/Users/pierre/Documents/Cours/EDAN20/programs/ch10/python/IOB/')\n",
    "\n",
    "conll_dict = CoNLLDictorizer(column_names, col_sep=' +')\n",
    "train_dict = conll_dict.transform(train_sentences)\n",
    "dev_dict = conll_dict.transform(dev_sentences)\n",
    "test_dict = conll_dict.transform(test_sentences)\n",
    "print('Second sentence, CoNLL rows:', train_dict[1])\n",
    "\n",
    "X_train_word_cat, Y_train_cat = build_sequences(train_dict, key_x='form', key_y='ner', tolower=False)\n",
    "X_dev_word_cat, Y_dev_cat = build_sequences(dev_dict, key_x='form', key_y='ner', tolower=False)\n",
    "X_test_word_cat, Y_test_cat = build_sequences(test_dict, key_x='form', key_y='ner', tolower=False)\n",
    "print('Second sentence, words', X_train_word_cat[1])\n",
    "print('Second sentence, NER', Y_train_cat[1])\n",
    "\n",
    "# We collect the words, named entity tags, and we create the indices\n",
    "vocabulary_words_train = [word\n",
    "                               for sentence in X_train_word_cat\n",
    "                               for word in sentence]\n",
    "vocabulary_words_dev = [word\n",
    "                               for sentence in X_dev_word_cat\n",
    "                               for word in sentence]\n",
    "vocabulary_words_test = [word\n",
    "                               for sentence in X_test_word_cat\n",
    "                               for word in sentence]"
   ]
  },
  {
   "cell_type": "markdown",
   "metadata": {},
   "source": [
    "As vocabulary, we first extract the words in the training set"
   ]
  },
  {
   "cell_type": "code",
   "execution_count": 6,
   "metadata": {},
   "outputs": [
    {
     "name": "stdout",
     "output_type": "stream",
     "text": [
      "#words: 23624\n"
     ]
    }
   ],
   "source": [
    "vocabulary_words = vocabulary_words_train\n",
    "#vocabulary_words.extend(vocabulary_words_dev)\n",
    "#vocabulary_words.extend(vocabulary_words_test)\n",
    "vocabulary_words = list(set(vocabulary_words))\n",
    "print('#words:', len(vocabulary_words))"
   ]
  },
  {
   "cell_type": "markdown",
   "metadata": {},
   "source": [
    "We extract all the characters"
   ]
  },
  {
   "cell_type": "code",
   "execution_count": 7,
   "metadata": {},
   "outputs": [
    {
     "name": "stdout",
     "output_type": "stream",
     "text": [
      "Word maximal length 61\n",
      "#chars: 85\n"
     ]
    }
   ],
   "source": [
    "MAX_LEN_CHARS_OBSERVED = max([len(word) for word in vocabulary_words])\n",
    "print('Word maximal length', MAX_LEN_CHARS_OBSERVED)\n",
    "chars = set(' ')\n",
    "for word in vocabulary_words:\n",
    "    chars.update(set(word))\n",
    "chars = sorted(list(chars))\n",
    "\n",
    "NB_CHARS = len(chars)\n",
    "print('#chars:', NB_CHARS)"
   ]
  },
  {
   "cell_type": "markdown",
   "metadata": {},
   "source": [
    "We build the complete vocabulary: the words from the training set and those from glove"
   ]
  },
  {
   "cell_type": "code",
   "execution_count": 8,
   "metadata": {},
   "outputs": [
    {
     "name": "stdout",
     "output_type": "stream",
     "text": [
      "#words in GloVe: 400000\n",
      "# unique words in the vocabulary: embeddings and corpus: 411650\n"
     ]
    }
   ],
   "source": [
    "# We read the embeddings\n",
    "if VILDE:\n",
    "    embeddings_dict = load_glove_vectors(\n",
    "        BASE_DIR='/home/pierre/Cours/EDAN20/corpus/')\n",
    "else:\n",
    "    embeddings_dict = load_glove_vectors()\n",
    "embeddings_words = embeddings_dict.keys()\n",
    "print('#words in GloVe:', len(embeddings_dict.keys()))\n",
    "vocabulary_words = sorted(set(vocabulary_words +\n",
    "                              list(embeddings_words)))\n",
    "print('# unique words in the vocabulary: embeddings and corpus:',\n",
    "      len(vocabulary_words))"
   ]
  },
  {
   "cell_type": "markdown",
   "metadata": {},
   "source": [
    "We set all the words in lowed case"
   ]
  },
  {
   "cell_type": "code",
   "execution_count": 9,
   "metadata": {},
   "outputs": [
    {
     "name": "stdout",
     "output_type": "stream",
     "text": [
      "# unique lowercased words in the vocabulary: embeddings and corpus: 402595\n"
     ]
    }
   ],
   "source": [
    "vocabulary_words = set(map(str.lower, vocabulary_words))\n",
    "print('# unique lowercased words in the vocabulary: embeddings and corpus:',\n",
    "      len(vocabulary_words))"
   ]
  },
  {
   "cell_type": "markdown",
   "metadata": {},
   "source": [
    "We extract all the named entity tags: The classes"
   ]
  },
  {
   "cell_type": "code",
   "execution_count": 10,
   "metadata": {},
   "outputs": [
    {
     "name": "stdout",
     "output_type": "stream",
     "text": [
      "17 named entity tags: ['B-LOC', 'B-MISC', 'B-ORG', 'B-PER', 'E-LOC', 'E-MISC', 'E-ORG', 'E-PER', 'I-LOC', 'I-MISC', 'I-ORG', 'I-PER', 'O', 'S-LOC', 'S-MISC', 'S-ORG', 'S-PER']\n"
     ]
    }
   ],
   "source": [
    "ner = sorted(set([ner\n",
    "                  for sentence in Y_train_cat\n",
    "                  for ner in sentence]))\n",
    "NB_CLASSES = len(ner)\n",
    "print(NB_CLASSES, 'named entity tags:', ner)"
   ]
  },
  {
   "cell_type": "code",
   "execution_count": 11,
   "metadata": {},
   "outputs": [
    {
     "name": "stdout",
     "output_type": "stream",
     "text": [
      "char index: [(' ', 2), ('!', 3), ('\"', 4), ('$', 5), ('%', 6), ('&', 7), (\"'\", 8), ('(', 9), (')', 10), ('*', 11)]\n",
      "word index: [('record-holder', 2), ('pajaritos', 3), ('efsf', 4), ('kayes', 5), ('peche', 6), ('bides', 7), ('traille', 8), ('googe', 9), ('polish-german', 10), ('pichia', 11)]\n",
      "NER index: [('B-LOC', 0), ('B-MISC', 1), ('B-ORG', 2), ('B-PER', 3), ('E-LOC', 4), ('E-MISC', 5), ('E-ORG', 6), ('E-PER', 7), ('I-LOC', 8), ('I-MISC', 9), ('I-ORG', 10), ('I-PER', 11), ('O', 12), ('S-LOC', 13), ('S-MISC', 14), ('S-ORG', 15), ('S-PER', 16)]\n"
     ]
    }
   ],
   "source": [
    "# We create the indexes\n",
    "# For the words and chars, we start at two to make provision for\n",
    "# the padding symbol 0 in RNN and LSTMs and unknown words/chars, 1\n",
    "idx2char = dict(enumerate(chars, start=2))\n",
    "idx2word = dict(enumerate(vocabulary_words, start=2))\n",
    "idx2ner = dict(enumerate(ner))\n",
    "char2idx = {v: k for k, v in idx2char.items()}\n",
    "word2idx = {v: k for k, v in idx2word.items()}\n",
    "ner2idx = {v: k for k, v in idx2ner.items()}\n",
    "print('char index:', list(char2idx.items())[:10])\n",
    "print('word index:', list(word2idx.items())[:10])\n",
    "print('NER index:', list(ner2idx.items()))"
   ]
  },
  {
   "cell_type": "code",
   "execution_count": 12,
   "metadata": {},
   "outputs": [],
   "source": [
    "# We create the parallel sequences of indexes for the chars in their original case\n",
    "X_train_char_idx = to_char_index(X_train_word_cat, char2idx)\n",
    "X_train_char_idx = list(map(lambda x: pad_sequences(x, maxlen=MAX_LEN_CHARS, padding='post'), \n",
    "                            X_train_char_idx))\n",
    "X_dev_char_idx = to_char_index(X_dev_word_cat, char2idx)\n",
    "X_dev_char_idx = list(map(lambda x: pad_sequences(x, maxlen=MAX_LEN_CHARS, padding='post'), \n",
    "                          X_dev_char_idx))\n",
    "X_test_char_idx = to_char_index(X_test_word_cat, char2idx)\n",
    "X_test_char_idx = list(map(lambda x: pad_sequences(x, maxlen=MAX_LEN_CHARS, padding='post'), \n",
    "                           X_test_char_idx))"
   ]
  },
  {
   "cell_type": "code",
   "execution_count": 13,
   "metadata": {},
   "outputs": [
    {
     "name": "stdout",
     "output_type": "stream",
     "text": [
      "20\n",
      "['EU', 'rejects', 'German', 'call', 'to', 'boycott', 'British', 'lamb', '.']\n"
     ]
    },
    {
     "data": {
      "text/plain": [
       "array([[36, 52,  0,  0,  0,  0,  0,  0,  0,  0,  0,  0,  0,  0,  0,  0,\n",
       "         0,  0,  0,  0],\n",
       "       [78, 65, 70, 65, 63, 80, 79,  0,  0,  0,  0,  0,  0,  0,  0,  0,\n",
       "         0,  0,  0,  0],\n",
       "       [38, 65, 78, 73, 61, 74,  0,  0,  0,  0,  0,  0,  0,  0,  0,  0,\n",
       "         0,  0,  0,  0],\n",
       "       [63, 61, 72, 72,  0,  0,  0,  0,  0,  0,  0,  0,  0,  0,  0,  0,\n",
       "         0,  0,  0,  0],\n",
       "       [80, 75,  0,  0,  0,  0,  0,  0,  0,  0,  0,  0,  0,  0,  0,  0,\n",
       "         0,  0,  0,  0],\n",
       "       [62, 75, 85, 63, 75, 80, 80,  0,  0,  0,  0,  0,  0,  0,  0,  0,\n",
       "         0,  0,  0,  0],\n",
       "       [33, 78, 69, 80, 69, 79, 68,  0,  0,  0,  0,  0,  0,  0,  0,  0,\n",
       "         0,  0,  0,  0],\n",
       "       [72, 61, 73, 62,  0,  0,  0,  0,  0,  0,  0,  0,  0,  0,  0,  0,\n",
       "         0,  0,  0,  0],\n",
       "       [15,  0,  0,  0,  0,  0,  0,  0,  0,  0,  0,  0,  0,  0,  0,  0,\n",
       "         0,  0,  0,  0]], dtype=int32)"
      ]
     },
     "execution_count": 13,
     "metadata": {},
     "output_type": "execute_result"
    }
   ],
   "source": [
    "print(MAX_LEN_CHARS)\n",
    "print(X_train_word_cat[1])\n",
    "X_train_char_idx[1]"
   ]
  },
  {
   "cell_type": "code",
   "execution_count": 14,
   "metadata": {},
   "outputs": [],
   "source": [
    "# We set the words in lower case.\n",
    "X_train_word_cat = [[x.lower() for x in x_vect] for x_vect in X_train_word_cat]\n",
    "X_dev_word_cat = [[x.lower() for x in x_vect] for x_vect in X_dev_word_cat]\n",
    "X_test_word_cat = [[x.lower() for x in x_vect] for x_vect in X_test_word_cat]"
   ]
  },
  {
   "cell_type": "code",
   "execution_count": 15,
   "metadata": {},
   "outputs": [
    {
     "data": {
      "text/plain": [
       "['eu', 'rejects', 'german', 'call', 'to', 'boycott', 'british', 'lamb', '.']"
      ]
     },
     "execution_count": 15,
     "metadata": {},
     "output_type": "execute_result"
    }
   ],
   "source": [
    "X_train_word_cat[1]"
   ]
  },
  {
   "cell_type": "code",
   "execution_count": 16,
   "metadata": {},
   "outputs": [],
   "source": [
    "# We create the parallel sequences of indexes for the words\n",
    "# Train\n",
    "X_train_word_idx = to_index(X_train_word_cat, word2idx)\n",
    "Y_train_idx = to_index(Y_train_cat, ner2idx)\n",
    "# Dev\n",
    "X_dev_word_idx = to_index(X_dev_word_cat, word2idx)\n",
    "Y_dev_idx = to_index(Y_dev_cat, ner2idx)\n",
    "# Test\n",
    "X_test_word_idx = to_index(X_test_word_cat, word2idx)\n",
    "Y_test_idx = to_index(Y_test_cat, ner2idx)"
   ]
  },
  {
   "cell_type": "code",
   "execution_count": 17,
   "metadata": {},
   "outputs": [
    {
     "name": "stdout",
     "output_type": "stream",
     "text": [
      "Train: X_word, Y\n",
      "Word indices: [[238822], [136963, 31438, 327393, 641, 261933, 268624, 201917, 144338, 386439]]\n",
      "NER indices: [[12], [15, 12, 14, 12, 12, 12, 14, 12, 12]]\n",
      "Dev: X_word, Y\n",
      "Word indices: [[238822], [361227, 368797, 175345, 33200, 4732, 2870, 120737, 166426, 207083, 221915, 386439]]\n",
      "NER indices: [[12], [12, 12, 15, 12, 12, 12, 12, 12, 12, 12, 12]]\n",
      "Test: X_word, Y\n",
      "Word indices: [[238822], [288547, 368797, 82546, 220992, 35070, 206693, 101093, 69649, 240908, 311124, 208793, 386439]]\n",
      "NER indices: [[12], [12, 12, 13, 12, 12, 12, 12, 16, 12, 12, 12, 12]]\n"
     ]
    }
   ],
   "source": [
    "print('Train: X_word, Y')\n",
    "print('Word indices:', X_train_word_idx[:2])\n",
    "print('NER indices:', Y_train_idx[:2])\n",
    "print('Dev: X_word, Y')\n",
    "print('Word indices:', X_dev_word_idx[:2])\n",
    "print('NER indices:', Y_dev_idx[:2])\n",
    "print('Test: X_word, Y')\n",
    "print('Word indices:', X_test_word_idx[:2])\n",
    "print('NER indices:', Y_test_idx[:2])"
   ]
  },
  {
   "cell_type": "code",
   "execution_count": 18,
   "metadata": {},
   "outputs": [
    {
     "name": "stdout",
     "output_type": "stream",
     "text": [
      "Train X_chars: [array([[14, 35, 46, 34, 50, 51, 32, 49, 51, 14,  0,  0,  0,  0,  0,  0,\n",
      "         0,  0,  0,  0]], dtype=int32), array([[36, 52,  0,  0,  0,  0,  0,  0,  0,  0,  0,  0,  0,  0,  0,  0,\n",
      "         0,  0,  0,  0],\n",
      "       [78, 65, 70, 65, 63, 80, 79,  0,  0,  0,  0,  0,  0,  0,  0,  0,\n",
      "         0,  0,  0,  0],\n",
      "       [38, 65, 78, 73, 61, 74,  0,  0,  0,  0,  0,  0,  0,  0,  0,  0,\n",
      "         0,  0,  0,  0],\n",
      "       [63, 61, 72, 72,  0,  0,  0,  0,  0,  0,  0,  0,  0,  0,  0,  0,\n",
      "         0,  0,  0,  0],\n",
      "       [80, 75,  0,  0,  0,  0,  0,  0,  0,  0,  0,  0,  0,  0,  0,  0,\n",
      "         0,  0,  0,  0],\n",
      "       [62, 75, 85, 63, 75, 80, 80,  0,  0,  0,  0,  0,  0,  0,  0,  0,\n",
      "         0,  0,  0,  0],\n",
      "       [33, 78, 69, 80, 69, 79, 68,  0,  0,  0,  0,  0,  0,  0,  0,  0,\n",
      "         0,  0,  0,  0],\n",
      "       [72, 61, 73, 62,  0,  0,  0,  0,  0,  0,  0,  0,  0,  0,  0,  0,\n",
      "         0,  0,  0,  0],\n",
      "       [15,  0,  0,  0,  0,  0,  0,  0,  0,  0,  0,  0,  0,  0,  0,  0,\n",
      "         0,  0,  0,  0]], dtype=int32)]\n",
      "Dev X_chars: [array([[14, 35, 46, 34, 50, 51, 32, 49, 51, 14,  0,  0,  0,  0,  0,  0,\n",
      "         0,  0,  0,  0]], dtype=int32), array([[34, 49, 40, 34, 42, 36, 51,  0,  0,  0,  0,  0,  0,  0,  0,  0,\n",
      "         0,  0,  0,  0],\n",
      "       [14,  0,  0,  0,  0,  0,  0,  0,  0,  0,  0,  0,  0,  0,  0,  0,\n",
      "         0,  0,  0,  0],\n",
      "       [43, 36, 40, 34, 36, 50, 51, 36, 49, 50, 39, 40, 49, 36,  0,  0,\n",
      "         0,  0,  0,  0],\n",
      "       [51, 32, 42, 36,  0,  0,  0,  0,  0,  0,  0,  0,  0,  0,  0,  0,\n",
      "         0,  0,  0,  0],\n",
      "       [46, 53, 36, 49,  0,  0,  0,  0,  0,  0,  0,  0,  0,  0,  0,  0,\n",
      "         0,  0,  0,  0],\n",
      "       [32, 51,  0,  0,  0,  0,  0,  0,  0,  0,  0,  0,  0,  0,  0,  0,\n",
      "         0,  0,  0,  0],\n",
      "       [51, 46, 47,  0,  0,  0,  0,  0,  0,  0,  0,  0,  0,  0,  0,  0,\n",
      "         0,  0,  0,  0],\n",
      "       [32, 37, 51, 36, 49,  0,  0,  0,  0,  0,  0,  0,  0,  0,  0,  0,\n",
      "         0,  0,  0,  0],\n",
      "       [40, 45, 45, 40, 45, 38, 50,  0,  0,  0,  0,  0,  0,  0,  0,  0,\n",
      "         0,  0,  0,  0],\n",
      "       [53, 40, 34, 51, 46, 49, 56,  0,  0,  0,  0,  0,  0,  0,  0,  0,\n",
      "         0,  0,  0,  0],\n",
      "       [15,  0,  0,  0,  0,  0,  0,  0,  0,  0,  0,  0,  0,  0,  0,  0,\n",
      "         0,  0,  0,  0]], dtype=int32)]\n",
      "Test X_chars: [array([[14, 35, 46, 34, 50, 51, 32, 49, 51, 14,  0,  0,  0,  0,  0,  0,\n",
      "         0,  0,  0,  0]], dtype=int32), array([[50, 46, 34, 34, 36, 49,  0,  0,  0,  0,  0,  0,  0,  0,  0,  0,\n",
      "         0,  0,  0,  0],\n",
      "       [14,  0,  0,  0,  0,  0,  0,  0,  0,  0,  0,  0,  0,  0,  0,  0,\n",
      "         0,  0,  0,  0],\n",
      "       [41, 32, 47, 32, 45,  0,  0,  0,  0,  0,  0,  0,  0,  0,  0,  0,\n",
      "         0,  0,  0,  0],\n",
      "       [38, 36, 51,  0,  0,  0,  0,  0,  0,  0,  0,  0,  0,  0,  0,  0,\n",
      "         0,  0,  0,  0],\n",
      "       [43, 52, 34, 42, 56,  0,  0,  0,  0,  0,  0,  0,  0,  0,  0,  0,\n",
      "         0,  0,  0,  0],\n",
      "       [54, 40, 45,  0,  0,  0,  0,  0,  0,  0,  0,  0,  0,  0,  0,  0,\n",
      "         0,  0,  0,  0],\n",
      "       [13,  0,  0,  0,  0,  0,  0,  0,  0,  0,  0,  0,  0,  0,  0,  0,\n",
      "         0,  0,  0,  0],\n",
      "       [34, 39, 40, 45, 32,  0,  0,  0,  0,  0,  0,  0,  0,  0,  0,  0,\n",
      "         0,  0,  0,  0],\n",
      "       [40, 45,  0,  0,  0,  0,  0,  0,  0,  0,  0,  0,  0,  0,  0,  0,\n",
      "         0,  0,  0,  0],\n",
      "       [50, 52, 49, 47, 49, 40, 50, 36,  0,  0,  0,  0,  0,  0,  0,  0,\n",
      "         0,  0,  0,  0],\n",
      "       [35, 36, 37, 36, 32, 51,  0,  0,  0,  0,  0,  0,  0,  0,  0,  0,\n",
      "         0,  0,  0,  0],\n",
      "       [15,  0,  0,  0,  0,  0,  0,  0,  0,  0,  0,  0,  0,  0,  0,  0,\n",
      "         0,  0,  0,  0]], dtype=int32)]\n"
     ]
    }
   ],
   "source": [
    "print('Train X_chars:', X_train_char_idx[:2])\n",
    "print('Dev X_chars:', X_dev_char_idx[:2])\n",
    "print('Test X_chars:', X_test_char_idx[:2])"
   ]
  },
  {
   "cell_type": "markdown",
   "metadata": {},
   "source": [
    "We initialize the embedding matrix with random values"
   ]
  },
  {
   "cell_type": "code",
   "execution_count": 19,
   "metadata": {},
   "outputs": [],
   "source": [
    "embedding_matrix = np.random.uniform(-RAND_INIT_RANGE, RAND_INIT_RANGE,\n",
    "                                     (len(vocabulary_words) + 2,\n",
    "                                      EMBEDDING_DIM)\n",
    "                                     ).astype(np.float32)\n",
    "#embedding_matrix[0, :] = 0.0"
   ]
  },
  {
   "cell_type": "code",
   "execution_count": 20,
   "metadata": {},
   "outputs": [],
   "source": [
    "# We assign the matrix with Glove embeddings, when they exist\n",
    "for word in vocabulary_words:\n",
    "    if word in embeddings_dict:\n",
    "        # If the words are in the embeddings, we fill them with a value\n",
    "        embedding_matrix[word2idx[word]] = embeddings_dict[word]"
   ]
  },
  {
   "cell_type": "markdown",
   "metadata": {},
   "source": [
    "Embeddings"
   ]
  },
  {
   "cell_type": "code",
   "execution_count": 21,
   "metadata": {},
   "outputs": [
    {
     "name": "stdout",
     "output_type": "stream",
     "text": [
      "Shape of embedding matrix: (402597, 100)\n",
      "table: [-0.61454    0.89693    0.56771    0.39102   -0.22437    0.49035\n",
      "  0.10868    0.27411   -0.23833   -0.52153    0.73551   -0.32654\n",
      "  0.51304    0.32415   -0.46709    0.68051   -0.25497   -0.040484\n",
      " -0.54418   -1.0548    -0.46692    0.23557    0.31234   -0.34537\n",
      "  0.14793   -0.53745   -0.43215   -0.48724   -0.51019   -0.9051\n",
      " -0.17919   -0.018376   0.09719   -0.31623    0.7512     0.92236\n",
      " -0.49965    0.14036   -0.28296   -0.97443   -0.0094408 -0.62944\n",
      "  0.14711   -0.94376    0.0075222  0.18565   -0.99172    0.072789\n",
      " -0.18474   -0.52901    0.38995   -0.45677   -0.21932    1.3723\n",
      " -0.29636   -2.2342    -0.36667    0.04987    0.63421    0.53275\n",
      " -0.53955    0.31398   -0.44698   -0.38389    0.066668  -0.02168\n",
      "  0.20558    0.59456   -0.24892   -0.52795   -0.3761     0.077104\n",
      "  0.75222   -0.2647    -0.0587     0.67541   -0.16559   -0.49278\n",
      " -0.26327   -0.21215    0.24317    0.17006   -0.2926    -0.5009\n",
      " -0.56638   -0.40377   -0.48452   -0.32539    0.75293    0.0049585\n",
      " -0.32115    0.28899   -0.042392   0.63863   -0.20332   -0.46785\n",
      " -0.15661    0.2179     1.4143     0.40034  ]\n",
      "padding symbol, idx 0, random numbers: [ 0.00488135  0.02151894  0.01027634  0.00448832 -0.00763452  0.01458941\n",
      " -0.00624128  0.0391773   0.04636627 -0.01165585  0.0291725   0.00288949\n",
      "  0.00680446  0.04255966 -0.04289639 -0.04128707 -0.04797816  0.03326198\n",
      "  0.02781568  0.03700121  0.04786183  0.02991586 -0.00385206  0.02805292\n",
      " -0.03817256  0.0139921  -0.03566467  0.04446689  0.00218483 -0.00853381\n",
      " -0.02354444  0.02742337 -0.00438497  0.0068434  -0.04812102  0.01176355\n",
      "  0.01120957  0.0116934   0.04437481  0.01818203 -0.01404921 -0.0062968\n",
      "  0.01976312 -0.04397745  0.01667667  0.01706379 -0.02896174 -0.03710737\n",
      " -0.01845716 -0.01362892  0.00701968 -0.00613985  0.04883738 -0.03979552\n",
      " -0.02911232 -0.03386905  0.01531083 -0.02467084 -0.00336892 -0.02555744\n",
      " -0.03410304 -0.03896249  0.01563296 -0.0361817  -0.03034176 -0.01312748\n",
      "  0.03209932 -0.04028987  0.03379449 -0.04039016  0.04764595 -0.00313488\n",
      "  0.04767611  0.01048455  0.02392636 -0.04608122 -0.0217193  -0.03798034\n",
      " -0.02038598 -0.03812723 -0.01820168 -0.0085737  -0.04358525  0.01924721\n",
      "  0.00666015 -0.02346105  0.00232481 -0.04060595  0.00759465  0.04292962\n",
      " -0.0181431   0.01674104 -0.03682021  0.02163272 -0.02105939 -0.03168086\n",
      "  0.00865129 -0.04798925  0.032894   -0.04953045]\n"
     ]
    }
   ],
   "source": [
    "# print('Embedding:', embedding_matrix)\n",
    "print('Shape of embedding matrix:', embedding_matrix.shape)\n",
    "print('table:', embedding_matrix[word2idx['table']])\n",
    "print('padding symbol, idx 0, random numbers:', embedding_matrix[0])\n",
    "#print('Index of jean-denis:', word2idx['jean-denis'])"
   ]
  },
  {
   "cell_type": "markdown",
   "metadata": {},
   "source": [
    "We will create batches of identical size. When all the sentence in a batch have an identical size, we will avoid padding the sentence.\n",
    "\n",
    "The first step is to sort the training set by sentence length"
   ]
  },
  {
   "cell_type": "code",
   "execution_count": 22,
   "metadata": {},
   "outputs": [],
   "source": [
    "training_set_sorted = sorted(zip(X_train_word_idx, \n",
    "                           X_train_char_idx, \n",
    "                           Y_train_idx), \n",
    "                       key=lambda x: len(x[0]))"
   ]
  },
  {
   "cell_type": "code",
   "execution_count": 23,
   "metadata": {},
   "outputs": [
    {
     "data": {
      "text/plain": [
       "[([238822],\n",
       "  array([[14, 35, 46, 34, 50, 51, 32, 49, 51, 14,  0,  0,  0,  0,  0,  0,\n",
       "           0,  0,  0,  0]], dtype=int32),\n",
       "  [12]),\n",
       " ([386439],\n",
       "  array([[15,  0,  0,  0,  0,  0,  0,  0,  0,  0,  0,  0,  0,  0,  0,  0,\n",
       "           0,  0,  0,  0]], dtype=int32),\n",
       "  [12]),\n",
       " ([238822],\n",
       "  array([[14, 35, 46, 34, 50, 51, 32, 49, 51, 14,  0,  0,  0,  0,  0,  0,\n",
       "           0,  0,  0,  0]], dtype=int32),\n",
       "  [12]),\n",
       " ([238822],\n",
       "  array([[14, 35, 46, 34, 50, 51, 32, 49, 51, 14,  0,  0,  0,  0,  0,  0,\n",
       "           0,  0,  0,  0]], dtype=int32),\n",
       "  [12]),\n",
       " ([238822],\n",
       "  array([[14, 35, 46, 34, 50, 51, 32, 49, 51, 14,  0,  0,  0,  0,  0,  0,\n",
       "           0,  0,  0,  0]], dtype=int32),\n",
       "  [12])]"
      ]
     },
     "execution_count": 23,
     "metadata": {},
     "output_type": "execute_result"
    }
   ],
   "source": [
    "training_set_sorted[:5]"
   ]
  },
  {
   "cell_type": "markdown",
   "metadata": {},
   "source": [
    "## The Architecture"
   ]
  },
  {
   "cell_type": "markdown",
   "metadata": {},
   "source": [
    "We implement Chiu and Nichols' model"
   ]
  },
  {
   "cell_type": "code",
   "execution_count": 24,
   "metadata": {},
   "outputs": [],
   "source": [
    "# char input\n",
    "char_input = Input(shape=(None, MAX_LEN_CHARS,))\n",
    "embedded_char = TimeDistributed(\n",
    "    Embedding(NB_CHARS + 2,\n",
    "              CHAR_EMBEDDING_DIM,\n",
    "              trainable=True,\n",
    "              embeddings_initializer=RandomUniform(minval=-RAND_INIT_RANGE, \n",
    "                                                   maxval=RAND_INIT_RANGE)))(char_input)\n",
    "embedded_char = Dropout(CHAR_DROPOUT)(embedded_char)\n",
    "conv = TimeDistributed(\n",
    "    Conv1D(kernel_size=3,\n",
    "           filters=CHAR_UNITS,\n",
    "           activation='tanh',\n",
    "           padding='same'))(embedded_char)\n",
    "maxpool = TimeDistributed(MaxPooling1D(MAX_LEN_CHARS))(conv)\n",
    "char_encoding = TimeDistributed(Flatten())(maxpool)\n",
    "#char_encoding = Dropout(CHAR_DROPOUT)(char_encoding)\n",
    "# word input\n",
    "word_input = Input(shape=(None,))\n",
    "embedded_word = Embedding(len(vocabulary_words) + 2,\n",
    "                          EMBEDDING_DIM,\n",
    "                          trainable=True,\n",
    "                          #mask_zero=True, # Removed for CRF\n",
    "                          weights=[embedding_matrix])(word_input)\n",
    "# Because of a bug in the CRF layer, we must set mask_zero to FALSE\n",
    "if add_CRF:\n",
    "    embedded_word._keras_mask = False\n",
    "# embedded_word = Dropout(DROPOUT_RATE)(embedded_word)\n",
    "model = concatenate([char_encoding, embedded_word])\n",
    "model = Dropout(DROPOUT_RATE_PRE)(model)\n",
    "model = Bidirectional(LSTM(LSTM_UNITS,\n",
    "                           return_sequences=True,\n",
    "                           dropout=DROPOUT_RATE,\n",
    "                           recurrent_dropout=RECURRENT_DROPOUT))(model)\n",
    "#model = Dense(100, activation='relu')(model)\n",
    "model = Dropout(DROPOUT_RATE_POST)(model)\n",
    "if add_CRF:\n",
    "    out = Dense(len(ner), activation='relu')(model)\n",
    "    crf = CRF(len(ner))  # CRF layer\n",
    "    out = crf(out)  # output\n",
    "else:\n",
    "    out = Dense(len(ner), activation='softmax')(model)\n",
    "model = Model([char_input, word_input], out)"
   ]
  },
  {
   "cell_type": "code",
   "execution_count": 25,
   "metadata": {},
   "outputs": [
    {
     "name": "stdout",
     "output_type": "stream",
     "text": [
      "Model: \"model_1\"\n",
      "__________________________________________________________________________________________________\n",
      "Layer (type)                    Output Shape         Param #     Connected to                     \n",
      "==================================================================================================\n",
      "input_1 (InputLayer)            (None, None, 20)     0                                            \n",
      "__________________________________________________________________________________________________\n",
      "time_distributed_1 (TimeDistrib (None, None, 20, 50) 4350        input_1[0][0]                    \n",
      "__________________________________________________________________________________________________\n",
      "dropout_1 (Dropout)             (None, None, 20, 50) 0           time_distributed_1[0][0]         \n",
      "__________________________________________________________________________________________________\n",
      "time_distributed_2 (TimeDistrib (None, None, 20, 50) 7550        dropout_1[0][0]                  \n",
      "__________________________________________________________________________________________________\n",
      "time_distributed_3 (TimeDistrib (None, None, 1, 50)  0           time_distributed_2[0][0]         \n",
      "__________________________________________________________________________________________________\n",
      "input_2 (InputLayer)            (None, None)         0                                            \n",
      "__________________________________________________________________________________________________\n",
      "time_distributed_4 (TimeDistrib (None, None, 50)     0           time_distributed_3[0][0]         \n",
      "__________________________________________________________________________________________________\n",
      "embedding_2 (Embedding)         (None, None, 100)    40259700    input_2[0][0]                    \n",
      "__________________________________________________________________________________________________\n",
      "concatenate_1 (Concatenate)     (None, None, 150)    0           time_distributed_4[0][0]         \n",
      "                                                                 embedding_2[0][0]                \n",
      "__________________________________________________________________________________________________\n",
      "dropout_2 (Dropout)             (None, None, 150)    0           concatenate_1[0][0]              \n",
      "__________________________________________________________________________________________________\n",
      "bidirectional_1 (Bidirectional) (None, None, 400)    561600      dropout_2[0][0]                  \n",
      "__________________________________________________________________________________________________\n",
      "dropout_3 (Dropout)             (None, None, 400)    0           bidirectional_1[0][0]            \n",
      "__________________________________________________________________________________________________\n",
      "dense_1 (Dense)                 (None, None, 17)     6817        dropout_3[0][0]                  \n",
      "__________________________________________________________________________________________________\n",
      "crf_1 (CRF)                     (None, None, 17)     629         dense_1[0][0]                    \n",
      "==================================================================================================\n",
      "Total params: 40,840,646\n",
      "Trainable params: 40,840,646\n",
      "Non-trainable params: 0\n",
      "__________________________________________________________________________________________________\n"
     ]
    },
    {
     "name": "stderr",
     "output_type": "stream",
     "text": [
      "/Users/pierre/opt/anaconda3/lib/python3.7/site-packages/keras_contrib/layers/crf.py:346: UserWarning: CRF.loss_function is deprecated and it might be removed in the future. Please use losses.crf_loss instead.\n",
      "  warnings.warn('CRF.loss_function is deprecated '\n",
      "/Users/pierre/opt/anaconda3/lib/python3.7/site-packages/keras_contrib/layers/crf.py:353: UserWarning: CRF.accuracy is deprecated and it might be removed in the future. Please use metrics.crf_accuracy\n",
      "  warnings.warn('CRF.accuracy is deprecated and it '\n"
     ]
    }
   ],
   "source": [
    "if add_CRF:\n",
    "    model.compile(optimizer='rmsprop',\n",
    "                      loss=crf.loss_function,\n",
    "                      metrics=[crf.accuracy])\n",
    "else:\n",
    "    model.compile(optimizer='rmsprop',\n",
    "                  loss='categorical_crossentropy',\n",
    "                  metrics=['acc'])\n",
    "model.summary()"
   ]
  },
  {
   "cell_type": "markdown",
   "metadata": {},
   "source": [
    "## Creating the Batches"
   ]
  },
  {
   "cell_type": "markdown",
   "metadata": {},
   "source": [
    "We now create the histogram of sentence lengths. `groupby` is like the `uniq -c` shell command. We obtain a list of pairs: (sentence length, count of sentences that have this length)"
   ]
  },
  {
   "cell_type": "code",
   "execution_count": 26,
   "metadata": {},
   "outputs": [
    {
     "data": {
      "text/plain": [
       "[(1, 1125),\n",
       " (2, 1129),\n",
       " (3, 586),\n",
       " (4, 771),\n",
       " (5, 751),\n",
       " (6, 625),\n",
       " (7, 904),\n",
       " (8, 1056),\n",
       " (9, 894),\n",
       " (10, 503)]"
      ]
     },
     "execution_count": 26,
     "metadata": {},
     "output_type": "execute_result"
    }
   ],
   "source": [
    "from itertools import groupby\n",
    "train_sent_len_list = list(map(lambda x: len(x[0]), training_set_sorted))\n",
    "train_length_hist = [(x[0], len(list(x[1]))) for x in groupby(train_sent_len_list)]\n",
    "train_length_hist[:10]"
   ]
  },
  {
   "cell_type": "code",
   "execution_count": 27,
   "metadata": {},
   "outputs": [
    {
     "data": {
      "text/plain": [
       "<BarContainer object of 64 artists>"
      ]
     },
     "execution_count": 27,
     "metadata": {},
     "output_type": "execute_result"
    },
    {
     "data": {
      "image/png": "[encoded data removed]",
      "text/plain": [
       "<Figure size 432x288 with 1 Axes>"
      ]
     },
     "metadata": {
      "needs_background": "light"
     },
     "output_type": "display_data"
    }
   ],
   "source": [
    "plt.bar(list(map(lambda x: x[0], train_length_hist)),\n",
    "        list(map(lambda x: x[1], train_length_hist)))"
   ]
  },
  {
   "cell_type": "markdown",
   "metadata": {},
   "source": [
    "We create bins of sentences of the same length. This is to avoid padding"
   ]
  },
  {
   "cell_type": "code",
   "execution_count": 28,
   "metadata": {},
   "outputs": [],
   "source": [
    "training_bins = []\n",
    "for bin in train_length_hist:\n",
    "    training_bins += [training_set_sorted[:bin[1]]]\n",
    "    training_set_sorted = training_set_sorted[bin[1]:]"
   ]
  },
  {
   "cell_type": "markdown",
   "metadata": {},
   "source": [
    "## Training the Model"
   ]
  },
  {
   "cell_type": "markdown",
   "metadata": {},
   "source": [
    "We now create a generator to generate batches of sentences with the same length"
   ]
  },
  {
   "cell_type": "code",
   "execution_count": 29,
   "metadata": {},
   "outputs": [],
   "source": [
    "def minibatch_generator(dataset):\n",
    "    #shuffle(dataset)\n",
    "    # We take the sentences of the same length\n",
    "    for sentence_bin in dataset:\n",
    "        #shuffle(sentence_bin)\n",
    "        # The number of batches. \n",
    "        batch_cnt = int(np.ceil((len(sentence_bin) / BATCH_SIZE)))\n",
    "        # We create batches of BATCH_SIZE\n",
    "        for j in range(batch_cnt):\n",
    "            char_batch = []\n",
    "            token_batch = []\n",
    "            label_batch = []\n",
    "            for sentence in sentence_bin[j*BATCH_SIZE:(j+1)*BATCH_SIZE]:\n",
    "                tokens, chars, labels = sentence\n",
    "                char_batch.append(chars)\n",
    "                token_batch.append(tokens)\n",
    "                label_batch.append(labels)\n",
    "            label_batch = list(map(lambda x: np.transpose([x]), label_batch))\n",
    "            label_batch = to_categorical(label_batch, num_classes=len(ner))\n",
    "            yield  np.asarray(char_batch), np.asarray(token_batch), label_batch"
   ]
  },
  {
   "cell_type": "code",
   "execution_count": 30,
   "metadata": {},
   "outputs": [
    {
     "data": {
      "text/plain": [
       "['loss', 'crf_viterbi_accuracy']"
      ]
     },
     "execution_count": 30,
     "metadata": {},
     "output_type": "execute_result"
    }
   ],
   "source": [
    "model.metrics_names"
   ]
  },
  {
   "cell_type": "code",
   "execution_count": 31,
   "metadata": {},
   "outputs": [],
   "source": [
    "def predict(X_char_idx, X_word_idx, model, idx2pos, default_tag='O'):\n",
    "    \"\"\"\n",
    "    Function to predict the test set and converts the indices to symbols\n",
    "    \"\"\"\n",
    "\n",
    "    Y_pred_vect = []\n",
    "    for x_char, x_word in zip(X_char_idx, X_word_idx):\n",
    "        y_pred_vect = model.predict([np.array([x_char]),\n",
    "                                          np.array([x_word])])[0]\n",
    "        Y_pred_vect += [y_pred_vect]\n",
    "\n",
    "    # print('Y_test_pred_vect', Y_test_pred_vect[:2])\n",
    "    # Convert to POS or NER idx to symbols\n",
    "    Y_pred = []\n",
    "    for y_pred_vect in Y_pred_vect:\n",
    "        pos_idx = np.argmax(y_pred_vect, axis=-1)\n",
    "        # print('POS_IDX', pos_idx)\n",
    "        # We convert the indices into symbols\n",
    "        # If the symbol does not exist, we tag the word with O, the default tag\n",
    "        pos_cat = list(map(lambda x: idx2pos.get(x, default_tag), pos_idx))\n",
    "        # We add a sanity check if the classifier has predicted a nonvalid tag.\n",
    "        # This could only be the padding index: 0\n",
    "        for pos in pos_idx:\n",
    "            if pos not in idx2pos:\n",
    "                print('Bad, should not occur:', pos)\n",
    "                print((-y_pred_vect).argsort())\n",
    "                print('Bad, should not occur:', y_pred_vect)\n",
    "        Y_pred += [pos_cat]\n",
    "    return Y_pred"
   ]
  },
  {
   "cell_type": "markdown",
   "metadata": {},
   "source": [
    "With the next function, we format the words, the named entity tags, and the predicted named entity tags so that we can evaluate them. It necessary converts them to the IOBES tagset."
   ]
  },
  {
   "cell_type": "code",
   "execution_count": 32,
   "metadata": {},
   "outputs": [],
   "source": [
    "def format_conll(X_words, Y, Y_hat):\n",
    "    total_words = 0\n",
    "    correct = 0\n",
    "    total_ukn = 0\n",
    "    correct_ukn = 0\n",
    "    conll_pred_corpus = ''\n",
    "    \n",
    "    for sent_nbr, y_vect_hat in enumerate(Y_hat):\n",
    "        for word_nbr, y_hat in enumerate(y_vect_hat):\n",
    "            unknown_word = False\n",
    "            # y is the correct named entity tag\n",
    "            y = Y[sent_nbr][word_nbr]\n",
    "            if ANNOTATION == 'IOBES':\n",
    "                if y[0] == 'S':\n",
    "                    y = 'B' + y[1:]\n",
    "                if y[0] == 'E':\n",
    "                    y = 'I' + y[1:]\n",
    "                if y_hat[0] == 'S':\n",
    "                    y_hat = 'B' + y_hat[1:]\n",
    "                if y_hat[0] == 'E':\n",
    "                    y_hat = 'I' + y_hat[1:]\n",
    "            line = ' '.join([X_words[sent_nbr][word_nbr],\n",
    "                                     y, y_hat])\n",
    "            line += '\\n'\n",
    "            total_words += 1\n",
    "            conll_pred_corpus += line\n",
    "            #file.write(line)\n",
    "            # The word is not in the dictionary\n",
    "            if X_words[sent_nbr][word_nbr] not in word2idx:\n",
    "                total_ukn += 1\n",
    "                unknown_word = True\n",
    "            if y_hat == y:\n",
    "                correct += 1\n",
    "                if unknown_word:\n",
    "                    correct_ukn += 1\n",
    "        conll_pred_corpus += '\\n'\n",
    "        #file.write('\\n')\n",
    "    print('total %d, correct %d, accuracy %f' % (total_words, correct, correct / total_words))\n",
    "    if total_ukn != 0:\n",
    "        print('total unknown %d, correct %d, accuracy %f' % (total_ukn, correct_ukn, correct_ukn / total_ukn))\n",
    "    return conll_pred_corpus"
   ]
  },
  {
   "cell_type": "code",
   "execution_count": null,
   "metadata": {
    "scrolled": true
   },
   "outputs": [
    {
     "name": "stderr",
     "output_type": "stream",
     "text": [
      "0it [00:00, ?it/s]"
     ]
    },
    {
     "name": "stdout",
     "output_type": "stream",
     "text": [
      "Epoch 1/80\n"
     ]
    },
    {
     "name": "stderr",
     "output_type": "stream",
     "text": [
      "/Users/pierre/opt/anaconda3/lib/python3.7/site-packages/tensorflow_core/python/framework/indexed_slices.py:433: UserWarning: Converting sparse IndexedSlices to a dense Tensor of unknown shape. This may consume a large amount of memory.\n",
      "  \"Converting sparse IndexedSlices to a dense Tensor of unknown shape. \"\n",
      "76it [00:36,  2.06it/s]\n"
     ]
    },
    {
     "name": "stdout",
     "output_type": "stream",
     "text": [
      "CoNLL score dev set\n",
      "total 51578, correct 43744, accuracy 0.848114\n",
      "total unknown 713, correct 515, accuracy 0.722300\n",
      "processed 51578 tokens with 5942 phrases; found: 1151 phrases; correct: 533.\n",
      "accuracy:  84.81%; precision:  46.31%; recall:   8.97%; FB1:  15.03\n",
      "              LOC: precision:  88.64%; recall:  13.17%; FB1:  22.94  273\n",
      "             MISC: precision:   0.00%; recall:   0.00%; FB1:   0.00  12\n",
      "              ORG: precision:  67.63%; recall:   7.01%; FB1:  12.70  139\n",
      "              PER: precision:  27.10%; recall:  10.69%; FB1:  15.34  727\n",
      "\n",
      "CoNLL score test set\n",
      "total 46666, correct 39331, accuracy 0.842819\n",
      "total unknown 1143, correct 857, accuracy 0.749781\n"
     ]
    },
    {
     "name": "stderr",
     "output_type": "stream",
     "text": [
      "0it [00:00, ?it/s]"
     ]
    },
    {
     "name": "stdout",
     "output_type": "stream",
     "text": [
      "processed 46666 tokens with 5648 phrases; found: 1231 phrases; correct: 532.\n",
      "accuracy:  84.28%; precision:  43.22%; recall:   9.42%; FB1:  15.47\n",
      "              LOC: precision:  75.08%; recall:  14.99%; FB1:  24.99  333\n",
      "             MISC: precision:   0.00%; recall:   0.00%; FB1:   0.00  13\n",
      "              ORG: precision:  40.00%; recall:   4.70%; FB1:   8.41  195\n",
      "              PER: precision:  29.57%; recall:  12.62%; FB1:  17.69  690\n",
      "\n",
      "Epoch 2/80\n"
     ]
    },
    {
     "name": "stderr",
     "output_type": "stream",
     "text": [
      "76it [00:33,  2.24it/s]\n"
     ]
    },
    {
     "name": "stdout",
     "output_type": "stream",
     "text": [
      "CoNLL score dev set\n",
      "total 51578, correct 46105, accuracy 0.893889\n",
      "total unknown 713, correct 545, accuracy 0.764376\n",
      "processed 51578 tokens with 5942 phrases; found: 2975 phrases; correct: 2111.\n",
      "accuracy:  89.39%; precision:  70.96%; recall:  35.53%; FB1:  47.35\n",
      "              LOC: precision:  85.66%; recall:  45.51%; FB1:  59.44  976\n",
      "             MISC: precision:  84.42%; recall:   7.05%; FB1:  13.01  77\n",
      "              ORG: precision:  67.07%; recall:  24.76%; FB1:  36.17  495\n",
      "              PER: precision:  61.53%; recall:  47.67%; FB1:  53.72  1427\n",
      "\n",
      "CoNLL score test set\n",
      "total 46666, correct 41417, accuracy 0.887520\n",
      "total unknown 1143, correct 912, accuracy 0.797900\n"
     ]
    },
    {
     "name": "stderr",
     "output_type": "stream",
     "text": [
      "0it [00:00, ?it/s]"
     ]
    },
    {
     "name": "stdout",
     "output_type": "stream",
     "text": [
      "processed 46666 tokens with 5648 phrases; found: 2926 phrases; correct: 1921.\n",
      "accuracy:  88.75%; precision:  65.65%; recall:  34.01%; FB1:  44.81\n",
      "              LOC: precision:  77.54%; recall:  43.47%; FB1:  55.70  935\n",
      "             MISC: precision:  73.91%; recall:   4.84%; FB1:   9.09  46\n",
      "              ORG: precision:  54.41%; recall:  24.86%; FB1:  34.13  759\n",
      "              PER: precision:  63.15%; recall:  46.32%; FB1:  53.44  1186\n",
      "\n",
      "Epoch 3/80\n"
     ]
    },
    {
     "name": "stderr",
     "output_type": "stream",
     "text": [
      "76it [00:33,  2.27it/s]\n"
     ]
    },
    {
     "name": "stdout",
     "output_type": "stream",
     "text": [
      "CoNLL score dev set\n",
      "total 51578, correct 47948, accuracy 0.929621\n",
      "total unknown 713, correct 609, accuracy 0.854137\n",
      "processed 51578 tokens with 5942 phrases; found: 4902 phrases; correct: 3659.\n",
      "accuracy:  92.96%; precision:  74.64%; recall:  61.58%; FB1:  67.48\n",
      "              LOC: precision:  81.00%; recall:  71.69%; FB1:  76.06  1626\n",
      "             MISC: precision:  77.84%; recall:  32.75%; FB1:  46.11  388\n",
      "              ORG: precision:  53.90%; recall:  48.40%; FB1:  51.00  1204\n",
      "              PER: precision:  82.60%; recall:  75.52%; FB1:  78.90  1684\n",
      "\n",
      "CoNLL score test set\n",
      "total 46666, correct 43059, accuracy 0.922706\n",
      "total unknown 1143, correct 985, accuracy 0.861767\n"
     ]
    },
    {
     "name": "stderr",
     "output_type": "stream",
     "text": [
      "0it [00:00, ?it/s]"
     ]
    },
    {
     "name": "stdout",
     "output_type": "stream",
     "text": [
      "processed 46666 tokens with 5648 phrases; found: 4950 phrases; correct: 3329.\n",
      "accuracy:  92.27%; precision:  67.25%; recall:  58.94%; FB1:  62.82\n",
      "              LOC: precision:  73.19%; recall:  71.34%; FB1:  72.25  1626\n",
      "             MISC: precision:  72.55%; recall:  31.62%; FB1:  44.05  306\n",
      "              ORG: precision:  48.06%; recall:  46.12%; FB1:  47.07  1594\n",
      "              PER: precision:  80.83%; recall:  71.18%; FB1:  75.70  1424\n",
      "\n",
      "Epoch 4/80\n"
     ]
    },
    {
     "name": "stderr",
     "output_type": "stream",
     "text": [
      "76it [00:34,  2.23it/s]\n"
     ]
    },
    {
     "name": "stdout",
     "output_type": "stream",
     "text": [
      "CoNLL score dev set\n",
      "total 51578, correct 48811, accuracy 0.946353\n",
      "total unknown 713, correct 628, accuracy 0.880785\n",
      "processed 51578 tokens with 5942 phrases; found: 5409 phrases; correct: 4290.\n",
      "accuracy:  94.64%; precision:  79.31%; recall:  72.20%; FB1:  75.59\n",
      "              LOC: precision:  85.81%; recall:  83.61%; FB1:  84.70  1790\n",
      "             MISC: precision:  78.66%; recall:  45.99%; FB1:  58.04  539\n",
      "              ORG: precision:  64.54%; recall:  56.60%; FB1:  60.31  1176\n",
      "              PER: precision:  82.51%; recall:  85.29%; FB1:  83.88  1904\n",
      "\n",
      "CoNLL score test set\n",
      "total 46666, correct 43893, accuracy 0.940578\n",
      "total unknown 1143, correct 1004, accuracy 0.878390\n"
     ]
    },
    {
     "name": "stderr",
     "output_type": "stream",
     "text": [
      "0it [00:00, ?it/s]"
     ]
    },
    {
     "name": "stdout",
     "output_type": "stream",
     "text": [
      "processed 46666 tokens with 5648 phrases; found: 5448 phrases; correct: 3943.\n",
      "accuracy:  94.06%; precision:  72.38%; recall:  69.81%; FB1:  71.07\n",
      "              LOC: precision:  78.24%; recall:  81.71%; FB1:  79.94  1742\n",
      "             MISC: precision:  68.29%; recall:  46.01%; FB1:  54.98  473\n",
      "              ORG: precision:  58.10%; recall:  56.11%; FB1:  57.09  1604\n",
      "              PER: precision:  81.34%; recall:  81.94%; FB1:  81.64  1629\n",
      "\n",
      "Epoch 5/80\n"
     ]
    },
    {
     "name": "stderr",
     "output_type": "stream",
     "text": [
      "76it [00:33,  2.25it/s]\n"
     ]
    },
    {
     "name": "stdout",
     "output_type": "stream",
     "text": [
      "CoNLL score dev set\n",
      "total 51578, correct 49238, accuracy 0.954632\n",
      "total unknown 713, correct 628, accuracy 0.880785\n",
      "processed 51578 tokens with 5942 phrases; found: 5458 phrases; correct: 4502.\n",
      "accuracy:  95.46%; precision:  82.48%; recall:  75.77%; FB1:  78.98\n",
      "              LOC: precision:  90.02%; recall:  82.47%; FB1:  86.08  1683\n",
      "             MISC: precision:  81.42%; recall:  56.07%; FB1:  66.41  635\n",
      "              ORG: precision:  66.04%; recall:  65.85%; FB1:  65.94  1337\n",
      "              PER: precision:  88.02%; recall:  86.16%; FB1:  87.08  1803\n",
      "\n",
      "CoNLL score test set\n",
      "total 46666, correct 44185, accuracy 0.946835\n",
      "total unknown 1143, correct 1006, accuracy 0.880140\n"
     ]
    },
    {
     "name": "stderr",
     "output_type": "stream",
     "text": [
      "0it [00:00, ?it/s]"
     ]
    },
    {
     "name": "stdout",
     "output_type": "stream",
     "text": [
      "processed 46666 tokens with 5648 phrases; found: 5405 phrases; correct: 4106.\n",
      "accuracy:  94.68%; precision:  75.97%; recall:  72.70%; FB1:  74.30\n",
      "              LOC: precision:  84.62%; recall:  80.82%; FB1:  82.67  1593\n",
      "             MISC: precision:  71.16%; recall:  53.42%; FB1:  61.03  527\n",
      "              ORG: precision:  61.57%; recall:  65.20%; FB1:  63.33  1759\n",
      "              PER: precision:  85.19%; recall:  80.40%; FB1:  82.72  1526\n",
      "\n",
      "Epoch 6/80\n"
     ]
    },
    {
     "name": "stderr",
     "output_type": "stream",
     "text": [
      "76it [00:34,  2.21it/s]\n"
     ]
    },
    {
     "name": "stdout",
     "output_type": "stream",
     "text": [
      "CoNLL score dev set\n",
      "total 51578, correct 49747, accuracy 0.964500\n",
      "total unknown 713, correct 640, accuracy 0.897616\n",
      "processed 51578 tokens with 5942 phrases; found: 5890 phrases; correct: 4888.\n",
      "accuracy:  96.45%; precision:  82.99%; recall:  82.26%; FB1:  82.62\n",
      "              LOC: precision:  89.07%; recall:  87.81%; FB1:  88.43  1811\n",
      "             MISC: precision:  84.58%; recall:  62.47%; FB1:  71.87  681\n",
      "              ORG: precision:  67.56%; recall:  74.87%; FB1:  71.03  1486\n",
      "              PER: precision:  88.65%; recall:  92.02%; FB1:  90.30  1912\n",
      "\n",
      "CoNLL score test set\n",
      "total 46666, correct 44686, accuracy 0.957571\n",
      "total unknown 1143, correct 1026, accuracy 0.897638\n"
     ]
    },
    {
     "name": "stderr",
     "output_type": "stream",
     "text": [
      "0it [00:00, ?it/s]"
     ]
    },
    {
     "name": "stdout",
     "output_type": "stream",
     "text": [
      "processed 46666 tokens with 5648 phrases; found: 5726 phrases; correct: 4554.\n",
      "accuracy:  95.76%; precision:  79.53%; recall:  80.63%; FB1:  80.08\n",
      "              LOC: precision:  84.79%; recall:  87.23%; FB1:  85.99  1716\n",
      "             MISC: precision:  75.66%; recall:  57.55%; FB1:  65.37  534\n",
      "              ORG: precision:  67.50%; recall:  76.16%; FB1:  71.57  1874\n",
      "              PER: precision:  89.26%; recall:  88.44%; FB1:  88.85  1602\n",
      "\n",
      "Epoch 7/80\n"
     ]
    },
    {
     "name": "stderr",
     "output_type": "stream",
     "text": [
      "76it [00:33,  2.24it/s]\n"
     ]
    },
    {
     "name": "stdout",
     "output_type": "stream",
     "text": [
      "CoNLL score dev set\n",
      "total 51578, correct 49947, accuracy 0.968378\n",
      "total unknown 713, correct 650, accuracy 0.911641\n",
      "processed 51578 tokens with 5942 phrases; found: 6048 phrases; correct: 5053.\n",
      "accuracy:  96.84%; precision:  83.55%; recall:  85.04%; FB1:  84.29\n",
      "              LOC: precision:  92.18%; recall:  87.92%; FB1:  90.00  1752\n",
      "             MISC: precision:  85.14%; recall:  66.49%; FB1:  74.67  720\n",
      "              ORG: precision:  69.13%; recall:  82.33%; FB1:  75.15  1597\n",
      "              PER: precision:  86.96%; recall:  93.43%; FB1:  90.08  1979\n",
      "\n",
      "CoNLL score test set\n",
      "total 46666, correct 44816, accuracy 0.960357\n",
      "total unknown 1143, correct 1021, accuracy 0.893263\n"
     ]
    },
    {
     "name": "stderr",
     "output_type": "stream",
     "text": [
      "0it [00:00, ?it/s]"
     ]
    },
    {
     "name": "stdout",
     "output_type": "stream",
     "text": [
      "processed 46666 tokens with 5648 phrases; found: 5832 phrases; correct: 4699.\n",
      "accuracy:  96.04%; precision:  80.57%; recall:  83.20%; FB1:  81.86\n",
      "              LOC: precision:  87.88%; recall:  86.93%; FB1:  87.40  1650\n",
      "             MISC: precision:  77.25%; recall:  62.39%; FB1:  69.03  567\n",
      "              ORG: precision:  69.55%; recall:  80.85%; FB1:  74.78  1931\n",
      "              PER: precision:  87.17%; recall:  90.79%; FB1:  88.94  1684\n",
      "\n",
      "Epoch 8/80\n"
     ]
    },
    {
     "name": "stderr",
     "output_type": "stream",
     "text": [
      "76it [00:34,  2.21it/s]\n"
     ]
    },
    {
     "name": "stdout",
     "output_type": "stream",
     "text": [
      "CoNLL score dev set\n",
      "total 51578, correct 50115, accuracy 0.971635\n",
      "total unknown 713, correct 652, accuracy 0.914446\n",
      "processed 51578 tokens with 5942 phrases; found: 6220 phrases; correct: 5210.\n",
      "accuracy:  97.16%; precision:  83.76%; recall:  87.68%; FB1:  85.68\n",
      "              LOC: precision:  90.71%; recall:  90.91%; FB1:  90.81  1841\n",
      "             MISC: precision:  86.64%; recall:  69.63%; FB1:  77.21  741\n",
      "              ORG: precision:  68.38%; recall:  86.28%; FB1:  76.29  1692\n",
      "              PER: precision:  89.47%; recall:  94.52%; FB1:  91.92  1946\n",
      "\n",
      "CoNLL score test set\n",
      "total 46666, correct 44892, accuracy 0.961985\n",
      "total unknown 1143, correct 1029, accuracy 0.900262\n"
     ]
    },
    {
     "name": "stderr",
     "output_type": "stream",
     "text": [
      "0it [00:00, ?it/s]"
     ]
    },
    {
     "name": "stdout",
     "output_type": "stream",
     "text": [
      "processed 46666 tokens with 5648 phrases; found: 5987 phrases; correct: 4810.\n",
      "accuracy:  96.20%; precision:  80.34%; recall:  85.16%; FB1:  82.68\n",
      "              LOC: precision:  87.11%; recall:  89.15%; FB1:  88.12  1707\n",
      "             MISC: precision:  75.93%; recall:  63.82%; FB1:  69.35  590\n",
      "              ORG: precision:  67.93%; recall:  85.19%; FB1:  75.59  2083\n",
      "              PER: precision:  90.85%; recall:  90.29%; FB1:  90.57  1607\n",
      "\n",
      "Epoch 9/80\n"
     ]
    },
    {
     "name": "stderr",
     "output_type": "stream",
     "text": [
      "76it [00:34,  2.22it/s]\n"
     ]
    },
    {
     "name": "stdout",
     "output_type": "stream",
     "text": [
      "CoNLL score dev set\n",
      "total 51578, correct 50125, accuracy 0.971829\n",
      "total unknown 713, correct 652, accuracy 0.914446\n",
      "processed 51578 tokens with 5942 phrases; found: 6139 phrases; correct: 5217.\n",
      "accuracy:  97.18%; precision:  84.98%; recall:  87.80%; FB1:  86.37\n",
      "              LOC: precision:  93.65%; recall:  89.87%; FB1:  91.72  1763\n",
      "             MISC: precision:  88.37%; recall:  70.07%; FB1:  78.16  731\n",
      "              ORG: precision:  68.87%; recall:  87.92%; FB1:  77.24  1712\n",
      "              PER: precision:  90.07%; recall:  94.52%; FB1:  92.24  1933\n",
      "\n",
      "CoNLL score test set\n",
      "total 46666, correct 44919, accuracy 0.962564\n",
      "total unknown 1143, correct 1033, accuracy 0.903762\n"
     ]
    },
    {
     "name": "stderr",
     "output_type": "stream",
     "text": [
      "0it [00:00, ?it/s]"
     ]
    },
    {
     "name": "stdout",
     "output_type": "stream",
     "text": [
      "processed 46666 tokens with 5648 phrases; found: 5923 phrases; correct: 4850.\n",
      "accuracy:  96.26%; precision:  81.88%; recall:  85.87%; FB1:  83.83\n",
      "              LOC: precision:  89.86%; recall:  89.27%; FB1:  89.56  1657\n",
      "             MISC: precision:  77.38%; recall:  64.81%; FB1:  70.54  588\n",
      "              ORG: precision:  69.72%; recall:  86.94%; FB1:  77.38  2071\n",
      "              PER: precision:  90.98%; recall:  90.41%; FB1:  90.69  1607\n",
      "\n",
      "Epoch 10/80\n"
     ]
    },
    {
     "name": "stderr",
     "output_type": "stream",
     "text": [
      "76it [00:34,  2.22it/s]\n"
     ]
    },
    {
     "name": "stdout",
     "output_type": "stream",
     "text": [
      "CoNLL score dev set\n",
      "total 51578, correct 49949, accuracy 0.968417\n",
      "total unknown 713, correct 651, accuracy 0.913043\n",
      "processed 51578 tokens with 5942 phrases; found: 6230 phrases; correct: 5199.\n",
      "accuracy:  96.84%; precision:  83.45%; recall:  87.50%; FB1:  85.43\n",
      "              LOC: precision:  93.73%; recall:  89.44%; FB1:  91.53  1753\n",
      "             MISC: precision:  89.56%; recall:  70.72%; FB1:  79.03  728\n",
      "              ORG: precision:  65.55%; recall:  87.70%; FB1:  75.02  1794\n",
      "              PER: precision:  88.39%; recall:  93.81%; FB1:  91.02  1955\n",
      "\n",
      "CoNLL score test set\n",
      "total 46666, correct 44686, accuracy 0.957571\n",
      "total unknown 1143, correct 1024, accuracy 0.895888\n"
     ]
    },
    {
     "name": "stderr",
     "output_type": "stream",
     "text": [
      "0it [00:00, ?it/s]"
     ]
    },
    {
     "name": "stdout",
     "output_type": "stream",
     "text": [
      "processed 46666 tokens with 5648 phrases; found: 6054 phrases; correct: 4825.\n",
      "accuracy:  95.76%; precision:  79.70%; recall:  85.43%; FB1:  82.46\n",
      "              LOC: precision:  90.21%; recall:  88.97%; FB1:  89.59  1645\n",
      "             MISC: precision:  74.62%; recall:  63.25%; FB1:  68.47  595\n",
      "              ORG: precision:  66.21%; recall:  87.66%; FB1:  75.44  2199\n",
      "              PER: precision:  89.23%; recall:  89.12%; FB1:  89.17  1615\n",
      "\n",
      "Epoch 11/80\n"
     ]
    },
    {
     "name": "stderr",
     "output_type": "stream",
     "text": [
      "76it [00:34,  2.23it/s]\n"
     ]
    },
    {
     "name": "stdout",
     "output_type": "stream",
     "text": [
      "CoNLL score dev set\n",
      "total 51578, correct 50345, accuracy 0.976094\n",
      "total unknown 713, correct 657, accuracy 0.921459\n",
      "processed 51578 tokens with 5942 phrases; found: 6154 phrases; correct: 5365.\n",
      "accuracy:  97.61%; precision:  87.18%; recall:  90.29%; FB1:  88.71\n",
      "              LOC: precision:  93.66%; recall:  94.07%; FB1:  93.86  1845\n",
      "             MISC: precision:  86.76%; recall:  76.03%; FB1:  81.04  808\n",
      "              ORG: precision:  74.58%; recall:  89.26%; FB1:  81.26  1605\n",
      "              PER: precision:  91.72%; recall:  94.41%; FB1:  93.04  1896\n",
      "\n",
      "CoNLL score test set\n",
      "total 46666, correct 45034, accuracy 0.965028\n",
      "total unknown 1143, correct 1037, accuracy 0.907262\n"
     ]
    },
    {
     "name": "stderr",
     "output_type": "stream",
     "text": [
      "0it [00:00, ?it/s]"
     ]
    },
    {
     "name": "stdout",
     "output_type": "stream",
     "text": [
      "processed 46666 tokens with 5648 phrases; found: 5949 phrases; correct: 4922.\n",
      "accuracy:  96.50%; precision:  82.74%; recall:  87.15%; FB1:  84.88\n",
      "              LOC: precision:  89.24%; recall:  91.49%; FB1:  90.35  1710\n",
      "             MISC: precision:  73.12%; recall:  67.81%; FB1:  70.36  651\n",
      "              ORG: precision:  72.93%; recall:  87.60%; FB1:  79.60  1995\n",
      "              PER: precision:  91.96%; recall:  90.60%; FB1:  91.28  1593\n",
      "\n",
      "Epoch 12/80\n"
     ]
    },
    {
     "name": "stderr",
     "output_type": "stream",
     "text": [
      "76it [00:34,  2.20it/s]\n"
     ]
    },
    {
     "name": "stdout",
     "output_type": "stream",
     "text": [
      "CoNLL score dev set\n",
      "total 51578, correct 50401, accuracy 0.977180\n",
      "total unknown 713, correct 645, accuracy 0.904628\n",
      "processed 51578 tokens with 5942 phrases; found: 6021 phrases; correct: 5276.\n",
      "accuracy:  97.72%; precision:  87.63%; recall:  88.79%; FB1:  88.21\n",
      "              LOC: precision:  96.21%; recall:  88.41%; FB1:  92.14  1688\n",
      "             MISC: precision:  91.70%; recall:  75.49%; FB1:  82.81  759\n",
      "              ORG: precision:  75.28%; recall:  89.26%; FB1:  81.68  1590\n",
      "              PER: precision:  88.66%; recall:  95.49%; FB1:  91.95  1984\n",
      "\n",
      "CoNLL score test set\n",
      "total 46666, correct 45288, accuracy 0.970471\n",
      "total unknown 1143, correct 1037, accuracy 0.907262\n"
     ]
    },
    {
     "name": "stderr",
     "output_type": "stream",
     "text": [
      "0it [00:00, ?it/s]"
     ]
    },
    {
     "name": "stdout",
     "output_type": "stream",
     "text": [
      "processed 46666 tokens with 5648 phrases; found: 5777 phrases; correct: 4939.\n",
      "accuracy:  97.05%; precision:  85.49%; recall:  87.45%; FB1:  86.46\n",
      "              LOC: precision:  93.90%; recall:  88.55%; FB1:  91.14  1573\n",
      "             MISC: precision:  79.50%; recall:  68.52%; FB1:  73.60  605\n",
      "              ORG: precision:  76.99%; recall:  88.44%; FB1:  82.32  1908\n",
      "              PER: precision:  89.41%; recall:  93.51%; FB1:  91.41  1691\n",
      "\n",
      "Epoch 13/80\n"
     ]
    },
    {
     "name": "stderr",
     "output_type": "stream",
     "text": [
      "76it [00:34,  2.20it/s]\n"
     ]
    },
    {
     "name": "stdout",
     "output_type": "stream",
     "text": [
      "CoNLL score dev set\n",
      "total 51578, correct 50322, accuracy 0.975649\n",
      "total unknown 713, correct 652, accuracy 0.914446\n",
      "processed 51578 tokens with 5942 phrases; found: 6048 phrases; correct: 5312.\n",
      "accuracy:  97.56%; precision:  87.83%; recall:  89.40%; FB1:  88.61\n",
      "              LOC: precision:  95.64%; recall:  91.94%; FB1:  93.76  1766\n",
      "             MISC: precision:  91.16%; recall:  73.86%; FB1:  81.61  747\n",
      "              ORG: precision:  72.49%; recall:  89.78%; FB1:  80.21  1661\n",
      "              PER: precision:  92.74%; recall:  94.35%; FB1:  93.54  1874\n",
      "\n",
      "CoNLL score test set\n",
      "total 46666, correct 45063, accuracy 0.965650\n",
      "total unknown 1143, correct 1024, accuracy 0.895888\n"
     ]
    },
    {
     "name": "stderr",
     "output_type": "stream",
     "text": [
      "0it [00:00, ?it/s]"
     ]
    },
    {
     "name": "stdout",
     "output_type": "stream",
     "text": [
      "processed 46666 tokens with 5648 phrases; found: 5836 phrases; correct: 4878.\n",
      "accuracy:  96.56%; precision:  83.58%; recall:  86.37%; FB1:  84.95\n",
      "              LOC: precision:  92.17%; recall:  90.35%; FB1:  91.25  1635\n",
      "             MISC: precision:  76.91%; recall:  64.53%; FB1:  70.18  589\n",
      "              ORG: precision:  71.91%; recall:  89.10%; FB1:  79.59  2058\n",
      "              PER: precision:  92.54%; recall:  88.93%; FB1:  90.70  1554\n",
      "\n",
      "Epoch 14/80\n"
     ]
    },
    {
     "name": "stderr",
     "output_type": "stream",
     "text": [
      "76it [00:33,  2.24it/s]\n"
     ]
    },
    {
     "name": "stdout",
     "output_type": "stream",
     "text": [
      "CoNLL score dev set\n",
      "total 51578, correct 50518, accuracy 0.979449\n",
      "total unknown 713, correct 660, accuracy 0.925666\n",
      "processed 51578 tokens with 5942 phrases; found: 6042 phrases; correct: 5405.\n",
      "accuracy:  97.94%; precision:  89.46%; recall:  90.96%; FB1:  90.20\n",
      "              LOC: precision:  94.86%; recall:  94.39%; FB1:  94.62  1828\n",
      "             MISC: precision:  91.17%; recall:  76.14%; FB1:  82.98  770\n",
      "              ORG: precision:  77.94%; recall:  90.08%; FB1:  83.57  1550\n",
      "              PER: precision:  92.98%; recall:  95.60%; FB1:  94.27  1894\n",
      "\n",
      "CoNLL score test set\n",
      "total 46666, correct 45267, accuracy 0.970021\n",
      "total unknown 1143, correct 1043, accuracy 0.912511\n"
     ]
    },
    {
     "name": "stderr",
     "output_type": "stream",
     "text": [
      "0it [00:00, ?it/s]"
     ]
    },
    {
     "name": "stdout",
     "output_type": "stream",
     "text": [
      "processed 46666 tokens with 5648 phrases; found: 5829 phrases; correct: 4984.\n",
      "accuracy:  97.00%; precision:  85.50%; recall:  88.24%; FB1:  86.85\n",
      "              LOC: precision:  90.38%; recall:  92.33%; FB1:  91.34  1704\n",
      "             MISC: precision:  78.14%; recall:  68.23%; FB1:  72.85  613\n",
      "              ORG: precision:  77.35%; recall:  88.62%; FB1:  82.60  1903\n",
      "              PER: precision:  92.79%; recall:  92.33%; FB1:  92.56  1609\n",
      "\n",
      "Epoch 15/80\n"
     ]
    },
    {
     "name": "stderr",
     "output_type": "stream",
     "text": [
      "76it [00:33,  2.24it/s]\n"
     ]
    },
    {
     "name": "stdout",
     "output_type": "stream",
     "text": [
      "CoNLL score dev set\n",
      "total 51578, correct 50450, accuracy 0.978130\n",
      "total unknown 713, correct 655, accuracy 0.918654\n",
      "processed 51578 tokens with 5942 phrases; found: 5989 phrases; correct: 5358.\n",
      "accuracy:  97.81%; precision:  89.46%; recall:  90.17%; FB1:  89.82\n",
      "              LOC: precision:  96.98%; recall:  92.54%; FB1:  94.71  1753\n",
      "             MISC: precision:  89.81%; recall:  78.42%; FB1:  83.73  805\n",
      "              ORG: precision:  76.60%; recall:  89.34%; FB1:  82.48  1564\n",
      "              PER: precision:  93.04%; recall:  94.30%; FB1:  93.66  1867\n",
      "\n",
      "CoNLL score test set\n",
      "total 46666, correct 45171, accuracy 0.967964\n",
      "total unknown 1143, correct 1043, accuracy 0.912511\n"
     ]
    },
    {
     "name": "stderr",
     "output_type": "stream",
     "text": [
      "0it [00:00, ?it/s]"
     ]
    },
    {
     "name": "stdout",
     "output_type": "stream",
     "text": [
      "processed 46666 tokens with 5648 phrases; found: 5812 phrases; correct: 4937.\n",
      "accuracy:  96.80%; precision:  84.94%; recall:  87.41%; FB1:  86.16\n",
      "              LOC: precision:  93.55%; recall:  89.57%; FB1:  91.52  1597\n",
      "             MISC: precision:  74.89%; recall:  70.09%; FB1:  72.41  657\n",
      "              ORG: precision:  74.71%; recall:  89.28%; FB1:  81.35  1985\n",
      "              PER: precision:  93.32%; recall:  90.79%; FB1:  92.04  1573\n",
      "\n",
      "Epoch 16/80\n"
     ]
    },
    {
     "name": "stderr",
     "output_type": "stream",
     "text": [
      "76it [00:34,  2.20it/s]\n"
     ]
    },
    {
     "name": "stdout",
     "output_type": "stream",
     "text": [
      "CoNLL score dev set\n",
      "total 51578, correct 50576, accuracy 0.980573\n",
      "total unknown 713, correct 664, accuracy 0.931276\n",
      "processed 51578 tokens with 5942 phrases; found: 5922 phrases; correct: 5389.\n",
      "accuracy:  98.06%; precision:  91.00%; recall:  90.69%; FB1:  90.85\n",
      "              LOC: precision:  96.44%; recall:  94.34%; FB1:  95.38  1797\n",
      "             MISC: precision:  91.97%; recall:  77.01%; FB1:  83.83  772\n",
      "              ORG: precision:  80.26%; recall:  88.81%; FB1:  84.32  1484\n",
      "              PER: precision:  93.90%; recall:  95.28%; FB1:  94.58  1869\n",
      "\n",
      "CoNLL score test set\n",
      "total 46666, correct 45262, accuracy 0.969914\n",
      "total unknown 1143, correct 1038, accuracy 0.908136\n"
     ]
    },
    {
     "name": "stderr",
     "output_type": "stream",
     "text": [
      "0it [00:00, ?it/s]"
     ]
    },
    {
     "name": "stdout",
     "output_type": "stream",
     "text": [
      "processed 46666 tokens with 5648 phrases; found: 5682 phrases; correct: 4920.\n",
      "accuracy:  96.99%; precision:  86.59%; recall:  87.11%; FB1:  86.85\n",
      "              LOC: precision:  92.02%; recall:  91.31%; FB1:  91.66  1655\n",
      "             MISC: precision:  77.82%; recall:  65.95%; FB1:  71.40  595\n",
      "              ORG: precision:  78.29%; recall:  87.06%; FB1:  82.44  1847\n",
      "              PER: precision:  93.88%; recall:  92.02%; FB1:  92.94  1585\n",
      "\n",
      "Epoch 17/80\n"
     ]
    },
    {
     "name": "stderr",
     "output_type": "stream",
     "text": [
      "76it [00:34,  2.20it/s]\n"
     ]
    },
    {
     "name": "stdout",
     "output_type": "stream",
     "text": [
      "CoNLL score dev set\n",
      "total 51578, correct 50601, accuracy 0.981058\n",
      "total unknown 713, correct 663, accuracy 0.929874\n",
      "processed 51578 tokens with 5942 phrases; found: 6004 phrases; correct: 5407.\n",
      "accuracy:  98.11%; precision:  90.06%; recall:  91.00%; FB1:  90.52\n",
      "              LOC: precision:  95.92%; recall:  94.67%; FB1:  95.29  1813\n",
      "             MISC: precision:  92.60%; recall:  76.03%; FB1:  83.50  757\n",
      "              ORG: precision:  78.19%; recall:  90.38%; FB1:  83.85  1550\n",
      "              PER: precision:  93.15%; recall:  95.28%; FB1:  94.20  1884\n",
      "\n",
      "CoNLL score test set\n",
      "total 46666, correct 45372, accuracy 0.972271\n",
      "total unknown 1143, correct 1045, accuracy 0.914261\n"
     ]
    },
    {
     "name": "stderr",
     "output_type": "stream",
     "text": [
      "0it [00:00, ?it/s]"
     ]
    },
    {
     "name": "stdout",
     "output_type": "stream",
     "text": [
      "processed 46666 tokens with 5648 phrases; found: 5765 phrases; correct: 4986.\n",
      "accuracy:  97.23%; precision:  86.49%; recall:  88.28%; FB1:  87.37\n",
      "              LOC: precision:  91.62%; recall:  91.73%; FB1:  91.67  1670\n",
      "             MISC: precision:  80.58%; recall:  66.81%; FB1:  73.05  582\n",
      "              ORG: precision:  78.04%; recall:  90.07%; FB1:  83.62  1917\n",
      "              PER: precision:  93.42%; recall:  92.21%; FB1:  92.81  1596\n",
      "\n",
      "Epoch 18/80\n"
     ]
    },
    {
     "name": "stderr",
     "output_type": "stream",
     "text": [
      "76it [00:34,  2.21it/s]\n"
     ]
    },
    {
     "name": "stdout",
     "output_type": "stream",
     "text": [
      "CoNLL score dev set\n",
      "total 51578, correct 50644, accuracy 0.981892\n",
      "total unknown 713, correct 667, accuracy 0.935484\n",
      "processed 51578 tokens with 5942 phrases; found: 5975 phrases; correct: 5419.\n",
      "accuracy:  98.19%; precision:  90.69%; recall:  91.20%; FB1:  90.95\n",
      "              LOC: precision:  96.30%; recall:  95.05%; FB1:  95.67  1813\n",
      "             MISC: precision:  91.77%; recall:  74.95%; FB1:  82.51  753\n",
      "              ORG: precision:  79.48%; recall:  90.98%; FB1:  84.84  1535\n",
      "              PER: precision:  94.02%; recall:  95.66%; FB1:  94.83  1874\n",
      "\n",
      "CoNLL score test set\n",
      "total 46666, correct 45411, accuracy 0.973107\n",
      "total unknown 1143, correct 1045, accuracy 0.914261\n"
     ]
    },
    {
     "name": "stderr",
     "output_type": "stream",
     "text": [
      "0it [00:00, ?it/s]"
     ]
    },
    {
     "name": "stdout",
     "output_type": "stream",
     "text": [
      "processed 46666 tokens with 5648 phrases; found: 5742 phrases; correct: 4993.\n",
      "accuracy:  97.31%; precision:  86.96%; recall:  88.40%; FB1:  87.67\n",
      "              LOC: precision:  91.67%; recall:  92.39%; FB1:  92.03  1681\n",
      "             MISC: precision:  79.15%; recall:  66.52%; FB1:  72.29  590\n",
      "              ORG: precision:  79.46%; recall:  89.64%; FB1:  84.24  1874\n",
      "              PER: precision:  93.68%; recall:  92.52%; FB1:  93.09  1597\n",
      "\n",
      "Epoch 19/80\n"
     ]
    },
    {
     "name": "stderr",
     "output_type": "stream",
     "text": [
      "76it [00:34,  2.23it/s]\n"
     ]
    },
    {
     "name": "stdout",
     "output_type": "stream",
     "text": [
      "CoNLL score dev set\n",
      "total 51578, correct 50710, accuracy 0.983171\n",
      "total unknown 713, correct 668, accuracy 0.936886\n",
      "processed 51578 tokens with 5942 phrases; found: 6006 phrases; correct: 5460.\n",
      "accuracy:  98.32%; precision:  90.91%; recall:  91.89%; FB1:  91.40\n",
      "              LOC: precision:  96.20%; recall:  95.16%; FB1:  95.68  1817\n",
      "             MISC: precision:  92.65%; recall:  77.98%; FB1:  84.69  776\n",
      "              ORG: precision:  79.31%; recall:  92.02%; FB1:  85.19  1556\n",
      "              PER: precision:  94.72%; recall:  95.49%; FB1:  95.11  1857\n",
      "\n",
      "CoNLL score test set\n",
      "total 46666, correct 45460, accuracy 0.974157\n",
      "total unknown 1143, correct 1050, accuracy 0.918635\n"
     ]
    },
    {
     "name": "stderr",
     "output_type": "stream",
     "text": [
      "0it [00:00, ?it/s]"
     ]
    },
    {
     "name": "stdout",
     "output_type": "stream",
     "text": [
      "processed 46666 tokens with 5648 phrases; found: 5764 phrases; correct: 4998.\n",
      "accuracy:  97.42%; precision:  86.71%; recall:  88.49%; FB1:  87.59\n",
      "              LOC: precision:  91.99%; recall:  92.21%; FB1:  92.10  1672\n",
      "             MISC: precision:  79.31%; recall:  68.80%; FB1:  73.68  609\n",
      "              ORG: precision:  78.07%; recall:  90.67%; FB1:  83.90  1929\n",
      "              PER: precision:  94.66%; recall:  90.97%; FB1:  92.78  1554\n",
      "\n",
      "Epoch 20/80\n"
     ]
    },
    {
     "name": "stderr",
     "output_type": "stream",
     "text": [
      "76it [00:35,  2.16it/s]\n"
     ]
    },
    {
     "name": "stdout",
     "output_type": "stream",
     "text": [
      "CoNLL score dev set\n",
      "total 51578, correct 50766, accuracy 0.984257\n",
      "total unknown 713, correct 672, accuracy 0.942496\n",
      "processed 51578 tokens with 5942 phrases; found: 6001 phrases; correct: 5502.\n",
      "accuracy:  98.43%; precision:  91.68%; recall:  92.60%; FB1:  92.14\n",
      "              LOC: precision:  96.62%; recall:  94.94%; FB1:  95.77  1805\n",
      "             MISC: precision:  92.48%; recall:  82.75%; FB1:  87.35  825\n",
      "              ORG: precision:  83.31%; recall:  91.20%; FB1:  87.08  1468\n",
      "              PER: precision:  93.12%; recall:  96.20%; FB1:  94.63  1903\n",
      "\n",
      "CoNLL score test set\n",
      "total 46666, correct 45513, accuracy 0.975293\n",
      "total unknown 1143, correct 1061, accuracy 0.928259\n"
     ]
    },
    {
     "name": "stderr",
     "output_type": "stream",
     "text": [
      "0it [00:00, ?it/s]"
     ]
    },
    {
     "name": "stdout",
     "output_type": "stream",
     "text": [
      "processed 46666 tokens with 5648 phrases; found: 5766 phrases; correct: 5045.\n",
      "accuracy:  97.53%; precision:  87.50%; recall:  89.32%; FB1:  88.40\n",
      "              LOC: precision:  92.15%; recall:  91.55%; FB1:  91.85  1657\n",
      "             MISC: precision:  79.11%; recall:  73.36%; FB1:  76.13  651\n",
      "              ORG: precision:  81.60%; recall:  89.70%; FB1:  85.46  1826\n",
      "              PER: precision:  92.71%; recall:  93.57%; FB1:  93.14  1632\n",
      "\n",
      "Epoch 21/80\n"
     ]
    },
    {
     "name": "stderr",
     "output_type": "stream",
     "text": [
      "76it [00:34,  2.20it/s]\n"
     ]
    },
    {
     "name": "stdout",
     "output_type": "stream",
     "text": [
      "CoNLL score dev set\n",
      "total 51578, correct 50725, accuracy 0.983462\n",
      "total unknown 713, correct 672, accuracy 0.942496\n",
      "processed 51578 tokens with 5942 phrases; found: 5961 phrases; correct: 5464.\n",
      "accuracy:  98.35%; precision:  91.66%; recall:  91.96%; FB1:  91.81\n",
      "              LOC: precision:  96.47%; recall:  95.10%; FB1:  95.78  1811\n",
      "             MISC: precision:  91.00%; recall:  81.13%; FB1:  85.78  822\n",
      "              ORG: precision:  81.05%; recall:  90.60%; FB1:  85.56  1499\n",
      "              PER: precision:  95.90%; recall:  95.22%; FB1:  95.56  1829\n",
      "\n",
      "CoNLL score test set\n",
      "total 46666, correct 45381, accuracy 0.972464\n",
      "total unknown 1143, correct 1049, accuracy 0.917760\n"
     ]
    },
    {
     "name": "stderr",
     "output_type": "stream",
     "text": [
      "0it [00:00, ?it/s]"
     ]
    },
    {
     "name": "stdout",
     "output_type": "stream",
     "text": [
      "processed 46666 tokens with 5648 phrases; found: 5747 phrases; correct: 4991.\n",
      "accuracy:  97.25%; precision:  86.85%; recall:  88.37%; FB1:  87.60\n",
      "              LOC: precision:  92.28%; recall:  91.67%; FB1:  91.97  1657\n",
      "             MISC: precision:  78.04%; recall:  71.37%; FB1:  74.55  642\n",
      "              ORG: precision:  78.15%; recall:  90.25%; FB1:  83.77  1918\n",
      "              PER: precision:  95.56%; recall:  90.41%; FB1:  92.91  1530\n",
      "\n",
      "Epoch 22/80\n"
     ]
    },
    {
     "name": "stderr",
     "output_type": "stream",
     "text": [
      "76it [00:34,  2.18it/s]\n"
     ]
    },
    {
     "name": "stdout",
     "output_type": "stream",
     "text": [
      "CoNLL score dev set\n",
      "total 51578, correct 50749, accuracy 0.983927\n",
      "total unknown 713, correct 672, accuracy 0.942496\n",
      "processed 51578 tokens with 5942 phrases; found: 5935 phrases; correct: 5471.\n",
      "accuracy:  98.39%; precision:  92.18%; recall:  92.07%; FB1:  92.13\n",
      "              LOC: precision:  95.30%; recall:  96.14%; FB1:  95.72  1853\n",
      "             MISC: precision:  93.48%; recall:  80.80%; FB1:  86.68  797\n",
      "              ORG: precision:  86.44%; recall:  87.92%; FB1:  87.17  1364\n",
      "              PER: precision:  92.71%; recall:  96.69%; FB1:  94.66  1921\n",
      "\n",
      "CoNLL score test set\n",
      "total 46666, correct 45566, accuracy 0.976428\n",
      "total unknown 1143, correct 1062, accuracy 0.929134\n"
     ]
    },
    {
     "name": "stderr",
     "output_type": "stream",
     "text": [
      "0it [00:00, ?it/s]"
     ]
    },
    {
     "name": "stdout",
     "output_type": "stream",
     "text": [
      "processed 46666 tokens with 5648 phrases; found: 5673 phrases; correct: 5049.\n",
      "accuracy:  97.64%; precision:  89.00%; recall:  89.39%; FB1:  89.20\n",
      "              LOC: precision:  90.30%; recall:  93.23%; FB1:  91.74  1722\n",
      "             MISC: precision:  83.74%; recall:  73.36%; FB1:  78.21  615\n",
      "              ORG: precision:  86.67%; recall:  86.88%; FB1:  86.77  1665\n",
      "              PER: precision:  91.92%; recall:  94.99%; FB1:  93.43  1671\n",
      "\n",
      "Epoch 23/80\n"
     ]
    },
    {
     "name": "stderr",
     "output_type": "stream",
     "text": [
      "76it [00:34,  2.19it/s]\n"
     ]
    },
    {
     "name": "stdout",
     "output_type": "stream",
     "text": [
      "CoNLL score dev set\n",
      "total 51578, correct 50820, accuracy 0.985304\n",
      "total unknown 713, correct 678, accuracy 0.950912\n",
      "processed 51578 tokens with 5942 phrases; found: 5966 phrases; correct: 5518.\n",
      "accuracy:  98.53%; precision:  92.49%; recall:  92.86%; FB1:  92.68\n",
      "              LOC: precision:  97.49%; recall:  95.05%; FB1:  96.25  1791\n",
      "             MISC: precision:  90.88%; recall:  83.19%; FB1:  86.86  844\n",
      "              ORG: precision:  85.04%; recall:  91.13%; FB1:  87.98  1437\n",
      "              PER: precision:  94.14%; recall:  96.80%; FB1:  95.45  1894\n",
      "\n",
      "CoNLL score test set\n",
      "total 46666, correct 45577, accuracy 0.976664\n",
      "total unknown 1143, correct 1066, accuracy 0.932633\n"
     ]
    },
    {
     "name": "stderr",
     "output_type": "stream",
     "text": [
      "0it [00:00, ?it/s]"
     ]
    },
    {
     "name": "stdout",
     "output_type": "stream",
     "text": [
      "processed 46666 tokens with 5648 phrases; found: 5712 phrases; correct: 5084.\n",
      "accuracy:  97.67%; precision:  89.01%; recall:  90.01%; FB1:  89.51\n",
      "              LOC: precision:  93.26%; recall:  92.15%; FB1:  92.70  1648\n",
      "             MISC: precision:  78.61%; recall:  75.93%; FB1:  77.25  678\n",
      "              ORG: precision:  84.87%; recall:  89.46%; FB1:  87.10  1751\n",
      "              PER: precision:  93.46%; recall:  94.50%; FB1:  93.97  1635\n",
      "\n",
      "Epoch 24/80\n"
     ]
    },
    {
     "name": "stderr",
     "output_type": "stream",
     "text": [
      "76it [00:34,  2.18it/s]\n"
     ]
    },
    {
     "name": "stdout",
     "output_type": "stream",
     "text": [
      "CoNLL score dev set\n",
      "total 51578, correct 50852, accuracy 0.985924\n",
      "total unknown 713, correct 674, accuracy 0.945302\n",
      "processed 51578 tokens with 5942 phrases; found: 5968 phrases; correct: 5512.\n",
      "accuracy:  98.59%; precision:  92.36%; recall:  92.76%; FB1:  92.56\n",
      "              LOC: precision:  94.96%; recall:  96.41%; FB1:  95.68  1865\n",
      "             MISC: precision:  92.37%; recall:  80.04%; FB1:  85.76  799\n",
      "              ORG: precision:  84.03%; recall:  92.62%; FB1:  88.12  1478\n",
      "              PER: precision:  96.44%; recall:  95.60%; FB1:  96.02  1826\n",
      "\n",
      "CoNLL score test set\n",
      "total 46666, correct 45586, accuracy 0.976857\n",
      "total unknown 1143, correct 1054, accuracy 0.922135\n"
     ]
    },
    {
     "name": "stderr",
     "output_type": "stream",
     "text": [
      "0it [00:00, ?it/s]"
     ]
    },
    {
     "name": "stdout",
     "output_type": "stream",
     "text": [
      "processed 46666 tokens with 5648 phrases; found: 5703 phrases; correct: 5052.\n",
      "accuracy:  97.69%; precision:  88.58%; recall:  89.45%; FB1:  89.01\n",
      "              LOC: precision:  90.13%; recall:  93.65%; FB1:  91.86  1733\n",
      "             MISC: precision:  81.28%; recall:  72.36%; FB1:  76.56  625\n",
      "              ORG: precision:  82.49%; recall:  90.19%; FB1:  86.17  1816\n",
      "              PER: precision:  97.06%; recall:  91.77%; FB1:  94.34  1529\n",
      "\n",
      "Epoch 25/80\n"
     ]
    },
    {
     "name": "stderr",
     "output_type": "stream",
     "text": [
      "76it [00:37,  2.02it/s]\n"
     ]
    },
    {
     "name": "stdout",
     "output_type": "stream",
     "text": [
      "CoNLL score dev set\n",
      "total 51578, correct 50828, accuracy 0.985459\n",
      "total unknown 713, correct 675, accuracy 0.946704\n",
      "processed 51578 tokens with 5942 phrases; found: 5959 phrases; correct: 5510.\n",
      "accuracy:  98.55%; precision:  92.47%; recall:  92.73%; FB1:  92.60\n",
      "              LOC: precision:  96.91%; recall:  95.65%; FB1:  96.27  1813\n",
      "             MISC: precision:  93.15%; recall:  81.13%; FB1:  86.72  803\n",
      "              ORG: precision:  82.93%; recall:  92.02%; FB1:  87.24  1488\n",
      "              PER: precision:  95.47%; recall:  96.15%; FB1:  95.81  1855\n",
      "\n",
      "CoNLL score test set\n",
      "total 46666, correct 45576, accuracy 0.976643\n",
      "total unknown 1143, correct 1061, accuracy 0.928259\n"
     ]
    },
    {
     "name": "stderr",
     "output_type": "stream",
     "text": [
      "0it [00:00, ?it/s]"
     ]
    },
    {
     "name": "stdout",
     "output_type": "stream",
     "text": [
      "processed 46666 tokens with 5648 phrases; found: 5708 phrases; correct: 5065.\n",
      "accuracy:  97.66%; precision:  88.74%; recall:  89.68%; FB1:  89.20\n",
      "              LOC: precision:  92.36%; recall:  92.09%; FB1:  92.22  1663\n",
      "             MISC: precision:  81.94%; recall:  72.36%; FB1:  76.85  620\n",
      "              ORG: precision:  82.04%; recall:  90.49%; FB1:  86.06  1832\n",
      "              PER: precision:  95.29%; recall:  93.88%; FB1:  94.58  1593\n",
      "\n",
      "Epoch 26/80\n"
     ]
    },
    {
     "name": "stderr",
     "output_type": "stream",
     "text": [
      "76it [00:36,  2.06it/s]\n"
     ]
    },
    {
     "name": "stdout",
     "output_type": "stream",
     "text": [
      "CoNLL score dev set\n",
      "total 51578, correct 50933, accuracy 0.987495\n",
      "total unknown 713, correct 684, accuracy 0.959327\n",
      "processed 51578 tokens with 5942 phrases; found: 5964 phrases; correct: 5572.\n",
      "accuracy:  98.75%; precision:  93.43%; recall:  93.77%; FB1:  93.60\n",
      "              LOC: precision:  95.54%; recall:  96.90%; FB1:  96.22  1863\n",
      "             MISC: precision:  90.26%; recall:  86.44%; FB1:  88.31  883\n",
      "              ORG: precision:  88.88%; recall:  91.20%; FB1:  90.03  1376\n",
      "              PER: precision:  96.20%; recall:  96.20%; FB1:  96.20  1842\n",
      "\n",
      "CoNLL score test set\n",
      "total 46666, correct 45617, accuracy 0.977521\n",
      "total unknown 1143, correct 1068, accuracy 0.934383\n"
     ]
    },
    {
     "name": "stderr",
     "output_type": "stream",
     "text": [
      "0it [00:00, ?it/s]"
     ]
    },
    {
     "name": "stdout",
     "output_type": "stream",
     "text": [
      "processed 46666 tokens with 5648 phrases; found: 5705 phrases; correct: 5095.\n",
      "accuracy:  97.75%; precision:  89.31%; recall:  90.21%; FB1:  89.76\n",
      "              LOC: precision:  90.32%; recall:  93.41%; FB1:  91.84  1725\n",
      "             MISC: precision:  78.08%; recall:  77.64%; FB1:  77.86  698\n",
      "              ORG: precision:  86.07%; recall:  89.28%; FB1:  87.65  1723\n",
      "              PER: precision:  96.79%; recall:  93.32%; FB1:  95.03  1559\n",
      "\n",
      "Epoch 27/80\n"
     ]
    },
    {
     "name": "stderr",
     "output_type": "stream",
     "text": [
      "76it [00:38,  1.95it/s]\n"
     ]
    },
    {
     "name": "stdout",
     "output_type": "stream",
     "text": [
      "CoNLL score dev set\n",
      "total 51578, correct 50879, accuracy 0.986448\n",
      "total unknown 713, correct 678, accuracy 0.950912\n",
      "processed 51578 tokens with 5942 phrases; found: 5903 phrases; correct: 5523.\n",
      "accuracy:  98.64%; precision:  93.56%; recall:  92.95%; FB1:  93.25\n",
      "              LOC: precision:  97.34%; recall:  95.70%; FB1:  96.51  1806\n",
      "             MISC: precision:  91.84%; recall:  84.27%; FB1:  87.90  846\n",
      "              ORG: precision:  89.34%; recall:  89.41%; FB1:  89.38  1342\n",
      "              PER: precision:  93.71%; recall:  97.12%; FB1:  95.39  1909\n",
      "\n",
      "CoNLL score test set\n",
      "total 46666, correct 45635, accuracy 0.977907\n",
      "total unknown 1143, correct 1062, accuracy 0.929134\n"
     ]
    },
    {
     "name": "stderr",
     "output_type": "stream",
     "text": [
      "0it [00:00, ?it/s]"
     ]
    },
    {
     "name": "stdout",
     "output_type": "stream",
     "text": [
      "processed 46666 tokens with 5648 phrases; found: 5640 phrases; correct: 5078.\n",
      "accuracy:  97.79%; precision:  90.04%; recall:  89.91%; FB1:  89.97\n",
      "              LOC: precision:  92.97%; recall:  92.03%; FB1:  92.50  1651\n",
      "             MISC: precision:  81.49%; recall:  76.50%; FB1:  78.91  659\n",
      "              ORG: precision:  87.45%; recall:  88.08%; FB1:  87.76  1673\n",
      "              PER: precision:  93.12%; recall:  95.42%; FB1:  94.26  1657\n",
      "\n",
      "Epoch 28/80\n"
     ]
    },
    {
     "name": "stderr",
     "output_type": "stream",
     "text": [
      "76it [00:37,  2.05it/s]\n"
     ]
    },
    {
     "name": "stdout",
     "output_type": "stream",
     "text": [
      "CoNLL score dev set\n",
      "total 51578, correct 50974, accuracy 0.988290\n",
      "total unknown 713, correct 685, accuracy 0.960729\n",
      "processed 51578 tokens with 5942 phrases; found: 5935 phrases; correct: 5594.\n",
      "accuracy:  98.83%; precision:  94.25%; recall:  94.14%; FB1:  94.20\n",
      "              LOC: precision:  97.56%; recall:  95.81%; FB1:  96.68  1804\n",
      "             MISC: precision:  90.17%; recall:  88.50%; FB1:  89.33  905\n",
      "              ORG: precision:  90.90%; recall:  91.65%; FB1:  91.27  1352\n",
      "              PER: precision:  95.46%; recall:  97.12%; FB1:  96.29  1874\n",
      "\n",
      "CoNLL score test set\n",
      "total 46666, correct 45692, accuracy 0.979128\n",
      "total unknown 1143, correct 1072, accuracy 0.937883\n"
     ]
    },
    {
     "name": "stderr",
     "output_type": "stream",
     "text": [
      "0it [00:00, ?it/s]"
     ]
    },
    {
     "name": "stdout",
     "output_type": "stream",
     "text": [
      "processed 46666 tokens with 5648 phrases; found: 5672 phrases; correct: 5123.\n",
      "accuracy:  97.91%; precision:  90.32%; recall:  90.70%; FB1:  90.51\n",
      "              LOC: precision:  92.87%; recall:  92.15%; FB1:  92.51  1655\n",
      "             MISC: precision:  78.97%; recall:  80.77%; FB1:  79.86  718\n",
      "              ORG: precision:  88.01%; recall:  88.86%; FB1:  88.44  1677\n",
      "              PER: precision:  95.13%; recall:  95.42%; FB1:  95.28  1622\n",
      "\n",
      "Epoch 29/80\n"
     ]
    },
    {
     "name": "stderr",
     "output_type": "stream",
     "text": [
      "76it [00:35,  2.17it/s]\n"
     ]
    },
    {
     "name": "stdout",
     "output_type": "stream",
     "text": [
      "CoNLL score dev set\n",
      "total 51578, correct 50855, accuracy 0.985982\n",
      "total unknown 713, correct 675, accuracy 0.946704\n",
      "processed 51578 tokens with 5942 phrases; found: 5928 phrases; correct: 5505.\n",
      "accuracy:  98.60%; precision:  92.86%; recall:  92.65%; FB1:  92.75\n",
      "              LOC: precision:  98.23%; recall:  93.79%; FB1:  95.96  1754\n",
      "             MISC: precision:  90.43%; recall:  86.12%; FB1:  88.22  878\n",
      "              ORG: precision:  83.89%; recall:  92.39%; FB1:  87.93  1477\n",
      "              PER: precision:  96.15%; recall:  94.95%; FB1:  95.55  1819\n",
      "\n",
      "CoNLL score test set\n",
      "total 46666, correct 45564, accuracy 0.976385\n",
      "total unknown 1143, correct 1059, accuracy 0.926509\n"
     ]
    },
    {
     "name": "stderr",
     "output_type": "stream",
     "text": [
      "0it [00:00, ?it/s]"
     ]
    },
    {
     "name": "stdout",
     "output_type": "stream",
     "text": [
      "processed 46666 tokens with 5648 phrases; found: 5668 phrases; correct: 5039.\n",
      "accuracy:  97.64%; precision:  88.90%; recall:  89.22%; FB1:  89.06\n",
      "              LOC: precision:  94.22%; recall:  90.83%; FB1:  92.49  1608\n",
      "             MISC: precision:  79.18%; recall:  77.49%; FB1:  78.33  687\n",
      "              ORG: precision:  81.39%; recall:  91.09%; FB1:  85.97  1859\n",
      "              PER: precision:  96.90%; recall:  90.72%; FB1:  93.71  1514\n",
      "\n",
      "Epoch 30/80\n"
     ]
    },
    {
     "name": "stderr",
     "output_type": "stream",
     "text": [
      "76it [00:35,  2.17it/s]\n"
     ]
    },
    {
     "name": "stdout",
     "output_type": "stream",
     "text": [
      "CoNLL score dev set\n",
      "total 51578, correct 50965, accuracy 0.988115\n",
      "total unknown 713, correct 681, accuracy 0.955119\n",
      "processed 51578 tokens with 5942 phrases; found: 5921 phrases; correct: 5572.\n",
      "accuracy:  98.81%; precision:  94.11%; recall:  93.77%; FB1:  93.94\n",
      "              LOC: precision:  96.77%; recall:  96.30%; FB1:  96.53  1828\n",
      "             MISC: precision:  92.05%; recall:  86.66%; FB1:  89.27  868\n",
      "              ORG: precision:  89.99%; recall:  91.20%; FB1:  90.59  1359\n",
      "              PER: precision:  95.44%; recall:  96.69%; FB1:  96.06  1866\n",
      "\n",
      "CoNLL score test set\n",
      "total 46666, correct 45711, accuracy 0.979535\n",
      "total unknown 1143, correct 1077, accuracy 0.942257\n"
     ]
    },
    {
     "name": "stderr",
     "output_type": "stream",
     "text": [
      "0it [00:00, ?it/s]"
     ]
    },
    {
     "name": "stdout",
     "output_type": "stream",
     "text": [
      "processed 46666 tokens with 5648 phrases; found: 5649 phrases; correct: 5124.\n",
      "accuracy:  97.95%; precision:  90.71%; recall:  90.72%; FB1:  90.71\n",
      "              LOC: precision:  92.17%; recall:  93.11%; FB1:  92.63  1685\n",
      "             MISC: precision:  82.41%; recall:  78.06%; FB1:  80.18  665\n",
      "              ORG: precision:  87.83%; recall:  89.52%; FB1:  88.67  1693\n",
      "              PER: precision:  95.64%; recall:  94.99%; FB1:  95.31  1606\n",
      "\n",
      "Epoch 31/80\n"
     ]
    },
    {
     "name": "stderr",
     "output_type": "stream",
     "text": [
      "76it [00:34,  2.18it/s]\n"
     ]
    },
    {
     "name": "stdout",
     "output_type": "stream",
     "text": [
      "CoNLL score dev set\n",
      "total 51578, correct 50921, accuracy 0.987262\n",
      "total unknown 713, correct 682, accuracy 0.956522\n",
      "processed 51578 tokens with 5942 phrases; found: 5923 phrases; correct: 5559.\n",
      "accuracy:  98.73%; precision:  93.85%; recall:  93.55%; FB1:  93.70\n",
      "              LOC: precision:  96.72%; recall:  96.35%; FB1:  96.54  1830\n",
      "             MISC: precision:  90.17%; recall:  87.53%; FB1:  88.83  895\n",
      "              ORG: precision:  88.70%; recall:  91.35%; FB1:  90.01  1381\n",
      "              PER: precision:  96.70%; recall:  95.39%; FB1:  96.04  1817\n",
      "\n",
      "CoNLL score test set\n",
      "total 46666, correct 45608, accuracy 0.977328\n",
      "total unknown 1143, correct 1072, accuracy 0.937883\n"
     ]
    },
    {
     "name": "stderr",
     "output_type": "stream",
     "text": [
      "0it [00:00, ?it/s]"
     ]
    },
    {
     "name": "stdout",
     "output_type": "stream",
     "text": [
      "processed 46666 tokens with 5648 phrases; found: 5674 phrases; correct: 5078.\n",
      "accuracy:  97.73%; precision:  89.50%; recall:  89.91%; FB1:  89.70\n",
      "              LOC: precision:  91.55%; recall:  92.93%; FB1:  92.23  1693\n",
      "             MISC: precision:  77.73%; recall:  80.06%; FB1:  78.88  723\n",
      "              ORG: precision:  85.43%; recall:  88.62%; FB1:  87.00  1723\n",
      "              PER: precision:  97.33%; recall:  92.39%; FB1:  94.80  1535\n",
      "\n",
      "Epoch 32/80\n"
     ]
    },
    {
     "name": "stderr",
     "output_type": "stream",
     "text": [
      "76it [00:34,  2.21it/s]\n"
     ]
    },
    {
     "name": "stdout",
     "output_type": "stream",
     "text": [
      "CoNLL score dev set\n",
      "total 51578, correct 50955, accuracy 0.987921\n",
      "total unknown 713, correct 678, accuracy 0.950912\n",
      "processed 51578 tokens with 5942 phrases; found: 5936 phrases; correct: 5574.\n",
      "accuracy:  98.79%; precision:  93.90%; recall:  93.81%; FB1:  93.85\n",
      "              LOC: precision:  96.86%; recall:  95.86%; FB1:  96.36  1818\n",
      "             MISC: precision:  88.17%; recall:  89.70%; FB1:  88.92  938\n",
      "              ORG: precision:  90.25%; recall:  91.13%; FB1:  90.69  1354\n",
      "              PER: precision:  96.60%; recall:  95.77%; FB1:  96.18  1826\n",
      "\n",
      "CoNLL score test set\n",
      "total 46666, correct 45646, accuracy 0.978143\n",
      "total unknown 1143, correct 1072, accuracy 0.937883\n"
     ]
    },
    {
     "name": "stderr",
     "output_type": "stream",
     "text": [
      "0it [00:00, ?it/s]"
     ]
    },
    {
     "name": "stdout",
     "output_type": "stream",
     "text": [
      "processed 46666 tokens with 5648 phrases; found: 5675 phrases; correct: 5092.\n",
      "accuracy:  97.81%; precision:  89.73%; recall:  90.16%; FB1:  89.94\n",
      "              LOC: precision:  92.52%; recall:  92.75%; FB1:  92.63  1672\n",
      "             MISC: precision:  74.19%; recall:  81.48%; FB1:  77.66  771\n",
      "              ORG: precision:  87.25%; recall:  88.98%; FB1:  88.11  1694\n",
      "              PER: precision:  97.20%; recall:  92.46%; FB1:  94.77  1538\n",
      "\n",
      "Epoch 33/80\n"
     ]
    },
    {
     "name": "stderr",
     "output_type": "stream",
     "text": [
      "76it [00:34,  2.19it/s]\n"
     ]
    },
    {
     "name": "stdout",
     "output_type": "stream",
     "text": [
      "CoNLL score dev set\n",
      "total 51578, correct 50870, accuracy 0.986273\n",
      "total unknown 713, correct 669, accuracy 0.938289\n",
      "processed 51578 tokens with 5942 phrases; found: 5816 phrases; correct: 5496.\n",
      "accuracy:  98.63%; precision:  94.50%; recall:  92.49%; FB1:  93.49\n",
      "              LOC: precision:  97.59%; recall:  94.94%; FB1:  96.25  1787\n",
      "             MISC: precision:  93.42%; recall:  84.71%; FB1:  88.85  836\n",
      "              ORG: precision:  88.54%; recall:  90.45%; FB1:  89.49  1370\n",
      "              PER: precision:  96.43%; recall:  95.44%; FB1:  95.93  1823\n",
      "\n",
      "CoNLL score test set\n",
      "total 46666, correct 45626, accuracy 0.977714\n",
      "total unknown 1143, correct 1062, accuracy 0.929134\n"
     ]
    },
    {
     "name": "stderr",
     "output_type": "stream",
     "text": [
      "0it [00:00, ?it/s]"
     ]
    },
    {
     "name": "stdout",
     "output_type": "stream",
     "text": [
      "processed 46666 tokens with 5648 phrases; found: 5509 phrases; correct: 5021.\n",
      "accuracy:  97.77%; precision:  91.14%; recall:  88.90%; FB1:  90.01\n",
      "              LOC: precision:  93.87%; recall:  90.83%; FB1:  92.32  1614\n",
      "             MISC: precision:  83.64%; recall:  76.50%; FB1:  79.91  642\n",
      "              ORG: precision:  86.19%; recall:  87.90%; FB1:  87.03  1694\n",
      "              PER: precision:  96.79%; recall:  93.32%; FB1:  95.03  1559\n",
      "\n",
      "Epoch 34/80\n"
     ]
    },
    {
     "name": "stderr",
     "output_type": "stream",
     "text": [
      "76it [00:34,  2.19it/s]\n"
     ]
    },
    {
     "name": "stdout",
     "output_type": "stream",
     "text": [
      "CoNLL score dev set\n",
      "total 51578, correct 50888, accuracy 0.986622\n",
      "total unknown 713, correct 682, accuracy 0.956522\n",
      "processed 51578 tokens with 5942 phrases; found: 5934 phrases; correct: 5539.\n",
      "accuracy:  98.66%; precision:  93.34%; recall:  93.22%; FB1:  93.28\n",
      "              LOC: precision:  96.66%; recall:  96.14%; FB1:  96.40  1827\n",
      "             MISC: precision:  92.79%; recall:  83.73%; FB1:  88.03  832\n",
      "              ORG: precision:  86.33%; recall:  91.80%; FB1:  88.98  1426\n",
      "              PER: precision:  95.73%; recall:  96.09%; FB1:  95.91  1849\n",
      "\n",
      "CoNLL score test set\n",
      "total 46666, correct 45602, accuracy 0.977200\n",
      "total unknown 1143, correct 1065, accuracy 0.931759\n"
     ]
    },
    {
     "name": "stderr",
     "output_type": "stream",
     "text": [
      "0it [00:00, ?it/s]"
     ]
    },
    {
     "name": "stdout",
     "output_type": "stream",
     "text": [
      "processed 46666 tokens with 5648 phrases; found: 5686 phrases; correct: 5086.\n",
      "accuracy:  97.72%; precision:  89.45%; recall:  90.05%; FB1:  89.75\n",
      "              LOC: precision:  92.53%; recall:  92.81%; FB1:  92.67  1673\n",
      "             MISC: precision:  80.53%; recall:  73.08%; FB1:  76.62  637\n",
      "              ORG: precision:  84.13%; recall:  90.31%; FB1:  87.11  1783\n",
      "              PER: precision:  95.73%; recall:  94.31%; FB1:  95.02  1593\n",
      "\n",
      "Epoch 35/80\n"
     ]
    },
    {
     "name": "stderr",
     "output_type": "stream",
     "text": [
      "76it [00:34,  2.18it/s]\n"
     ]
    },
    {
     "name": "stdout",
     "output_type": "stream",
     "text": [
      "CoNLL score dev set\n",
      "total 51578, correct 50893, accuracy 0.986719\n",
      "total unknown 713, correct 679, accuracy 0.952314\n",
      "processed 51578 tokens with 5942 phrases; found: 5923 phrases; correct: 5544.\n",
      "accuracy:  98.67%; precision:  93.60%; recall:  93.30%; FB1:  93.45\n",
      "              LOC: precision:  96.57%; recall:  96.46%; FB1:  96.51  1835\n",
      "             MISC: precision:  92.04%; recall:  85.25%; FB1:  88.51  854\n",
      "              ORG: precision:  86.91%; recall:  91.13%; FB1:  88.97  1406\n",
      "              PER: precision:  96.50%; recall:  95.77%; FB1:  96.13  1828\n",
      "\n",
      "CoNLL score test set\n",
      "total 46666, correct 45565, accuracy 0.976407\n",
      "total unknown 1143, correct 1070, accuracy 0.936133\n"
     ]
    },
    {
     "name": "stderr",
     "output_type": "stream",
     "text": [
      "0it [00:00, ?it/s]"
     ]
    },
    {
     "name": "stdout",
     "output_type": "stream",
     "text": [
      "processed 46666 tokens with 5648 phrases; found: 5671 phrases; correct: 5061.\n",
      "accuracy:  97.64%; precision:  89.24%; recall:  89.61%; FB1:  89.42\n",
      "              LOC: precision:  91.78%; recall:  93.05%; FB1:  92.41  1691\n",
      "             MISC: precision:  80.12%; recall:  76.35%; FB1:  78.19  669\n",
      "              ORG: precision:  83.64%; recall:  88.92%; FB1:  86.20  1766\n",
      "              PER: precision:  96.83%; recall:  92.52%; FB1:  94.62  1545\n",
      "\n",
      "Epoch 36/80\n"
     ]
    },
    {
     "name": "stderr",
     "output_type": "stream",
     "text": [
      "76it [00:34,  2.19it/s]\n"
     ]
    },
    {
     "name": "stdout",
     "output_type": "stream",
     "text": [
      "CoNLL score dev set\n",
      "total 51578, correct 50987, accuracy 0.988542\n",
      "total unknown 713, correct 687, accuracy 0.963534\n",
      "processed 51578 tokens with 5942 phrases; found: 5924 phrases; correct: 5597.\n",
      "accuracy:  98.85%; precision:  94.48%; recall:  94.19%; FB1:  94.34\n",
      "              LOC: precision:  96.67%; recall:  96.46%; FB1:  96.57  1833\n",
      "             MISC: precision:  90.11%; recall:  88.94%; FB1:  89.52  910\n",
      "              ORG: precision:  91.72%; recall:  91.65%; FB1:  91.68  1340\n",
      "              PER: precision:  96.47%; recall:  96.42%; FB1:  96.44  1841\n",
      "\n",
      "CoNLL score test set\n",
      "total 46666, correct 45697, accuracy 0.979235\n",
      "total unknown 1143, correct 1074, accuracy 0.939633\n"
     ]
    },
    {
     "name": "stderr",
     "output_type": "stream",
     "text": [
      "0it [00:00, ?it/s]"
     ]
    },
    {
     "name": "stdout",
     "output_type": "stream",
     "text": [
      "processed 46666 tokens with 5648 phrases; found: 5640 phrases; correct: 5112.\n",
      "accuracy:  97.92%; precision:  90.64%; recall:  90.51%; FB1:  90.57\n",
      "              LOC: precision:  91.54%; recall:  93.47%; FB1:  92.49  1703\n",
      "             MISC: precision:  77.82%; recall:  80.48%; FB1:  79.13  726\n",
      "              ORG: precision:  89.59%; recall:  88.08%; FB1:  88.83  1633\n",
      "              PER: precision:  96.64%; recall:  94.31%; FB1:  95.46  1578\n",
      "\n",
      "Epoch 37/80\n"
     ]
    },
    {
     "name": "stderr",
     "output_type": "stream",
     "text": [
      "76it [00:34,  2.20it/s]\n"
     ]
    },
    {
     "name": "stdout",
     "output_type": "stream",
     "text": [
      "CoNLL score dev set\n",
      "total 51578, correct 50929, accuracy 0.987417\n",
      "total unknown 713, correct 682, accuracy 0.956522\n",
      "processed 51578 tokens with 5942 phrases; found: 5913 phrases; correct: 5551.\n",
      "accuracy:  98.74%; precision:  93.88%; recall:  93.42%; FB1:  93.65\n",
      "              LOC: precision:  94.84%; recall:  97.11%; FB1:  95.97  1881\n",
      "             MISC: precision:  91.07%; recall:  87.42%; FB1:  89.21  885\n",
      "              ORG: precision:  90.34%; recall:  89.93%; FB1:  90.13  1335\n",
      "              PER: precision:  96.85%; recall:  95.28%; FB1:  96.06  1812\n",
      "\n",
      "CoNLL score test set\n",
      "total 46666, correct 45586, accuracy 0.976857\n",
      "total unknown 1143, correct 1064, accuracy 0.930884\n"
     ]
    },
    {
     "name": "stderr",
     "output_type": "stream",
     "text": [
      "0it [00:00, ?it/s]"
     ]
    },
    {
     "name": "stdout",
     "output_type": "stream",
     "text": [
      "processed 46666 tokens with 5648 phrases; found: 5659 phrases; correct: 5053.\n",
      "accuracy:  97.69%; precision:  89.29%; recall:  89.47%; FB1:  89.38\n",
      "              LOC: precision:  88.51%; recall:  94.24%; FB1:  91.29  1776\n",
      "             MISC: precision:  78.97%; recall:  78.63%; FB1:  78.80  699\n",
      "              ORG: precision:  86.92%; recall:  86.45%; FB1:  86.69  1652\n",
      "              PER: precision:  97.45%; recall:  92.33%; FB1:  94.82  1532\n",
      "\n",
      "Epoch 38/80\n"
     ]
    },
    {
     "name": "stderr",
     "output_type": "stream",
     "text": [
      "76it [00:34,  2.19it/s]\n"
     ]
    },
    {
     "name": "stdout",
     "output_type": "stream",
     "text": [
      "CoNLL score dev set\n",
      "total 51578, correct 50957, accuracy 0.987960\n",
      "total unknown 713, correct 681, accuracy 0.955119\n",
      "processed 51578 tokens with 5942 phrases; found: 5920 phrases; correct: 5572.\n",
      "accuracy:  98.80%; precision:  94.12%; recall:  93.77%; FB1:  93.95\n",
      "              LOC: precision:  97.25%; recall:  96.19%; FB1:  96.72  1817\n",
      "             MISC: precision:  92.34%; recall:  86.33%; FB1:  89.24  862\n",
      "              ORG: precision:  88.42%; recall:  92.24%; FB1:  90.29  1399\n",
      "              PER: precision:  96.20%; recall:  96.20%; FB1:  96.20  1842\n",
      "\n",
      "CoNLL score test set\n",
      "total 46666, correct 45637, accuracy 0.977950\n",
      "total unknown 1143, correct 1070, accuracy 0.936133\n"
     ]
    },
    {
     "name": "stderr",
     "output_type": "stream",
     "text": [
      "0it [00:00, ?it/s]"
     ]
    },
    {
     "name": "stdout",
     "output_type": "stream",
     "text": [
      "processed 46666 tokens with 5648 phrases; found: 5664 phrases; correct: 5091.\n",
      "accuracy:  97.79%; precision:  89.88%; recall:  90.14%; FB1:  90.01\n",
      "              LOC: precision:  92.39%; recall:  92.45%; FB1:  92.42  1669\n",
      "             MISC: precision:  80.35%; recall:  77.49%; FB1:  78.90  677\n",
      "              ORG: precision:  85.26%; recall:  89.83%; FB1:  87.48  1750\n",
      "              PER: precision:  96.49%; recall:  93.57%; FB1:  95.01  1568\n",
      "\n",
      "Epoch 39/80\n"
     ]
    },
    {
     "name": "stderr",
     "output_type": "stream",
     "text": [
      "76it [00:34,  2.19it/s]\n"
     ]
    },
    {
     "name": "stdout",
     "output_type": "stream",
     "text": [
      "CoNLL score dev set\n",
      "total 51578, correct 50942, accuracy 0.987669\n",
      "total unknown 713, correct 674, accuracy 0.945302\n",
      "processed 51578 tokens with 5942 phrases; found: 5972 phrases; correct: 5578.\n",
      "accuracy:  98.77%; precision:  93.40%; recall:  93.87%; FB1:  93.64\n",
      "              LOC: precision:  97.33%; recall:  95.32%; FB1:  96.31  1799\n",
      "             MISC: precision:  91.41%; recall:  86.55%; FB1:  88.91  873\n",
      "              ORG: precision:  86.33%; recall:  93.74%; FB1:  89.88  1456\n",
      "              PER: precision:  96.10%; recall:  96.20%; FB1:  96.15  1844\n",
      "\n",
      "CoNLL score test set\n",
      "total 46666, correct 45640, accuracy 0.978014\n",
      "total unknown 1143, correct 1064, accuracy 0.930884\n"
     ]
    },
    {
     "name": "stderr",
     "output_type": "stream",
     "text": [
      "0it [00:00, ?it/s]"
     ]
    },
    {
     "name": "stdout",
     "output_type": "stream",
     "text": [
      "processed 46666 tokens with 5648 phrases; found: 5736 phrases; correct: 5102.\n",
      "accuracy:  97.80%; precision:  88.95%; recall:  90.33%; FB1:  89.63\n",
      "              LOC: precision:  93.98%; recall:  91.67%; FB1:  92.81  1627\n",
      "             MISC: precision:  80.23%; recall:  79.77%; FB1:  80.00  698\n",
      "              ORG: precision:  81.64%; recall:  91.57%; FB1:  86.32  1863\n",
      "              PER: precision:  96.38%; recall:  92.27%; FB1:  94.28  1548\n",
      "\n",
      "Epoch 40/80\n"
     ]
    },
    {
     "name": "stderr",
     "output_type": "stream",
     "text": [
      "76it [00:34,  2.21it/s]\n"
     ]
    },
    {
     "name": "stdout",
     "output_type": "stream",
     "text": [
      "CoNLL score dev set\n",
      "total 51578, correct 51008, accuracy 0.988949\n",
      "total unknown 713, correct 685, accuracy 0.960729\n",
      "processed 51578 tokens with 5942 phrases; found: 5922 phrases; correct: 5600.\n",
      "accuracy:  98.89%; precision:  94.56%; recall:  94.24%; FB1:  94.40\n",
      "              LOC: precision:  97.30%; recall:  96.24%; FB1:  96.77  1817\n",
      "             MISC: precision:  90.73%; recall:  88.07%; FB1:  89.38  895\n",
      "              ORG: precision:  90.36%; recall:  92.99%; FB1:  91.66  1380\n",
      "              PER: precision:  96.89%; recall:  96.25%; FB1:  96.57  1830\n",
      "\n",
      "CoNLL score test set\n",
      "total 46666, correct 45710, accuracy 0.979514\n",
      "total unknown 1143, correct 1070, accuracy 0.936133\n"
     ]
    },
    {
     "name": "stderr",
     "output_type": "stream",
     "text": [
      "0it [00:00, ?it/s]"
     ]
    },
    {
     "name": "stdout",
     "output_type": "stream",
     "text": [
      "processed 46666 tokens with 5648 phrases; found: 5640 phrases; correct: 5111.\n",
      "accuracy:  97.95%; precision:  90.62%; recall:  90.49%; FB1:  90.56\n",
      "              LOC: precision:  92.57%; recall:  92.63%; FB1:  92.60  1669\n",
      "             MISC: precision:  81.01%; recall:  79.63%; FB1:  80.32  690\n",
      "              ORG: precision:  86.71%; recall:  90.31%; FB1:  88.47  1730\n",
      "              PER: precision:  97.16%; recall:  93.20%; FB1:  95.14  1551\n",
      "\n",
      "Epoch 41/80\n"
     ]
    },
    {
     "name": "stderr",
     "output_type": "stream",
     "text": [
      "76it [00:34,  2.19it/s]\n"
     ]
    },
    {
     "name": "stdout",
     "output_type": "stream",
     "text": [
      "CoNLL score dev set\n",
      "total 51578, correct 50999, accuracy 0.988774\n",
      "total unknown 713, correct 685, accuracy 0.960729\n",
      "processed 51578 tokens with 5942 phrases; found: 5928 phrases; correct: 5584.\n",
      "accuracy:  98.88%; precision:  94.20%; recall:  93.98%; FB1:  94.09\n",
      "              LOC: precision:  97.07%; recall:  95.70%; FB1:  96.38  1811\n",
      "             MISC: precision:  91.27%; recall:  88.39%; FB1:  89.81  893\n",
      "              ORG: precision:  89.15%; recall:  92.54%; FB1:  90.82  1392\n",
      "              PER: precision:  96.62%; recall:  96.09%; FB1:  96.35  1832\n",
      "\n",
      "CoNLL score test set\n",
      "total 46666, correct 45707, accuracy 0.979450\n",
      "total unknown 1143, correct 1071, accuracy 0.937008\n"
     ]
    },
    {
     "name": "stderr",
     "output_type": "stream",
     "text": [
      "0it [00:00, ?it/s]"
     ]
    },
    {
     "name": "stdout",
     "output_type": "stream",
     "text": [
      "processed 46666 tokens with 5648 phrases; found: 5650 phrases; correct: 5122.\n",
      "accuracy:  97.94%; precision:  90.65%; recall:  90.69%; FB1:  90.67\n",
      "              LOC: precision:  93.46%; recall:  92.51%; FB1:  92.98  1651\n",
      "             MISC: precision:  80.31%; recall:  80.20%; FB1:  80.26  701\n",
      "              ORG: precision:  86.39%; recall:  90.61%; FB1:  88.45  1742\n",
      "              PER: precision:  97.11%; recall:  93.44%; FB1:  95.24  1556\n",
      "\n",
      "Epoch 42/80\n"
     ]
    },
    {
     "name": "stderr",
     "output_type": "stream",
     "text": [
      "76it [00:34,  2.20it/s]\n"
     ]
    },
    {
     "name": "stdout",
     "output_type": "stream",
     "text": [
      "CoNLL score dev set\n",
      "total 51578, correct 51014, accuracy 0.989065\n",
      "total unknown 713, correct 688, accuracy 0.964937\n",
      "processed 51578 tokens with 5942 phrases; found: 5939 phrases; correct: 5604.\n",
      "accuracy:  98.91%; precision:  94.36%; recall:  94.31%; FB1:  94.34\n",
      "              LOC: precision:  96.67%; recall:  96.52%; FB1:  96.59  1834\n",
      "             MISC: precision:  91.95%; recall:  86.77%; FB1:  89.29  870\n",
      "              ORG: precision:  89.87%; recall:  93.29%; FB1:  91.55  1392\n",
      "              PER: precision:  96.58%; recall:  96.63%; FB1:  96.61  1843\n",
      "\n",
      "CoNLL score test set\n",
      "total 46666, correct 45725, accuracy 0.979835\n",
      "total unknown 1143, correct 1074, accuracy 0.939633\n"
     ]
    },
    {
     "name": "stderr",
     "output_type": "stream",
     "text": [
      "0it [00:00, ?it/s]"
     ]
    },
    {
     "name": "stdout",
     "output_type": "stream",
     "text": [
      "processed 46666 tokens with 5648 phrases; found: 5643 phrases; correct: 5123.\n",
      "accuracy:  97.98%; precision:  90.79%; recall:  90.70%; FB1:  90.74\n",
      "              LOC: precision:  91.56%; recall:  93.05%; FB1:  92.30  1695\n",
      "             MISC: precision:  81.51%; recall:  78.49%; FB1:  79.97  676\n",
      "              ORG: precision:  88.22%; recall:  89.70%; FB1:  88.96  1689\n",
      "              PER: precision:  96.65%; recall:  94.62%; FB1:  95.62  1583\n",
      "\n",
      "Epoch 43/80\n"
     ]
    },
    {
     "name": "stderr",
     "output_type": "stream",
     "text": [
      "76it [00:34,  2.22it/s]\n"
     ]
    },
    {
     "name": "stdout",
     "output_type": "stream",
     "text": [
      "CoNLL score dev set\n",
      "total 51578, correct 51010, accuracy 0.988988\n",
      "total unknown 713, correct 689, accuracy 0.966339\n",
      "processed 51578 tokens with 5942 phrases; found: 5935 phrases; correct: 5603.\n",
      "accuracy:  98.90%; precision:  94.41%; recall:  94.29%; FB1:  94.35\n",
      "              LOC: precision:  97.04%; recall:  96.30%; FB1:  96.67  1823\n",
      "             MISC: precision:  90.70%; recall:  88.83%; FB1:  89.75  903\n",
      "              ORG: precision:  90.22%; recall:  92.17%; FB1:  91.18  1370\n",
      "              PER: precision:  96.74%; recall:  96.58%; FB1:  96.66  1839\n",
      "\n",
      "CoNLL score test set\n",
      "total 46666, correct 45723, accuracy 0.979793\n",
      "total unknown 1143, correct 1085, accuracy 0.949256\n"
     ]
    },
    {
     "name": "stderr",
     "output_type": "stream",
     "text": [
      "0it [00:00, ?it/s]"
     ]
    },
    {
     "name": "stdout",
     "output_type": "stream",
     "text": [
      "processed 46666 tokens with 5648 phrases; found: 5660 phrases; correct: 5133.\n",
      "accuracy:  97.98%; precision:  90.69%; recall:  90.88%; FB1:  90.79\n",
      "              LOC: precision:  91.93%; recall:  93.53%; FB1:  92.72  1697\n",
      "             MISC: precision:  79.55%; recall:  79.77%; FB1:  79.66  704\n",
      "              ORG: precision:  88.47%; recall:  89.64%; FB1:  89.06  1683\n",
      "              PER: precision:  96.70%; recall:  94.25%; FB1:  95.46  1576\n",
      "\n",
      "Epoch 44/80\n"
     ]
    },
    {
     "name": "stderr",
     "output_type": "stream",
     "text": [
      "76it [00:34,  2.20it/s]\n"
     ]
    },
    {
     "name": "stdout",
     "output_type": "stream",
     "text": [
      "CoNLL score dev set\n",
      "total 51578, correct 51014, accuracy 0.989065\n",
      "total unknown 713, correct 687, accuracy 0.963534\n",
      "processed 51578 tokens with 5942 phrases; found: 5898 phrases; correct: 5592.\n",
      "accuracy:  98.91%; precision:  94.81%; recall:  94.11%; FB1:  94.46\n",
      "              LOC: precision:  97.20%; recall:  96.52%; FB1:  96.86  1824\n",
      "             MISC: precision:  91.28%; recall:  88.50%; FB1:  89.87  894\n",
      "              ORG: precision:  91.47%; recall:  91.20%; FB1:  91.34  1337\n",
      "              PER: precision:  96.58%; recall:  96.63%; FB1:  96.61  1843\n",
      "\n",
      "CoNLL score test set\n",
      "total 46666, correct 45680, accuracy 0.978871\n",
      "total unknown 1143, correct 1072, accuracy 0.937883\n"
     ]
    },
    {
     "name": "stderr",
     "output_type": "stream",
     "text": [
      "0it [00:00, ?it/s]"
     ]
    },
    {
     "name": "stdout",
     "output_type": "stream",
     "text": [
      "processed 46666 tokens with 5648 phrases; found: 5633 phrases; correct: 5107.\n",
      "accuracy:  97.89%; precision:  90.66%; recall:  90.42%; FB1:  90.54\n",
      "              LOC: precision:  91.55%; recall:  93.53%; FB1:  92.53  1704\n",
      "             MISC: precision:  79.69%; recall:  79.91%; FB1:  79.80  704\n",
      "              ORG: precision:  88.36%; recall:  87.72%; FB1:  88.04  1649\n",
      "              PER: precision:  97.02%; recall:  94.56%; FB1:  95.77  1576\n",
      "\n",
      "Epoch 45/80\n"
     ]
    },
    {
     "name": "stderr",
     "output_type": "stream",
     "text": [
      "76it [00:34,  2.19it/s]\n"
     ]
    },
    {
     "name": "stdout",
     "output_type": "stream",
     "text": [
      "CoNLL score dev set\n",
      "total 51578, correct 51008, accuracy 0.988949\n",
      "total unknown 713, correct 686, accuracy 0.962132\n",
      "processed 51578 tokens with 5942 phrases; found: 5911 phrases; correct: 5596.\n",
      "accuracy:  98.89%; precision:  94.67%; recall:  94.18%; FB1:  94.42\n",
      "              LOC: precision:  97.26%; recall:  96.57%; FB1:  96.91  1824\n",
      "             MISC: precision:  90.32%; recall:  89.05%; FB1:  89.68  909\n",
      "              ORG: precision:  91.41%; recall:  91.28%; FB1:  91.34  1339\n",
      "              PER: precision:  96.63%; recall:  96.47%; FB1:  96.55  1839\n",
      "\n",
      "CoNLL score test set\n",
      "total 46666, correct 45720, accuracy 0.979728\n",
      "total unknown 1143, correct 1079, accuracy 0.944007\n"
     ]
    },
    {
     "name": "stderr",
     "output_type": "stream",
     "text": [
      "0it [00:00, ?it/s]"
     ]
    },
    {
     "name": "stdout",
     "output_type": "stream",
     "text": [
      "processed 46666 tokens with 5648 phrases; found: 5622 phrases; correct: 5114.\n",
      "accuracy:  97.97%; precision:  90.96%; recall:  90.55%; FB1:  90.75\n",
      "              LOC: precision:  91.65%; recall:  93.41%; FB1:  92.52  1700\n",
      "             MISC: precision:  80.03%; recall:  79.91%; FB1:  79.97  701\n",
      "              ORG: precision:  89.23%; recall:  88.26%; FB1:  88.74  1643\n",
      "              PER: precision:  96.89%; recall:  94.56%; FB1:  95.71  1578\n",
      "\n",
      "Epoch 46/80\n"
     ]
    },
    {
     "name": "stderr",
     "output_type": "stream",
     "text": [
      "76it [00:34,  2.21it/s]\n"
     ]
    },
    {
     "name": "stdout",
     "output_type": "stream",
     "text": [
      "CoNLL score dev set\n",
      "total 51578, correct 51001, accuracy 0.988813\n",
      "total unknown 713, correct 687, accuracy 0.963534\n",
      "processed 51578 tokens with 5942 phrases; found: 5914 phrases; correct: 5593.\n",
      "accuracy:  98.88%; precision:  94.57%; recall:  94.13%; FB1:  94.35\n",
      "              LOC: precision:  96.67%; recall:  96.52%; FB1:  96.59  1834\n",
      "             MISC: precision:  90.83%; recall:  88.07%; FB1:  89.43  894\n",
      "              ORG: precision:  91.35%; recall:  92.10%; FB1:  91.72  1352\n",
      "              PER: precision:  96.67%; recall:  96.25%; FB1:  96.46  1834\n",
      "\n",
      "CoNLL score test set\n",
      "total 46666, correct 45667, accuracy 0.978593\n",
      "total unknown 1143, correct 1066, accuracy 0.932633\n"
     ]
    },
    {
     "name": "stderr",
     "output_type": "stream",
     "text": [
      "0it [00:00, ?it/s]"
     ]
    },
    {
     "name": "stdout",
     "output_type": "stream",
     "text": [
      "processed 46666 tokens with 5648 phrases; found: 5633 phrases; correct: 5082.\n",
      "accuracy:  97.86%; precision:  90.22%; recall:  89.98%; FB1:  90.10\n",
      "              LOC: precision:  91.58%; recall:  93.23%; FB1:  92.39  1698\n",
      "             MISC: precision:  79.59%; recall:  78.35%; FB1:  78.97  691\n",
      "              ORG: precision:  87.06%; recall:  88.68%; FB1:  87.86  1692\n",
      "              PER: precision:  96.91%; recall:  93.01%; FB1:  94.92  1552\n",
      "\n",
      "Epoch 47/80\n"
     ]
    },
    {
     "name": "stderr",
     "output_type": "stream",
     "text": [
      "76it [00:34,  2.20it/s]\n"
     ]
    },
    {
     "name": "stdout",
     "output_type": "stream",
     "text": [
      "CoNLL score dev set\n",
      "total 51578, correct 51005, accuracy 0.988891\n",
      "total unknown 713, correct 683, accuracy 0.957924\n",
      "processed 51578 tokens with 5942 phrases; found: 5928 phrases; correct: 5591.\n",
      "accuracy:  98.89%; precision:  94.32%; recall:  94.09%; FB1:  94.20\n",
      "              LOC: precision:  96.97%; recall:  95.86%; FB1:  96.41  1816\n",
      "             MISC: precision:  92.83%; recall:  85.68%; FB1:  89.11  851\n",
      "              ORG: precision:  88.61%; recall:  93.44%; FB1:  90.96  1414\n",
      "              PER: precision:  96.75%; recall:  97.01%; FB1:  96.88  1847\n",
      "\n",
      "CoNLL score test set\n",
      "total 46666, correct 45715, accuracy 0.979621\n",
      "total unknown 1143, correct 1070, accuracy 0.936133\n"
     ]
    },
    {
     "name": "stderr",
     "output_type": "stream",
     "text": [
      "0it [00:00, ?it/s]"
     ]
    },
    {
     "name": "stdout",
     "output_type": "stream",
     "text": [
      "processed 46666 tokens with 5648 phrases; found: 5651 phrases; correct: 5104.\n",
      "accuracy:  97.96%; precision:  90.32%; recall:  90.37%; FB1:  90.34\n",
      "              LOC: precision:  93.12%; recall:  92.45%; FB1:  92.78  1656\n",
      "             MISC: precision:  83.28%; recall:  75.21%; FB1:  79.04  634\n",
      "              ORG: precision:  84.18%; recall:  91.33%; FB1:  87.61  1802\n",
      "              PER: precision:  97.31%; recall:  93.82%; FB1:  95.53  1559\n",
      "\n",
      "Epoch 48/80\n"
     ]
    },
    {
     "name": "stderr",
     "output_type": "stream",
     "text": [
      "76it [00:34,  2.20it/s]\n"
     ]
    },
    {
     "name": "stdout",
     "output_type": "stream",
     "text": [
      "CoNLL score dev set\n",
      "total 51578, correct 51006, accuracy 0.988910\n",
      "total unknown 713, correct 681, accuracy 0.955119\n",
      "processed 51578 tokens with 5942 phrases; found: 5919 phrases; correct: 5588.\n",
      "accuracy:  98.89%; precision:  94.41%; recall:  94.04%; FB1:  94.22\n",
      "              LOC: precision:  95.91%; recall:  96.90%; FB1:  96.40  1856\n",
      "             MISC: precision:  89.29%; recall:  89.48%; FB1:  89.38  924\n",
      "              ORG: precision:  92.04%; recall:  91.35%; FB1:  91.69  1331\n",
      "              PER: precision:  97.23%; recall:  95.44%; FB1:  96.33  1808\n",
      "\n",
      "CoNLL score test set\n",
      "total 46666, correct 45658, accuracy 0.978400\n",
      "total unknown 1143, correct 1073, accuracy 0.938758\n"
     ]
    },
    {
     "name": "stderr",
     "output_type": "stream",
     "text": [
      "0it [00:00, ?it/s]"
     ]
    },
    {
     "name": "stdout",
     "output_type": "stream",
     "text": [
      "processed 46666 tokens with 5648 phrases; found: 5637 phrases; correct: 5088.\n",
      "accuracy:  97.84%; precision:  90.26%; recall:  90.08%; FB1:  90.17\n",
      "              LOC: precision:  90.28%; recall:  94.12%; FB1:  92.16  1739\n",
      "             MISC: precision:  78.67%; recall:  80.91%; FB1:  79.78  722\n",
      "              ORG: precision:  88.45%; recall:  88.08%; FB1:  88.27  1654\n",
      "              PER: precision:  97.70%; recall:  91.96%; FB1:  94.74  1522\n",
      "\n",
      "Epoch 49/80\n"
     ]
    },
    {
     "name": "stderr",
     "output_type": "stream",
     "text": [
      "76it [00:34,  2.19it/s]\n"
     ]
    },
    {
     "name": "stdout",
     "output_type": "stream",
     "text": [
      "CoNLL score dev set\n",
      "total 51578, correct 51020, accuracy 0.989181\n",
      "total unknown 713, correct 683, accuracy 0.957924\n",
      "processed 51578 tokens with 5942 phrases; found: 5901 phrases; correct: 5593.\n",
      "accuracy:  98.92%; precision:  94.78%; recall:  94.13%; FB1:  94.45\n",
      "              LOC: precision:  97.09%; recall:  96.35%; FB1:  96.72  1823\n",
      "             MISC: precision:  91.23%; recall:  87.96%; FB1:  89.56  889\n",
      "              ORG: precision:  92.02%; recall:  91.13%; FB1:  91.57  1328\n",
      "              PER: precision:  96.18%; recall:  97.18%; FB1:  96.68  1861\n",
      "\n",
      "CoNLL score test set\n",
      "total 46666, correct 45747, accuracy 0.980307\n",
      "total unknown 1143, correct 1087, accuracy 0.951006\n"
     ]
    },
    {
     "name": "stderr",
     "output_type": "stream",
     "text": [
      "0it [00:00, ?it/s]"
     ]
    },
    {
     "name": "stdout",
     "output_type": "stream",
     "text": [
      "processed 46666 tokens with 5648 phrases; found: 5618 phrases; correct: 5120.\n",
      "accuracy:  98.03%; precision:  91.14%; recall:  90.65%; FB1:  90.89\n",
      "              LOC: precision:  91.34%; recall:  93.59%; FB1:  92.45  1709\n",
      "             MISC: precision:  80.74%; recall:  80.63%; FB1:  80.68  701\n",
      "              ORG: precision:  90.43%; recall:  87.60%; FB1:  88.99  1609\n",
      "              PER: precision:  96.19%; recall:  95.11%; FB1:  95.65  1599\n",
      "\n",
      "Epoch 50/80\n"
     ]
    },
    {
     "name": "stderr",
     "output_type": "stream",
     "text": [
      "76it [00:34,  2.20it/s]\n"
     ]
    },
    {
     "name": "stdout",
     "output_type": "stream",
     "text": [
      "CoNLL score dev set\n",
      "total 51578, correct 50984, accuracy 0.988483\n",
      "total unknown 713, correct 681, accuracy 0.955119\n",
      "processed 51578 tokens with 5942 phrases; found: 5877 phrases; correct: 5566.\n",
      "accuracy:  98.85%; precision:  94.71%; recall:  93.67%; FB1:  94.19\n",
      "              LOC: precision:  96.88%; recall:  96.35%; FB1:  96.62  1827\n",
      "             MISC: precision:  90.34%; recall:  89.26%; FB1:  89.80  911\n",
      "              ORG: precision:  91.44%; recall:  90.01%; FB1:  90.72  1320\n",
      "              PER: precision:  97.09%; recall:  95.87%; FB1:  96.48  1819\n",
      "\n",
      "CoNLL score test set\n",
      "total 46666, correct 45653, accuracy 0.978293\n",
      "total unknown 1143, correct 1068, accuracy 0.934383\n"
     ]
    },
    {
     "name": "stderr",
     "output_type": "stream",
     "text": [
      "0it [00:00, ?it/s]"
     ]
    },
    {
     "name": "stdout",
     "output_type": "stream",
     "text": [
      "processed 46666 tokens with 5648 phrases; found: 5589 phrases; correct: 5077.\n",
      "accuracy:  97.83%; precision:  90.84%; recall:  89.89%; FB1:  90.36\n",
      "              LOC: precision:  91.43%; recall:  93.41%; FB1:  92.41  1704\n",
      "             MISC: precision:  78.89%; recall:  80.91%; FB1:  79.89  720\n",
      "              ORG: precision:  89.21%; recall:  86.57%; FB1:  87.87  1612\n",
      "              PER: precision:  97.42%; recall:  93.57%; FB1:  95.46  1553\n",
      "\n",
      "Epoch 51/80\n"
     ]
    },
    {
     "name": "stderr",
     "output_type": "stream",
     "text": [
      "76it [00:34,  2.19it/s]\n"
     ]
    },
    {
     "name": "stdout",
     "output_type": "stream",
     "text": [
      "CoNLL score dev set\n",
      "total 51578, correct 51030, accuracy 0.989375\n",
      "total unknown 713, correct 688, accuracy 0.964937\n",
      "processed 51578 tokens with 5942 phrases; found: 5915 phrases; correct: 5608.\n",
      "accuracy:  98.94%; precision:  94.81%; recall:  94.38%; FB1:  94.59\n",
      "              LOC: precision:  96.94%; recall:  96.52%; FB1:  96.73  1829\n",
      "             MISC: precision:  91.34%; recall:  88.07%; FB1:  89.67  889\n",
      "              ORG: precision:  91.12%; recall:  92.62%; FB1:  91.86  1363\n",
      "              PER: precision:  97.11%; recall:  96.69%; FB1:  96.90  1834\n",
      "\n",
      "CoNLL score test set\n",
      "total 46666, correct 45745, accuracy 0.980264\n",
      "total unknown 1143, correct 1081, accuracy 0.945757\n"
     ]
    },
    {
     "name": "stderr",
     "output_type": "stream",
     "text": [
      "0it [00:00, ?it/s]"
     ]
    },
    {
     "name": "stdout",
     "output_type": "stream",
     "text": [
      "processed 46666 tokens with 5648 phrases; found: 5646 phrases; correct: 5130.\n",
      "accuracy:  98.03%; precision:  90.86%; recall:  90.83%; FB1:  90.84\n",
      "              LOC: precision:  91.93%; recall:  93.53%; FB1:  92.72  1697\n",
      "             MISC: precision:  80.86%; recall:  80.06%; FB1:  80.46  695\n",
      "              ORG: precision:  87.97%; recall:  89.34%; FB1:  88.65  1687\n",
      "              PER: precision:  97.26%; recall:  94.25%; FB1:  95.73  1567\n",
      "\n",
      "Epoch 52/80\n"
     ]
    },
    {
     "name": "stderr",
     "output_type": "stream",
     "text": [
      "76it [00:35,  2.17it/s]\n"
     ]
    },
    {
     "name": "stdout",
     "output_type": "stream",
     "text": [
      "CoNLL score dev set\n",
      "total 51578, correct 51017, accuracy 0.989123\n",
      "total unknown 713, correct 685, accuracy 0.960729\n",
      "processed 51578 tokens with 5942 phrases; found: 5937 phrases; correct: 5605.\n",
      "accuracy:  98.91%; precision:  94.41%; recall:  94.33%; FB1:  94.37\n",
      "              LOC: precision:  97.30%; recall:  96.03%; FB1:  96.66  1813\n",
      "             MISC: precision:  90.19%; recall:  88.72%; FB1:  89.45  907\n",
      "              ORG: precision:  90.23%; recall:  92.32%; FB1:  91.26  1372\n",
      "              PER: precision:  96.75%; recall:  96.91%; FB1:  96.83  1845\n",
      "\n",
      "CoNLL score test set\n",
      "total 46666, correct 45748, accuracy 0.980328\n",
      "total unknown 1143, correct 1073, accuracy 0.938758\n"
     ]
    },
    {
     "name": "stderr",
     "output_type": "stream",
     "text": [
      "0it [00:00, ?it/s]"
     ]
    },
    {
     "name": "stdout",
     "output_type": "stream",
     "text": [
      "processed 46666 tokens with 5648 phrases; found: 5658 phrases; correct: 5134.\n",
      "accuracy:  98.03%; precision:  90.74%; recall:  90.90%; FB1:  90.82\n",
      "              LOC: precision:  92.55%; recall:  93.11%; FB1:  92.83  1678\n",
      "             MISC: precision:  80.99%; recall:  79.49%; FB1:  80.23  689\n",
      "              ORG: precision:  87.16%; recall:  90.31%; FB1:  88.70  1721\n",
      "              PER: precision:  97.01%; recall:  94.19%; FB1:  95.58  1570\n",
      "\n",
      "Epoch 53/80\n"
     ]
    },
    {
     "name": "stderr",
     "output_type": "stream",
     "text": [
      "76it [00:34,  2.23it/s]\n"
     ]
    },
    {
     "name": "stdout",
     "output_type": "stream",
     "text": [
      "CoNLL score dev set\n",
      "total 51578, correct 50993, accuracy 0.988658\n",
      "total unknown 713, correct 683, accuracy 0.957924\n",
      "processed 51578 tokens with 5942 phrases; found: 5938 phrases; correct: 5590.\n",
      "accuracy:  98.87%; precision:  94.14%; recall:  94.08%; FB1:  94.11\n",
      "              LOC: precision:  97.03%; recall:  96.03%; FB1:  96.53  1818\n",
      "             MISC: precision:  90.48%; recall:  88.61%; FB1:  89.53  903\n",
      "              ORG: precision:  89.52%; recall:  92.39%; FB1:  90.94  1384\n",
      "              PER: precision:  96.56%; recall:  96.09%; FB1:  96.33  1833\n",
      "\n",
      "CoNLL score test set\n",
      "total 46666, correct 45667, accuracy 0.978593\n",
      "total unknown 1143, correct 1072, accuracy 0.937883\n"
     ]
    },
    {
     "name": "stderr",
     "output_type": "stream",
     "text": [
      "0it [00:00, ?it/s]"
     ]
    },
    {
     "name": "stdout",
     "output_type": "stream",
     "text": [
      "processed 46666 tokens with 5648 phrases; found: 5648 phrases; correct: 5104.\n",
      "accuracy:  97.86%; precision:  90.37%; recall:  90.37%; FB1:  90.37\n",
      "              LOC: precision:  92.68%; recall:  92.57%; FB1:  92.62  1666\n",
      "             MISC: precision:  79.35%; recall:  79.91%; FB1:  79.63  707\n",
      "              ORG: precision:  86.61%; recall:  89.58%; FB1:  88.07  1718\n",
      "              PER: precision:  97.05%; recall:  93.44%; FB1:  95.21  1557\n",
      "\n",
      "Epoch 54/80\n"
     ]
    },
    {
     "name": "stderr",
     "output_type": "stream",
     "text": [
      "76it [00:34,  2.23it/s]\n"
     ]
    },
    {
     "name": "stdout",
     "output_type": "stream",
     "text": [
      "CoNLL score dev set\n",
      "total 51578, correct 51036, accuracy 0.989492\n",
      "total unknown 713, correct 685, accuracy 0.960729\n",
      "processed 51578 tokens with 5942 phrases; found: 5944 phrases; correct: 5618.\n",
      "accuracy:  98.95%; precision:  94.52%; recall:  94.55%; FB1:  94.53\n",
      "              LOC: precision:  96.83%; recall:  96.52%; FB1:  96.67  1831\n",
      "             MISC: precision:  88.08%; recall:  90.56%; FB1:  89.30  948\n",
      "              ORG: precision:  93.46%; recall:  90.53%; FB1:  91.97  1299\n",
      "              PER: precision:  96.25%; recall:  97.50%; FB1:  96.87  1866\n",
      "\n",
      "CoNLL score test set\n",
      "total 46666, correct 45734, accuracy 0.980028\n",
      "total unknown 1143, correct 1078, accuracy 0.943132\n"
     ]
    },
    {
     "name": "stderr",
     "output_type": "stream",
     "text": [
      "0it [00:00, ?it/s]"
     ]
    },
    {
     "name": "stdout",
     "output_type": "stream",
     "text": [
      "processed 46666 tokens with 5648 phrases; found: 5655 phrases; correct: 5131.\n",
      "accuracy:  98.00%; precision:  90.73%; recall:  90.85%; FB1:  90.79\n",
      "              LOC: precision:  91.92%; recall:  93.47%; FB1:  92.69  1696\n",
      "             MISC: precision:  76.55%; recall:  82.76%; FB1:  79.53  759\n",
      "              ORG: precision:  90.68%; recall:  87.24%; FB1:  88.92  1598\n",
      "              PER: precision:  96.25%; recall:  95.36%; FB1:  95.81  1602\n",
      "\n",
      "Epoch 55/80\n"
     ]
    },
    {
     "name": "stderr",
     "output_type": "stream",
     "text": [
      "76it [00:34,  2.23it/s]\n"
     ]
    },
    {
     "name": "stdout",
     "output_type": "stream",
     "text": [
      "CoNLL score dev set\n",
      "total 51578, correct 51048, accuracy 0.989724\n",
      "total unknown 713, correct 693, accuracy 0.971950\n",
      "processed 51578 tokens with 5942 phrases; found: 5959 phrases; correct: 5643.\n",
      "accuracy:  98.97%; precision:  94.70%; recall:  94.97%; FB1:  94.83\n",
      "              LOC: precision:  96.84%; recall:  96.79%; FB1:  96.81  1836\n",
      "             MISC: precision:  89.95%; recall:  89.26%; FB1:  89.60  915\n",
      "              ORG: precision:  91.96%; recall:  92.99%; FB1:  92.47  1356\n",
      "              PER: precision:  96.92%; recall:  97.45%; FB1:  97.18  1852\n",
      "\n",
      "CoNLL score test set\n",
      "total 46666, correct 45744, accuracy 0.980243\n",
      "total unknown 1143, correct 1074, accuracy 0.939633\n"
     ]
    },
    {
     "name": "stderr",
     "output_type": "stream",
     "text": [
      "0it [00:00, ?it/s]"
     ]
    },
    {
     "name": "stdout",
     "output_type": "stream",
     "text": [
      "processed 46666 tokens with 5648 phrases; found: 5666 phrases; correct: 5143.\n",
      "accuracy:  98.02%; precision:  90.77%; recall:  91.06%; FB1:  90.91\n",
      "              LOC: precision:  92.09%; recall:  93.59%; FB1:  92.83  1695\n",
      "             MISC: precision:  79.35%; recall:  80.48%; FB1:  79.92  712\n",
      "              ORG: precision:  88.82%; recall:  89.46%; FB1:  89.14  1673\n",
      "              PER: precision:  96.53%; recall:  94.68%; FB1:  95.60  1586\n",
      "\n",
      "Epoch 56/80\n"
     ]
    },
    {
     "name": "stderr",
     "output_type": "stream",
     "text": [
      "76it [00:34,  2.20it/s]\n"
     ]
    },
    {
     "name": "stdout",
     "output_type": "stream",
     "text": [
      "CoNLL score dev set\n",
      "total 51578, correct 50977, accuracy 0.988348\n",
      "total unknown 713, correct 676, accuracy 0.948107\n",
      "processed 51578 tokens with 5942 phrases; found: 5950 phrases; correct: 5572.\n",
      "accuracy:  98.83%; precision:  93.65%; recall:  93.77%; FB1:  93.71\n",
      "              LOC: precision:  98.07%; recall:  94.12%; FB1:  96.06  1763\n",
      "             MISC: precision:  91.79%; recall:  87.31%; FB1:  89.49  877\n",
      "              ORG: precision:  85.17%; recall:  93.81%; FB1:  89.28  1477\n",
      "              PER: precision:  97.11%; recall:  96.63%; FB1:  96.87  1833\n",
      "\n",
      "CoNLL score test set\n",
      "total 46666, correct 45694, accuracy 0.979171\n",
      "total unknown 1143, correct 1060, accuracy 0.927384\n"
     ]
    },
    {
     "name": "stderr",
     "output_type": "stream",
     "text": [
      "0it [00:00, ?it/s]"
     ]
    },
    {
     "name": "stdout",
     "output_type": "stream",
     "text": [
      "processed 46666 tokens with 5648 phrases; found: 5665 phrases; correct: 5091.\n",
      "accuracy:  97.92%; precision:  89.87%; recall:  90.14%; FB1:  90.00\n",
      "              LOC: precision:  94.61%; recall:  91.61%; FB1:  93.09  1615\n",
      "             MISC: precision:  82.56%; recall:  78.92%; FB1:  80.70  671\n",
      "              ORG: precision:  82.16%; recall:  91.51%; FB1:  86.59  1850\n",
      "              PER: precision:  97.38%; recall:  92.08%; FB1:  94.66  1529\n",
      "\n",
      "Epoch 57/80\n"
     ]
    },
    {
     "name": "stderr",
     "output_type": "stream",
     "text": [
      "76it [00:34,  2.22it/s]\n"
     ]
    },
    {
     "name": "stdout",
     "output_type": "stream",
     "text": [
      "CoNLL score dev set\n",
      "total 51578, correct 50999, accuracy 0.988774\n",
      "total unknown 713, correct 688, accuracy 0.964937\n",
      "processed 51578 tokens with 5942 phrases; found: 5917 phrases; correct: 5589.\n",
      "accuracy:  98.88%; precision:  94.46%; recall:  94.06%; FB1:  94.26\n",
      "              LOC: precision:  95.91%; recall:  97.01%; FB1:  96.45  1858\n",
      "             MISC: precision:  89.78%; recall:  88.61%; FB1:  89.19  910\n",
      "              ORG: precision:  91.86%; recall:  90.83%; FB1:  91.34  1326\n",
      "              PER: precision:  97.20%; recall:  96.20%; FB1:  96.70  1823\n",
      "\n",
      "CoNLL score test set\n",
      "total 46666, correct 45718, accuracy 0.979685\n",
      "total unknown 1143, correct 1074, accuracy 0.939633\n"
     ]
    },
    {
     "name": "stderr",
     "output_type": "stream",
     "text": [
      "0it [00:00, ?it/s]"
     ]
    },
    {
     "name": "stdout",
     "output_type": "stream",
     "text": [
      "processed 46666 tokens with 5648 phrases; found: 5635 phrases; correct: 5113.\n",
      "accuracy:  97.97%; precision:  90.74%; recall:  90.53%; FB1:  90.63\n",
      "              LOC: precision:  90.42%; recall:  94.54%; FB1:  92.44  1744\n",
      "             MISC: precision:  80.23%; recall:  80.34%; FB1:  80.28  703\n",
      "              ORG: precision:  89.54%; recall:  88.14%; FB1:  88.83  1635\n",
      "              PER: precision:  97.10%; recall:  93.26%; FB1:  95.14  1553\n",
      "\n",
      "Epoch 58/80\n"
     ]
    },
    {
     "name": "stderr",
     "output_type": "stream",
     "text": [
      "76it [00:34,  2.19it/s]\n"
     ]
    },
    {
     "name": "stdout",
     "output_type": "stream",
     "text": [
      "CoNLL score dev set\n",
      "total 51578, correct 51030, accuracy 0.989375\n",
      "total unknown 713, correct 687, accuracy 0.963534\n",
      "processed 51578 tokens with 5942 phrases; found: 5897 phrases; correct: 5603.\n",
      "accuracy:  98.94%; precision:  95.01%; recall:  94.29%; FB1:  94.65\n",
      "              LOC: precision:  97.04%; recall:  96.52%; FB1:  96.78  1827\n",
      "             MISC: precision:  89.82%; recall:  89.05%; FB1:  89.43  914\n",
      "              ORG: precision:  92.88%; recall:  91.42%; FB1:  92.15  1320\n",
      "              PER: precision:  97.11%; recall:  96.80%; FB1:  96.95  1836\n",
      "\n",
      "CoNLL score test set\n",
      "total 46666, correct 45749, accuracy 0.980350\n",
      "total unknown 1143, correct 1081, accuracy 0.945757\n"
     ]
    },
    {
     "name": "stderr",
     "output_type": "stream",
     "text": [
      "0it [00:00, ?it/s]"
     ]
    },
    {
     "name": "stdout",
     "output_type": "stream",
     "text": [
      "processed 46666 tokens with 5648 phrases; found: 5608 phrases; correct: 5122.\n",
      "accuracy:  98.03%; precision:  91.33%; recall:  90.69%; FB1:  91.01\n",
      "              LOC: precision:  91.60%; recall:  94.18%; FB1:  92.88  1715\n",
      "             MISC: precision:  79.58%; recall:  81.62%; FB1:  80.59  720\n",
      "              ORG: precision:  90.65%; recall:  87.54%; FB1:  89.07  1604\n",
      "              PER: precision:  97.13%; recall:  94.25%; FB1:  95.67  1569\n",
      "\n",
      "Epoch 59/80\n"
     ]
    },
    {
     "name": "stderr",
     "output_type": "stream",
     "text": [
      "76it [00:34,  2.21it/s]\n"
     ]
    },
    {
     "name": "stdout",
     "output_type": "stream",
     "text": [
      "CoNLL score dev set\n",
      "total 51578, correct 51014, accuracy 0.989065\n",
      "total unknown 713, correct 684, accuracy 0.959327\n",
      "processed 51578 tokens with 5942 phrases; found: 5907 phrases; correct: 5600.\n",
      "accuracy:  98.91%; precision:  94.80%; recall:  94.24%; FB1:  94.52\n",
      "              LOC: precision:  97.21%; recall:  96.68%; FB1:  96.94  1827\n",
      "             MISC: precision:  89.32%; recall:  88.94%; FB1:  89.13  918\n",
      "              ORG: precision:  93.38%; recall:  90.53%; FB1:  91.93  1300\n",
      "              PER: precision:  96.13%; recall:  97.18%; FB1:  96.65  1862\n",
      "\n",
      "CoNLL score test set\n",
      "total 46666, correct 45734, accuracy 0.980028\n",
      "total unknown 1143, correct 1076, accuracy 0.941382\n"
     ]
    },
    {
     "name": "stderr",
     "output_type": "stream",
     "text": [
      "0it [00:00, ?it/s]"
     ]
    },
    {
     "name": "stdout",
     "output_type": "stream",
     "text": [
      "processed 46666 tokens with 5648 phrases; found: 5615 phrases; correct: 5126.\n",
      "accuracy:  98.00%; precision:  91.29%; recall:  90.76%; FB1:  91.02\n",
      "              LOC: precision:  92.06%; recall:  93.82%; FB1:  92.93  1700\n",
      "             MISC: precision:  79.47%; recall:  81.62%; FB1:  80.53  721\n",
      "              ORG: precision:  91.12%; recall:  87.12%; FB1:  89.07  1588\n",
      "              PER: precision:  95.95%; recall:  95.30%; FB1:  95.63  1606\n",
      "\n",
      "Epoch 60/80\n"
     ]
    },
    {
     "name": "stderr",
     "output_type": "stream",
     "text": [
      "76it [00:34,  2.20it/s]\n"
     ]
    },
    {
     "name": "stdout",
     "output_type": "stream",
     "text": [
      "CoNLL score dev set\n",
      "total 51578, correct 51020, accuracy 0.989181\n",
      "total unknown 713, correct 686, accuracy 0.962132\n",
      "processed 51578 tokens with 5942 phrases; found: 5899 phrases; correct: 5604.\n",
      "accuracy:  98.92%; precision:  95.00%; recall:  94.31%; FB1:  94.65\n",
      "              LOC: precision:  97.57%; recall:  96.14%; FB1:  96.85  1810\n",
      "             MISC: precision:  91.83%; recall:  87.74%; FB1:  89.74  881\n",
      "              ORG: precision:  91.15%; recall:  92.92%; FB1:  92.02  1367\n",
      "              PER: precision:  96.85%; recall:  96.80%; FB1:  96.82  1841\n",
      "\n",
      "CoNLL score test set\n",
      "total 46666, correct 45758, accuracy 0.980543\n",
      "total unknown 1143, correct 1077, accuracy 0.942257\n"
     ]
    },
    {
     "name": "stderr",
     "output_type": "stream",
     "text": [
      "0it [00:00, ?it/s]"
     ]
    },
    {
     "name": "stdout",
     "output_type": "stream",
     "text": [
      "processed 46666 tokens with 5648 phrases; found: 5617 phrases; correct: 5131.\n",
      "accuracy:  98.05%; precision:  91.35%; recall:  90.85%; FB1:  91.10\n",
      "              LOC: precision:  93.09%; recall:  92.87%; FB1:  92.98  1664\n",
      "             MISC: precision:  81.29%; recall:  80.48%; FB1:  80.89  695\n",
      "              ORG: precision:  88.47%; recall:  89.64%; FB1:  89.06  1683\n",
      "              PER: precision:  97.02%; recall:  94.50%; FB1:  95.74  1575\n",
      "\n",
      "Epoch 61/80\n"
     ]
    },
    {
     "name": "stderr",
     "output_type": "stream",
     "text": [
      "76it [00:34,  2.21it/s]\n"
     ]
    },
    {
     "name": "stdout",
     "output_type": "stream",
     "text": [
      "CoNLL score dev set\n",
      "total 51578, correct 51065, accuracy 0.990054\n",
      "total unknown 713, correct 688, accuracy 0.964937\n",
      "processed 51578 tokens with 5942 phrases; found: 5920 phrases; correct: 5628.\n",
      "accuracy:  99.01%; precision:  95.07%; recall:  94.72%; FB1:  94.89\n",
      "              LOC: precision:  96.94%; recall:  96.68%; FB1:  96.81  1832\n",
      "             MISC: precision:  91.20%; recall:  88.83%; FB1:  90.00  898\n",
      "              ORG: precision:  92.44%; recall:  93.06%; FB1:  92.75  1350\n",
      "              PER: precision:  97.01%; recall:  96.91%; FB1:  96.96  1840\n",
      "\n",
      "CoNLL score test set\n",
      "total 46666, correct 45741, accuracy 0.980178\n",
      "total unknown 1143, correct 1075, accuracy 0.940507\n"
     ]
    },
    {
     "name": "stderr",
     "output_type": "stream",
     "text": [
      "0it [00:00, ?it/s]"
     ]
    },
    {
     "name": "stdout",
     "output_type": "stream",
     "text": [
      "processed 46666 tokens with 5648 phrases; found: 5636 phrases; correct: 5129.\n",
      "accuracy:  98.02%; precision:  91.00%; recall:  90.81%; FB1:  90.91\n",
      "              LOC: precision:  91.42%; recall:  93.94%; FB1:  92.67  1714\n",
      "             MISC: precision:  80.84%; recall:  79.91%; FB1:  80.37  694\n",
      "              ORG: precision:  89.06%; recall:  88.68%; FB1:  88.87  1654\n",
      "              PER: precision:  97.08%; recall:  94.50%; FB1:  95.77  1574\n",
      "\n",
      "Epoch 62/80\n"
     ]
    },
    {
     "name": "stderr",
     "output_type": "stream",
     "text": [
      "76it [00:34,  2.21it/s]\n"
     ]
    },
    {
     "name": "stdout",
     "output_type": "stream",
     "text": [
      "CoNLL score dev set\n",
      "total 51578, correct 50985, accuracy 0.988503\n",
      "total unknown 713, correct 686, accuracy 0.962132\n",
      "processed 51578 tokens with 5942 phrases; found: 5928 phrases; correct: 5592.\n",
      "accuracy:  98.85%; precision:  94.33%; recall:  94.11%; FB1:  94.22\n",
      "              LOC: precision:  97.21%; recall:  96.57%; FB1:  96.89  1825\n",
      "             MISC: precision:  88.79%; recall:  89.37%; FB1:  89.08  928\n",
      "              ORG: precision:  90.71%; recall:  90.31%; FB1:  90.51  1335\n",
      "              PER: precision:  96.90%; recall:  96.80%; FB1:  96.85  1840\n",
      "\n",
      "CoNLL score test set\n",
      "total 46666, correct 45724, accuracy 0.979814\n",
      "total unknown 1143, correct 1073, accuracy 0.938758\n"
     ]
    },
    {
     "name": "stderr",
     "output_type": "stream",
     "text": [
      "0it [00:00, ?it/s]"
     ]
    },
    {
     "name": "stdout",
     "output_type": "stream",
     "text": [
      "processed 46666 tokens with 5648 phrases; found: 5665 phrases; correct: 5133.\n",
      "accuracy:  97.98%; precision:  90.61%; recall:  90.88%; FB1:  90.75\n",
      "              LOC: precision:  92.09%; recall:  93.59%; FB1:  92.83  1695\n",
      "             MISC: precision:  77.73%; recall:  80.06%; FB1:  78.88  723\n",
      "              ORG: precision:  88.80%; recall:  89.22%; FB1:  89.01  1669\n",
      "              PER: precision:  96.83%; recall:  94.50%; FB1:  95.65  1578\n",
      "\n",
      "Epoch 63/80\n"
     ]
    },
    {
     "name": "stderr",
     "output_type": "stream",
     "text": [
      "76it [00:34,  2.22it/s]\n"
     ]
    },
    {
     "name": "stdout",
     "output_type": "stream",
     "text": [
      "CoNLL score dev set\n",
      "total 51578, correct 51038, accuracy 0.989530\n",
      "total unknown 713, correct 691, accuracy 0.969144\n",
      "processed 51578 tokens with 5942 phrases; found: 5935 phrases; correct: 5612.\n",
      "accuracy:  98.95%; precision:  94.56%; recall:  94.45%; FB1:  94.50\n",
      "              LOC: precision:  96.52%; recall:  96.62%; FB1:  96.57  1839\n",
      "             MISC: precision:  91.66%; recall:  88.18%; FB1:  89.88  887\n",
      "              ORG: precision:  90.57%; recall:  93.06%; FB1:  91.80  1378\n",
      "              PER: precision:  97.00%; recall:  96.42%; FB1:  96.71  1831\n",
      "\n",
      "CoNLL score test set\n",
      "total 46666, correct 45752, accuracy 0.980414\n",
      "total unknown 1143, correct 1070, accuracy 0.936133\n"
     ]
    },
    {
     "name": "stderr",
     "output_type": "stream",
     "text": [
      "0it [00:00, ?it/s]"
     ]
    },
    {
     "name": "stdout",
     "output_type": "stream",
     "text": [
      "processed 46666 tokens with 5648 phrases; found: 5665 phrases; correct: 5145.\n",
      "accuracy:  98.04%; precision:  90.82%; recall:  91.09%; FB1:  90.96\n",
      "              LOC: precision:  91.38%; recall:  94.06%; FB1:  92.70  1717\n",
      "             MISC: precision:  81.90%; recall:  78.63%; FB1:  80.23  674\n",
      "              ORG: precision:  87.89%; recall:  90.49%; FB1:  89.17  1710\n",
      "              PER: precision:  97.25%; recall:  94.06%; FB1:  95.63  1564\n",
      "\n",
      "Epoch 64/80\n"
     ]
    },
    {
     "name": "stderr",
     "output_type": "stream",
     "text": [
      "76it [00:34,  2.20it/s]\n"
     ]
    },
    {
     "name": "stdout",
     "output_type": "stream",
     "text": [
      "CoNLL score dev set\n",
      "total 51578, correct 51043, accuracy 0.989627\n",
      "total unknown 713, correct 686, accuracy 0.962132\n",
      "processed 51578 tokens with 5942 phrases; found: 5921 phrases; correct: 5615.\n",
      "accuracy:  98.96%; precision:  94.83%; recall:  94.50%; FB1:  94.66\n",
      "              LOC: precision:  97.63%; recall:  96.35%; FB1:  96.99  1813\n",
      "             MISC: precision:  89.19%; recall:  90.35%; FB1:  89.76  934\n",
      "              ORG: precision:  92.25%; recall:  91.42%; FB1:  91.84  1329\n",
      "              PER: precision:  96.80%; recall:  96.96%; FB1:  96.88  1845\n",
      "\n",
      "CoNLL score test set\n",
      "total 46666, correct 45741, accuracy 0.980178\n",
      "total unknown 1143, correct 1074, accuracy 0.939633\n"
     ]
    },
    {
     "name": "stderr",
     "output_type": "stream",
     "text": [
      "0it [00:00, ?it/s]"
     ]
    },
    {
     "name": "stdout",
     "output_type": "stream",
     "text": [
      "processed 46666 tokens with 5648 phrases; found: 5628 phrases; correct: 5128.\n",
      "accuracy:  98.02%; precision:  91.12%; recall:  90.79%; FB1:  90.95\n",
      "              LOC: precision:  92.94%; recall:  93.17%; FB1:  93.05  1672\n",
      "             MISC: precision:  77.27%; recall:  82.34%; FB1:  79.72  748\n",
      "              ORG: precision:  89.99%; recall:  88.20%; FB1:  89.08  1628\n",
      "              PER: precision:  96.90%; recall:  94.68%; FB1:  95.78  1580\n",
      "\n",
      "Epoch 65/80\n"
     ]
    },
    {
     "name": "stderr",
     "output_type": "stream",
     "text": [
      "76it [00:34,  2.20it/s]\n"
     ]
    },
    {
     "name": "stdout",
     "output_type": "stream",
     "text": [
      "CoNLL score dev set\n",
      "total 51578, correct 51038, accuracy 0.989530\n",
      "total unknown 713, correct 686, accuracy 0.962132\n",
      "processed 51578 tokens with 5942 phrases; found: 5900 phrases; correct: 5596.\n",
      "accuracy:  98.95%; precision:  94.85%; recall:  94.18%; FB1:  94.51\n",
      "              LOC: precision:  97.67%; recall:  95.86%; FB1:  96.76  1803\n",
      "             MISC: precision:  91.54%; recall:  88.07%; FB1:  89.77  887\n",
      "              ORG: precision:  90.28%; recall:  93.51%; FB1:  91.87  1389\n",
      "              PER: precision:  97.14%; recall:  96.04%; FB1:  96.59  1821\n",
      "\n",
      "CoNLL score test set\n",
      "total 46666, correct 45749, accuracy 0.980350\n",
      "total unknown 1143, correct 1069, accuracy 0.935258\n"
     ]
    },
    {
     "name": "stderr",
     "output_type": "stream",
     "text": [
      "0it [00:00, ?it/s]"
     ]
    },
    {
     "name": "stdout",
     "output_type": "stream",
     "text": [
      "processed 46666 tokens with 5648 phrases; found: 5630 phrases; correct: 5122.\n",
      "accuracy:  98.03%; precision:  90.98%; recall:  90.69%; FB1:  90.83\n",
      "              LOC: precision:  93.46%; recall:  92.51%; FB1:  92.98  1651\n",
      "             MISC: precision:  80.63%; recall:  80.63%; FB1:  80.63  702\n",
      "              ORG: precision:  86.79%; recall:  90.55%; FB1:  88.63  1733\n",
      "              PER: precision:  97.73%; recall:  93.32%; FB1:  95.48  1544\n",
      "\n",
      "Epoch 66/80\n"
     ]
    },
    {
     "name": "stderr",
     "output_type": "stream",
     "text": [
      "76it [00:34,  2.18it/s]\n"
     ]
    },
    {
     "name": "stdout",
     "output_type": "stream",
     "text": [
      "CoNLL score dev set\n",
      "total 51578, correct 51020, accuracy 0.989181\n",
      "total unknown 713, correct 681, accuracy 0.955119\n",
      "processed 51578 tokens with 5942 phrases; found: 5946 phrases; correct: 5606.\n",
      "accuracy:  98.92%; precision:  94.28%; recall:  94.35%; FB1:  94.31\n",
      "              LOC: precision:  96.94%; recall:  96.57%; FB1:  96.75  1830\n",
      "             MISC: precision:  90.74%; recall:  88.18%; FB1:  89.44  896\n",
      "              ORG: precision:  89.32%; recall:  92.32%; FB1:  90.80  1386\n",
      "              PER: precision:  97.11%; recall:  96.69%; FB1:  96.90  1834\n",
      "\n",
      "CoNLL score test set\n",
      "total 46666, correct 45726, accuracy 0.979857\n",
      "total unknown 1143, correct 1068, accuracy 0.934383\n"
     ]
    },
    {
     "name": "stderr",
     "output_type": "stream",
     "text": [
      "0it [00:00, ?it/s]"
     ]
    },
    {
     "name": "stdout",
     "output_type": "stream",
     "text": [
      "processed 46666 tokens with 5648 phrases; found: 5696 phrases; correct: 5149.\n",
      "accuracy:  97.99%; precision:  90.40%; recall:  91.17%; FB1:  90.78\n",
      "              LOC: precision:  92.63%; recall:  93.41%; FB1:  93.01  1682\n",
      "             MISC: precision:  81.48%; recall:  80.20%; FB1:  80.83  691\n",
      "              ORG: precision:  85.45%; recall:  91.21%; FB1:  88.24  1773\n",
      "              PER: precision:  97.61%; recall:  93.57%; FB1:  95.55  1550\n",
      "\n",
      "Epoch 67/80\n"
     ]
    },
    {
     "name": "stderr",
     "output_type": "stream",
     "text": [
      "76it [00:35,  2.13it/s]\n"
     ]
    },
    {
     "name": "stdout",
     "output_type": "stream",
     "text": [
      "CoNLL score dev set\n",
      "total 51578, correct 51010, accuracy 0.988988\n",
      "total unknown 713, correct 686, accuracy 0.962132\n",
      "processed 51578 tokens with 5942 phrases; found: 5912 phrases; correct: 5599.\n",
      "accuracy:  98.90%; precision:  94.71%; recall:  94.23%; FB1:  94.47\n",
      "              LOC: precision:  96.53%; recall:  97.01%; FB1:  96.77  1846\n",
      "             MISC: precision:  89.42%; recall:  88.94%; FB1:  89.18  917\n",
      "              ORG: precision:  93.24%; recall:  90.53%; FB1:  91.87  1302\n",
      "              PER: precision:  96.53%; recall:  96.80%; FB1:  96.67  1847\n",
      "\n",
      "CoNLL score test set\n",
      "total 46666, correct 45697, accuracy 0.979235\n",
      "total unknown 1143, correct 1072, accuracy 0.937883\n"
     ]
    },
    {
     "name": "stderr",
     "output_type": "stream",
     "text": [
      "0it [00:00, ?it/s]"
     ]
    },
    {
     "name": "stdout",
     "output_type": "stream",
     "text": [
      "processed 46666 tokens with 5648 phrases; found: 5633 phrases; correct: 5105.\n",
      "accuracy:  97.92%; precision:  90.63%; recall:  90.39%; FB1:  90.51\n",
      "              LOC: precision:  90.10%; recall:  93.88%; FB1:  91.96  1738\n",
      "             MISC: precision:  78.95%; recall:  81.20%; FB1:  80.06  722\n",
      "              ORG: precision:  90.13%; recall:  86.27%; FB1:  88.16  1590\n",
      "              PER: precision:  97.03%; recall:  94.99%; FB1:  96.00  1583\n",
      "\n",
      "Epoch 68/80\n"
     ]
    },
    {
     "name": "stderr",
     "output_type": "stream",
     "text": [
      "76it [00:34,  2.19it/s]\n"
     ]
    },
    {
     "name": "stdout",
     "output_type": "stream",
     "text": [
      "CoNLL score dev set\n",
      "total 51578, correct 51030, accuracy 0.989375\n",
      "total unknown 713, correct 689, accuracy 0.966339\n",
      "processed 51578 tokens with 5942 phrases; found: 5927 phrases; correct: 5612.\n",
      "accuracy:  98.94%; precision:  94.69%; recall:  94.45%; FB1:  94.57\n",
      "              LOC: precision:  96.68%; recall:  96.68%; FB1:  96.68  1837\n",
      "             MISC: precision:  90.24%; recall:  88.29%; FB1:  89.25  902\n",
      "              ORG: precision:  91.78%; recall:  92.39%; FB1:  92.08  1350\n",
      "              PER: precision:  97.01%; recall:  96.80%; FB1:  96.90  1838\n",
      "\n",
      "CoNLL score test set\n",
      "total 46666, correct 45757, accuracy 0.980521\n",
      "total unknown 1143, correct 1073, accuracy 0.938758\n"
     ]
    },
    {
     "name": "stderr",
     "output_type": "stream",
     "text": [
      "0it [00:00, ?it/s]"
     ]
    },
    {
     "name": "stdout",
     "output_type": "stream",
     "text": [
      "processed 46666 tokens with 5648 phrases; found: 5656 phrases; correct: 5150.\n",
      "accuracy:  98.05%; precision:  91.05%; recall:  91.18%; FB1:  91.12\n",
      "              LOC: precision:  91.29%; recall:  94.30%; FB1:  92.77  1723\n",
      "             MISC: precision:  81.21%; recall:  80.06%; FB1:  80.63  692\n",
      "              ORG: precision:  88.94%; recall:  89.58%; FB1:  89.26  1673\n",
      "              PER: precision:  97.39%; recall:  94.43%; FB1:  95.89  1568\n",
      "\n",
      "Epoch 69/80\n"
     ]
    },
    {
     "name": "stderr",
     "output_type": "stream",
     "text": [
      "76it [00:35,  2.16it/s]\n"
     ]
    },
    {
     "name": "stdout",
     "output_type": "stream",
     "text": [
      "CoNLL score dev set\n",
      "total 51578, correct 50991, accuracy 0.988619\n",
      "total unknown 713, correct 688, accuracy 0.964937\n",
      "processed 51578 tokens with 5942 phrases; found: 5923 phrases; correct: 5586.\n",
      "accuracy:  98.86%; precision:  94.31%; recall:  94.01%; FB1:  94.16\n",
      "              LOC: precision:  96.42%; recall:  96.79%; FB1:  96.60  1844\n",
      "             MISC: precision:  89.86%; recall:  88.39%; FB1:  89.12  907\n",
      "              ORG: precision:  90.83%; recall:  90.90%; FB1:  90.87  1342\n",
      "              PER: precision:  96.94%; recall:  96.31%; FB1:  96.62  1830\n",
      "\n",
      "CoNLL score test set\n",
      "total 46666, correct 45704, accuracy 0.979385\n",
      "total unknown 1143, correct 1071, accuracy 0.937008\n"
     ]
    },
    {
     "name": "stderr",
     "output_type": "stream",
     "text": [
      "0it [00:00, ?it/s]"
     ]
    },
    {
     "name": "stdout",
     "output_type": "stream",
     "text": [
      "processed 46666 tokens with 5648 phrases; found: 5657 phrases; correct: 5124.\n",
      "accuracy:  97.94%; precision:  90.58%; recall:  90.72%; FB1:  90.65\n",
      "              LOC: precision:  90.81%; recall:  94.24%; FB1:  92.50  1731\n",
      "             MISC: precision:  80.23%; recall:  79.77%; FB1:  80.00  698\n",
      "              ORG: precision:  88.07%; recall:  88.92%; FB1:  88.50  1677\n",
      "              PER: precision:  97.68%; recall:  93.69%; FB1:  95.64  1551\n",
      "\n",
      "Epoch 70/80\n"
     ]
    },
    {
     "name": "stderr",
     "output_type": "stream",
     "text": [
      "76it [00:34,  2.18it/s]\n"
     ]
    },
    {
     "name": "stdout",
     "output_type": "stream",
     "text": [
      "CoNLL score dev set\n",
      "total 51578, correct 51012, accuracy 0.989026\n",
      "total unknown 713, correct 686, accuracy 0.962132\n",
      "processed 51578 tokens with 5942 phrases; found: 5898 phrases; correct: 5592.\n",
      "accuracy:  98.90%; precision:  94.81%; recall:  94.11%; FB1:  94.46\n",
      "              LOC: precision:  97.78%; recall:  95.92%; FB1:  96.84  1802\n",
      "             MISC: precision:  90.03%; recall:  89.15%; FB1:  89.59  913\n",
      "              ORG: precision:  91.60%; recall:  91.13%; FB1:  91.36  1334\n",
      "              PER: precision:  96.59%; recall:  96.96%; FB1:  96.78  1849\n",
      "\n",
      "CoNLL score test set\n",
      "total 46666, correct 45750, accuracy 0.980371\n",
      "total unknown 1143, correct 1077, accuracy 0.942257\n"
     ]
    },
    {
     "name": "stderr",
     "output_type": "stream",
     "text": [
      "0it [00:00, ?it/s]"
     ]
    },
    {
     "name": "stdout",
     "output_type": "stream",
     "text": [
      "processed 46666 tokens with 5648 phrases; found: 5620 phrases; correct: 5130.\n",
      "accuracy:  98.04%; precision:  91.28%; recall:  90.83%; FB1:  91.05\n",
      "              LOC: precision:  93.27%; recall:  93.11%; FB1:  93.19  1665\n",
      "             MISC: precision:  78.47%; recall:  80.48%; FB1:  79.47  720\n",
      "              ORG: precision:  89.71%; recall:  88.68%; FB1:  89.19  1642\n",
      "              PER: precision:  96.61%; recall:  95.18%; FB1:  95.89  1593\n",
      "\n",
      "Epoch 71/80\n"
     ]
    },
    {
     "name": "stderr",
     "output_type": "stream",
     "text": [
      "76it [00:34,  2.17it/s]\n"
     ]
    },
    {
     "name": "stdout",
     "output_type": "stream",
     "text": [
      "CoNLL score dev set\n",
      "total 51578, correct 51034, accuracy 0.989453\n",
      "total unknown 713, correct 690, accuracy 0.967742\n",
      "processed 51578 tokens with 5942 phrases; found: 5933 phrases; correct: 5618.\n",
      "accuracy:  98.95%; precision:  94.69%; recall:  94.55%; FB1:  94.62\n",
      "              LOC: precision:  96.75%; recall:  97.11%; FB1:  96.93  1844\n",
      "             MISC: precision:  89.85%; recall:  89.26%; FB1:  89.55  916\n",
      "              ORG: precision:  92.44%; recall:  91.20%; FB1:  91.82  1323\n",
      "              PER: precision:  96.65%; recall:  97.07%; FB1:  96.86  1850\n",
      "\n",
      "CoNLL score test set\n",
      "total 46666, correct 45720, accuracy 0.979728\n",
      "total unknown 1143, correct 1075, accuracy 0.940507\n"
     ]
    },
    {
     "name": "stderr",
     "output_type": "stream",
     "text": [
      "0it [00:00, ?it/s]"
     ]
    },
    {
     "name": "stdout",
     "output_type": "stream",
     "text": [
      "processed 46666 tokens with 5648 phrases; found: 5669 phrases; correct: 5138.\n",
      "accuracy:  97.97%; precision:  90.63%; recall:  90.97%; FB1:  90.80\n",
      "              LOC: precision:  91.07%; recall:  94.12%; FB1:  92.57  1724\n",
      "             MISC: precision:  79.58%; recall:  81.05%; FB1:  80.31  715\n",
      "              ORG: precision:  89.29%; recall:  88.32%; FB1:  88.80  1643\n",
      "              PER: precision:  96.53%; recall:  94.74%; FB1:  95.63  1587\n",
      "\n",
      "Epoch 72/80\n"
     ]
    },
    {
     "name": "stderr",
     "output_type": "stream",
     "text": [
      "76it [00:34,  2.18it/s]\n"
     ]
    },
    {
     "name": "stdout",
     "output_type": "stream",
     "text": [
      "CoNLL score dev set\n",
      "total 51578, correct 51007, accuracy 0.988929\n",
      "total unknown 713, correct 690, accuracy 0.967742\n",
      "processed 51578 tokens with 5942 phrases; found: 5939 phrases; correct: 5607.\n",
      "accuracy:  98.89%; precision:  94.41%; recall:  94.36%; FB1:  94.39\n",
      "              LOC: precision:  96.12%; recall:  97.11%; FB1:  96.62  1856\n",
      "             MISC: precision:  90.12%; recall:  89.05%; FB1:  89.58  911\n",
      "              ORG: precision:  91.49%; recall:  91.35%; FB1:  91.42  1339\n",
      "              PER: precision:  96.94%; recall:  96.47%; FB1:  96.71  1833\n",
      "\n",
      "CoNLL score test set\n",
      "total 46666, correct 45718, accuracy 0.979685\n",
      "total unknown 1143, correct 1073, accuracy 0.938758\n"
     ]
    },
    {
     "name": "stderr",
     "output_type": "stream",
     "text": [
      "0it [00:00, ?it/s]"
     ]
    },
    {
     "name": "stdout",
     "output_type": "stream",
     "text": [
      "processed 46666 tokens with 5648 phrases; found: 5672 phrases; correct: 5137.\n",
      "accuracy:  97.97%; precision:  90.57%; recall:  90.95%; FB1:  90.76\n",
      "              LOC: precision:  90.41%; recall:  94.42%; FB1:  92.38  1742\n",
      "             MISC: precision:  79.61%; recall:  81.20%; FB1:  80.39  716\n",
      "              ORG: precision:  89.02%; recall:  88.32%; FB1:  88.67  1648\n",
      "              PER: precision:  97.38%; recall:  94.31%; FB1:  95.82  1566\n",
      "\n",
      "Epoch 73/80\n"
     ]
    },
    {
     "name": "stderr",
     "output_type": "stream",
     "text": [
      "76it [00:34,  2.18it/s]\n"
     ]
    },
    {
     "name": "stdout",
     "output_type": "stream",
     "text": [
      "CoNLL score dev set\n",
      "total 51578, correct 51017, accuracy 0.989123\n",
      "total unknown 713, correct 686, accuracy 0.962132\n",
      "processed 51578 tokens with 5942 phrases; found: 5917 phrases; correct: 5604.\n",
      "accuracy:  98.91%; precision:  94.71%; recall:  94.31%; FB1:  94.51\n",
      "              LOC: precision:  97.69%; recall:  96.62%; FB1:  97.15  1817\n",
      "             MISC: precision:  90.01%; recall:  88.94%; FB1:  89.47  911\n",
      "              ORG: precision:  90.76%; recall:  92.24%; FB1:  91.49  1363\n",
      "              PER: precision:  97.04%; recall:  96.20%; FB1:  96.62  1826\n",
      "\n",
      "CoNLL score test set\n",
      "total 46666, correct 45757, accuracy 0.980521\n",
      "total unknown 1143, correct 1073, accuracy 0.938758\n"
     ]
    },
    {
     "name": "stderr",
     "output_type": "stream",
     "text": [
      "0it [00:00, ?it/s]"
     ]
    },
    {
     "name": "stdout",
     "output_type": "stream",
     "text": [
      "processed 46666 tokens with 5648 phrases; found: 5634 phrases; correct: 5135.\n",
      "accuracy:  98.05%; precision:  91.14%; recall:  90.92%; FB1:  91.03\n",
      "              LOC: precision:  92.60%; recall:  93.76%; FB1:  93.18  1689\n",
      "             MISC: precision:  79.97%; recall:  81.34%; FB1:  80.65  714\n",
      "              ORG: precision:  88.49%; recall:  89.83%; FB1:  89.15  1686\n",
      "              PER: precision:  97.61%; recall:  93.26%; FB1:  95.38  1545\n",
      "\n",
      "Epoch 74/80\n"
     ]
    },
    {
     "name": "stderr",
     "output_type": "stream",
     "text": [
      "76it [00:34,  2.19it/s]\n"
     ]
    },
    {
     "name": "stdout",
     "output_type": "stream",
     "text": [
      "CoNLL score dev set\n",
      "total 51578, correct 50995, accuracy 0.988697\n",
      "total unknown 713, correct 689, accuracy 0.966339\n",
      "processed 51578 tokens with 5942 phrases; found: 5949 phrases; correct: 5607.\n",
      "accuracy:  98.87%; precision:  94.25%; recall:  94.36%; FB1:  94.31\n",
      "              LOC: precision:  96.38%; recall:  97.01%; FB1:  96.69  1849\n",
      "             MISC: precision:  92.20%; recall:  87.20%; FB1:  89.63  872\n",
      "              ORG: precision:  89.39%; recall:  92.99%; FB1:  91.15  1395\n",
      "              PER: precision:  96.78%; recall:  96.31%; FB1:  96.54  1833\n",
      "\n",
      "CoNLL score test set\n",
      "total 46666, correct 45681, accuracy 0.978893\n",
      "total unknown 1143, correct 1060, accuracy 0.927384\n"
     ]
    },
    {
     "name": "stderr",
     "output_type": "stream",
     "text": [
      "0it [00:00, ?it/s]"
     ]
    },
    {
     "name": "stdout",
     "output_type": "stream",
     "text": [
      "processed 46666 tokens with 5648 phrases; found: 5691 phrases; correct: 5129.\n",
      "accuracy:  97.89%; precision:  90.12%; recall:  90.81%; FB1:  90.47\n",
      "              LOC: precision:  90.66%; recall:  94.30%; FB1:  92.45  1735\n",
      "             MISC: precision:  80.67%; recall:  78.49%; FB1:  79.57  683\n",
      "              ORG: precision:  86.73%; recall:  89.70%; FB1:  88.19  1718\n",
      "              PER: precision:  97.43%; recall:  93.69%; FB1:  95.52  1555\n",
      "\n",
      "Epoch 75/80\n"
     ]
    },
    {
     "name": "stderr",
     "output_type": "stream",
     "text": [
      "76it [00:34,  2.18it/s]\n"
     ]
    },
    {
     "name": "stdout",
     "output_type": "stream",
     "text": [
      "CoNLL score dev set\n",
      "total 51578, correct 51006, accuracy 0.988910\n",
      "total unknown 713, correct 691, accuracy 0.969144\n",
      "processed 51578 tokens with 5942 phrases; found: 5946 phrases; correct: 5615.\n",
      "accuracy:  98.89%; precision:  94.43%; recall:  94.50%; FB1:  94.47\n",
      "              LOC: precision:  96.18%; recall:  97.22%; FB1:  96.70  1857\n",
      "             MISC: precision:  92.01%; recall:  87.42%; FB1:  89.66  876\n",
      "              ORG: precision:  91.67%; recall:  91.87%; FB1:  91.77  1344\n",
      "              PER: precision:  95.83%; recall:  97.23%; FB1:  96.52  1869\n",
      "\n",
      "CoNLL score test set\n",
      "total 46666, correct 45749, accuracy 0.980350\n",
      "total unknown 1143, correct 1072, accuracy 0.937883\n"
     ]
    },
    {
     "name": "stderr",
     "output_type": "stream",
     "text": [
      "0it [00:00, ?it/s]"
     ]
    },
    {
     "name": "stdout",
     "output_type": "stream",
     "text": [
      "processed 46666 tokens with 5648 phrases; found: 5667 phrases; correct: 5153.\n",
      "accuracy:  98.03%; precision:  90.93%; recall:  91.24%; FB1:  91.08\n",
      "              LOC: precision:  90.66%; recall:  94.24%; FB1:  92.42  1734\n",
      "             MISC: precision:  81.84%; recall:  79.63%; FB1:  80.72  683\n",
      "              ORG: precision:  89.64%; recall:  89.04%; FB1:  89.34  1650\n",
      "              PER: precision:  96.44%; recall:  95.42%; FB1:  95.93  1600\n",
      "\n",
      "Epoch 76/80\n"
     ]
    },
    {
     "name": "stderr",
     "output_type": "stream",
     "text": [
      "1it [00:00,  1.92it/s]"
     ]
    }
   ],
   "source": [
    "for epoch in range(EPOCHS):    \n",
    "    print(\"Epoch {}/{}\".format(epoch + 1, EPOCHS))\n",
    "    for i, batch in tqdm(enumerate(minibatch_generator(training_bins))):\n",
    "        char_batch, token_batch, label_batch = batch  \n",
    "        loss = model.train_on_batch([char_batch, token_batch], \n",
    "                                    label_batch)\n",
    "\n",
    "    # We evaluate the dev set\n",
    "    print('CoNLL score dev set')\n",
    "    Y_dev_hat = predict(X_dev_char_idx, X_dev_word_idx, model, idx2ner)\n",
    "    conll_dev_pred = format_conll(X_dev_word_cat, Y_dev_cat, Y_dev_hat)\n",
    "    \n",
    "    signature = '_' + str(CHAR_DROPOUT) + '_' + str(DROPOUT_RATE_PRE) + '_' +\\\n",
    "    str(RECURRENT_DROPOUT) + '_' + str(DROPOUT_RATE) + '_' + str(DROPOUT_RATE_POST) + '_'\n",
    "    \n",
    "    outfile = 'dev' + signature + '.out'\n",
    "    with open(outfile, 'w') as file:\n",
    "        file.write(conll_dev_pred)\n",
    "    print(os.popen('perl -w conlleval.pl <' + outfile).read())\n",
    "    \n",
    "    # We evaluate the test set\n",
    "    print('CoNLL score test set')\n",
    "    Y_test_hat = predict(X_test_char_idx, X_test_word_idx, model, idx2ner)\n",
    "    conll_test_pred = format_conll(X_test_word_cat, Y_test_cat, Y_test_hat)\n",
    "    \n",
    "    outfile = 'test' + signature + '.out'\n",
    "    with open(outfile, 'w') as file:\n",
    "        file.write(conll_test_pred)\n",
    "    print(os.popen('perl -w conlleval.pl <' + outfile).read())"
   ]
  },
  {
   "cell_type": "code",
   "execution_count": null,
   "metadata": {},
   "outputs": [],
   "source": [
    "Y_test_cat[:3]"
   ]
  },
  {
   "cell_type": "markdown",
   "metadata": {},
   "source": [
    "## Using the Recognizer"
   ]
  },
  {
   "cell_type": "markdown",
   "metadata": {},
   "source": [
    "A sentence"
   ]
  },
  {
   "cell_type": "code",
   "execution_count": null,
   "metadata": {},
   "outputs": [],
   "source": [
    "sentence = 'Yesterday , I met Pierre Nugues in Dammarie'"
   ]
  },
  {
   "cell_type": "markdown",
   "metadata": {},
   "source": [
    "We create the character input"
   ]
  },
  {
   "cell_type": "code",
   "execution_count": null,
   "metadata": {},
   "outputs": [],
   "source": [
    "sent_char_idx = to_char_index([sentence.split()], char2idx)\n",
    "sent_char_idx_padded = list(map(lambda x: pad_sequences(x, maxlen=MAX_LEN_CHARS, padding='post'), \n",
    "                            sent_char_idx))\n",
    "sent_char_idx_padded"
   ]
  },
  {
   "cell_type": "markdown",
   "metadata": {},
   "source": [
    "And the word input"
   ]
  },
  {
   "cell_type": "code",
   "execution_count": null,
   "metadata": {},
   "outputs": [],
   "source": [
    "sent_word_idx = to_index([sentence.lower().split()], word2idx)\n",
    "sent_word_idx"
   ]
  },
  {
   "cell_type": "markdown",
   "metadata": {},
   "source": [
    "And we predict the tags"
   ]
  },
  {
   "cell_type": "code",
   "execution_count": null,
   "metadata": {},
   "outputs": [],
   "source": [
    "predict(sent_char_idx_padded, sent_word_idx, model, idx2ner)"
   ]
  },
  {
   "cell_type": "code",
   "execution_count": null,
   "metadata": {},
   "outputs": [],
   "source": []
  }
 ],
 "metadata": {
  "kernelspec": {
   "display_name": "Python 3",
   "language": "python",
   "name": "python3"
  },
  "language_info": {
   "codemirror_mode": {
    "name": "ipython",
    "version": 3
   },
   "file_extension": ".py",
   "mimetype": "text/x-python",
   "name": "python",
   "nbconvert_exporter": "python",
   "pygments_lexer": "ipython3",
   "version": "3.7.6"
  }
 },
 "nbformat": 4,
 "nbformat_minor": 4
}
