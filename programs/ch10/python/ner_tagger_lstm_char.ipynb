{
 "cells": [
  {
   "cell_type": "markdown",
   "metadata": {},
   "source": [
    "# Named-Entity Recognition\n",
    "Implementation of a NER tagger following Chiu-Nichols' paper (2016): \n",
    "Named Entity Recognition with Bidirectional LSTM-CNNs.\n",
    "\n",
    "Author: Pierre Nugues"
   ]
  },
  {
   "cell_type": "markdown",
   "metadata": {},
   "source": [
    "## A Note on the Performance"
   ]
  },
  {
   "cell_type": "markdown",
   "metadata": {},
   "source": [
    "Chiu and Nichols reported a maximal performance of 91.62 on the CoNLL 2003 English corpus. The performance we obtain here is not completely comparable to theirs as we have a slightly different configuration:\n",
    "* The program below uses word and character features only. It sets aside the capitalization and lexicons features proposed by Chiu and Nichols. We believe this makes our program more easily adaptable to other languages. \n",
    "* In addition, Chiu and Nichols trained their model on the training and development sets. We only use the training set.\n",
    "\n",
    "Nonetheless, we can try to compare their figures with ours. In Table 6 of their paper, Chiu and Nichols report a best performance of 91.62 with a model trained on the training and development sets with all the features. When trained on the training set only, they reached 91.23 (Table 8). From this, we can estimate that the contribution of the development set is of about 91.62 - 91.23 ~= 0.39. \n",
    "\n",
    "When using the word and character features and training their model on the training and development sets, Chiu and Nichols trained 90.91 (Table 6, second row, BLSTM-CNN). We can posit that Chiu and Nichols' system trained on the training set only would reach 90.91 - 0.39 ~= 90.52. This figure should be considered as an average over multiple runs (five to 10)."
   ]
  },
  {
   "cell_type": "markdown",
   "metadata": {},
   "source": [
    "## Preliminaries"
   ]
  },
  {
   "cell_type": "markdown",
   "metadata": {},
   "source": [
    "The imported modules"
   ]
  },
  {
   "cell_type": "code",
   "execution_count": 1,
   "metadata": {},
   "outputs": [
    {
     "name": "stderr",
     "output_type": "stream",
     "text": [
      "Using TensorFlow backend.\n"
     ]
    }
   ],
   "source": [
    "import sys\n",
    "import os\n",
    "import time\n",
    "import numpy as np\n",
    "from tqdm import tqdm\n",
    "from random import shuffle\n",
    "from keras import callbacks\n",
    "from keras.initializers import RandomUniform\n",
    "from keras.models import Sequential, Input\n",
    "from keras.layers import Embedding, Flatten, Dense, Dropout, Lambda, TimeDistributed, concatenate\n",
    "from keras.layers import LSTM, Bidirectional, SimpleRNN, Conv1D, MaxPooling1D\n",
    "from keras.optimizers import RMSprop\n",
    "from keras.models import Model\n",
    "from keras.preprocessing.sequence import pad_sequences\n",
    "from keras.utils.np_utils import to_categorical\n",
    "from keras_contrib.layers import CRF\n",
    "import matplotlib.pyplot as plt\n",
    "import seaborn as sns\n",
    "import tensorflow as tf"
   ]
  },
  {
   "cell_type": "markdown",
   "metadata": {},
   "source": [
    "A few functions we'll be using"
   ]
  },
  {
   "cell_type": "code",
   "execution_count": 2,
   "metadata": {},
   "outputs": [],
   "source": [
    "sys.path.append('/Users/pierre/Documents/Cours/EDAN20/programs/')\n",
    "\n",
    "from ch06.python.conll_dictorizer import CoNLLDictorizer\n",
    "from ch08.python.datasets import load_conll2003_en, load_glove_vectors\n",
    "from ch08.python.rnn_preprocessing import build_sequences, to_index, to_char_index"
   ]
  },
  {
   "cell_type": "markdown",
   "metadata": {},
   "source": [
    "Different possible configurations, including those from Chiu-Nichols"
   ]
  },
  {
   "cell_type": "code",
   "execution_count": 3,
   "metadata": {},
   "outputs": [],
   "source": [
    "OPTIMIZER = 'rmsprop'\n",
    "ANNOTATION = 'IOBES'  # 'IOBES' or 'IOB'\n",
    "EMBEDDING_DIM = 100\n",
    "BATCH_SIZE =  512 # Chiu-Nichols 8\n",
    "EPOCHS = 80 # Chiu-Nichols 80\n",
    "LSTM_UNITS = 200 # Chiu-Nichols 275\n",
    "CHAR_EMBEDDING_DIM = 50  # Chiu-Nichols 25\n",
    "CHAR_UNITS = 50  # Chiu-Nichols 53\n",
    "CHAR_DROPOUT = 0.5 # Chiu-Nichols 0?\n",
    "DROPOUT_RATE_PRE = 0.5 # Dropout before the LSTM\n",
    "RECURRENT_DROPOUT = 0.5 # Chiu-Nichols 0?\n",
    "DROPOUT_RATE = 0.0 # Chiu-Nichols 0.68?\n",
    "DROPOUT_RATE_POST = 0.0 # Dropout after the LSTM # Chiu-Nichols 0.0?\n",
    "MAX_LEN_CHARS = 20 # 10 or 20\n",
    "RAND_INIT_RANGE = 0.05\n",
    "ADD_CRF = True\n",
    "\n",
    "VILDE = False  # The computing machine\n",
    "\n",
    "config = {'Optimizer': OPTIMIZER, 'Annotation': ANNOTATION,\n",
    "          'Batch size': BATCH_SIZE, 'Epochs': EPOCHS, 'LSTM units': LSTM_UNITS,\n",
    "          'Char embedding dim': CHAR_EMBEDDING_DIM, 'Embedding dim': EMBEDDING_DIM,\n",
    "         'Char dropout': CHAR_DROPOUT, 'Pre dropout': DROPOUT_RATE_PRE, \n",
    "          'Recurrent dropout': RECURRENT_DROPOUT, 'Dropout': DROPOUT_RATE, \n",
    "          'Post dropout': DROPOUT_RATE_POST, 'CRF': ADD_CRF}"
   ]
  },
  {
   "cell_type": "code",
   "execution_count": 4,
   "metadata": {},
   "outputs": [],
   "source": [
    "np.random.seed(0)\n",
    "tf.random.set_seed(0)"
   ]
  },
  {
   "cell_type": "markdown",
   "metadata": {},
   "source": [
    "## Creating the $\\mathbf{X}$ and $\\mathbf{Y}$ matrices"
   ]
  },
  {
   "cell_type": "code",
   "execution_count": 5,
   "metadata": {},
   "outputs": [
    {
     "name": "stdout",
     "output_type": "stream",
     "text": [
      "Configuration:: {'Optimizer': 'rmsprop', 'Annotation': 'IOBES', 'Batch size': 512, 'Epochs': 80, 'LSTM units': 200, 'Char embedding dim': 50, 'Embedding dim': 100, 'Char dropout': 0.5, 'Pre dropout': 0.5, 'Recurrent dropout': 0.5, 'Dropout': 0.0, 'Post dropout': 0.0, 'CRF': True}\n",
      "Second sentence, CoNLL rows: [{'form': 'EU', 'ppos': 'NNP', 'pchunk': 'S-NP', 'ner': 'S-ORG'}, {'form': 'rejects', 'ppos': 'VBZ', 'pchunk': 'S-VP', 'ner': 'O'}, {'form': 'German', 'ppos': 'JJ', 'pchunk': 'B-NP', 'ner': 'S-MISC'}, {'form': 'call', 'ppos': 'NN', 'pchunk': 'E-NP', 'ner': 'O'}, {'form': 'to', 'ppos': 'TO', 'pchunk': 'B-VP', 'ner': 'O'}, {'form': 'boycott', 'ppos': 'VB', 'pchunk': 'E-VP', 'ner': 'O'}, {'form': 'British', 'ppos': 'JJ', 'pchunk': 'B-NP', 'ner': 'S-MISC'}, {'form': 'lamb', 'ppos': 'NN', 'pchunk': 'E-NP', 'ner': 'O'}, {'form': '.', 'ppos': '.', 'pchunk': 'O', 'ner': 'O'}]\n",
      "Second sentence, words ['EU', 'rejects', 'German', 'call', 'to', 'boycott', 'British', 'lamb', '.']\n",
      "Second sentence, NER ['S-ORG', 'O', 'S-MISC', 'O', 'O', 'O', 'S-MISC', 'O', 'O']\n"
     ]
    }
   ],
   "source": [
    "print('Configuration::', config)\n",
    "start_time = time.perf_counter()\n",
    "if ANNOTATION == 'IOBES':\n",
    "    if VILDE:\n",
    "        train_sentences, dev_sentences, test_sentences, column_names = load_conll2003_en(\n",
    "            BASE_DIR='./')\n",
    "    else:\n",
    "        train_sentences, dev_sentences, test_sentences, column_names = load_conll2003_en(BASE_DIR='./IOBES/')\n",
    "else:\n",
    "    if VILDE:\n",
    "        train_sentences, dev_sentences, test_sentences, column_names = load_conll2003_en(\n",
    "            BASE_DIR='/home/pierre/Cours/EDAN20/corpus/CoNLL2003/')\n",
    "    else:\n",
    "        train_sentences, dev_sentences, test_sentences, column_names = load_conll2003_en(\n",
    "            BASE_DIR='/Users/pierre/Documents/Cours/EDAN20/programs/ch10/python/IOB/')\n",
    "\n",
    "conll_dict = CoNLLDictorizer(column_names, col_sep=' +')\n",
    "train_dict = conll_dict.transform(train_sentences)\n",
    "dev_dict = conll_dict.transform(dev_sentences)\n",
    "test_dict = conll_dict.transform(test_sentences)\n",
    "print('Second sentence, CoNLL rows:', train_dict[1])\n",
    "\n",
    "X_train_word_cat, Y_train_cat = build_sequences(train_dict, key_x='form', key_y='ner', tolower=False)\n",
    "X_dev_word_cat, Y_dev_cat = build_sequences(dev_dict, key_x='form', key_y='ner', tolower=False)\n",
    "X_test_word_cat, Y_test_cat = build_sequences(test_dict, key_x='form', key_y='ner', tolower=False)\n",
    "print('Second sentence, words', X_train_word_cat[1])\n",
    "print('Second sentence, NER', Y_train_cat[1])\n",
    "\n",
    "# We collect the words, named entity tags, and we create the indices\n",
    "vocabulary_words_train = [word\n",
    "                               for sentence in X_train_word_cat\n",
    "                               for word in sentence]\n",
    "vocabulary_words_dev = [word\n",
    "                               for sentence in X_dev_word_cat\n",
    "                               for word in sentence]\n",
    "vocabulary_words_test = [word\n",
    "                               for sentence in X_test_word_cat\n",
    "                               for word in sentence]"
   ]
  },
  {
   "cell_type": "markdown",
   "metadata": {},
   "source": [
    "As vocabulary, we first extract the words in the training set"
   ]
  },
  {
   "cell_type": "code",
   "execution_count": 6,
   "metadata": {},
   "outputs": [
    {
     "name": "stdout",
     "output_type": "stream",
     "text": [
      "#words: 23624\n"
     ]
    }
   ],
   "source": [
    "vocabulary_words = vocabulary_words_train\n",
    "#vocabulary_words.extend(vocabulary_words_dev)\n",
    "#vocabulary_words.extend(vocabulary_words_test)\n",
    "vocabulary_words = list(set(vocabulary_words))\n",
    "print('#words:', len(vocabulary_words))"
   ]
  },
  {
   "cell_type": "markdown",
   "metadata": {},
   "source": [
    "We extract all the characters"
   ]
  },
  {
   "cell_type": "code",
   "execution_count": 7,
   "metadata": {},
   "outputs": [
    {
     "name": "stdout",
     "output_type": "stream",
     "text": [
      "Word maximal length 61\n",
      "#chars: 85\n"
     ]
    }
   ],
   "source": [
    "MAX_LEN_CHARS_OBSERVED = max([len(word) for word in vocabulary_words])\n",
    "print('Word maximal length', MAX_LEN_CHARS_OBSERVED)\n",
    "chars = set(' ')\n",
    "for word in vocabulary_words:\n",
    "    chars.update(set(word))\n",
    "chars = sorted(list(chars))\n",
    "\n",
    "NB_CHARS = len(chars)\n",
    "print('#chars:', NB_CHARS)"
   ]
  },
  {
   "cell_type": "markdown",
   "metadata": {},
   "source": [
    "We build the complete vocabulary: the words from the training set and those from glove"
   ]
  },
  {
   "cell_type": "code",
   "execution_count": 8,
   "metadata": {},
   "outputs": [
    {
     "name": "stdout",
     "output_type": "stream",
     "text": [
      "#words in GloVe: 400000\n",
      "# unique words in the vocabulary: embeddings and corpus: 411650\n"
     ]
    }
   ],
   "source": [
    "# We read the embeddings\n",
    "if VILDE:\n",
    "    embeddings_dict = load_glove_vectors(\n",
    "        BASE_DIR='/home/pierre/Cours/EDAN20/corpus/')\n",
    "else:\n",
    "    embeddings_dict = load_glove_vectors()\n",
    "embeddings_words = embeddings_dict.keys()\n",
    "print('#words in GloVe:', len(embeddings_dict.keys()))\n",
    "vocabulary_words = sorted(set(vocabulary_words +\n",
    "                              list(embeddings_words)))\n",
    "print('# unique words in the vocabulary: embeddings and corpus:',\n",
    "      len(vocabulary_words))"
   ]
  },
  {
   "cell_type": "markdown",
   "metadata": {},
   "source": [
    "We set all the words in lowed case"
   ]
  },
  {
   "cell_type": "code",
   "execution_count": 9,
   "metadata": {},
   "outputs": [
    {
     "name": "stdout",
     "output_type": "stream",
     "text": [
      "# unique lowercased words in the vocabulary: embeddings and corpus: 402595\n"
     ]
    }
   ],
   "source": [
    "vocabulary_words = set(map(str.lower, vocabulary_words))\n",
    "print('# unique lowercased words in the vocabulary: embeddings and corpus:',\n",
    "      len(vocabulary_words))"
   ]
  },
  {
   "cell_type": "markdown",
   "metadata": {},
   "source": [
    "We extract all the named entity tags: The classes"
   ]
  },
  {
   "cell_type": "code",
   "execution_count": 10,
   "metadata": {},
   "outputs": [
    {
     "name": "stdout",
     "output_type": "stream",
     "text": [
      "17 named entity tags: ['B-LOC', 'B-MISC', 'B-ORG', 'B-PER', 'E-LOC', 'E-MISC', 'E-ORG', 'E-PER', 'I-LOC', 'I-MISC', 'I-ORG', 'I-PER', 'O', 'S-LOC', 'S-MISC', 'S-ORG', 'S-PER']\n"
     ]
    }
   ],
   "source": [
    "ner = sorted(set([ner\n",
    "                  for sentence in Y_train_cat\n",
    "                  for ner in sentence]))\n",
    "NB_CLASSES = len(ner)\n",
    "print(NB_CLASSES, 'named entity tags:', ner)"
   ]
  },
  {
   "cell_type": "code",
   "execution_count": 11,
   "metadata": {},
   "outputs": [
    {
     "name": "stdout",
     "output_type": "stream",
     "text": [
      "char index: [(' ', 2), ('!', 3), ('\"', 4), ('$', 5), ('%', 6), ('&', 7), (\"'\", 8), ('(', 9), (')', 10), ('*', 11)]\n",
      "word index: [('chandeliered', 2), ('soco', 3), ('kindel', 4), ('siddhi', 5), ('freeze-dried', 6), ('prominence', 7), ('papagos', 8), ('positively-charged', 9), ('raczki', 10), ('đorđe', 11)]\n",
      "NER index: [('B-LOC', 0), ('B-MISC', 1), ('B-ORG', 2), ('B-PER', 3), ('E-LOC', 4), ('E-MISC', 5), ('E-ORG', 6), ('E-PER', 7), ('I-LOC', 8), ('I-MISC', 9), ('I-ORG', 10), ('I-PER', 11), ('O', 12), ('S-LOC', 13), ('S-MISC', 14), ('S-ORG', 15), ('S-PER', 16)]\n"
     ]
    }
   ],
   "source": [
    "# We create the indexes\n",
    "# For the words and chars, we start at two to make provision for\n",
    "# the padding symbol 0 in RNN and LSTMs and unknown words/chars, 1\n",
    "idx2char = dict(enumerate(chars, start=2))\n",
    "idx2word = dict(enumerate(vocabulary_words, start=2))\n",
    "idx2ner = dict(enumerate(ner))\n",
    "char2idx = {v: k for k, v in idx2char.items()}\n",
    "word2idx = {v: k for k, v in idx2word.items()}\n",
    "ner2idx = {v: k for k, v in idx2ner.items()}\n",
    "print('char index:', list(char2idx.items())[:10])\n",
    "print('word index:', list(word2idx.items())[:10])\n",
    "print('NER index:', list(ner2idx.items()))"
   ]
  },
  {
   "cell_type": "code",
   "execution_count": 12,
   "metadata": {},
   "outputs": [],
   "source": [
    "# We create the parallel sequences of indexes for the chars in their original case\n",
    "X_train_char_idx = to_char_index(X_train_word_cat, char2idx)\n",
    "X_train_char_idx = list(map(lambda x: pad_sequences(x, maxlen=MAX_LEN_CHARS, padding='post'), \n",
    "                            X_train_char_idx))\n",
    "X_dev_char_idx = to_char_index(X_dev_word_cat, char2idx)\n",
    "X_dev_char_idx = list(map(lambda x: pad_sequences(x, maxlen=MAX_LEN_CHARS, padding='post'), \n",
    "                          X_dev_char_idx))\n",
    "X_test_char_idx = to_char_index(X_test_word_cat, char2idx)\n",
    "X_test_char_idx = list(map(lambda x: pad_sequences(x, maxlen=MAX_LEN_CHARS, padding='post'), \n",
    "                           X_test_char_idx))"
   ]
  },
  {
   "cell_type": "code",
   "execution_count": 13,
   "metadata": {},
   "outputs": [
    {
     "name": "stdout",
     "output_type": "stream",
     "text": [
      "20\n",
      "['EU', 'rejects', 'German', 'call', 'to', 'boycott', 'British', 'lamb', '.']\n"
     ]
    },
    {
     "data": {
      "text/plain": [
       "array([[36, 52,  0,  0,  0,  0,  0,  0,  0,  0,  0,  0,  0,  0,  0,  0,\n",
       "         0,  0,  0,  0],\n",
       "       [78, 65, 70, 65, 63, 80, 79,  0,  0,  0,  0,  0,  0,  0,  0,  0,\n",
       "         0,  0,  0,  0],\n",
       "       [38, 65, 78, 73, 61, 74,  0,  0,  0,  0,  0,  0,  0,  0,  0,  0,\n",
       "         0,  0,  0,  0],\n",
       "       [63, 61, 72, 72,  0,  0,  0,  0,  0,  0,  0,  0,  0,  0,  0,  0,\n",
       "         0,  0,  0,  0],\n",
       "       [80, 75,  0,  0,  0,  0,  0,  0,  0,  0,  0,  0,  0,  0,  0,  0,\n",
       "         0,  0,  0,  0],\n",
       "       [62, 75, 85, 63, 75, 80, 80,  0,  0,  0,  0,  0,  0,  0,  0,  0,\n",
       "         0,  0,  0,  0],\n",
       "       [33, 78, 69, 80, 69, 79, 68,  0,  0,  0,  0,  0,  0,  0,  0,  0,\n",
       "         0,  0,  0,  0],\n",
       "       [72, 61, 73, 62,  0,  0,  0,  0,  0,  0,  0,  0,  0,  0,  0,  0,\n",
       "         0,  0,  0,  0],\n",
       "       [15,  0,  0,  0,  0,  0,  0,  0,  0,  0,  0,  0,  0,  0,  0,  0,\n",
       "         0,  0,  0,  0]], dtype=int32)"
      ]
     },
     "execution_count": 13,
     "metadata": {},
     "output_type": "execute_result"
    }
   ],
   "source": [
    "print(MAX_LEN_CHARS)\n",
    "print(X_train_word_cat[1])\n",
    "X_train_char_idx[1]"
   ]
  },
  {
   "cell_type": "code",
   "execution_count": 14,
   "metadata": {},
   "outputs": [],
   "source": [
    "# We set the words in lower case.\n",
    "X_train_word_cat = [[x.lower() for x in x_vect] for x_vect in X_train_word_cat]\n",
    "X_dev_word_cat = [[x.lower() for x in x_vect] for x_vect in X_dev_word_cat]\n",
    "X_test_word_cat = [[x.lower() for x in x_vect] for x_vect in X_test_word_cat]"
   ]
  },
  {
   "cell_type": "code",
   "execution_count": 15,
   "metadata": {},
   "outputs": [
    {
     "data": {
      "text/plain": [
       "['eu', 'rejects', 'german', 'call', 'to', 'boycott', 'british', 'lamb', '.']"
      ]
     },
     "execution_count": 15,
     "metadata": {},
     "output_type": "execute_result"
    }
   ],
   "source": [
    "X_train_word_cat[1]"
   ]
  },
  {
   "cell_type": "code",
   "execution_count": 16,
   "metadata": {},
   "outputs": [],
   "source": [
    "# We create the parallel sequences of indexes for the words\n",
    "# Train\n",
    "X_train_word_idx = to_index(X_train_word_cat, word2idx)\n",
    "Y_train_idx = to_index(Y_train_cat, ner2idx)\n",
    "# Dev\n",
    "X_dev_word_idx = to_index(X_dev_word_cat, word2idx)\n",
    "Y_dev_idx = to_index(Y_dev_cat, ner2idx)\n",
    "# Test\n",
    "X_test_word_idx = to_index(X_test_word_cat, word2idx)\n",
    "Y_test_idx = to_index(Y_test_cat, ner2idx)"
   ]
  },
  {
   "cell_type": "code",
   "execution_count": 17,
   "metadata": {},
   "outputs": [
    {
     "name": "stdout",
     "output_type": "stream",
     "text": [
      "Train: X_word, Y\n",
      "Word indices: [[107675], [113977, 64421, 310929, 178554, 150005, 264977, 11172, 239232, 391086]]\n",
      "NER indices: [[12], [15, 12, 14, 12, 12, 12, 14, 12, 12]]\n",
      "Dev: X_word, Y\n",
      "Word indices: [[107675], [322487, 31741, 209524, 186158, 28624, 238249, 121479, 149583, 262482, 222046, 391086]]\n",
      "NER indices: [[12], [12, 12, 15, 12, 12, 12, 12, 12, 12, 12, 12]]\n",
      "Test: X_word, Y\n",
      "Word indices: [[107675], [190059, 31741, 27971, 81247, 76243, 143033, 217563, 329537, 93692, 76651, 15186, 391086]]\n",
      "NER indices: [[12], [12, 12, 13, 12, 12, 12, 12, 16, 12, 12, 12, 12]]\n"
     ]
    }
   ],
   "source": [
    "print('Train: X_word, Y')\n",
    "print('Word indices:', X_train_word_idx[:2])\n",
    "print('NER indices:', Y_train_idx[:2])\n",
    "print('Dev: X_word, Y')\n",
    "print('Word indices:', X_dev_word_idx[:2])\n",
    "print('NER indices:', Y_dev_idx[:2])\n",
    "print('Test: X_word, Y')\n",
    "print('Word indices:', X_test_word_idx[:2])\n",
    "print('NER indices:', Y_test_idx[:2])"
   ]
  },
  {
   "cell_type": "code",
   "execution_count": 18,
   "metadata": {},
   "outputs": [
    {
     "name": "stdout",
     "output_type": "stream",
     "text": [
      "Train X_chars: [array([[14, 35, 46, 34, 50, 51, 32, 49, 51, 14,  0,  0,  0,  0,  0,  0,\n",
      "         0,  0,  0,  0]], dtype=int32), array([[36, 52,  0,  0,  0,  0,  0,  0,  0,  0,  0,  0,  0,  0,  0,  0,\n",
      "         0,  0,  0,  0],\n",
      "       [78, 65, 70, 65, 63, 80, 79,  0,  0,  0,  0,  0,  0,  0,  0,  0,\n",
      "         0,  0,  0,  0],\n",
      "       [38, 65, 78, 73, 61, 74,  0,  0,  0,  0,  0,  0,  0,  0,  0,  0,\n",
      "         0,  0,  0,  0],\n",
      "       [63, 61, 72, 72,  0,  0,  0,  0,  0,  0,  0,  0,  0,  0,  0,  0,\n",
      "         0,  0,  0,  0],\n",
      "       [80, 75,  0,  0,  0,  0,  0,  0,  0,  0,  0,  0,  0,  0,  0,  0,\n",
      "         0,  0,  0,  0],\n",
      "       [62, 75, 85, 63, 75, 80, 80,  0,  0,  0,  0,  0,  0,  0,  0,  0,\n",
      "         0,  0,  0,  0],\n",
      "       [33, 78, 69, 80, 69, 79, 68,  0,  0,  0,  0,  0,  0,  0,  0,  0,\n",
      "         0,  0,  0,  0],\n",
      "       [72, 61, 73, 62,  0,  0,  0,  0,  0,  0,  0,  0,  0,  0,  0,  0,\n",
      "         0,  0,  0,  0],\n",
      "       [15,  0,  0,  0,  0,  0,  0,  0,  0,  0,  0,  0,  0,  0,  0,  0,\n",
      "         0,  0,  0,  0]], dtype=int32)]\n",
      "Dev X_chars: [array([[14, 35, 46, 34, 50, 51, 32, 49, 51, 14,  0,  0,  0,  0,  0,  0,\n",
      "         0,  0,  0,  0]], dtype=int32), array([[34, 49, 40, 34, 42, 36, 51,  0,  0,  0,  0,  0,  0,  0,  0,  0,\n",
      "         0,  0,  0,  0],\n",
      "       [14,  0,  0,  0,  0,  0,  0,  0,  0,  0,  0,  0,  0,  0,  0,  0,\n",
      "         0,  0,  0,  0],\n",
      "       [43, 36, 40, 34, 36, 50, 51, 36, 49, 50, 39, 40, 49, 36,  0,  0,\n",
      "         0,  0,  0,  0],\n",
      "       [51, 32, 42, 36,  0,  0,  0,  0,  0,  0,  0,  0,  0,  0,  0,  0,\n",
      "         0,  0,  0,  0],\n",
      "       [46, 53, 36, 49,  0,  0,  0,  0,  0,  0,  0,  0,  0,  0,  0,  0,\n",
      "         0,  0,  0,  0],\n",
      "       [32, 51,  0,  0,  0,  0,  0,  0,  0,  0,  0,  0,  0,  0,  0,  0,\n",
      "         0,  0,  0,  0],\n",
      "       [51, 46, 47,  0,  0,  0,  0,  0,  0,  0,  0,  0,  0,  0,  0,  0,\n",
      "         0,  0,  0,  0],\n",
      "       [32, 37, 51, 36, 49,  0,  0,  0,  0,  0,  0,  0,  0,  0,  0,  0,\n",
      "         0,  0,  0,  0],\n",
      "       [40, 45, 45, 40, 45, 38, 50,  0,  0,  0,  0,  0,  0,  0,  0,  0,\n",
      "         0,  0,  0,  0],\n",
      "       [53, 40, 34, 51, 46, 49, 56,  0,  0,  0,  0,  0,  0,  0,  0,  0,\n",
      "         0,  0,  0,  0],\n",
      "       [15,  0,  0,  0,  0,  0,  0,  0,  0,  0,  0,  0,  0,  0,  0,  0,\n",
      "         0,  0,  0,  0]], dtype=int32)]\n",
      "Test X_chars: [array([[14, 35, 46, 34, 50, 51, 32, 49, 51, 14,  0,  0,  0,  0,  0,  0,\n",
      "         0,  0,  0,  0]], dtype=int32), array([[50, 46, 34, 34, 36, 49,  0,  0,  0,  0,  0,  0,  0,  0,  0,  0,\n",
      "         0,  0,  0,  0],\n",
      "       [14,  0,  0,  0,  0,  0,  0,  0,  0,  0,  0,  0,  0,  0,  0,  0,\n",
      "         0,  0,  0,  0],\n",
      "       [41, 32, 47, 32, 45,  0,  0,  0,  0,  0,  0,  0,  0,  0,  0,  0,\n",
      "         0,  0,  0,  0],\n",
      "       [38, 36, 51,  0,  0,  0,  0,  0,  0,  0,  0,  0,  0,  0,  0,  0,\n",
      "         0,  0,  0,  0],\n",
      "       [43, 52, 34, 42, 56,  0,  0,  0,  0,  0,  0,  0,  0,  0,  0,  0,\n",
      "         0,  0,  0,  0],\n",
      "       [54, 40, 45,  0,  0,  0,  0,  0,  0,  0,  0,  0,  0,  0,  0,  0,\n",
      "         0,  0,  0,  0],\n",
      "       [13,  0,  0,  0,  0,  0,  0,  0,  0,  0,  0,  0,  0,  0,  0,  0,\n",
      "         0,  0,  0,  0],\n",
      "       [34, 39, 40, 45, 32,  0,  0,  0,  0,  0,  0,  0,  0,  0,  0,  0,\n",
      "         0,  0,  0,  0],\n",
      "       [40, 45,  0,  0,  0,  0,  0,  0,  0,  0,  0,  0,  0,  0,  0,  0,\n",
      "         0,  0,  0,  0],\n",
      "       [50, 52, 49, 47, 49, 40, 50, 36,  0,  0,  0,  0,  0,  0,  0,  0,\n",
      "         0,  0,  0,  0],\n",
      "       [35, 36, 37, 36, 32, 51,  0,  0,  0,  0,  0,  0,  0,  0,  0,  0,\n",
      "         0,  0,  0,  0],\n",
      "       [15,  0,  0,  0,  0,  0,  0,  0,  0,  0,  0,  0,  0,  0,  0,  0,\n",
      "         0,  0,  0,  0]], dtype=int32)]\n"
     ]
    }
   ],
   "source": [
    "print('Train X_chars:', X_train_char_idx[:2])\n",
    "print('Dev X_chars:', X_dev_char_idx[:2])\n",
    "print('Test X_chars:', X_test_char_idx[:2])"
   ]
  },
  {
   "cell_type": "markdown",
   "metadata": {},
   "source": [
    "We initialize the embedding matrix with random values"
   ]
  },
  {
   "cell_type": "code",
   "execution_count": 19,
   "metadata": {},
   "outputs": [],
   "source": [
    "embedding_matrix = np.random.uniform(-RAND_INIT_RANGE, RAND_INIT_RANGE,\n",
    "                                     (len(vocabulary_words) + 2,\n",
    "                                      EMBEDDING_DIM)\n",
    "                                     ).astype(np.float32)\n",
    "#embedding_matrix[0, :] = 0.0"
   ]
  },
  {
   "cell_type": "code",
   "execution_count": 20,
   "metadata": {},
   "outputs": [],
   "source": [
    "# We assign the matrix with Glove embeddings, when they exist\n",
    "for word in vocabulary_words:\n",
    "    if word in embeddings_dict:\n",
    "        # If the words are in the embeddings, we fill them with a value\n",
    "        embedding_matrix[word2idx[word]] = embeddings_dict[word]"
   ]
  },
  {
   "cell_type": "markdown",
   "metadata": {},
   "source": [
    "Embeddings"
   ]
  },
  {
   "cell_type": "code",
   "execution_count": 21,
   "metadata": {},
   "outputs": [
    {
     "name": "stdout",
     "output_type": "stream",
     "text": [
      "Shape of embedding matrix: (402597, 100)\n",
      "table: [-0.61454    0.89693    0.56771    0.39102   -0.22437    0.49035\n",
      "  0.10868    0.27411   -0.23833   -0.52153    0.73551   -0.32654\n",
      "  0.51304    0.32415   -0.46709    0.68051   -0.25497   -0.040484\n",
      " -0.54418   -1.0548    -0.46692    0.23557    0.31234   -0.34537\n",
      "  0.14793   -0.53745   -0.43215   -0.48724   -0.51019   -0.9051\n",
      " -0.17919   -0.018376   0.09719   -0.31623    0.7512     0.92236\n",
      " -0.49965    0.14036   -0.28296   -0.97443   -0.0094408 -0.62944\n",
      "  0.14711   -0.94376    0.0075222  0.18565   -0.99172    0.072789\n",
      " -0.18474   -0.52901    0.38995   -0.45677   -0.21932    1.3723\n",
      " -0.29636   -2.2342    -0.36667    0.04987    0.63421    0.53275\n",
      " -0.53955    0.31398   -0.44698   -0.38389    0.066668  -0.02168\n",
      "  0.20558    0.59456   -0.24892   -0.52795   -0.3761     0.077104\n",
      "  0.75222   -0.2647    -0.0587     0.67541   -0.16559   -0.49278\n",
      " -0.26327   -0.21215    0.24317    0.17006   -0.2926    -0.5009\n",
      " -0.56638   -0.40377   -0.48452   -0.32539    0.75293    0.0049585\n",
      " -0.32115    0.28899   -0.042392   0.63863   -0.20332   -0.46785\n",
      " -0.15661    0.2179     1.4143     0.40034  ]\n",
      "padding symbol, idx 0, random numbers: [ 0.00488135  0.02151894  0.01027634  0.00448832 -0.00763452  0.01458941\n",
      " -0.00624128  0.0391773   0.04636627 -0.01165585  0.0291725   0.00288949\n",
      "  0.00680446  0.04255966 -0.04289639 -0.04128707 -0.04797816  0.03326198\n",
      "  0.02781568  0.03700121  0.04786183  0.02991586 -0.00385206  0.02805292\n",
      " -0.03817256  0.0139921  -0.03566467  0.04446689  0.00218483 -0.00853381\n",
      " -0.02354444  0.02742337 -0.00438497  0.0068434  -0.04812102  0.01176355\n",
      "  0.01120957  0.0116934   0.04437481  0.01818203 -0.01404921 -0.0062968\n",
      "  0.01976312 -0.04397745  0.01667667  0.01706379 -0.02896174 -0.03710737\n",
      " -0.01845716 -0.01362892  0.00701968 -0.00613985  0.04883738 -0.03979552\n",
      " -0.02911232 -0.03386905  0.01531083 -0.02467084 -0.00336892 -0.02555744\n",
      " -0.03410304 -0.03896249  0.01563296 -0.0361817  -0.03034176 -0.01312748\n",
      "  0.03209932 -0.04028987  0.03379449 -0.04039016  0.04764595 -0.00313488\n",
      "  0.04767611  0.01048455  0.02392636 -0.04608122 -0.0217193  -0.03798034\n",
      " -0.02038598 -0.03812723 -0.01820168 -0.0085737  -0.04358525  0.01924721\n",
      "  0.00666015 -0.02346105  0.00232481 -0.04060595  0.00759465  0.04292962\n",
      " -0.0181431   0.01674104 -0.03682021  0.02163272 -0.02105939 -0.03168086\n",
      "  0.00865129 -0.04798925  0.032894   -0.04953045]\n"
     ]
    }
   ],
   "source": [
    "# print('Embedding:', embedding_matrix)\n",
    "print('Shape of embedding matrix:', embedding_matrix.shape)\n",
    "print('table:', embedding_matrix[word2idx['table']])\n",
    "print('padding symbol, idx 0, random numbers:', embedding_matrix[0])\n",
    "#print('Index of jean-denis:', word2idx['jean-denis'])"
   ]
  },
  {
   "cell_type": "markdown",
   "metadata": {},
   "source": [
    "We will create batches of identical size. When all the sentence in a batch have an identical size, we will avoid padding the sentence.\n",
    "\n",
    "The first step is to sort the training set by sentence length"
   ]
  },
  {
   "cell_type": "code",
   "execution_count": 22,
   "metadata": {},
   "outputs": [],
   "source": [
    "training_set_sorted = sorted(zip(X_train_word_idx, \n",
    "                           X_train_char_idx, \n",
    "                           Y_train_idx), \n",
    "                       key=lambda x: len(x[0]))"
   ]
  },
  {
   "cell_type": "code",
   "execution_count": 23,
   "metadata": {},
   "outputs": [
    {
     "data": {
      "text/plain": [
       "[([107675],\n",
       "  array([[14, 35, 46, 34, 50, 51, 32, 49, 51, 14,  0,  0,  0,  0,  0,  0,\n",
       "           0,  0,  0,  0]], dtype=int32),\n",
       "  [12]),\n",
       " ([391086],\n",
       "  array([[15,  0,  0,  0,  0,  0,  0,  0,  0,  0,  0,  0,  0,  0,  0,  0,\n",
       "           0,  0,  0,  0]], dtype=int32),\n",
       "  [12]),\n",
       " ([107675],\n",
       "  array([[14, 35, 46, 34, 50, 51, 32, 49, 51, 14,  0,  0,  0,  0,  0,  0,\n",
       "           0,  0,  0,  0]], dtype=int32),\n",
       "  [12]),\n",
       " ([107675],\n",
       "  array([[14, 35, 46, 34, 50, 51, 32, 49, 51, 14,  0,  0,  0,  0,  0,  0,\n",
       "           0,  0,  0,  0]], dtype=int32),\n",
       "  [12]),\n",
       " ([107675],\n",
       "  array([[14, 35, 46, 34, 50, 51, 32, 49, 51, 14,  0,  0,  0,  0,  0,  0,\n",
       "           0,  0,  0,  0]], dtype=int32),\n",
       "  [12])]"
      ]
     },
     "execution_count": 23,
     "metadata": {},
     "output_type": "execute_result"
    }
   ],
   "source": [
    "training_set_sorted[:5]"
   ]
  },
  {
   "cell_type": "markdown",
   "metadata": {},
   "source": [
    "## The Architecture"
   ]
  },
  {
   "cell_type": "markdown",
   "metadata": {},
   "source": [
    "We implement Chiu and Nichols' model"
   ]
  },
  {
   "cell_type": "code",
   "execution_count": 24,
   "metadata": {},
   "outputs": [],
   "source": [
    "# char input\n",
    "char_input = Input(shape=(None, MAX_LEN_CHARS,))\n",
    "embedded_char = TimeDistributed(\n",
    "    Embedding(NB_CHARS + 2,\n",
    "              CHAR_EMBEDDING_DIM,\n",
    "              trainable=True,\n",
    "              embeddings_initializer=RandomUniform(minval=-RAND_INIT_RANGE, \n",
    "                                                   maxval=RAND_INIT_RANGE)))(char_input)\n",
    "embedded_char = Dropout(CHAR_DROPOUT)(embedded_char)\n",
    "conv = TimeDistributed(\n",
    "    Conv1D(kernel_size=3,\n",
    "           filters=CHAR_UNITS,\n",
    "           activation='tanh',\n",
    "           padding='same'))(embedded_char)\n",
    "maxpool = TimeDistributed(MaxPooling1D(MAX_LEN_CHARS))(conv)\n",
    "char_encoding = TimeDistributed(Flatten())(maxpool)\n",
    "#char_encoding = Dropout(CHAR_DROPOUT)(char_encoding)\n",
    "# word input\n",
    "word_input = Input(shape=(None,))\n",
    "embedded_word = Embedding(len(vocabulary_words) + 2,\n",
    "                          EMBEDDING_DIM,\n",
    "                          trainable=True,\n",
    "                          #mask_zero=True, # Removed for CRF\n",
    "                          weights=[embedding_matrix])(word_input)\n",
    "# Because of a bug in the CRF layer, we must set mask_zero to FALSE\n",
    "if ADD_CRF:\n",
    "    embedded_word._keras_mask = False\n",
    "# embedded_word = Dropout(DROPOUT_RATE)(embedded_word)\n",
    "model = concatenate([char_encoding, embedded_word])\n",
    "model = Dropout(DROPOUT_RATE_PRE)(model)\n",
    "model = Bidirectional(LSTM(LSTM_UNITS,\n",
    "                           return_sequences=True,\n",
    "                           dropout=DROPOUT_RATE,\n",
    "                           recurrent_dropout=RECURRENT_DROPOUT))(model)\n",
    "#model = Dense(100, activation='relu')(model)\n",
    "model = Dropout(DROPOUT_RATE_POST)(model)\n",
    "if ADD_CRF:\n",
    "    out = Dense(len(ner), activation='relu')(model)\n",
    "    crf = CRF(len(ner))  # CRF layer\n",
    "    out = crf(out)  # output\n",
    "else:\n",
    "    out = Dense(len(ner), activation='softmax')(model)\n",
    "model = Model([char_input, word_input], out)"
   ]
  },
  {
   "cell_type": "code",
   "execution_count": 25,
   "metadata": {},
   "outputs": [
    {
     "name": "stdout",
     "output_type": "stream",
     "text": [
      "Model: \"model_1\"\n",
      "__________________________________________________________________________________________________\n",
      "Layer (type)                    Output Shape         Param #     Connected to                     \n",
      "==================================================================================================\n",
      "input_1 (InputLayer)            (None, None, 20)     0                                            \n",
      "__________________________________________________________________________________________________\n",
      "time_distributed_1 (TimeDistrib (None, None, 20, 50) 4350        input_1[0][0]                    \n",
      "__________________________________________________________________________________________________\n",
      "dropout_1 (Dropout)             (None, None, 20, 50) 0           time_distributed_1[0][0]         \n",
      "__________________________________________________________________________________________________\n",
      "time_distributed_2 (TimeDistrib (None, None, 20, 50) 7550        dropout_1[0][0]                  \n",
      "__________________________________________________________________________________________________\n",
      "time_distributed_3 (TimeDistrib (None, None, 1, 50)  0           time_distributed_2[0][0]         \n",
      "__________________________________________________________________________________________________\n",
      "input_2 (InputLayer)            (None, None)         0                                            \n",
      "__________________________________________________________________________________________________\n",
      "time_distributed_4 (TimeDistrib (None, None, 50)     0           time_distributed_3[0][0]         \n",
      "__________________________________________________________________________________________________\n",
      "embedding_2 (Embedding)         (None, None, 100)    40259700    input_2[0][0]                    \n",
      "__________________________________________________________________________________________________\n",
      "concatenate_1 (Concatenate)     (None, None, 150)    0           time_distributed_4[0][0]         \n",
      "                                                                 embedding_2[0][0]                \n",
      "__________________________________________________________________________________________________\n",
      "dropout_2 (Dropout)             (None, None, 150)    0           concatenate_1[0][0]              \n",
      "__________________________________________________________________________________________________\n",
      "bidirectional_1 (Bidirectional) (None, None, 400)    561600      dropout_2[0][0]                  \n",
      "__________________________________________________________________________________________________\n",
      "dropout_3 (Dropout)             (None, None, 400)    0           bidirectional_1[0][0]            \n",
      "__________________________________________________________________________________________________\n",
      "dense_1 (Dense)                 (None, None, 17)     6817        dropout_3[0][0]                  \n",
      "__________________________________________________________________________________________________\n",
      "crf_1 (CRF)                     (None, None, 17)     629         dense_1[0][0]                    \n",
      "==================================================================================================\n",
      "Total params: 40,840,646\n",
      "Trainable params: 40,840,646\n",
      "Non-trainable params: 0\n",
      "__________________________________________________________________________________________________\n"
     ]
    },
    {
     "name": "stderr",
     "output_type": "stream",
     "text": [
      "/Users/pierre/opt/anaconda3/lib/python3.7/site-packages/keras_contrib/layers/crf.py:346: UserWarning: CRF.loss_function is deprecated and it might be removed in the future. Please use losses.crf_loss instead.\n",
      "  warnings.warn('CRF.loss_function is deprecated '\n",
      "/Users/pierre/opt/anaconda3/lib/python3.7/site-packages/keras_contrib/layers/crf.py:353: UserWarning: CRF.accuracy is deprecated and it might be removed in the future. Please use metrics.crf_accuracy\n",
      "  warnings.warn('CRF.accuracy is deprecated and it '\n"
     ]
    }
   ],
   "source": [
    "if ADD_CRF:\n",
    "    model.compile(optimizer='rmsprop',\n",
    "                      loss=crf.loss_function,\n",
    "                      metrics=[crf.accuracy])\n",
    "else:\n",
    "    model.compile(optimizer='rmsprop',\n",
    "                  loss='categorical_crossentropy',\n",
    "                  metrics=['acc'])\n",
    "model.summary()"
   ]
  },
  {
   "cell_type": "markdown",
   "metadata": {},
   "source": [
    "## Creating the Batches"
   ]
  },
  {
   "cell_type": "markdown",
   "metadata": {},
   "source": [
    "We now create the histogram of sentence lengths. `groupby` is like the `uniq -c` shell command. We obtain a list of pairs: (sentence length, count of sentences that have this length)"
   ]
  },
  {
   "cell_type": "code",
   "execution_count": 26,
   "metadata": {},
   "outputs": [
    {
     "data": {
      "text/plain": [
       "[(1, 1125),\n",
       " (2, 1129),\n",
       " (3, 586),\n",
       " (4, 771),\n",
       " (5, 751),\n",
       " (6, 625),\n",
       " (7, 904),\n",
       " (8, 1056),\n",
       " (9, 894),\n",
       " (10, 503)]"
      ]
     },
     "execution_count": 26,
     "metadata": {},
     "output_type": "execute_result"
    }
   ],
   "source": [
    "from itertools import groupby\n",
    "train_sent_len_list = list(map(lambda x: len(x[0]), training_set_sorted))\n",
    "train_length_hist = [(x[0], len(list(x[1]))) for x in groupby(train_sent_len_list)]\n",
    "train_length_hist[:10]"
   ]
  },
  {
   "cell_type": "code",
   "execution_count": 27,
   "metadata": {},
   "outputs": [
    {
     "data": {
      "text/plain": [
       "<BarContainer object of 64 artists>"
      ]
     },
     "execution_count": 27,
     "metadata": {},
     "output_type": "execute_result"
    },
    {
     "data": {
      "image/png": "[encoded data removed]",
      "text/plain": [
       "<Figure size 432x288 with 1 Axes>"
      ]
     },
     "metadata": {
      "needs_background": "light"
     },
     "output_type": "display_data"
    }
   ],
   "source": [
    "plt.bar(list(map(lambda x: x[0], train_length_hist)),\n",
    "        list(map(lambda x: x[1], train_length_hist)))"
   ]
  },
  {
   "cell_type": "markdown",
   "metadata": {},
   "source": [
    "We create bins of sentences of the same length. This is to avoid padding"
   ]
  },
  {
   "cell_type": "code",
   "execution_count": 28,
   "metadata": {},
   "outputs": [],
   "source": [
    "training_bins = []\n",
    "for bin in train_length_hist:\n",
    "    training_bins += [training_set_sorted[:bin[1]]]\n",
    "    training_set_sorted = training_set_sorted[bin[1]:]"
   ]
  },
  {
   "cell_type": "markdown",
   "metadata": {},
   "source": [
    "## Training the Model"
   ]
  },
  {
   "cell_type": "markdown",
   "metadata": {},
   "source": [
    "We now create a generator to generate batches of sentences with the same length"
   ]
  },
  {
   "cell_type": "code",
   "execution_count": 29,
   "metadata": {},
   "outputs": [],
   "source": [
    "def minibatch_generator(dataset):\n",
    "    # We take the sentences of the same length\n",
    "    for sentence_bin in dataset:\n",
    "        # The number of batches. \n",
    "        batch_cnt = int(np.ceil((len(sentence_bin) / BATCH_SIZE)))\n",
    "        # We create batches of BATCH_SIZE\n",
    "        for j in range(batch_cnt):\n",
    "            char_batch = []\n",
    "            token_batch = []\n",
    "            label_batch = []\n",
    "            for sentence in sentence_bin[j*BATCH_SIZE:(j+1)*BATCH_SIZE]:\n",
    "                tokens, chars, labels = sentence\n",
    "                char_batch.append(chars)\n",
    "                token_batch.append(tokens)\n",
    "                label_batch.append(labels)\n",
    "            label_batch = list(map(lambda x: np.transpose([x]), label_batch))\n",
    "            label_batch = to_categorical(label_batch, num_classes=len(ner))\n",
    "            yield  np.asarray(char_batch), np.asarray(token_batch), label_batch"
   ]
  },
  {
   "cell_type": "code",
   "execution_count": 30,
   "metadata": {},
   "outputs": [
    {
     "data": {
      "text/plain": [
       "['loss', 'crf_viterbi_accuracy']"
      ]
     },
     "execution_count": 30,
     "metadata": {},
     "output_type": "execute_result"
    }
   ],
   "source": [
    "model.metrics_names"
   ]
  },
  {
   "cell_type": "code",
   "execution_count": 31,
   "metadata": {},
   "outputs": [],
   "source": [
    "def predict(X_char_idx, X_word_idx, model, idx2pos, default_tag='O'):\n",
    "    \"\"\"\n",
    "    Function to predict the test set and converts the indices to symbols\n",
    "    \"\"\"\n",
    "\n",
    "    Y_pred_vect = []\n",
    "    for x_char, x_word in zip(X_char_idx, X_word_idx):\n",
    "        y_pred_vect = model.predict([np.array([x_char]),\n",
    "                                          np.array([x_word])])[0]\n",
    "        Y_pred_vect += [y_pred_vect]\n",
    "\n",
    "    # print('Y_test_pred_vect', Y_test_pred_vect[:2])\n",
    "    # Convert to POS or NER idx to symbols\n",
    "    Y_pred = []\n",
    "    for y_pred_vect in Y_pred_vect:\n",
    "        pos_idx = np.argmax(y_pred_vect, axis=-1)\n",
    "        # print('POS_IDX', pos_idx)\n",
    "        # We convert the indices into symbols\n",
    "        # If the symbol does not exist, we tag the word with O, the default tag\n",
    "        pos_cat = list(map(lambda x: idx2pos.get(x, default_tag), pos_idx))\n",
    "        # We add a sanity check if the classifier has predicted a nonvalid tag.\n",
    "        # This could only be the padding index: 0\n",
    "        for pos in pos_idx:\n",
    "            if pos not in idx2pos:\n",
    "                print('Bad, should not occur:', pos)\n",
    "                print((-y_pred_vect).argsort())\n",
    "                print('Bad, should not occur:', y_pred_vect)\n",
    "        Y_pred += [pos_cat]\n",
    "    return Y_pred"
   ]
  },
  {
   "cell_type": "markdown",
   "metadata": {},
   "source": [
    "With the next function, we format the words, the named entity tags, and the predicted named entity tags so that we can evaluate them. It necessary converts them to the IOBES tagset."
   ]
  },
  {
   "cell_type": "code",
   "execution_count": 32,
   "metadata": {},
   "outputs": [],
   "source": [
    "def format_conll(X_words, Y, Y_hat):\n",
    "    total_words = 0\n",
    "    correct = 0\n",
    "    total_ukn = 0\n",
    "    correct_ukn = 0\n",
    "    conll_pred_corpus = ''\n",
    "    \n",
    "    for sent_nbr, y_vect_hat in enumerate(Y_hat):\n",
    "        for word_nbr, y_hat in enumerate(y_vect_hat):\n",
    "            unknown_word = False\n",
    "            # y is the correct named entity tag\n",
    "            y = Y[sent_nbr][word_nbr]\n",
    "            if ANNOTATION == 'IOBES':\n",
    "                if y[0] == 'S':\n",
    "                    y = 'B' + y[1:]\n",
    "                if y[0] == 'E':\n",
    "                    y = 'I' + y[1:]\n",
    "                if y_hat[0] == 'S':\n",
    "                    y_hat = 'B' + y_hat[1:]\n",
    "                if y_hat[0] == 'E':\n",
    "                    y_hat = 'I' + y_hat[1:]\n",
    "            line = ' '.join([X_words[sent_nbr][word_nbr],\n",
    "                                     y, y_hat])\n",
    "            line += '\\n'\n",
    "            total_words += 1\n",
    "            conll_pred_corpus += line\n",
    "            #file.write(line)\n",
    "            # The word is not in the dictionary\n",
    "            if X_words[sent_nbr][word_nbr] not in word2idx:\n",
    "                total_ukn += 1\n",
    "                unknown_word = True\n",
    "            if y_hat == y:\n",
    "                correct += 1\n",
    "                if unknown_word:\n",
    "                    correct_ukn += 1\n",
    "        conll_pred_corpus += '\\n'\n",
    "        #file.write('\\n')\n",
    "    print('total %d, correct %d, accuracy %f' % (total_words, correct, correct / total_words))\n",
    "    if total_ukn != 0:\n",
    "        print('total unknown %d, correct %d, accuracy %f' % (total_ukn, correct_ukn, correct_ukn / total_ukn))\n",
    "    return conll_pred_corpus"
   ]
  },
  {
   "cell_type": "code",
   "execution_count": 33,
   "metadata": {
    "scrolled": true
   },
   "outputs": [
    {
     "name": "stderr",
     "output_type": "stream",
     "text": [
      "0it [00:00, ?it/s]"
     ]
    },
    {
     "name": "stdout",
     "output_type": "stream",
     "text": [
      "Epoch 1/80\n"
     ]
    },
    {
     "name": "stderr",
     "output_type": "stream",
     "text": [
      "/Users/pierre/opt/anaconda3/lib/python3.7/site-packages/tensorflow_core/python/framework/indexed_slices.py:433: UserWarning: Converting sparse IndexedSlices to a dense Tensor of unknown shape. This may consume a large amount of memory.\n",
      "  \"Converting sparse IndexedSlices to a dense Tensor of unknown shape. \"\n",
      "76it [00:39,  1.90it/s]\n"
     ]
    },
    {
     "name": "stdout",
     "output_type": "stream",
     "text": [
      "CoNLL score dev set\n",
      "total 51578, correct 43887, accuracy 0.850886\n",
      "total unknown 713, correct 509, accuracy 0.713885\n",
      "processed 51578 tokens with 5942 phrases; found: 1322 phrases; correct: 669.\n",
      "accuracy:  85.09%; precision:  50.61%; recall:  11.26%; FB1:  18.42\n",
      "              LOC: precision:  81.63%; recall:  19.11%; FB1:  30.97  430\n",
      "             MISC: precision:   0.00%; recall:   0.00%; FB1:   0.00  13\n",
      "              ORG: precision:  70.52%; recall:   9.10%; FB1:  16.12  173\n",
      "              PER: precision:  27.76%; recall:  10.64%; FB1:  15.38  706\n",
      "\n",
      "CoNLL score test set\n",
      "total 46666, correct 39473, accuracy 0.845862\n",
      "total unknown 1143, correct 857, accuracy 0.749781\n"
     ]
    },
    {
     "name": "stderr",
     "output_type": "stream",
     "text": [
      "0it [00:00, ?it/s]"
     ]
    },
    {
     "name": "stdout",
     "output_type": "stream",
     "text": [
      "processed 46666 tokens with 5648 phrases; found: 1416 phrases; correct: 635.\n",
      "accuracy:  84.59%; precision:  44.84%; recall:  11.24%; FB1:  17.98\n",
      "              LOC: precision:  69.25%; recall:  20.38%; FB1:  31.50  491\n",
      "             MISC: precision:   0.00%; recall:   0.00%; FB1:   0.00  14\n",
      "              ORG: precision:  38.63%; recall:   5.42%; FB1:   9.50  233\n",
      "              PER: precision:  30.24%; recall:  12.68%; FB1:  17.86  678\n",
      "\n",
      "Epoch 2/80\n"
     ]
    },
    {
     "name": "stderr",
     "output_type": "stream",
     "text": [
      "76it [00:37,  2.04it/s]\n"
     ]
    },
    {
     "name": "stdout",
     "output_type": "stream",
     "text": [
      "CoNLL score dev set\n",
      "total 51578, correct 46176, accuracy 0.895265\n",
      "total unknown 713, correct 548, accuracy 0.768583\n",
      "processed 51578 tokens with 5942 phrases; found: 3101 phrases; correct: 2144.\n",
      "accuracy:  89.53%; precision:  69.14%; recall:  36.08%; FB1:  47.42\n",
      "              LOC: precision:  85.03%; recall:  45.45%; FB1:  59.24  982\n",
      "             MISC: precision:  82.61%; recall:   6.18%; FB1:  11.50  69\n",
      "              ORG: precision:  64.96%; recall:  25.58%; FB1:  36.70  528\n",
      "              PER: precision:  59.72%; recall:  49.35%; FB1:  54.04  1522\n",
      "\n",
      "CoNLL score test set\n",
      "total 46666, correct 41559, accuracy 0.890563\n",
      "total unknown 1143, correct 911, accuracy 0.797025\n"
     ]
    },
    {
     "name": "stderr",
     "output_type": "stream",
     "text": [
      "0it [00:00, ?it/s]"
     ]
    },
    {
     "name": "stdout",
     "output_type": "stream",
     "text": [
      "processed 46666 tokens with 5648 phrases; found: 3099 phrases; correct: 2021.\n",
      "accuracy:  89.06%; precision:  65.21%; recall:  35.78%; FB1:  46.21\n",
      "              LOC: precision:  77.36%; recall:  44.66%; FB1:  56.63  963\n",
      "             MISC: precision:  70.83%; recall:   4.84%; FB1:   9.07  48\n",
      "              ORG: precision:  54.40%; recall:  26.79%; FB1:  35.90  818\n",
      "              PER: precision:  62.76%; recall:  49.29%; FB1:  55.21  1270\n",
      "\n",
      "Epoch 3/80\n"
     ]
    },
    {
     "name": "stderr",
     "output_type": "stream",
     "text": [
      "76it [00:37,  2.05it/s]\n"
     ]
    },
    {
     "name": "stdout",
     "output_type": "stream",
     "text": [
      "CoNLL score dev set\n",
      "total 51578, correct 47929, accuracy 0.929253\n",
      "total unknown 713, correct 607, accuracy 0.851332\n",
      "processed 51578 tokens with 5942 phrases; found: 4796 phrases; correct: 3639.\n",
      "accuracy:  92.93%; precision:  75.88%; recall:  61.24%; FB1:  67.78\n",
      "              LOC: precision:  81.56%; recall:  71.53%; FB1:  76.22  1611\n",
      "             MISC: precision:  82.21%; recall:  29.07%; FB1:  42.95  326\n",
      "              ORG: precision:  56.51%; recall:  47.58%; FB1:  51.66  1129\n",
      "              PER: precision:  82.02%; recall:  77.04%; FB1:  79.45  1730\n",
      "\n",
      "CoNLL score test set\n",
      "total 46666, correct 43033, accuracy 0.922149\n",
      "total unknown 1143, correct 983, accuracy 0.860017\n"
     ]
    },
    {
     "name": "stderr",
     "output_type": "stream",
     "text": [
      "0it [00:00, ?it/s]"
     ]
    },
    {
     "name": "stdout",
     "output_type": "stream",
     "text": [
      "processed 46666 tokens with 5648 phrases; found: 4841 phrases; correct: 3289.\n",
      "accuracy:  92.21%; precision:  67.94%; recall:  58.23%; FB1:  62.71\n",
      "              LOC: precision:  73.39%; recall:  70.92%; FB1:  72.13  1612\n",
      "             MISC: precision:  78.21%; recall:  28.63%; FB1:  41.92  257\n",
      "              ORG: precision:  49.27%; recall:  44.79%; FB1:  46.93  1510\n",
      "              PER: precision:  79.41%; recall:  71.80%; FB1:  75.41  1462\n",
      "\n",
      "Epoch 4/80\n"
     ]
    },
    {
     "name": "stderr",
     "output_type": "stream",
     "text": [
      "76it [00:37,  2.04it/s]\n"
     ]
    },
    {
     "name": "stdout",
     "output_type": "stream",
     "text": [
      "CoNLL score dev set\n",
      "total 51578, correct 48798, accuracy 0.946101\n",
      "total unknown 713, correct 627, accuracy 0.879383\n",
      "processed 51578 tokens with 5942 phrases; found: 5424 phrases; correct: 4299.\n",
      "accuracy:  94.61%; precision:  79.26%; recall:  72.35%; FB1:  75.65\n",
      "              LOC: precision:  84.26%; recall:  83.94%; FB1:  84.10  1830\n",
      "             MISC: precision:  83.67%; recall:  44.47%; FB1:  58.07  490\n",
      "              ORG: precision:  64.40%; recall:  57.87%; FB1:  60.96  1205\n",
      "              PER: precision:  82.73%; recall:  85.29%; FB1:  83.99  1899\n",
      "\n",
      "CoNLL score test set\n",
      "total 46666, correct 43885, accuracy 0.940406\n",
      "total unknown 1143, correct 1006, accuracy 0.880140\n"
     ]
    },
    {
     "name": "stderr",
     "output_type": "stream",
     "text": [
      "0it [00:00, ?it/s]"
     ]
    },
    {
     "name": "stdout",
     "output_type": "stream",
     "text": [
      "processed 46666 tokens with 5648 phrases; found: 5452 phrases; correct: 3966.\n",
      "accuracy:  94.04%; precision:  72.74%; recall:  70.22%; FB1:  71.46\n",
      "              LOC: precision:  78.12%; recall:  82.61%; FB1:  80.30  1764\n",
      "             MISC: precision:  74.04%; recall:  43.87%; FB1:  55.10  416\n",
      "              ORG: precision:  58.38%; recall:  58.28%; FB1:  58.33  1658\n",
      "              PER: precision:  81.29%; recall:  81.14%; FB1:  81.21  1614\n",
      "\n",
      "Epoch 5/80\n"
     ]
    },
    {
     "name": "stderr",
     "output_type": "stream",
     "text": [
      "76it [00:37,  2.02it/s]\n"
     ]
    },
    {
     "name": "stdout",
     "output_type": "stream",
     "text": [
      "CoNLL score dev set\n",
      "total 51578, correct 49065, accuracy 0.951278\n",
      "total unknown 713, correct 627, accuracy 0.879383\n",
      "processed 51578 tokens with 5942 phrases; found: 5328 phrases; correct: 4375.\n",
      "accuracy:  95.13%; precision:  82.11%; recall:  73.63%; FB1:  77.64\n",
      "              LOC: precision:  89.24%; recall:  81.27%; FB1:  85.07  1673\n",
      "             MISC: precision:  83.19%; recall:  52.06%; FB1:  64.04  577\n",
      "              ORG: precision:  65.03%; recall:  63.09%; FB1:  64.04  1301\n",
      "              PER: precision:  87.56%; recall:  84.47%; FB1:  85.99  1777\n",
      "\n",
      "CoNLL score test set\n",
      "total 46666, correct 44041, accuracy 0.943749\n",
      "total unknown 1143, correct 1001, accuracy 0.875766\n"
     ]
    },
    {
     "name": "stderr",
     "output_type": "stream",
     "text": [
      "0it [00:00, ?it/s]"
     ]
    },
    {
     "name": "stdout",
     "output_type": "stream",
     "text": [
      "processed 46666 tokens with 5648 phrases; found: 5260 phrases; correct: 3982.\n",
      "accuracy:  94.37%; precision:  75.70%; recall:  70.50%; FB1:  73.01\n",
      "              LOC: precision:  83.93%; recall:  78.60%; FB1:  81.18  1562\n",
      "             MISC: precision:  71.81%; recall:  49.72%; FB1:  58.75  486\n",
      "              ORG: precision:  61.66%; recall:  63.52%; FB1:  62.57  1711\n",
      "              PER: precision:  84.41%; recall:  78.35%; FB1:  81.27  1501\n",
      "\n",
      "Epoch 6/80\n"
     ]
    },
    {
     "name": "stderr",
     "output_type": "stream",
     "text": [
      "76it [00:37,  2.02it/s]\n"
     ]
    },
    {
     "name": "stdout",
     "output_type": "stream",
     "text": [
      "CoNLL score dev set\n",
      "total 51578, correct 49733, accuracy 0.964229\n",
      "total unknown 713, correct 636, accuracy 0.892006\n",
      "processed 51578 tokens with 5942 phrases; found: 5907 phrases; correct: 4886.\n",
      "accuracy:  96.42%; precision:  82.72%; recall:  82.23%; FB1:  82.47\n",
      "              LOC: precision:  89.57%; recall:  86.99%; FB1:  88.26  1784\n",
      "             MISC: precision:  84.12%; recall:  62.04%; FB1:  71.41  680\n",
      "              ORG: precision:  65.66%; recall:  75.99%; FB1:  70.45  1552\n",
      "              PER: precision:  89.74%; recall:  92.13%; FB1:  90.92  1891\n",
      "\n",
      "CoNLL score test set\n",
      "total 46666, correct 44691, accuracy 0.957678\n",
      "total unknown 1143, correct 1022, accuracy 0.894138\n"
     ]
    },
    {
     "name": "stderr",
     "output_type": "stream",
     "text": [
      "0it [00:00, ?it/s]"
     ]
    },
    {
     "name": "stdout",
     "output_type": "stream",
     "text": [
      "processed 46666 tokens with 5648 phrases; found: 5737 phrases; correct: 4547.\n",
      "accuracy:  95.77%; precision:  79.26%; recall:  80.51%; FB1:  79.88\n",
      "              LOC: precision:  85.24%; recall:  86.57%; FB1:  85.90  1694\n",
      "             MISC: precision:  76.31%; recall:  58.26%; FB1:  66.07  536\n",
      "              ORG: precision:  66.10%; recall:  76.64%; FB1:  70.98  1926\n",
      "              PER: precision:  89.88%; recall:  87.88%; FB1:  88.87  1581\n",
      "\n",
      "Epoch 7/80\n"
     ]
    },
    {
     "name": "stderr",
     "output_type": "stream",
     "text": [
      "76it [00:37,  2.03it/s]\n"
     ]
    },
    {
     "name": "stdout",
     "output_type": "stream",
     "text": [
      "CoNLL score dev set\n",
      "total 51578, correct 49933, accuracy 0.968107\n",
      "total unknown 713, correct 650, accuracy 0.911641\n",
      "processed 51578 tokens with 5942 phrases; found: 6043 phrases; correct: 5061.\n",
      "accuracy:  96.81%; precision:  83.75%; recall:  85.17%; FB1:  84.46\n",
      "              LOC: precision:  91.86%; recall:  88.51%; FB1:  90.16  1770\n",
      "             MISC: precision:  85.43%; recall:  65.51%; FB1:  74.16  707\n",
      "              ORG: precision:  69.17%; recall:  82.33%; FB1:  75.18  1596\n",
      "              PER: precision:  87.66%; recall:  93.76%; FB1:  90.61  1970\n",
      "\n",
      "CoNLL score test set\n",
      "total 46666, correct 44791, accuracy 0.959821\n",
      "total unknown 1143, correct 1020, accuracy 0.892388\n"
     ]
    },
    {
     "name": "stderr",
     "output_type": "stream",
     "text": [
      "0it [00:00, ?it/s]"
     ]
    },
    {
     "name": "stdout",
     "output_type": "stream",
     "text": [
      "processed 46666 tokens with 5648 phrases; found: 5814 phrases; correct: 4684.\n",
      "accuracy:  95.98%; precision:  80.56%; recall:  82.93%; FB1:  81.73\n",
      "              LOC: precision:  87.97%; recall:  87.23%; FB1:  87.60  1654\n",
      "             MISC: precision:  78.26%; recall:  61.54%; FB1:  68.90  552\n",
      "              ORG: precision:  69.01%; recall:  80.43%; FB1:  74.28  1936\n",
      "              PER: precision:  87.38%; recall:  90.35%; FB1:  88.84  1672\n",
      "\n",
      "Epoch 8/80\n"
     ]
    },
    {
     "name": "stderr",
     "output_type": "stream",
     "text": [
      "76it [00:37,  2.01it/s]\n"
     ]
    },
    {
     "name": "stdout",
     "output_type": "stream",
     "text": [
      "CoNLL score dev set\n",
      "total 51578, correct 50096, accuracy 0.971267\n",
      "total unknown 713, correct 653, accuracy 0.915849\n",
      "processed 51578 tokens with 5942 phrases; found: 6199 phrases; correct: 5196.\n",
      "accuracy:  97.13%; precision:  83.82%; recall:  87.45%; FB1:  85.59\n",
      "              LOC: precision:  91.39%; recall:  90.69%; FB1:  91.04  1823\n",
      "             MISC: precision:  86.43%; recall:  67.68%; FB1:  75.91  722\n",
      "              ORG: precision:  68.35%; recall:  86.80%; FB1:  76.48  1703\n",
      "              PER: precision:  89.29%; recall:  94.57%; FB1:  91.85  1951\n",
      "\n",
      "CoNLL score test set\n",
      "total 46666, correct 44902, accuracy 0.962199\n",
      "total unknown 1143, correct 1027, accuracy 0.898513\n"
     ]
    },
    {
     "name": "stderr",
     "output_type": "stream",
     "text": [
      "0it [00:00, ?it/s]"
     ]
    },
    {
     "name": "stdout",
     "output_type": "stream",
     "text": [
      "processed 46666 tokens with 5648 phrases; found: 5959 phrases; correct: 4808.\n",
      "accuracy:  96.22%; precision:  80.68%; recall:  85.13%; FB1:  82.85\n",
      "              LOC: precision:  87.43%; recall:  89.21%; FB1:  88.31  1702\n",
      "             MISC: precision:  76.68%; recall:  63.25%; FB1:  69.32  579\n",
      "              ORG: precision:  68.41%; recall:  85.25%; FB1:  75.90  2070\n",
      "              PER: precision:  90.80%; recall:  90.29%; FB1:  90.54  1608\n",
      "\n",
      "Epoch 9/80\n"
     ]
    },
    {
     "name": "stderr",
     "output_type": "stream",
     "text": [
      "76it [00:38,  2.00it/s]\n"
     ]
    },
    {
     "name": "stdout",
     "output_type": "stream",
     "text": [
      "CoNLL score dev set\n",
      "total 51578, correct 50099, accuracy 0.971325\n",
      "total unknown 713, correct 651, accuracy 0.913043\n",
      "processed 51578 tokens with 5942 phrases; found: 6156 phrases; correct: 5207.\n",
      "accuracy:  97.13%; precision:  84.58%; recall:  87.63%; FB1:  86.08\n",
      "              LOC: precision:  94.49%; recall:  89.60%; FB1:  91.98  1742\n",
      "             MISC: precision:  87.33%; recall:  68.76%; FB1:  76.94  726\n",
      "              ORG: precision:  68.49%; recall:  87.99%; FB1:  77.02  1723\n",
      "              PER: precision:  88.91%; recall:  94.84%; FB1:  91.78  1965\n",
      "\n",
      "CoNLL score test set\n",
      "total 46666, correct 44934, accuracy 0.962885\n",
      "total unknown 1143, correct 1029, accuracy 0.900262\n"
     ]
    },
    {
     "name": "stderr",
     "output_type": "stream",
     "text": [
      "0it [00:00, ?it/s]"
     ]
    },
    {
     "name": "stdout",
     "output_type": "stream",
     "text": [
      "processed 46666 tokens with 5648 phrases; found: 5936 phrases; correct: 4864.\n",
      "accuracy:  96.29%; precision:  81.94%; recall:  86.12%; FB1:  83.98\n",
      "              LOC: precision:  90.86%; recall:  88.85%; FB1:  89.85  1631\n",
      "             MISC: precision:  79.41%; recall:  65.38%; FB1:  71.72  578\n",
      "              ORG: precision:  69.71%; recall:  87.00%; FB1:  77.40  2073\n",
      "              PER: precision:  89.36%; recall:  91.40%; FB1:  90.37  1654\n",
      "\n",
      "Epoch 10/80\n"
     ]
    },
    {
     "name": "stderr",
     "output_type": "stream",
     "text": [
      "76it [00:37,  2.00it/s]\n"
     ]
    },
    {
     "name": "stdout",
     "output_type": "stream",
     "text": [
      "CoNLL score dev set\n",
      "total 51578, correct 49881, accuracy 0.967098\n",
      "total unknown 713, correct 653, accuracy 0.915849\n",
      "processed 51578 tokens with 5942 phrases; found: 6233 phrases; correct: 5172.\n",
      "accuracy:  96.71%; precision:  82.98%; recall:  87.04%; FB1:  84.96\n",
      "              LOC: precision:  92.81%; recall:  89.98%; FB1:  91.38  1781\n",
      "             MISC: precision:  88.54%; recall:  67.90%; FB1:  76.86  707\n",
      "              ORG: precision:  64.38%; recall:  86.65%; FB1:  73.87  1805\n",
      "              PER: precision:  89.23%; recall:  93.97%; FB1:  91.54  1940\n",
      "\n",
      "CoNLL score test set\n",
      "total 46666, correct 44605, accuracy 0.955835\n",
      "total unknown 1143, correct 1022, accuracy 0.894138\n"
     ]
    },
    {
     "name": "stderr",
     "output_type": "stream",
     "text": [
      "0it [00:00, ?it/s]"
     ]
    },
    {
     "name": "stdout",
     "output_type": "stream",
     "text": [
      "processed 46666 tokens with 5648 phrases; found: 6044 phrases; correct: 4778.\n",
      "accuracy:  95.58%; precision:  79.05%; recall:  84.60%; FB1:  81.73\n",
      "              LOC: precision:  89.22%; recall:  88.79%; FB1:  89.00  1660\n",
      "             MISC: precision:  75.73%; recall:  62.68%; FB1:  68.59  581\n",
      "              ORG: precision:  64.51%; recall:  85.91%; FB1:  73.69  2212\n",
      "              PER: precision:  89.88%; recall:  88.44%; FB1:  89.15  1591\n",
      "\n",
      "Epoch 11/80\n"
     ]
    },
    {
     "name": "stderr",
     "output_type": "stream",
     "text": [
      "76it [00:37,  2.00it/s]\n"
     ]
    },
    {
     "name": "stdout",
     "output_type": "stream",
     "text": [
      "CoNLL score dev set\n",
      "total 51578, correct 50333, accuracy 0.975862\n",
      "total unknown 713, correct 655, accuracy 0.918654\n",
      "processed 51578 tokens with 5942 phrases; found: 6133 phrases; correct: 5349.\n",
      "accuracy:  97.59%; precision:  87.22%; recall:  90.02%; FB1:  88.60\n",
      "              LOC: precision:  93.29%; recall:  93.79%; FB1:  93.54  1847\n",
      "             MISC: precision:  87.11%; recall:  75.49%; FB1:  80.88  799\n",
      "              ORG: precision:  73.84%; recall:  89.26%; FB1:  80.82  1621\n",
      "              PER: precision:  92.87%; recall:  94.08%; FB1:  93.47  1866\n",
      "\n",
      "CoNLL score test set\n",
      "total 46666, correct 45030, accuracy 0.964942\n",
      "total unknown 1143, correct 1029, accuracy 0.900262\n"
     ]
    },
    {
     "name": "stderr",
     "output_type": "stream",
     "text": [
      "0it [00:00, ?it/s]"
     ]
    },
    {
     "name": "stdout",
     "output_type": "stream",
     "text": [
      "processed 46666 tokens with 5648 phrases; found: 5924 phrases; correct: 4895.\n",
      "accuracy:  96.49%; precision:  82.63%; recall:  86.67%; FB1:  84.60\n",
      "              LOC: precision:  89.42%; recall:  91.25%; FB1:  90.33  1702\n",
      "             MISC: precision:  72.67%; recall:  67.81%; FB1:  70.15  655\n",
      "              ORG: precision:  72.28%; recall:  87.60%; FB1:  79.21  2013\n",
      "              PER: precision:  92.79%; recall:  89.18%; FB1:  90.95  1554\n",
      "\n",
      "Epoch 12/80\n"
     ]
    },
    {
     "name": "stderr",
     "output_type": "stream",
     "text": [
      "76it [00:37,  2.00it/s]\n"
     ]
    },
    {
     "name": "stdout",
     "output_type": "stream",
     "text": [
      "CoNLL score dev set\n",
      "total 51578, correct 50487, accuracy 0.978848\n",
      "total unknown 713, correct 649, accuracy 0.910238\n",
      "processed 51578 tokens with 5942 phrases; found: 5985 phrases; correct: 5309.\n",
      "accuracy:  97.88%; precision:  88.71%; recall:  89.35%; FB1:  89.02\n",
      "              LOC: precision:  95.86%; recall:  89.44%; FB1:  92.54  1714\n",
      "             MISC: precision:  91.28%; recall:  77.22%; FB1:  83.67  780\n",
      "              ORG: precision:  78.19%; recall:  88.74%; FB1:  83.13  1522\n",
      "              PER: precision:  89.59%; recall:  95.77%; FB1:  92.57  1969\n",
      "\n",
      "CoNLL score test set\n",
      "total 46666, correct 45365, accuracy 0.972121\n",
      "total unknown 1143, correct 1038, accuracy 0.908136\n"
     ]
    },
    {
     "name": "stderr",
     "output_type": "stream",
     "text": [
      "0it [00:00, ?it/s]"
     ]
    },
    {
     "name": "stdout",
     "output_type": "stream",
     "text": [
      "processed 46666 tokens with 5648 phrases; found: 5737 phrases; correct: 4944.\n",
      "accuracy:  97.21%; precision:  86.18%; recall:  87.54%; FB1:  86.85\n",
      "              LOC: precision:  93.02%; recall:  88.73%; FB1:  90.83  1591\n",
      "             MISC: precision:  78.40%; recall:  71.37%; FB1:  74.72  639\n",
      "              ORG: precision:  79.33%; recall:  87.12%; FB1:  83.04  1824\n",
      "              PER: precision:  90.08%; recall:  93.75%; FB1:  91.88  1683\n",
      "\n",
      "Epoch 13/80\n"
     ]
    },
    {
     "name": "stderr",
     "output_type": "stream",
     "text": [
      "76it [00:37,  2.01it/s]\n"
     ]
    },
    {
     "name": "stdout",
     "output_type": "stream",
     "text": [
      "CoNLL score dev set\n",
      "total 51578, correct 50391, accuracy 0.976986\n",
      "total unknown 713, correct 655, accuracy 0.918654\n",
      "processed 51578 tokens with 5942 phrases; found: 6045 phrases; correct: 5354.\n",
      "accuracy:  97.70%; precision:  88.57%; recall:  90.10%; FB1:  89.33\n",
      "              LOC: precision:  96.01%; recall:  93.03%; FB1:  94.50  1780\n",
      "             MISC: precision:  90.59%; recall:  75.16%; FB1:  82.16  765\n",
      "              ORG: precision:  74.71%; recall:  90.31%; FB1:  81.77  1621\n",
      "              PER: precision:  92.66%; recall:  94.52%; FB1:  93.58  1879\n",
      "\n",
      "CoNLL score test set\n",
      "total 46666, correct 45145, accuracy 0.967407\n",
      "total unknown 1143, correct 1033, accuracy 0.903762\n"
     ]
    },
    {
     "name": "stderr",
     "output_type": "stream",
     "text": [
      "0it [00:00, ?it/s]"
     ]
    },
    {
     "name": "stdout",
     "output_type": "stream",
     "text": [
      "processed 46666 tokens with 5648 phrases; found: 5831 phrases; correct: 4923.\n",
      "accuracy:  96.74%; precision:  84.43%; recall:  87.16%; FB1:  85.77\n",
      "              LOC: precision:  91.83%; recall:  90.95%; FB1:  91.39  1652\n",
      "             MISC: precision:  77.39%; recall:  66.81%; FB1:  71.71  606\n",
      "              ORG: precision:  73.85%; recall:  88.92%; FB1:  80.69  2000\n",
      "              PER: precision:  92.82%; recall:  90.29%; FB1:  91.54  1573\n",
      "\n",
      "Epoch 14/80\n"
     ]
    },
    {
     "name": "stderr",
     "output_type": "stream",
     "text": [
      "76it [00:38,  1.99it/s]\n"
     ]
    },
    {
     "name": "stdout",
     "output_type": "stream",
     "text": [
      "CoNLL score dev set\n",
      "total 51578, correct 50460, accuracy 0.978324\n",
      "total unknown 713, correct 660, accuracy 0.925666\n",
      "processed 51578 tokens with 5942 phrases; found: 6049 phrases; correct: 5374.\n",
      "accuracy:  97.83%; precision:  88.84%; recall:  90.44%; FB1:  89.63\n",
      "              LOC: precision:  95.27%; recall:  94.34%; FB1:  94.80  1819\n",
      "             MISC: precision:  90.09%; recall:  72.99%; FB1:  80.65  747\n",
      "              ORG: precision:  76.38%; recall:  90.68%; FB1:  82.92  1592\n",
      "              PER: precision:  92.65%; recall:  95.11%; FB1:  93.87  1891\n",
      "\n",
      "CoNLL score test set\n",
      "total 46666, correct 45240, accuracy 0.969442\n",
      "total unknown 1143, correct 1039, accuracy 0.909011\n"
     ]
    },
    {
     "name": "stderr",
     "output_type": "stream",
     "text": [
      "0it [00:00, ?it/s]"
     ]
    },
    {
     "name": "stdout",
     "output_type": "stream",
     "text": [
      "processed 46666 tokens with 5648 phrases; found: 5822 phrases; correct: 4964.\n",
      "accuracy:  96.94%; precision:  85.26%; recall:  87.89%; FB1:  86.56\n",
      "              LOC: precision:  90.76%; recall:  92.51%; FB1:  91.63  1700\n",
      "             MISC: precision:  79.25%; recall:  66.38%; FB1:  72.25  588\n",
      "              ORG: precision:  76.00%; recall:  89.04%; FB1:  82.01  1946\n",
      "              PER: precision:  92.95%; recall:  91.28%; FB1:  92.11  1588\n",
      "\n",
      "Epoch 15/80\n"
     ]
    },
    {
     "name": "stderr",
     "output_type": "stream",
     "text": [
      "76it [00:37,  2.02it/s]\n"
     ]
    },
    {
     "name": "stdout",
     "output_type": "stream",
     "text": [
      "CoNLL score dev set\n",
      "total 51578, correct 50407, accuracy 0.977297\n",
      "total unknown 713, correct 657, accuracy 0.921459\n",
      "processed 51578 tokens with 5942 phrases; found: 5998 phrases; correct: 5339.\n",
      "accuracy:  97.73%; precision:  89.01%; recall:  89.85%; FB1:  89.43\n",
      "              LOC: precision:  97.07%; recall:  92.11%; FB1:  94.53  1743\n",
      "             MISC: precision:  90.08%; recall:  76.79%; FB1:  82.90  786\n",
      "              ORG: precision:  75.03%; recall:  89.86%; FB1:  81.78  1606\n",
      "              PER: precision:  93.08%; recall:  94.14%; FB1:  93.60  1863\n",
      "\n",
      "CoNLL score test set\n",
      "total 46666, correct 45165, accuracy 0.967835\n",
      "total unknown 1143, correct 1040, accuracy 0.909886\n"
     ]
    },
    {
     "name": "stderr",
     "output_type": "stream",
     "text": [
      "0it [00:00, ?it/s]"
     ]
    },
    {
     "name": "stdout",
     "output_type": "stream",
     "text": [
      "processed 46666 tokens with 5648 phrases; found: 5811 phrases; correct: 4930.\n",
      "accuracy:  96.78%; precision:  84.84%; recall:  87.29%; FB1:  86.05\n",
      "              LOC: precision:  93.38%; recall:  89.57%; FB1:  91.43  1600\n",
      "             MISC: precision:  76.87%; recall:  68.66%; FB1:  72.54  627\n",
      "              ORG: precision:  73.70%; recall:  89.58%; FB1:  80.87  2019\n",
      "              PER: precision:  93.67%; recall:  90.66%; FB1:  92.14  1565\n",
      "\n",
      "Epoch 16/80\n"
     ]
    },
    {
     "name": "stderr",
     "output_type": "stream",
     "text": [
      "76it [00:37,  2.02it/s]\n"
     ]
    },
    {
     "name": "stdout",
     "output_type": "stream",
     "text": [
      "CoNLL score dev set\n",
      "total 51578, correct 50572, accuracy 0.980496\n",
      "total unknown 713, correct 661, accuracy 0.927069\n",
      "processed 51578 tokens with 5942 phrases; found: 5915 phrases; correct: 5383.\n",
      "accuracy:  98.05%; precision:  91.01%; recall:  90.59%; FB1:  90.80\n",
      "              LOC: precision:  96.60%; recall:  94.45%; FB1:  95.51  1796\n",
      "             MISC: precision:  91.85%; recall:  77.01%; FB1:  83.78  773\n",
      "              ORG: precision:  80.36%; recall:  88.81%; FB1:  84.38  1482\n",
      "              PER: precision:  93.72%; recall:  94.84%; FB1:  94.28  1864\n",
      "\n",
      "CoNLL score test set\n",
      "total 46666, correct 45301, accuracy 0.970750\n",
      "total unknown 1143, correct 1040, accuracy 0.909886\n"
     ]
    },
    {
     "name": "stderr",
     "output_type": "stream",
     "text": [
      "0it [00:00, ?it/s]"
     ]
    },
    {
     "name": "stdout",
     "output_type": "stream",
     "text": [
      "processed 46666 tokens with 5648 phrases; found: 5692 phrases; correct: 4925.\n",
      "accuracy:  97.07%; precision:  86.52%; recall:  87.20%; FB1:  86.86\n",
      "              LOC: precision:  91.75%; recall:  91.37%; FB1:  91.56  1661\n",
      "             MISC: precision:  78.49%; recall:  66.52%; FB1:  72.01  595\n",
      "              ORG: precision:  78.33%; recall:  87.48%; FB1:  82.65  1855\n",
      "              PER: precision:  93.67%; recall:  91.59%; FB1:  92.62  1581\n",
      "\n",
      "Epoch 17/80\n"
     ]
    },
    {
     "name": "stderr",
     "output_type": "stream",
     "text": [
      "76it [00:37,  2.00it/s]\n"
     ]
    },
    {
     "name": "stdout",
     "output_type": "stream",
     "text": [
      "CoNLL score dev set\n",
      "total 51578, correct 50558, accuracy 0.980224\n",
      "total unknown 713, correct 656, accuracy 0.920056\n",
      "processed 51578 tokens with 5942 phrases; found: 5992 phrases; correct: 5369.\n",
      "accuracy:  98.02%; precision:  89.60%; recall:  90.36%; FB1:  89.98\n",
      "              LOC: precision:  96.62%; recall:  93.25%; FB1:  94.90  1773\n",
      "             MISC: precision:  92.72%; recall:  74.62%; FB1:  82.69  742\n",
      "              ORG: precision:  76.49%; recall:  90.98%; FB1:  83.11  1595\n",
      "              PER: precision:  92.88%; recall:  94.90%; FB1:  93.88  1882\n",
      "\n",
      "CoNLL score test set\n",
      "total 46666, correct 45341, accuracy 0.971607\n",
      "total unknown 1143, correct 1044, accuracy 0.913386\n"
     ]
    },
    {
     "name": "stderr",
     "output_type": "stream",
     "text": [
      "0it [00:00, ?it/s]"
     ]
    },
    {
     "name": "stdout",
     "output_type": "stream",
     "text": [
      "processed 46666 tokens with 5648 phrases; found: 5752 phrases; correct: 4952.\n",
      "accuracy:  97.16%; precision:  86.09%; recall:  87.68%; FB1:  86.88\n",
      "              LOC: precision:  92.94%; recall:  90.71%; FB1:  91.81  1628\n",
      "             MISC: precision:  79.79%; recall:  65.81%; FB1:  72.13  579\n",
      "              ORG: precision:  76.55%; recall:  90.19%; FB1:  82.81  1957\n",
      "              PER: precision:  93.14%; recall:  91.47%; FB1:  92.29  1588\n",
      "\n",
      "Epoch 18/80\n"
     ]
    },
    {
     "name": "stderr",
     "output_type": "stream",
     "text": [
      "76it [00:37,  2.00it/s]\n"
     ]
    },
    {
     "name": "stdout",
     "output_type": "stream",
     "text": [
      "CoNLL score dev set\n",
      "total 51578, correct 50623, accuracy 0.981484\n",
      "total unknown 713, correct 664, accuracy 0.931276\n",
      "processed 51578 tokens with 5942 phrases; found: 5977 phrases; correct: 5415.\n",
      "accuracy:  98.15%; precision:  90.60%; recall:  91.13%; FB1:  90.86\n",
      "              LOC: precision:  97.18%; recall:  93.85%; FB1:  95.49  1774\n",
      "             MISC: precision:  92.36%; recall:  76.03%; FB1:  83.40  759\n",
      "              ORG: precision:  78.77%; recall:  91.05%; FB1:  84.47  1550\n",
      "              PER: precision:  93.40%; recall:  96.04%; FB1:  94.70  1894\n",
      "\n",
      "CoNLL score test set\n",
      "total 46666, correct 45441, accuracy 0.973750\n",
      "total unknown 1143, correct 1046, accuracy 0.915136\n"
     ]
    },
    {
     "name": "stderr",
     "output_type": "stream",
     "text": [
      "0it [00:00, ?it/s]"
     ]
    },
    {
     "name": "stdout",
     "output_type": "stream",
     "text": [
      "processed 46666 tokens with 5648 phrases; found: 5738 phrases; correct: 4997.\n",
      "accuracy:  97.37%; precision:  87.09%; recall:  88.47%; FB1:  87.77\n",
      "              LOC: precision:  93.23%; recall:  91.61%; FB1:  92.41  1639\n",
      "             MISC: precision:  80.62%; recall:  66.95%; FB1:  73.15  583\n",
      "              ORG: precision:  78.67%; recall:  89.95%; FB1:  83.93  1899\n",
      "              PER: precision:  93.07%; recall:  93.07%; FB1:  93.07  1617\n",
      "\n",
      "Epoch 19/80\n"
     ]
    },
    {
     "name": "stderr",
     "output_type": "stream",
     "text": [
      "76it [00:37,  2.01it/s]\n"
     ]
    },
    {
     "name": "stdout",
     "output_type": "stream",
     "text": [
      "CoNLL score dev set\n",
      "total 51578, correct 50747, accuracy 0.983888\n",
      "total unknown 713, correct 667, accuracy 0.935484\n",
      "processed 51578 tokens with 5942 phrases; found: 6007 phrases; correct: 5485.\n",
      "accuracy:  98.39%; precision:  91.31%; recall:  92.31%; FB1:  91.81\n",
      "              LOC: precision:  95.96%; recall:  95.59%; FB1:  95.77  1830\n",
      "             MISC: precision:  91.83%; recall:  79.28%; FB1:  85.10  796\n",
      "              ORG: precision:  81.09%; recall:  91.80%; FB1:  86.11  1518\n",
      "              PER: precision:  94.85%; recall:  95.93%; FB1:  95.38  1863\n",
      "\n",
      "CoNLL score test set\n",
      "total 46666, correct 45510, accuracy 0.975228\n",
      "total unknown 1143, correct 1051, accuracy 0.919510\n"
     ]
    },
    {
     "name": "stderr",
     "output_type": "stream",
     "text": [
      "0it [00:00, ?it/s]"
     ]
    },
    {
     "name": "stdout",
     "output_type": "stream",
     "text": [
      "processed 46666 tokens with 5648 phrases; found: 5766 phrases; correct: 5024.\n",
      "accuracy:  97.52%; precision:  87.13%; recall:  88.95%; FB1:  88.03\n",
      "              LOC: precision:  91.34%; recall:  92.33%; FB1:  91.83  1686\n",
      "             MISC: precision:  79.07%; recall:  70.51%; FB1:  74.55  626\n",
      "              ORG: precision:  79.56%; recall:  90.25%; FB1:  84.57  1884\n",
      "              PER: precision:  94.90%; recall:  92.15%; FB1:  93.50  1570\n",
      "\n",
      "Epoch 20/80\n"
     ]
    },
    {
     "name": "stderr",
     "output_type": "stream",
     "text": [
      "76it [00:37,  2.05it/s]\n"
     ]
    },
    {
     "name": "stdout",
     "output_type": "stream",
     "text": [
      "CoNLL score dev set\n",
      "total 51578, correct 50758, accuracy 0.984102\n",
      "total unknown 713, correct 674, accuracy 0.945302\n",
      "processed 51578 tokens with 5942 phrases; found: 5997 phrases; correct: 5500.\n",
      "accuracy:  98.41%; precision:  91.71%; recall:  92.56%; FB1:  92.14\n",
      "              LOC: precision:  96.52%; recall:  95.16%; FB1:  95.83  1811\n",
      "             MISC: precision:  92.34%; recall:  81.02%; FB1:  86.31  809\n",
      "              ORG: precision:  83.95%; recall:  91.28%; FB1:  87.46  1458\n",
      "              PER: precision:  92.81%; recall:  96.69%; FB1:  94.71  1919\n",
      "\n",
      "CoNLL score test set\n",
      "total 46666, correct 45525, accuracy 0.975550\n",
      "total unknown 1143, correct 1054, accuracy 0.922135\n"
     ]
    },
    {
     "name": "stderr",
     "output_type": "stream",
     "text": [
      "0it [00:00, ?it/s]"
     ]
    },
    {
     "name": "stdout",
     "output_type": "stream",
     "text": [
      "processed 46666 tokens with 5648 phrases; found: 5749 phrases; correct: 5039.\n",
      "accuracy:  97.55%; precision:  87.65%; recall:  89.22%; FB1:  88.43\n",
      "              LOC: precision:  92.41%; recall:  91.91%; FB1:  92.16  1659\n",
      "             MISC: precision:  79.14%; recall:  70.80%; FB1:  74.74  628\n",
      "              ORG: precision:  81.59%; recall:  89.64%; FB1:  85.43  1825\n",
      "              PER: precision:  92.85%; recall:  94.00%; FB1:  93.42  1637\n",
      "\n",
      "Epoch 21/80\n"
     ]
    },
    {
     "name": "stderr",
     "output_type": "stream",
     "text": [
      "76it [00:34,  2.19it/s]\n"
     ]
    },
    {
     "name": "stdout",
     "output_type": "stream",
     "text": [
      "CoNLL score dev set\n",
      "total 51578, correct 50780, accuracy 0.984528\n",
      "total unknown 713, correct 676, accuracy 0.948107\n",
      "processed 51578 tokens with 5942 phrases; found: 5957 phrases; correct: 5495.\n",
      "accuracy:  98.45%; precision:  92.24%; recall:  92.48%; FB1:  92.36\n",
      "              LOC: precision:  95.76%; recall:  95.92%; FB1:  95.84  1840\n",
      "             MISC: precision:  90.05%; recall:  82.43%; FB1:  86.07  844\n",
      "              ORG: precision:  84.48%; recall:  90.53%; FB1:  87.40  1437\n",
      "              PER: precision:  95.81%; recall:  95.49%; FB1:  95.65  1836\n",
      "\n",
      "CoNLL score test set\n",
      "total 46666, correct 45426, accuracy 0.973428\n",
      "total unknown 1143, correct 1053, accuracy 0.921260\n"
     ]
    },
    {
     "name": "stderr",
     "output_type": "stream",
     "text": [
      "0it [00:00, ?it/s]"
     ]
    },
    {
     "name": "stdout",
     "output_type": "stream",
     "text": [
      "processed 46666 tokens with 5648 phrases; found: 5736 phrases; correct: 5020.\n",
      "accuracy:  97.34%; precision:  87.52%; recall:  88.88%; FB1:  88.19\n",
      "              LOC: precision:  91.05%; recall:  92.75%; FB1:  91.89  1699\n",
      "             MISC: precision:  78.13%; recall:  73.79%; FB1:  75.90  663\n",
      "              ORG: precision:  80.48%; recall:  88.86%; FB1:  84.46  1834\n",
      "              PER: precision:  96.04%; recall:  91.47%; FB1:  93.70  1540\n",
      "\n",
      "Epoch 22/80\n"
     ]
    },
    {
     "name": "stderr",
     "output_type": "stream",
     "text": [
      "76it [00:34,  2.22it/s]\n"
     ]
    },
    {
     "name": "stdout",
     "output_type": "stream",
     "text": [
      "CoNLL score dev set\n",
      "total 51578, correct 50816, accuracy 0.985226\n",
      "total unknown 713, correct 672, accuracy 0.942496\n",
      "processed 51578 tokens with 5942 phrases; found: 5915 phrases; correct: 5496.\n",
      "accuracy:  98.52%; precision:  92.92%; recall:  92.49%; FB1:  92.70\n",
      "              LOC: precision:  95.76%; recall:  95.81%; FB1:  95.78  1838\n",
      "             MISC: precision:  93.33%; recall:  81.89%; FB1:  87.23  809\n",
      "              ORG: precision:  87.18%; recall:  89.26%; FB1:  88.21  1373\n",
      "              PER: precision:  94.14%; recall:  96.85%; FB1:  95.48  1895\n",
      "\n",
      "CoNLL score test set\n",
      "total 46666, correct 45619, accuracy 0.977564\n",
      "total unknown 1143, correct 1068, accuracy 0.934383\n"
     ]
    },
    {
     "name": "stderr",
     "output_type": "stream",
     "text": [
      "0it [00:00, ?it/s]"
     ]
    },
    {
     "name": "stdout",
     "output_type": "stream",
     "text": [
      "processed 46666 tokens with 5648 phrases; found: 5642 phrases; correct: 5065.\n",
      "accuracy:  97.76%; precision:  89.77%; recall:  89.68%; FB1:  89.73\n",
      "              LOC: precision:  91.02%; recall:  93.59%; FB1:  92.28  1715\n",
      "             MISC: precision:  82.94%; recall:  74.79%; FB1:  78.65  633\n",
      "              ORG: precision:  87.24%; recall:  86.82%; FB1:  87.02  1653\n",
      "              PER: precision:  93.66%; recall:  95.05%; FB1:  94.35  1641\n",
      "\n",
      "Epoch 23/80\n"
     ]
    },
    {
     "name": "stderr",
     "output_type": "stream",
     "text": [
      "76it [00:34,  2.18it/s]\n"
     ]
    },
    {
     "name": "stdout",
     "output_type": "stream",
     "text": [
      "CoNLL score dev set\n",
      "total 51578, correct 50795, accuracy 0.984819\n",
      "total unknown 713, correct 676, accuracy 0.948107\n",
      "processed 51578 tokens with 5942 phrases; found: 5967 phrases; correct: 5508.\n",
      "accuracy:  98.48%; precision:  92.31%; recall:  92.70%; FB1:  92.50\n",
      "              LOC: precision:  97.70%; recall:  94.61%; FB1:  96.13  1779\n",
      "             MISC: precision:  90.11%; recall:  82.97%; FB1:  86.39  849\n",
      "              ORG: precision:  85.45%; recall:  90.68%; FB1:  87.99  1423\n",
      "              PER: precision:  93.37%; recall:  97.12%; FB1:  95.21  1916\n",
      "\n",
      "CoNLL score test set\n",
      "total 46666, correct 45576, accuracy 0.976643\n",
      "total unknown 1143, correct 1062, accuracy 0.929134\n"
     ]
    },
    {
     "name": "stderr",
     "output_type": "stream",
     "text": [
      "0it [00:00, ?it/s]"
     ]
    },
    {
     "name": "stdout",
     "output_type": "stream",
     "text": [
      "processed 46666 tokens with 5648 phrases; found: 5711 phrases; correct: 5075.\n",
      "accuracy:  97.66%; precision:  88.86%; recall:  89.85%; FB1:  89.36\n",
      "              LOC: precision:  93.51%; recall:  91.55%; FB1:  92.52  1633\n",
      "             MISC: precision:  78.65%; recall:  76.07%; FB1:  77.34  679\n",
      "              ORG: precision:  84.71%; recall:  89.04%; FB1:  86.82  1746\n",
      "              PER: precision:  92.86%; recall:  94.93%; FB1:  93.88  1653\n",
      "\n",
      "Epoch 24/80\n"
     ]
    },
    {
     "name": "stderr",
     "output_type": "stream",
     "text": [
      "76it [00:34,  2.20it/s]\n"
     ]
    },
    {
     "name": "stdout",
     "output_type": "stream",
     "text": [
      "CoNLL score dev set\n",
      "total 51578, correct 50883, accuracy 0.986525\n",
      "total unknown 713, correct 675, accuracy 0.946704\n",
      "processed 51578 tokens with 5942 phrases; found: 5959 phrases; correct: 5525.\n",
      "accuracy:  98.65%; precision:  92.72%; recall:  92.98%; FB1:  92.85\n",
      "              LOC: precision:  96.24%; recall:  96.03%; FB1:  96.13  1833\n",
      "             MISC: precision:  91.76%; recall:  80.91%; FB1:  85.99  813\n",
      "              ORG: precision:  84.70%; recall:  93.29%; FB1:  88.79  1477\n",
      "              PER: precision:  96.08%; recall:  95.77%; FB1:  95.92  1836\n",
      "\n",
      "CoNLL score test set\n",
      "total 46666, correct 45630, accuracy 0.977800\n",
      "total unknown 1143, correct 1059, accuracy 0.926509\n"
     ]
    },
    {
     "name": "stderr",
     "output_type": "stream",
     "text": [
      "0it [00:00, ?it/s]"
     ]
    },
    {
     "name": "stdout",
     "output_type": "stream",
     "text": [
      "processed 46666 tokens with 5648 phrases; found: 5697 phrases; correct: 5068.\n",
      "accuracy:  97.78%; precision:  88.96%; recall:  89.73%; FB1:  89.34\n",
      "              LOC: precision:  91.53%; recall:  93.29%; FB1:  92.40  1700\n",
      "             MISC: precision:  81.53%; recall:  72.93%; FB1:  76.99  628\n",
      "              ORG: precision:  82.46%; recall:  90.55%; FB1:  86.31  1824\n",
      "              PER: precision:  96.83%; recall:  92.52%; FB1:  94.62  1545\n",
      "\n",
      "Epoch 25/80\n"
     ]
    },
    {
     "name": "stderr",
     "output_type": "stream",
     "text": [
      "76it [00:34,  2.19it/s]\n"
     ]
    },
    {
     "name": "stdout",
     "output_type": "stream",
     "text": [
      "CoNLL score dev set\n",
      "total 51578, correct 50843, accuracy 0.985750\n",
      "total unknown 713, correct 677, accuracy 0.949509\n",
      "processed 51578 tokens with 5942 phrases; found: 5938 phrases; correct: 5514.\n",
      "accuracy:  98.57%; precision:  92.86%; recall:  92.80%; FB1:  92.83\n",
      "              LOC: precision:  96.80%; recall:  95.48%; FB1:  96.14  1812\n",
      "             MISC: precision:  91.87%; recall:  82.10%; FB1:  86.71  824\n",
      "              ORG: precision:  84.75%; recall:  91.57%; FB1:  88.03  1449\n",
      "              PER: precision:  95.79%; recall:  96.36%; FB1:  96.08  1853\n",
      "\n",
      "CoNLL score test set\n",
      "total 46666, correct 45564, accuracy 0.976385\n",
      "total unknown 1143, correct 1061, accuracy 0.928259\n"
     ]
    },
    {
     "name": "stderr",
     "output_type": "stream",
     "text": [
      "0it [00:00, ?it/s]"
     ]
    },
    {
     "name": "stdout",
     "output_type": "stream",
     "text": [
      "processed 46666 tokens with 5648 phrases; found: 5693 phrases; correct: 5058.\n",
      "accuracy:  97.64%; precision:  88.85%; recall:  89.55%; FB1:  89.20\n",
      "              LOC: precision:  92.40%; recall:  91.85%; FB1:  92.12  1658\n",
      "             MISC: precision:  80.31%; recall:  74.36%; FB1:  77.22  650\n",
      "              ORG: precision:  82.70%; recall:  89.52%; FB1:  85.98  1798\n",
      "              PER: precision:  95.59%; recall:  93.82%; FB1:  94.69  1587\n",
      "\n",
      "Epoch 26/80\n"
     ]
    },
    {
     "name": "stderr",
     "output_type": "stream",
     "text": [
      "76it [00:35,  2.17it/s]\n"
     ]
    },
    {
     "name": "stdout",
     "output_type": "stream",
     "text": [
      "CoNLL score dev set\n",
      "total 51578, correct 50917, accuracy 0.987184\n",
      "total unknown 713, correct 682, accuracy 0.956522\n",
      "processed 51578 tokens with 5942 phrases; found: 5956 phrases; correct: 5559.\n",
      "accuracy:  98.72%; precision:  93.33%; recall:  93.55%; FB1:  93.44\n",
      "              LOC: precision:  95.94%; recall:  96.57%; FB1:  96.26  1849\n",
      "             MISC: precision:  90.01%; recall:  85.03%; FB1:  87.45  871\n",
      "              ORG: precision:  88.22%; recall:  91.57%; FB1:  89.86  1392\n",
      "              PER: precision:  96.15%; recall:  96.25%; FB1:  96.20  1844\n",
      "\n",
      "CoNLL score test set\n",
      "total 46666, correct 45640, accuracy 0.978014\n",
      "total unknown 1143, correct 1069, accuracy 0.935258\n"
     ]
    },
    {
     "name": "stderr",
     "output_type": "stream",
     "text": [
      "0it [00:00, ?it/s]"
     ]
    },
    {
     "name": "stdout",
     "output_type": "stream",
     "text": [
      "processed 46666 tokens with 5648 phrases; found: 5690 phrases; correct: 5100.\n",
      "accuracy:  97.80%; precision:  89.63%; recall:  90.30%; FB1:  89.96\n",
      "              LOC: precision:  90.75%; recall:  93.53%; FB1:  92.12  1719\n",
      "             MISC: precision:  79.45%; recall:  78.21%; FB1:  78.82  691\n",
      "              ORG: precision:  86.39%; recall:  89.04%; FB1:  87.70  1712\n",
      "              PER: precision:  96.43%; recall:  93.51%; FB1:  94.95  1568\n",
      "\n",
      "Epoch 27/80\n"
     ]
    },
    {
     "name": "stderr",
     "output_type": "stream",
     "text": [
      "76it [00:35,  2.16it/s]\n"
     ]
    },
    {
     "name": "stdout",
     "output_type": "stream",
     "text": [
      "CoNLL score dev set\n",
      "total 51578, correct 50881, accuracy 0.986486\n",
      "total unknown 713, correct 683, accuracy 0.957924\n",
      "processed 51578 tokens with 5942 phrases; found: 5930 phrases; correct: 5543.\n",
      "accuracy:  98.65%; precision:  93.47%; recall:  93.29%; FB1:  93.38\n",
      "              LOC: precision:  97.44%; recall:  95.48%; FB1:  96.45  1800\n",
      "             MISC: precision:  91.38%; recall:  83.95%; FB1:  87.51  847\n",
      "              ORG: precision:  87.33%; recall:  91.50%; FB1:  89.37  1405\n",
      "              PER: precision:  95.21%; recall:  97.07%; FB1:  96.13  1878\n",
      "\n",
      "CoNLL score test set\n",
      "total 46666, correct 45641, accuracy 0.978035\n",
      "total unknown 1143, correct 1070, accuracy 0.936133\n"
     ]
    },
    {
     "name": "stderr",
     "output_type": "stream",
     "text": [
      "0it [00:00, ?it/s]"
     ]
    },
    {
     "name": "stdout",
     "output_type": "stream",
     "text": [
      "processed 46666 tokens with 5648 phrases; found: 5674 phrases; correct: 5097.\n",
      "accuracy:  97.80%; precision:  89.83%; recall:  90.24%; FB1:  90.04\n",
      "              LOC: precision:  93.10%; recall:  92.27%; FB1:  92.68  1653\n",
      "             MISC: precision:  80.80%; recall:  74.93%; FB1:  77.75  651\n",
      "              ORG: precision:  85.33%; recall:  89.64%; FB1:  87.43  1745\n",
      "              PER: precision:  94.95%; recall:  95.42%; FB1:  95.19  1625\n",
      "\n",
      "Epoch 28/80\n"
     ]
    },
    {
     "name": "stderr",
     "output_type": "stream",
     "text": [
      "76it [00:35,  2.15it/s]\n"
     ]
    },
    {
     "name": "stdout",
     "output_type": "stream",
     "text": [
      "CoNLL score dev set\n",
      "total 51578, correct 50948, accuracy 0.987785\n",
      "total unknown 713, correct 681, accuracy 0.955119\n",
      "processed 51578 tokens with 5942 phrases; found: 5928 phrases; correct: 5576.\n",
      "accuracy:  98.78%; precision:  94.06%; recall:  93.84%; FB1:  93.95\n",
      "              LOC: precision:  97.77%; recall:  95.54%; FB1:  96.64  1795\n",
      "             MISC: precision:  91.12%; recall:  86.77%; FB1:  88.89  878\n",
      "              ORG: precision:  89.68%; recall:  92.02%; FB1:  90.84  1376\n",
      "              PER: precision:  95.10%; recall:  97.01%; FB1:  96.05  1879\n",
      "\n",
      "CoNLL score test set\n",
      "total 46666, correct 45692, accuracy 0.979128\n",
      "total unknown 1143, correct 1072, accuracy 0.937883\n"
     ]
    },
    {
     "name": "stderr",
     "output_type": "stream",
     "text": [
      "0it [00:00, ?it/s]"
     ]
    },
    {
     "name": "stdout",
     "output_type": "stream",
     "text": [
      "processed 46666 tokens with 5648 phrases; found: 5665 phrases; correct: 5116.\n",
      "accuracy:  97.91%; precision:  90.31%; recall:  90.58%; FB1:  90.44\n",
      "              LOC: precision:  93.37%; recall:  92.09%; FB1:  92.73  1645\n",
      "             MISC: precision:  78.96%; recall:  80.20%; FB1:  79.58  713\n",
      "              ORG: precision:  87.60%; recall:  88.86%; FB1:  88.22  1685\n",
      "              PER: precision:  95.01%; recall:  95.30%; FB1:  95.15  1622\n",
      "\n",
      "Epoch 29/80\n"
     ]
    },
    {
     "name": "stderr",
     "output_type": "stream",
     "text": [
      "76it [00:34,  2.18it/s]\n"
     ]
    },
    {
     "name": "stdout",
     "output_type": "stream",
     "text": [
      "CoNLL score dev set\n",
      "total 51578, correct 50863, accuracy 0.986138\n",
      "total unknown 713, correct 672, accuracy 0.942496\n",
      "processed 51578 tokens with 5942 phrases; found: 5906 phrases; correct: 5504.\n",
      "accuracy:  98.61%; precision:  93.19%; recall:  92.63%; FB1:  92.91\n",
      "              LOC: precision:  98.67%; recall:  92.71%; FB1:  95.59  1726\n",
      "             MISC: precision:  89.43%; recall:  87.20%; FB1:  88.30  899\n",
      "              ORG: precision:  85.42%; recall:  92.62%; FB1:  88.87  1454\n",
      "              PER: precision:  96.06%; recall:  95.28%; FB1:  95.67  1827\n",
      "\n",
      "CoNLL score test set\n",
      "total 46666, correct 45565, accuracy 0.976407\n",
      "total unknown 1143, correct 1059, accuracy 0.926509\n"
     ]
    },
    {
     "name": "stderr",
     "output_type": "stream",
     "text": [
      "0it [00:00, ?it/s]"
     ]
    },
    {
     "name": "stdout",
     "output_type": "stream",
     "text": [
      "processed 46666 tokens with 5648 phrases; found: 5652 phrases; correct: 5028.\n",
      "accuracy:  97.64%; precision:  88.96%; recall:  89.02%; FB1:  88.99\n",
      "              LOC: precision:  95.24%; recall:  89.87%; FB1:  92.47  1574\n",
      "             MISC: precision:  76.76%; recall:  79.06%; FB1:  77.89  723\n",
      "              ORG: precision:  81.94%; recall:  90.43%; FB1:  85.98  1833\n",
      "              PER: precision:  96.71%; recall:  91.03%; FB1:  93.79  1522\n",
      "\n",
      "Epoch 30/80\n"
     ]
    },
    {
     "name": "stderr",
     "output_type": "stream",
     "text": [
      "76it [00:35,  2.15it/s]\n"
     ]
    },
    {
     "name": "stdout",
     "output_type": "stream",
     "text": [
      "CoNLL score dev set\n",
      "total 51578, correct 50970, accuracy 0.988212\n",
      "total unknown 713, correct 680, accuracy 0.953717\n",
      "processed 51578 tokens with 5942 phrases; found: 5956 phrases; correct: 5585.\n",
      "accuracy:  98.82%; precision:  93.77%; recall:  93.99%; FB1:  93.88\n",
      "              LOC: precision:  97.39%; recall:  95.48%; FB1:  96.43  1801\n",
      "             MISC: precision:  90.69%; recall:  86.66%; FB1:  88.63  881\n",
      "              ORG: precision:  89.55%; recall:  92.62%; FB1:  91.06  1387\n",
      "              PER: precision:  94.86%; recall:  97.18%; FB1:  96.00  1887\n",
      "\n",
      "CoNLL score test set\n",
      "total 46666, correct 45707, accuracy 0.979450\n",
      "total unknown 1143, correct 1077, accuracy 0.942257\n"
     ]
    },
    {
     "name": "stderr",
     "output_type": "stream",
     "text": [
      "0it [00:00, ?it/s]"
     ]
    },
    {
     "name": "stdout",
     "output_type": "stream",
     "text": [
      "processed 46666 tokens with 5648 phrases; found: 5695 phrases; correct: 5129.\n",
      "accuracy:  97.94%; precision:  90.06%; recall:  90.81%; FB1:  90.43\n",
      "              LOC: precision:  93.18%; recall:  92.63%; FB1:  92.90  1658\n",
      "             MISC: precision:  79.15%; recall:  76.78%; FB1:  77.95  681\n",
      "              ORG: precision:  86.95%; recall:  90.25%; FB1:  88.57  1724\n",
      "              PER: precision:  94.73%; recall:  95.61%; FB1:  95.17  1632\n",
      "\n",
      "Epoch 31/80\n"
     ]
    },
    {
     "name": "stderr",
     "output_type": "stream",
     "text": [
      "76it [00:35,  2.11it/s]\n"
     ]
    },
    {
     "name": "stdout",
     "output_type": "stream",
     "text": [
      "CoNLL score dev set\n",
      "total 51578, correct 50930, accuracy 0.987437\n",
      "total unknown 713, correct 679, accuracy 0.952314\n",
      "processed 51578 tokens with 5942 phrases; found: 5940 phrases; correct: 5566.\n",
      "accuracy:  98.74%; precision:  93.70%; recall:  93.67%; FB1:  93.69\n",
      "              LOC: precision:  96.88%; recall:  96.24%; FB1:  96.56  1825\n",
      "             MISC: precision:  90.15%; recall:  87.31%; FB1:  88.71  893\n",
      "              ORG: precision:  88.24%; recall:  91.72%; FB1:  89.95  1394\n",
      "              PER: precision:  96.44%; recall:  95.71%; FB1:  96.08  1828\n",
      "\n",
      "CoNLL score test set\n",
      "total 46666, correct 45583, accuracy 0.976793\n",
      "total unknown 1143, correct 1066, accuracy 0.932633\n"
     ]
    },
    {
     "name": "stderr",
     "output_type": "stream",
     "text": [
      "0it [00:00, ?it/s]"
     ]
    },
    {
     "name": "stdout",
     "output_type": "stream",
     "text": [
      "processed 46666 tokens with 5648 phrases; found: 5700 phrases; correct: 5078.\n",
      "accuracy:  97.68%; precision:  89.09%; recall:  89.91%; FB1:  89.50\n",
      "              LOC: precision:  91.69%; recall:  92.57%; FB1:  92.12  1684\n",
      "             MISC: precision:  76.48%; recall:  79.20%; FB1:  77.82  727\n",
      "              ORG: precision:  84.92%; recall:  89.16%; FB1:  86.99  1744\n",
      "              PER: precision:  96.89%; recall:  92.58%; FB1:  94.69  1545\n",
      "\n",
      "Epoch 32/80\n"
     ]
    },
    {
     "name": "stderr",
     "output_type": "stream",
     "text": [
      "76it [00:35,  2.15it/s]\n"
     ]
    },
    {
     "name": "stdout",
     "output_type": "stream",
     "text": [
      "CoNLL score dev set\n",
      "total 51578, correct 50979, accuracy 0.988387\n",
      "total unknown 713, correct 680, accuracy 0.953717\n",
      "processed 51578 tokens with 5942 phrases; found: 5940 phrases; correct: 5587.\n",
      "accuracy:  98.84%; precision:  94.06%; recall:  94.03%; FB1:  94.04\n",
      "              LOC: precision:  97.03%; recall:  95.92%; FB1:  96.47  1816\n",
      "             MISC: precision:  89.43%; recall:  89.05%; FB1:  89.24  918\n",
      "              ORG: precision:  90.31%; recall:  92.47%; FB1:  91.38  1373\n",
      "              PER: precision:  96.24%; recall:  95.77%; FB1:  96.00  1833\n",
      "\n",
      "CoNLL score test set\n",
      "total 46666, correct 45624, accuracy 0.977671\n",
      "total unknown 1143, correct 1064, accuracy 0.930884\n"
     ]
    },
    {
     "name": "stderr",
     "output_type": "stream",
     "text": [
      "0it [00:00, ?it/s]"
     ]
    },
    {
     "name": "stdout",
     "output_type": "stream",
     "text": [
      "processed 46666 tokens with 5648 phrases; found: 5665 phrases; correct: 5082.\n",
      "accuracy:  97.77%; precision:  89.71%; recall:  89.98%; FB1:  89.84\n",
      "              LOC: precision:  92.77%; recall:  92.33%; FB1:  92.55  1660\n",
      "             MISC: precision:  76.36%; recall:  80.06%; FB1:  78.16  736\n",
      "              ORG: precision:  86.04%; recall:  89.40%; FB1:  87.69  1726\n",
      "              PER: precision:  96.89%; recall:  92.46%; FB1:  94.62  1543\n",
      "\n",
      "Epoch 33/80\n"
     ]
    },
    {
     "name": "stderr",
     "output_type": "stream",
     "text": [
      "76it [00:35,  2.15it/s]\n"
     ]
    },
    {
     "name": "stdout",
     "output_type": "stream",
     "text": [
      "CoNLL score dev set\n",
      "total 51578, correct 50888, accuracy 0.986622\n",
      "total unknown 713, correct 674, accuracy 0.945302\n",
      "processed 51578 tokens with 5942 phrases; found: 5823 phrases; correct: 5504.\n",
      "accuracy:  98.66%; precision:  94.52%; recall:  92.63%; FB1:  93.57\n",
      "              LOC: precision:  97.54%; recall:  94.94%; FB1:  96.22  1788\n",
      "             MISC: precision:  93.36%; recall:  85.36%; FB1:  89.18  843\n",
      "              ORG: precision:  88.68%; recall:  90.53%; FB1:  89.59  1369\n",
      "              PER: precision:  96.49%; recall:  95.49%; FB1:  95.99  1823\n",
      "\n",
      "CoNLL score test set\n",
      "total 46666, correct 45606, accuracy 0.977285\n",
      "total unknown 1143, correct 1067, accuracy 0.933508\n"
     ]
    },
    {
     "name": "stderr",
     "output_type": "stream",
     "text": [
      "0it [00:00, ?it/s]"
     ]
    },
    {
     "name": "stdout",
     "output_type": "stream",
     "text": [
      "processed 46666 tokens with 5648 phrases; found: 5521 phrases; correct: 5025.\n",
      "accuracy:  97.73%; precision:  91.02%; recall:  88.97%; FB1:  89.98\n",
      "              LOC: precision:  93.76%; recall:  90.95%; FB1:  92.33  1618\n",
      "             MISC: precision:  82.62%; recall:  77.21%; FB1:  79.82  656\n",
      "              ORG: precision:  85.98%; recall:  87.48%; FB1:  86.72  1690\n",
      "              PER: precision:  97.17%; recall:  93.57%; FB1:  95.34  1557\n",
      "\n",
      "Epoch 34/80\n"
     ]
    },
    {
     "name": "stderr",
     "output_type": "stream",
     "text": [
      "76it [00:35,  2.13it/s]\n"
     ]
    },
    {
     "name": "stdout",
     "output_type": "stream",
     "text": [
      "CoNLL score dev set\n",
      "total 51578, correct 50957, accuracy 0.987960\n",
      "total unknown 713, correct 680, accuracy 0.953717\n",
      "processed 51578 tokens with 5942 phrases; found: 5932 phrases; correct: 5562.\n",
      "accuracy:  98.80%; precision:  93.76%; recall:  93.60%; FB1:  93.68\n",
      "              LOC: precision:  97.13%; recall:  95.92%; FB1:  96.52  1814\n",
      "             MISC: precision:  92.80%; recall:  83.84%; FB1:  88.09  833\n",
      "              ORG: precision:  87.06%; recall:  92.84%; FB1:  89.86  1430\n",
      "              PER: precision:  96.06%; recall:  96.74%; FB1:  96.40  1855\n",
      "\n",
      "CoNLL score test set\n",
      "total 46666, correct 45629, accuracy 0.977778\n",
      "total unknown 1143, correct 1068, accuracy 0.934383\n"
     ]
    },
    {
     "name": "stderr",
     "output_type": "stream",
     "text": [
      "0it [00:00, ?it/s]"
     ]
    },
    {
     "name": "stdout",
     "output_type": "stream",
     "text": [
      "processed 46666 tokens with 5648 phrases; found: 5678 phrases; correct: 5080.\n",
      "accuracy:  97.78%; precision:  89.47%; recall:  89.94%; FB1:  89.71\n",
      "              LOC: precision:  93.03%; recall:  92.09%; FB1:  92.56  1651\n",
      "             MISC: precision:  81.31%; recall:  72.51%; FB1:  76.66  626\n",
      "              ORG: precision:  83.33%; recall:  90.91%; FB1:  86.96  1812\n",
      "              PER: precision:  95.97%; recall:  94.31%; FB1:  95.13  1589\n",
      "\n",
      "Epoch 35/80\n"
     ]
    },
    {
     "name": "stderr",
     "output_type": "stream",
     "text": [
      "76it [00:35,  2.15it/s]\n"
     ]
    },
    {
     "name": "stdout",
     "output_type": "stream",
     "text": [
      "CoNLL score dev set\n",
      "total 51578, correct 50916, accuracy 0.987165\n",
      "total unknown 713, correct 683, accuracy 0.957924\n",
      "processed 51578 tokens with 5942 phrases; found: 5915 phrases; correct: 5555.\n",
      "accuracy:  98.72%; precision:  93.91%; recall:  93.49%; FB1:  93.70\n",
      "              LOC: precision:  96.01%; recall:  96.95%; FB1:  96.48  1855\n",
      "             MISC: precision:  92.16%; recall:  85.47%; FB1:  88.69  855\n",
      "              ORG: precision:  88.73%; recall:  90.45%; FB1:  89.59  1367\n",
      "              PER: precision:  96.46%; recall:  96.25%; FB1:  96.36  1838\n",
      "\n",
      "CoNLL score test set\n",
      "total 46666, correct 45591, accuracy 0.976964\n",
      "total unknown 1143, correct 1071, accuracy 0.937008\n"
     ]
    },
    {
     "name": "stderr",
     "output_type": "stream",
     "text": [
      "0it [00:00, ?it/s]"
     ]
    },
    {
     "name": "stdout",
     "output_type": "stream",
     "text": [
      "processed 46666 tokens with 5648 phrases; found: 5673 phrases; correct: 5079.\n",
      "accuracy:  97.70%; precision:  89.53%; recall:  89.93%; FB1:  89.73\n",
      "              LOC: precision:  90.50%; recall:  93.65%; FB1:  92.04  1726\n",
      "             MISC: precision:  79.91%; recall:  76.50%; FB1:  78.17  672\n",
      "              ORG: precision:  85.28%; recall:  88.26%; FB1:  86.75  1719\n",
      "              PER: precision:  97.30%; recall:  93.63%; FB1:  95.43  1556\n",
      "\n",
      "Epoch 36/80\n"
     ]
    },
    {
     "name": "stderr",
     "output_type": "stream",
     "text": [
      "76it [00:35,  2.14it/s]\n"
     ]
    },
    {
     "name": "stdout",
     "output_type": "stream",
     "text": [
      "CoNLL score dev set\n",
      "total 51578, correct 50988, accuracy 0.988561\n",
      "total unknown 713, correct 680, accuracy 0.953717\n",
      "processed 51578 tokens with 5942 phrases; found: 5891 phrases; correct: 5581.\n",
      "accuracy:  98.86%; precision:  94.74%; recall:  93.92%; FB1:  94.33\n",
      "              LOC: precision:  96.77%; recall:  96.30%; FB1:  96.53  1828\n",
      "             MISC: precision:  90.55%; recall:  87.31%; FB1:  88.90  889\n",
      "              ORG: precision:  92.49%; recall:  91.80%; FB1:  92.14  1331\n",
      "              PER: precision:  96.36%; recall:  96.42%; FB1:  96.39  1843\n",
      "\n",
      "CoNLL score test set\n",
      "total 46666, correct 45708, accuracy 0.979471\n",
      "total unknown 1143, correct 1073, accuracy 0.938758\n"
     ]
    },
    {
     "name": "stderr",
     "output_type": "stream",
     "text": [
      "0it [00:00, ?it/s]"
     ]
    },
    {
     "name": "stdout",
     "output_type": "stream",
     "text": [
      "processed 46666 tokens with 5648 phrases; found: 5613 phrases; correct: 5098.\n",
      "accuracy:  97.95%; precision:  90.82%; recall:  90.26%; FB1:  90.54\n",
      "              LOC: precision:  91.60%; recall:  93.47%; FB1:  92.52  1702\n",
      "             MISC: precision:  78.15%; recall:  80.48%; FB1:  79.30  723\n",
      "              ORG: precision:  89.86%; recall:  87.48%; FB1:  88.65  1617\n",
      "              PER: precision:  96.82%; recall:  94.06%; FB1:  95.42  1571\n",
      "\n",
      "Epoch 37/80\n"
     ]
    },
    {
     "name": "stderr",
     "output_type": "stream",
     "text": [
      "76it [00:40,  1.89it/s]\n"
     ]
    },
    {
     "name": "stdout",
     "output_type": "stream",
     "text": [
      "CoNLL score dev set\n",
      "total 51578, correct 50940, accuracy 0.987630\n",
      "total unknown 713, correct 681, accuracy 0.955119\n",
      "processed 51578 tokens with 5942 phrases; found: 5929 phrases; correct: 5563.\n",
      "accuracy:  98.76%; precision:  93.83%; recall:  93.62%; FB1:  93.72\n",
      "              LOC: precision:  95.26%; recall:  97.39%; FB1:  96.31  1878\n",
      "             MISC: precision:  88.66%; recall:  88.18%; FB1:  88.42  917\n",
      "              ORG: precision:  91.86%; recall:  89.26%; FB1:  90.54  1303\n",
      "              PER: precision:  96.34%; recall:  95.77%; FB1:  96.05  1831\n",
      "\n",
      "CoNLL score test set\n",
      "total 46666, correct 45614, accuracy 0.977457\n",
      "total unknown 1143, correct 1076, accuracy 0.941382\n"
     ]
    },
    {
     "name": "stderr",
     "output_type": "stream",
     "text": [
      "0it [00:00, ?it/s]"
     ]
    },
    {
     "name": "stdout",
     "output_type": "stream",
     "text": [
      "processed 46666 tokens with 5648 phrases; found: 5684 phrases; correct: 5077.\n",
      "accuracy:  97.75%; precision:  89.32%; recall:  89.89%; FB1:  89.60\n",
      "              LOC: precision:  88.03%; recall:  94.36%; FB1:  91.09  1788\n",
      "             MISC: precision:  77.28%; recall:  80.91%; FB1:  79.05  735\n",
      "              ORG: precision:  88.82%; recall:  85.61%; FB1:  87.19  1601\n",
      "              PER: precision:  96.99%; recall:  93.57%; FB1:  95.25  1560\n",
      "\n",
      "Epoch 38/80\n"
     ]
    },
    {
     "name": "stderr",
     "output_type": "stream",
     "text": [
      "76it [00:38,  1.98it/s]\n"
     ]
    },
    {
     "name": "stdout",
     "output_type": "stream",
     "text": [
      "CoNLL score dev set\n",
      "total 51578, correct 50914, accuracy 0.987126\n",
      "total unknown 713, correct 673, accuracy 0.943899\n",
      "processed 51578 tokens with 5942 phrases; found: 5948 phrases; correct: 5541.\n",
      "accuracy:  98.71%; precision:  93.16%; recall:  93.25%; FB1:  93.20\n",
      "              LOC: precision:  97.23%; recall:  95.43%; FB1:  96.32  1803\n",
      "             MISC: precision:  93.37%; recall:  82.43%; FB1:  87.56  814\n",
      "              ORG: precision:  83.89%; recall:  93.59%; FB1:  88.47  1496\n",
      "              PER: precision:  96.62%; recall:  96.25%; FB1:  96.44  1835\n",
      "\n",
      "CoNLL score test set\n",
      "total 46666, correct 45586, accuracy 0.976857\n",
      "total unknown 1143, correct 1056, accuracy 0.923885\n"
     ]
    },
    {
     "name": "stderr",
     "output_type": "stream",
     "text": [
      "0it [00:00, ?it/s]"
     ]
    },
    {
     "name": "stdout",
     "output_type": "stream",
     "text": [
      "processed 46666 tokens with 5648 phrases; found: 5708 phrases; correct: 5054.\n",
      "accuracy:  97.69%; precision:  88.54%; recall:  89.48%; FB1:  89.01\n",
      "              LOC: precision:  93.57%; recall:  91.67%; FB1:  92.61  1634\n",
      "             MISC: precision:  80.71%; recall:  71.51%; FB1:  75.83  622\n",
      "              ORG: precision:  80.03%; recall:  91.69%; FB1:  85.47  1903\n",
      "              PER: precision:  96.84%; recall:  92.76%; FB1:  94.76  1549\n",
      "\n",
      "Epoch 39/80\n"
     ]
    },
    {
     "name": "stderr",
     "output_type": "stream",
     "text": [
      "76it [00:38,  1.98it/s]\n"
     ]
    },
    {
     "name": "stdout",
     "output_type": "stream",
     "text": [
      "CoNLL score dev set\n",
      "total 51578, correct 50915, accuracy 0.987146\n",
      "total unknown 713, correct 672, accuracy 0.942496\n",
      "processed 51578 tokens with 5942 phrases; found: 5975 phrases; correct: 5561.\n",
      "accuracy:  98.71%; precision:  93.07%; recall:  93.59%; FB1:  93.33\n",
      "              LOC: precision:  97.53%; recall:  94.72%; FB1:  96.11  1784\n",
      "             MISC: precision:  91.53%; recall:  85.57%; FB1:  88.45  862\n",
      "              ORG: precision:  84.80%; recall:  94.03%; FB1:  89.18  1487\n",
      "              PER: precision:  96.15%; recall:  96.15%; FB1:  96.15  1842\n",
      "\n",
      "CoNLL score test set\n",
      "total 46666, correct 45621, accuracy 0.977607\n",
      "total unknown 1143, correct 1057, accuracy 0.924759\n"
     ]
    },
    {
     "name": "stderr",
     "output_type": "stream",
     "text": [
      "0it [00:00, ?it/s]"
     ]
    },
    {
     "name": "stdout",
     "output_type": "stream",
     "text": [
      "processed 46666 tokens with 5648 phrases; found: 5746 phrases; correct: 5087.\n",
      "accuracy:  97.76%; precision:  88.53%; recall:  90.07%; FB1:  89.29\n",
      "              LOC: precision:  94.47%; recall:  91.19%; FB1:  92.80  1610\n",
      "             MISC: precision:  80.00%; recall:  78.06%; FB1:  79.02  685\n",
      "              ORG: precision:  80.17%; recall:  91.51%; FB1:  85.47  1896\n",
      "              PER: precision:  96.33%; recall:  92.64%; FB1:  94.45  1555\n",
      "\n",
      "Epoch 40/80\n"
     ]
    },
    {
     "name": "stderr",
     "output_type": "stream",
     "text": [
      "76it [00:38,  1.98it/s]\n"
     ]
    },
    {
     "name": "stdout",
     "output_type": "stream",
     "text": [
      "CoNLL score dev set\n",
      "total 51578, correct 51012, accuracy 0.989026\n",
      "total unknown 713, correct 684, accuracy 0.959327\n",
      "processed 51578 tokens with 5942 phrases; found: 5925 phrases; correct: 5598.\n",
      "accuracy:  98.90%; precision:  94.48%; recall:  94.21%; FB1:  94.35\n",
      "              LOC: precision:  96.93%; recall:  96.41%; FB1:  96.67  1827\n",
      "             MISC: precision:  89.81%; recall:  87.96%; FB1:  88.88  903\n",
      "              ORG: precision:  91.12%; recall:  92.54%; FB1:  91.82  1362\n",
      "              PER: precision:  96.84%; recall:  96.36%; FB1:  96.60  1833\n",
      "\n",
      "CoNLL score test set\n",
      "total 46666, correct 45732, accuracy 0.979985\n",
      "total unknown 1143, correct 1081, accuracy 0.945757\n"
     ]
    },
    {
     "name": "stderr",
     "output_type": "stream",
     "text": [
      "0it [00:00, ?it/s]"
     ]
    },
    {
     "name": "stdout",
     "output_type": "stream",
     "text": [
      "processed 46666 tokens with 5648 phrases; found: 5631 phrases; correct: 5106.\n",
      "accuracy:  98.00%; precision:  90.68%; recall:  90.40%; FB1:  90.54\n",
      "              LOC: precision:  92.48%; recall:  92.87%; FB1:  92.67  1675\n",
      "             MISC: precision:  78.65%; recall:  79.77%; FB1:  79.21  712\n",
      "              ORG: precision:  87.84%; recall:  89.58%; FB1:  88.70  1694\n",
      "              PER: precision:  97.35%; recall:  93.32%; FB1:  95.30  1550\n",
      "\n",
      "Epoch 41/80\n"
     ]
    },
    {
     "name": "stderr",
     "output_type": "stream",
     "text": [
      "76it [00:38,  1.98it/s]\n"
     ]
    },
    {
     "name": "stdout",
     "output_type": "stream",
     "text": [
      "CoNLL score dev set\n",
      "total 51578, correct 50980, accuracy 0.988406\n",
      "total unknown 713, correct 681, accuracy 0.955119\n",
      "processed 51578 tokens with 5942 phrases; found: 5932 phrases; correct: 5580.\n",
      "accuracy:  98.84%; precision:  94.07%; recall:  93.91%; FB1:  93.99\n",
      "              LOC: precision:  96.92%; recall:  96.03%; FB1:  96.47  1820\n",
      "             MISC: precision:  91.68%; recall:  87.20%; FB1:  89.38  877\n",
      "              ORG: precision:  88.16%; recall:  92.69%; FB1:  90.37  1410\n",
      "              PER: precision:  96.93%; recall:  96.04%; FB1:  96.48  1825\n",
      "\n",
      "CoNLL score test set\n",
      "total 46666, correct 45649, accuracy 0.978207\n",
      "total unknown 1143, correct 1068, accuracy 0.934383\n"
     ]
    },
    {
     "name": "stderr",
     "output_type": "stream",
     "text": [
      "0it [00:00, ?it/s]"
     ]
    },
    {
     "name": "stdout",
     "output_type": "stream",
     "text": [
      "processed 46666 tokens with 5648 phrases; found: 5651 phrases; correct: 5077.\n",
      "accuracy:  97.82%; precision:  89.84%; recall:  89.89%; FB1:  89.87\n",
      "              LOC: precision:  92.38%; recall:  92.27%; FB1:  92.32  1666\n",
      "             MISC: precision:  79.80%; recall:  78.77%; FB1:  79.28  693\n",
      "              ORG: precision:  84.66%; recall:  89.70%; FB1:  87.11  1760\n",
      "              PER: precision:  97.58%; recall:  92.46%; FB1:  94.95  1532\n",
      "\n",
      "Epoch 42/80\n"
     ]
    },
    {
     "name": "stderr",
     "output_type": "stream",
     "text": [
      "76it [00:38,  1.99it/s]\n"
     ]
    },
    {
     "name": "stdout",
     "output_type": "stream",
     "text": [
      "CoNLL score dev set\n",
      "total 51578, correct 51027, accuracy 0.989317\n",
      "total unknown 713, correct 686, accuracy 0.962132\n",
      "processed 51578 tokens with 5942 phrases; found: 5938 phrases; correct: 5612.\n",
      "accuracy:  98.93%; precision:  94.51%; recall:  94.45%; FB1:  94.48\n",
      "              LOC: precision:  96.61%; recall:  96.24%; FB1:  96.43  1830\n",
      "             MISC: precision:  90.67%; recall:  88.50%; FB1:  89.57  900\n",
      "              ORG: precision:  91.62%; recall:  92.92%; FB1:  92.26  1360\n",
      "              PER: precision:  96.43%; recall:  96.74%; FB1:  96.59  1848\n",
      "\n",
      "CoNLL score test set\n",
      "total 46666, correct 45741, accuracy 0.980178\n",
      "total unknown 1143, correct 1077, accuracy 0.942257\n"
     ]
    },
    {
     "name": "stderr",
     "output_type": "stream",
     "text": [
      "0it [00:00, ?it/s]"
     ]
    },
    {
     "name": "stdout",
     "output_type": "stream",
     "text": [
      "processed 46666 tokens with 5648 phrases; found: 5649 phrases; correct: 5135.\n",
      "accuracy:  98.02%; precision:  90.90%; recall:  90.92%; FB1:  90.91\n",
      "              LOC: precision:  92.22%; recall:  93.11%; FB1:  92.66  1684\n",
      "             MISC: precision:  79.89%; recall:  80.34%; FB1:  80.11  706\n",
      "              ORG: precision:  88.74%; recall:  89.70%; FB1:  89.22  1679\n",
      "              PER: precision:  96.71%; recall:  94.50%; FB1:  95.59  1580\n",
      "\n",
      "Epoch 43/80\n"
     ]
    },
    {
     "name": "stderr",
     "output_type": "stream",
     "text": [
      "76it [00:38,  1.97it/s]\n"
     ]
    },
    {
     "name": "stdout",
     "output_type": "stream",
     "text": [
      "CoNLL score dev set\n",
      "total 51578, correct 51023, accuracy 0.989240\n",
      "total unknown 713, correct 690, accuracy 0.967742\n",
      "processed 51578 tokens with 5942 phrases; found: 5942 phrases; correct: 5615.\n",
      "accuracy:  98.92%; precision:  94.50%; recall:  94.50%; FB1:  94.50\n",
      "              LOC: precision:  97.10%; recall:  96.46%; FB1:  96.78  1825\n",
      "             MISC: precision:  89.05%; recall:  89.05%; FB1:  89.05  922\n",
      "              ORG: precision:  91.63%; recall:  92.24%; FB1:  91.94  1350\n",
      "              PER: precision:  96.75%; recall:  96.91%; FB1:  96.83  1845\n",
      "\n",
      "CoNLL score test set\n",
      "total 46666, correct 45742, accuracy 0.980200\n",
      "total unknown 1143, correct 1083, accuracy 0.947507\n"
     ]
    },
    {
     "name": "stderr",
     "output_type": "stream",
     "text": [
      "0it [00:00, ?it/s]"
     ]
    },
    {
     "name": "stdout",
     "output_type": "stream",
     "text": [
      "processed 46666 tokens with 5648 phrases; found: 5663 phrases; correct: 5128.\n",
      "accuracy:  98.02%; precision:  90.55%; recall:  90.79%; FB1:  90.67\n",
      "              LOC: precision:  92.02%; recall:  93.35%; FB1:  92.68  1692\n",
      "             MISC: precision:  77.96%; recall:  81.62%; FB1:  79.75  735\n",
      "              ORG: precision:  88.89%; recall:  88.62%; FB1:  88.75  1656\n",
      "              PER: precision:  96.58%; recall:  94.37%; FB1:  95.46  1580\n",
      "\n",
      "Epoch 44/80\n"
     ]
    },
    {
     "name": "stderr",
     "output_type": "stream",
     "text": [
      "76it [00:38,  1.95it/s]\n"
     ]
    },
    {
     "name": "stdout",
     "output_type": "stream",
     "text": [
      "CoNLL score dev set\n",
      "total 51578, correct 51008, accuracy 0.988949\n",
      "total unknown 713, correct 683, accuracy 0.957924\n",
      "processed 51578 tokens with 5942 phrases; found: 5882 phrases; correct: 5582.\n",
      "accuracy:  98.89%; precision:  94.90%; recall:  93.94%; FB1:  94.42\n",
      "              LOC: precision:  97.57%; recall:  96.03%; FB1:  96.79  1808\n",
      "             MISC: precision:  91.62%; recall:  87.74%; FB1:  89.64  883\n",
      "              ORG: precision:  91.29%; recall:  91.42%; FB1:  91.36  1343\n",
      "              PER: precision:  96.48%; recall:  96.80%; FB1:  96.64  1848\n",
      "\n",
      "CoNLL score test set\n",
      "total 46666, correct 45726, accuracy 0.979857\n",
      "total unknown 1143, correct 1072, accuracy 0.937883\n"
     ]
    },
    {
     "name": "stderr",
     "output_type": "stream",
     "text": [
      "0it [00:00, ?it/s]"
     ]
    },
    {
     "name": "stdout",
     "output_type": "stream",
     "text": [
      "processed 46666 tokens with 5648 phrases; found: 5584 phrases; correct: 5096.\n",
      "accuracy:  97.99%; precision:  91.26%; recall:  90.23%; FB1:  90.74\n",
      "              LOC: precision:  92.87%; recall:  92.93%; FB1:  92.90  1669\n",
      "             MISC: precision:  80.11%; recall:  79.77%; FB1:  79.94  699\n",
      "              ORG: precision:  89.33%; recall:  88.20%; FB1:  88.76  1640\n",
      "              PER: precision:  96.51%; recall:  94.06%; FB1:  95.27  1576\n",
      "\n",
      "Epoch 45/80\n"
     ]
    },
    {
     "name": "stderr",
     "output_type": "stream",
     "text": [
      "76it [00:38,  1.99it/s]\n"
     ]
    },
    {
     "name": "stdout",
     "output_type": "stream",
     "text": [
      "CoNLL score dev set\n",
      "total 51578, correct 51034, accuracy 0.989453\n",
      "total unknown 713, correct 686, accuracy 0.962132\n",
      "processed 51578 tokens with 5942 phrases; found: 5915 phrases; correct: 5612.\n",
      "accuracy:  98.95%; precision:  94.88%; recall:  94.45%; FB1:  94.66\n",
      "              LOC: precision:  97.09%; recall:  96.41%; FB1:  96.75  1824\n",
      "             MISC: precision:  89.54%; recall:  89.15%; FB1:  89.35  918\n",
      "              ORG: precision:  93.20%; recall:  92.02%; FB1:  92.61  1324\n",
      "              PER: precision:  96.54%; recall:  96.91%; FB1:  96.72  1849\n",
      "\n",
      "CoNLL score test set\n",
      "total 46666, correct 45740, accuracy 0.980157\n",
      "total unknown 1143, correct 1080, accuracy 0.944882\n"
     ]
    },
    {
     "name": "stderr",
     "output_type": "stream",
     "text": [
      "0it [00:00, ?it/s]"
     ]
    },
    {
     "name": "stdout",
     "output_type": "stream",
     "text": [
      "processed 46666 tokens with 5648 phrases; found: 5616 phrases; correct: 5113.\n",
      "accuracy:  98.02%; precision:  91.04%; recall:  90.53%; FB1:  90.78\n",
      "              LOC: precision:  91.84%; recall:  93.17%; FB1:  92.50  1692\n",
      "             MISC: precision:  77.60%; recall:  80.91%; FB1:  79.22  732\n",
      "              ORG: precision:  90.73%; recall:  87.84%; FB1:  89.26  1608\n",
      "              PER: precision:  96.72%; recall:  94.74%; FB1:  95.72  1584\n",
      "\n",
      "Epoch 46/80\n"
     ]
    },
    {
     "name": "stderr",
     "output_type": "stream",
     "text": [
      "76it [00:38,  1.98it/s]\n"
     ]
    },
    {
     "name": "stdout",
     "output_type": "stream",
     "text": [
      "CoNLL score dev set\n",
      "total 51578, correct 51013, accuracy 0.989046\n",
      "total unknown 713, correct 682, accuracy 0.956522\n",
      "processed 51578 tokens with 5942 phrases; found: 5926 phrases; correct: 5602.\n",
      "accuracy:  98.90%; precision:  94.53%; recall:  94.28%; FB1:  94.41\n",
      "              LOC: precision:  96.36%; recall:  96.57%; FB1:  96.47  1841\n",
      "             MISC: precision:  91.61%; recall:  87.64%; FB1:  89.58  882\n",
      "              ORG: precision:  90.83%; recall:  92.32%; FB1:  91.57  1363\n",
      "              PER: precision:  96.85%; recall:  96.74%; FB1:  96.80  1840\n",
      "\n",
      "CoNLL score test set\n",
      "total 46666, correct 45715, accuracy 0.979621\n",
      "total unknown 1143, correct 1075, accuracy 0.940507\n"
     ]
    },
    {
     "name": "stderr",
     "output_type": "stream",
     "text": [
      "0it [00:00, ?it/s]"
     ]
    },
    {
     "name": "stdout",
     "output_type": "stream",
     "text": [
      "processed 46666 tokens with 5648 phrases; found: 5626 phrases; correct: 5111.\n",
      "accuracy:  97.96%; precision:  90.85%; recall:  90.49%; FB1:  90.67\n",
      "              LOC: precision:  91.83%; recall:  93.71%; FB1:  92.76  1702\n",
      "             MISC: precision:  81.47%; recall:  78.92%; FB1:  80.17  680\n",
      "              ORG: precision:  87.76%; recall:  88.92%; FB1:  88.34  1683\n",
      "              PER: precision:  97.18%; recall:  93.82%; FB1:  95.47  1561\n",
      "\n",
      "Epoch 47/80\n"
     ]
    },
    {
     "name": "stderr",
     "output_type": "stream",
     "text": [
      "76it [00:38,  1.97it/s]\n"
     ]
    },
    {
     "name": "stdout",
     "output_type": "stream",
     "text": [
      "CoNLL score dev set\n",
      "total 51578, correct 51030, accuracy 0.989375\n",
      "total unknown 713, correct 681, accuracy 0.955119\n",
      "processed 51578 tokens with 5942 phrases; found: 5905 phrases; correct: 5601.\n",
      "accuracy:  98.94%; precision:  94.85%; recall:  94.26%; FB1:  94.56\n",
      "              LOC: precision:  97.20%; recall:  96.30%; FB1:  96.75  1820\n",
      "             MISC: precision:  92.82%; recall:  86.98%; FB1:  89.81  864\n",
      "              ORG: precision:  90.27%; recall:  92.69%; FB1:  91.46  1377\n",
      "              PER: precision:  96.91%; recall:  97.01%; FB1:  96.96  1844\n",
      "\n",
      "CoNLL score test set\n",
      "total 46666, correct 45718, accuracy 0.979685\n",
      "total unknown 1143, correct 1073, accuracy 0.938758\n"
     ]
    },
    {
     "name": "stderr",
     "output_type": "stream",
     "text": [
      "0it [00:00, ?it/s]"
     ]
    },
    {
     "name": "stdout",
     "output_type": "stream",
     "text": [
      "processed 46666 tokens with 5648 phrases; found: 5613 phrases; correct: 5111.\n",
      "accuracy:  97.97%; precision:  91.06%; recall:  90.49%; FB1:  90.77\n",
      "              LOC: precision:  92.75%; recall:  92.75%; FB1:  92.75  1668\n",
      "             MISC: precision:  82.93%; recall:  77.49%; FB1:  80.12  656\n",
      "              ORG: precision:  86.67%; recall:  90.07%; FB1:  88.34  1726\n",
      "              PER: precision:  97.50%; recall:  94.25%; FB1:  95.85  1563\n",
      "\n",
      "Epoch 48/80\n"
     ]
    },
    {
     "name": "stderr",
     "output_type": "stream",
     "text": [
      "76it [00:37,  2.00it/s]\n"
     ]
    },
    {
     "name": "stdout",
     "output_type": "stream",
     "text": [
      "CoNLL score dev set\n",
      "total 51578, correct 51028, accuracy 0.989337\n",
      "total unknown 713, correct 684, accuracy 0.959327\n",
      "processed 51578 tokens with 5942 phrases; found: 5924 phrases; correct: 5609.\n",
      "accuracy:  98.93%; precision:  94.68%; recall:  94.40%; FB1:  94.54\n",
      "              LOC: precision:  95.72%; recall:  97.33%; FB1:  96.52  1868\n",
      "             MISC: precision:  89.47%; recall:  89.37%; FB1:  89.42  921\n",
      "              ORG: precision:  93.83%; recall:  90.68%; FB1:  92.23  1296\n",
      "              PER: precision:  96.85%; recall:  96.69%; FB1:  96.77  1839\n",
      "\n",
      "CoNLL score test set\n",
      "total 46666, correct 45725, accuracy 0.979835\n",
      "total unknown 1143, correct 1079, accuracy 0.944007\n"
     ]
    },
    {
     "name": "stderr",
     "output_type": "stream",
     "text": [
      "0it [00:00, ?it/s]"
     ]
    },
    {
     "name": "stdout",
     "output_type": "stream",
     "text": [
      "processed 46666 tokens with 5648 phrases; found: 5617 phrases; correct: 5106.\n",
      "accuracy:  97.98%; precision:  90.90%; recall:  90.40%; FB1:  90.65\n",
      "              LOC: precision:  90.05%; recall:  94.42%; FB1:  92.19  1749\n",
      "             MISC: precision:  78.81%; recall:  81.05%; FB1:  79.92  722\n",
      "              ORG: precision:  91.19%; recall:  86.63%; FB1:  88.85  1578\n",
      "              PER: precision:  97.13%; recall:  94.19%; FB1:  95.64  1568\n",
      "\n",
      "Epoch 49/80\n"
     ]
    },
    {
     "name": "stderr",
     "output_type": "stream",
     "text": [
      "76it [00:37,  2.01it/s]\n"
     ]
    },
    {
     "name": "stdout",
     "output_type": "stream",
     "text": [
      "CoNLL score dev set\n",
      "total 51578, correct 51024, accuracy 0.989259\n",
      "total unknown 713, correct 683, accuracy 0.957924\n",
      "processed 51578 tokens with 5942 phrases; found: 5932 phrases; correct: 5599.\n",
      "accuracy:  98.93%; precision:  94.39%; recall:  94.23%; FB1:  94.31\n",
      "              LOC: precision:  96.87%; recall:  96.03%; FB1:  96.45  1821\n",
      "             MISC: precision:  90.32%; recall:  88.07%; FB1:  89.18  899\n",
      "              ORG: precision:  90.82%; recall:  92.17%; FB1:  91.49  1361\n",
      "              PER: precision:  96.54%; recall:  97.01%; FB1:  96.78  1851\n",
      "\n",
      "CoNLL score test set\n",
      "total 46666, correct 45738, accuracy 0.980114\n",
      "total unknown 1143, correct 1081, accuracy 0.945757\n"
     ]
    },
    {
     "name": "stderr",
     "output_type": "stream",
     "text": [
      "0it [00:00, ?it/s]"
     ]
    },
    {
     "name": "stdout",
     "output_type": "stream",
     "text": [
      "processed 46666 tokens with 5648 phrases; found: 5657 phrases; correct: 5136.\n",
      "accuracy:  98.01%; precision:  90.79%; recall:  90.93%; FB1:  90.86\n",
      "              LOC: precision:  92.54%; recall:  93.65%; FB1:  93.09  1688\n",
      "             MISC: precision:  80.43%; recall:  80.20%; FB1:  80.31  700\n",
      "              ORG: precision:  87.91%; recall:  89.28%; FB1:  88.59  1687\n",
      "              PER: precision:  96.59%; recall:  94.50%; FB1:  95.53  1582\n",
      "\n",
      "Epoch 50/80\n"
     ]
    },
    {
     "name": "stderr",
     "output_type": "stream",
     "text": [
      "76it [00:38,  1.98it/s]\n"
     ]
    },
    {
     "name": "stdout",
     "output_type": "stream",
     "text": [
      "CoNLL score dev set\n",
      "total 51578, correct 50992, accuracy 0.988639\n",
      "total unknown 713, correct 682, accuracy 0.956522\n",
      "processed 51578 tokens with 5942 phrases; found: 5912 phrases; correct: 5584.\n",
      "accuracy:  98.86%; precision:  94.45%; recall:  93.98%; FB1:  94.21\n",
      "              LOC: precision:  96.94%; recall:  96.46%; FB1:  96.70  1828\n",
      "             MISC: precision:  88.96%; recall:  89.15%; FB1:  89.06  924\n",
      "              ORG: precision:  91.49%; recall:  91.42%; FB1:  91.46  1340\n",
      "              PER: precision:  96.92%; recall:  95.77%; FB1:  96.34  1820\n",
      "\n",
      "CoNLL score test set\n",
      "total 46666, correct 45641, accuracy 0.978035\n",
      "total unknown 1143, correct 1078, accuracy 0.943132\n"
     ]
    },
    {
     "name": "stderr",
     "output_type": "stream",
     "text": [
      "0it [00:00, ?it/s]"
     ]
    },
    {
     "name": "stdout",
     "output_type": "stream",
     "text": [
      "processed 46666 tokens with 5648 phrases; found: 5627 phrases; correct: 5087.\n",
      "accuracy:  97.80%; precision:  90.40%; recall:  90.07%; FB1:  90.24\n",
      "              LOC: precision:  91.73%; recall:  93.11%; FB1:  92.41  1693\n",
      "             MISC: precision:  78.46%; recall:  79.91%; FB1:  79.18  715\n",
      "              ORG: precision:  87.72%; recall:  88.20%; FB1:  87.96  1670\n",
      "              PER: precision:  97.35%; recall:  93.26%; FB1:  95.26  1549\n",
      "\n",
      "Epoch 51/80\n"
     ]
    },
    {
     "name": "stderr",
     "output_type": "stream",
     "text": [
      "76it [00:38,  2.00it/s]\n"
     ]
    },
    {
     "name": "stdout",
     "output_type": "stream",
     "text": [
      "CoNLL score dev set\n",
      "total 51578, correct 50987, accuracy 0.988542\n",
      "total unknown 713, correct 682, accuracy 0.956522\n",
      "processed 51578 tokens with 5942 phrases; found: 5939 phrases; correct: 5590.\n",
      "accuracy:  98.85%; precision:  94.12%; recall:  94.08%; FB1:  94.10\n",
      "              LOC: precision:  97.44%; recall:  95.48%; FB1:  96.45  1800\n",
      "             MISC: precision:  90.89%; recall:  87.64%; FB1:  89.23  889\n",
      "              ORG: precision:  88.70%; recall:  93.66%; FB1:  91.11  1416\n",
      "              PER: precision:  96.62%; recall:  96.20%; FB1:  96.41  1834\n",
      "\n",
      "CoNLL score test set\n",
      "total 46666, correct 45700, accuracy 0.979300\n",
      "total unknown 1143, correct 1070, accuracy 0.936133\n"
     ]
    },
    {
     "name": "stderr",
     "output_type": "stream",
     "text": [
      "0it [00:00, ?it/s]"
     ]
    },
    {
     "name": "stdout",
     "output_type": "stream",
     "text": [
      "processed 46666 tokens with 5648 phrases; found: 5667 phrases; correct: 5110.\n",
      "accuracy:  97.93%; precision:  90.17%; recall:  90.47%; FB1:  90.32\n",
      "              LOC: precision:  94.12%; recall:  92.21%; FB1:  93.16  1634\n",
      "             MISC: precision:  80.84%; recall:  79.34%; FB1:  80.09  689\n",
      "              ORG: precision:  84.20%; recall:  91.09%; FB1:  87.51  1797\n",
      "              PER: precision:  97.09%; recall:  92.89%; FB1:  94.94  1547\n",
      "\n",
      "Epoch 52/80\n"
     ]
    },
    {
     "name": "stderr",
     "output_type": "stream",
     "text": [
      "76it [00:38,  1.98it/s]\n"
     ]
    },
    {
     "name": "stdout",
     "output_type": "stream",
     "text": [
      "CoNLL score dev set\n",
      "total 51578, correct 51025, accuracy 0.989278\n",
      "total unknown 713, correct 683, accuracy 0.957924\n",
      "processed 51578 tokens with 5942 phrases; found: 5933 phrases; correct: 5602.\n",
      "accuracy:  98.93%; precision:  94.42%; recall:  94.28%; FB1:  94.35\n",
      "              LOC: precision:  96.98%; recall:  96.03%; FB1:  96.50  1819\n",
      "             MISC: precision:  89.50%; recall:  88.72%; FB1:  89.11  914\n",
      "              ORG: precision:  91.06%; recall:  92.62%; FB1:  91.83  1364\n",
      "              PER: precision:  96.84%; recall:  96.53%; FB1:  96.68  1836\n",
      "\n",
      "CoNLL score test set\n",
      "total 46666, correct 45735, accuracy 0.980050\n",
      "total unknown 1143, correct 1077, accuracy 0.942257\n"
     ]
    },
    {
     "name": "stderr",
     "output_type": "stream",
     "text": [
      "0it [00:00, ?it/s]"
     ]
    },
    {
     "name": "stdout",
     "output_type": "stream",
     "text": [
      "processed 46666 tokens with 5648 phrases; found: 5641 phrases; correct: 5119.\n",
      "accuracy:  98.00%; precision:  90.75%; recall:  90.63%; FB1:  90.69\n",
      "              LOC: precision:  92.47%; recall:  93.53%; FB1:  93.00  1687\n",
      "             MISC: precision:  80.17%; recall:  80.06%; FB1:  80.11  701\n",
      "              ORG: precision:  87.42%; recall:  89.52%; FB1:  88.46  1701\n",
      "              PER: precision:  97.29%; recall:  93.38%; FB1:  95.30  1552\n",
      "\n",
      "Epoch 53/80\n"
     ]
    },
    {
     "name": "stderr",
     "output_type": "stream",
     "text": [
      "76it [00:38,  1.99it/s]\n"
     ]
    },
    {
     "name": "stdout",
     "output_type": "stream",
     "text": [
      "CoNLL score dev set\n",
      "total 51578, correct 51024, accuracy 0.989259\n",
      "total unknown 713, correct 686, accuracy 0.962132\n",
      "processed 51578 tokens with 5942 phrases; found: 5962 phrases; correct: 5612.\n",
      "accuracy:  98.93%; precision:  94.13%; recall:  94.45%; FB1:  94.29\n",
      "              LOC: precision:  97.24%; recall:  95.97%; FB1:  96.60  1813\n",
      "             MISC: precision:  87.47%; recall:  90.13%; FB1:  88.78  950\n",
      "              ORG: precision:  91.45%; recall:  92.47%; FB1:  91.95  1356\n",
      "              PER: precision:  96.47%; recall:  96.53%; FB1:  96.50  1843\n",
      "\n",
      "CoNLL score test set\n",
      "total 46666, correct 45657, accuracy 0.978378\n",
      "total unknown 1143, correct 1077, accuracy 0.942257\n"
     ]
    },
    {
     "name": "stderr",
     "output_type": "stream",
     "text": [
      "0it [00:00, ?it/s]"
     ]
    },
    {
     "name": "stdout",
     "output_type": "stream",
     "text": [
      "processed 46666 tokens with 5648 phrases; found: 5721 phrases; correct: 5128.\n",
      "accuracy:  97.84%; precision:  89.63%; recall:  90.79%; FB1:  90.21\n",
      "              LOC: precision:  92.74%; recall:  92.69%; FB1:  92.71  1667\n",
      "             MISC: precision:  73.87%; recall:  81.34%; FB1:  77.42  773\n",
      "              ORG: precision:  87.40%; recall:  89.40%; FB1:  88.39  1699\n",
      "              PER: precision:  96.46%; recall:  94.37%; FB1:  95.40  1582\n",
      "\n",
      "Epoch 54/80\n"
     ]
    },
    {
     "name": "stderr",
     "output_type": "stream",
     "text": [
      "76it [00:38,  2.00it/s]\n"
     ]
    },
    {
     "name": "stdout",
     "output_type": "stream",
     "text": [
      "CoNLL score dev set\n",
      "total 51578, correct 51019, accuracy 0.989162\n",
      "total unknown 713, correct 685, accuracy 0.960729\n",
      "processed 51578 tokens with 5942 phrases; found: 5943 phrases; correct: 5614.\n",
      "accuracy:  98.92%; precision:  94.46%; recall:  94.48%; FB1:  94.47\n",
      "              LOC: precision:  97.04%; recall:  96.46%; FB1:  96.75  1826\n",
      "             MISC: precision:  88.92%; recall:  89.70%; FB1:  89.31  930\n",
      "              ORG: precision:  93.70%; recall:  90.90%; FB1:  92.28  1301\n",
      "              PER: precision:  95.23%; recall:  97.50%; FB1:  96.35  1886\n",
      "\n",
      "CoNLL score test set\n",
      "total 46666, correct 45702, accuracy 0.979343\n",
      "total unknown 1143, correct 1078, accuracy 0.943132\n"
     ]
    },
    {
     "name": "stderr",
     "output_type": "stream",
     "text": [
      "0it [00:00, ?it/s]"
     ]
    },
    {
     "name": "stdout",
     "output_type": "stream",
     "text": [
      "processed 46666 tokens with 5648 phrases; found: 5657 phrases; correct: 5115.\n",
      "accuracy:  97.93%; precision:  90.42%; recall:  90.56%; FB1:  90.49\n",
      "              LOC: precision:  91.93%; recall:  93.53%; FB1:  92.72  1697\n",
      "             MISC: precision:  76.77%; recall:  81.91%; FB1:  79.26  749\n",
      "              ORG: precision:  90.32%; recall:  86.51%; FB1:  88.38  1591\n",
      "              PER: precision:  95.25%; recall:  95.42%; FB1:  95.34  1620\n",
      "\n",
      "Epoch 55/80\n"
     ]
    },
    {
     "name": "stderr",
     "output_type": "stream",
     "text": [
      "76it [00:38,  1.99it/s]\n"
     ]
    },
    {
     "name": "stdout",
     "output_type": "stream",
     "text": [
      "CoNLL score dev set\n",
      "total 51578, correct 51031, accuracy 0.989395\n",
      "total unknown 713, correct 687, accuracy 0.963534\n",
      "processed 51578 tokens with 5942 phrases; found: 5953 phrases; correct: 5629.\n",
      "accuracy:  98.94%; precision:  94.56%; recall:  94.73%; FB1:  94.64\n",
      "              LOC: precision:  97.41%; recall:  96.24%; FB1:  96.82  1815\n",
      "             MISC: precision:  88.39%; recall:  90.02%; FB1:  89.20  939\n",
      "              ORG: precision:  92.93%; recall:  92.10%; FB1:  92.51  1329\n",
      "              PER: precision:  96.04%; recall:  97.50%; FB1:  96.77  1870\n",
      "\n",
      "CoNLL score test set\n",
      "total 46666, correct 45742, accuracy 0.980200\n",
      "total unknown 1143, correct 1072, accuracy 0.937883\n"
     ]
    },
    {
     "name": "stderr",
     "output_type": "stream",
     "text": [
      "0it [00:00, ?it/s]"
     ]
    },
    {
     "name": "stdout",
     "output_type": "stream",
     "text": [
      "processed 46666 tokens with 5648 phrases; found: 5664 phrases; correct: 5143.\n",
      "accuracy:  98.02%; precision:  90.80%; recall:  91.06%; FB1:  90.93\n",
      "              LOC: precision:  92.70%; recall:  93.65%; FB1:  93.17  1685\n",
      "             MISC: precision:  76.74%; recall:  81.77%; FB1:  79.17  748\n",
      "              ORG: precision:  90.61%; recall:  88.26%; FB1:  89.42  1618\n",
      "              PER: precision:  95.54%; recall:  95.30%; FB1:  95.42  1613\n",
      "\n",
      "Epoch 56/80\n"
     ]
    },
    {
     "name": "stderr",
     "output_type": "stream",
     "text": [
      "76it [00:38,  1.97it/s]\n"
     ]
    },
    {
     "name": "stdout",
     "output_type": "stream",
     "text": [
      "CoNLL score dev set\n",
      "total 51578, correct 50991, accuracy 0.988619\n",
      "total unknown 713, correct 676, accuracy 0.948107\n",
      "processed 51578 tokens with 5942 phrases; found: 5947 phrases; correct: 5571.\n",
      "accuracy:  98.86%; precision:  93.68%; recall:  93.76%; FB1:  93.72\n",
      "              LOC: precision:  97.59%; recall:  94.72%; FB1:  96.13  1783\n",
      "             MISC: precision:  91.37%; recall:  87.31%; FB1:  89.30  881\n",
      "              ORG: precision:  86.17%; recall:  93.89%; FB1:  89.86  1461\n",
      "              PER: precision:  96.98%; recall:  95.93%; FB1:  96.45  1822\n",
      "\n",
      "CoNLL score test set\n",
      "total 46666, correct 45669, accuracy 0.978635\n",
      "total unknown 1143, correct 1061, accuracy 0.928259\n"
     ]
    },
    {
     "name": "stderr",
     "output_type": "stream",
     "text": [
      "0it [00:00, ?it/s]"
     ]
    },
    {
     "name": "stdout",
     "output_type": "stream",
     "text": [
      "processed 46666 tokens with 5648 phrases; found: 5680 phrases; correct: 5098.\n",
      "accuracy:  97.86%; precision:  89.75%; recall:  90.26%; FB1:  90.01\n",
      "              LOC: precision:  93.80%; recall:  91.67%; FB1:  92.72  1630\n",
      "             MISC: precision:  82.71%; recall:  79.06%; FB1:  80.84  671\n",
      "              ORG: precision:  82.24%; recall:  91.15%; FB1:  86.46  1841\n",
      "              PER: precision:  97.53%; recall:  92.76%; FB1:  95.09  1538\n",
      "\n",
      "Epoch 57/80\n"
     ]
    },
    {
     "name": "stderr",
     "output_type": "stream",
     "text": [
      "76it [00:37,  2.04it/s]\n"
     ]
    },
    {
     "name": "stdout",
     "output_type": "stream",
     "text": [
      "CoNLL score dev set\n",
      "total 51578, correct 51027, accuracy 0.989317\n",
      "total unknown 713, correct 687, accuracy 0.963534\n",
      "processed 51578 tokens with 5942 phrases; found: 5933 phrases; correct: 5611.\n",
      "accuracy:  98.93%; precision:  94.57%; recall:  94.43%; FB1:  94.50\n",
      "              LOC: precision:  96.21%; recall:  96.62%; FB1:  96.41  1845\n",
      "             MISC: precision:  90.85%; recall:  88.29%; FB1:  89.55  896\n",
      "              ORG: precision:  91.66%; recall:  92.62%; FB1:  92.14  1355\n",
      "              PER: precision:  96.90%; recall:  96.63%; FB1:  96.77  1837\n",
      "\n",
      "CoNLL score test set\n",
      "total 46666, correct 45739, accuracy 0.980135\n",
      "total unknown 1143, correct 1077, accuracy 0.942257\n"
     ]
    },
    {
     "name": "stderr",
     "output_type": "stream",
     "text": [
      "0it [00:00, ?it/s]"
     ]
    },
    {
     "name": "stdout",
     "output_type": "stream",
     "text": [
      "processed 46666 tokens with 5648 phrases; found: 5643 phrases; correct: 5129.\n",
      "accuracy:  98.01%; precision:  90.89%; recall:  90.81%; FB1:  90.85\n",
      "              LOC: precision:  92.01%; recall:  93.88%; FB1:  92.94  1702\n",
      "             MISC: precision:  80.92%; recall:  80.34%; FB1:  80.63  697\n",
      "              ORG: precision:  88.62%; recall:  89.04%; FB1:  88.83  1669\n",
      "              PER: precision:  96.51%; recall:  94.00%; FB1:  95.24  1575\n",
      "\n",
      "Epoch 58/80\n"
     ]
    },
    {
     "name": "stderr",
     "output_type": "stream",
     "text": [
      "76it [00:35,  2.16it/s]\n"
     ]
    },
    {
     "name": "stdout",
     "output_type": "stream",
     "text": [
      "CoNLL score dev set\n",
      "total 51578, correct 51037, accuracy 0.989511\n",
      "total unknown 713, correct 686, accuracy 0.962132\n",
      "processed 51578 tokens with 5942 phrases; found: 5914 phrases; correct: 5609.\n",
      "accuracy:  98.95%; precision:  94.84%; recall:  94.40%; FB1:  94.62\n",
      "              LOC: precision:  95.71%; recall:  97.22%; FB1:  96.46  1866\n",
      "             MISC: precision:  91.29%; recall:  88.72%; FB1:  89.99  896\n",
      "              ORG: precision:  93.32%; recall:  90.68%; FB1:  91.98  1303\n",
      "              PER: precision:  96.76%; recall:  97.12%; FB1:  96.94  1849\n",
      "\n",
      "CoNLL score test set\n",
      "total 46666, correct 45700, accuracy 0.979300\n",
      "total unknown 1143, correct 1076, accuracy 0.941382\n"
     ]
    },
    {
     "name": "stderr",
     "output_type": "stream",
     "text": [
      "0it [00:00, ?it/s]"
     ]
    },
    {
     "name": "stdout",
     "output_type": "stream",
     "text": [
      "processed 46666 tokens with 5648 phrases; found: 5618 phrases; correct: 5102.\n",
      "accuracy:  97.93%; precision:  90.82%; recall:  90.33%; FB1:  90.57\n",
      "              LOC: precision:  90.03%; recall:  94.72%; FB1:  92.32  1755\n",
      "             MISC: precision:  80.60%; recall:  80.48%; FB1:  80.54  701\n",
      "              ORG: precision:  90.74%; recall:  86.15%; FB1:  88.39  1577\n",
      "              PER: precision:  96.28%; recall:  94.37%; FB1:  95.32  1585\n",
      "\n",
      "Epoch 59/80\n"
     ]
    },
    {
     "name": "stderr",
     "output_type": "stream",
     "text": [
      "76it [00:35,  2.16it/s]\n"
     ]
    },
    {
     "name": "stdout",
     "output_type": "stream",
     "text": [
      "CoNLL score dev set\n",
      "total 51578, correct 51022, accuracy 0.989220\n",
      "total unknown 713, correct 683, accuracy 0.957924\n",
      "processed 51578 tokens with 5942 phrases; found: 5888 phrases; correct: 5588.\n",
      "accuracy:  98.92%; precision:  94.90%; recall:  94.04%; FB1:  94.47\n",
      "              LOC: precision:  97.36%; recall:  96.30%; FB1:  96.83  1817\n",
      "             MISC: precision:  89.77%; recall:  89.48%; FB1:  89.63  919\n",
      "              ORG: precision:  94.00%; recall:  89.93%; FB1:  91.92  1283\n",
      "              PER: precision:  95.67%; recall:  97.07%; FB1:  96.36  1869\n",
      "\n",
      "CoNLL score test set\n",
      "total 46666, correct 45725, accuracy 0.979835\n",
      "total unknown 1143, correct 1068, accuracy 0.934383\n"
     ]
    },
    {
     "name": "stderr",
     "output_type": "stream",
     "text": [
      "0it [00:00, ?it/s]"
     ]
    },
    {
     "name": "stdout",
     "output_type": "stream",
     "text": [
      "processed 46666 tokens with 5648 phrases; found: 5577 phrases; correct: 5094.\n",
      "accuracy:  97.98%; precision:  91.34%; recall:  90.19%; FB1:  90.76\n",
      "              LOC: precision:  92.71%; recall:  92.99%; FB1:  92.85  1673\n",
      "             MISC: precision:  78.88%; recall:  82.48%; FB1:  80.64  734\n",
      "              ORG: precision:  91.59%; recall:  85.85%; FB1:  88.63  1557\n",
      "              PER: precision:  95.35%; recall:  95.11%; FB1:  95.23  1613\n",
      "\n",
      "Epoch 60/80\n"
     ]
    },
    {
     "name": "stderr",
     "output_type": "stream",
     "text": [
      "76it [00:35,  2.15it/s]\n"
     ]
    },
    {
     "name": "stdout",
     "output_type": "stream",
     "text": [
      "CoNLL score dev set\n",
      "total 51578, correct 51035, accuracy 0.989472\n",
      "total unknown 713, correct 684, accuracy 0.959327\n",
      "processed 51578 tokens with 5942 phrases; found: 5910 phrases; correct: 5606.\n",
      "accuracy:  98.95%; precision:  94.86%; recall:  94.35%; FB1:  94.60\n",
      "              LOC: precision:  97.15%; recall:  96.35%; FB1:  96.75  1822\n",
      "             MISC: precision:  89.95%; recall:  89.26%; FB1:  89.60  915\n",
      "              ORG: precision:  93.01%; recall:  91.35%; FB1:  92.17  1317\n",
      "              PER: precision:  96.34%; recall:  97.07%; FB1:  96.70  1856\n",
      "\n",
      "CoNLL score test set\n",
      "total 46666, correct 45772, accuracy 0.980843\n",
      "total unknown 1143, correct 1079, accuracy 0.944007\n"
     ]
    },
    {
     "name": "stderr",
     "output_type": "stream",
     "text": [
      "0it [00:00, ?it/s]"
     ]
    },
    {
     "name": "stdout",
     "output_type": "stream",
     "text": [
      "processed 46666 tokens with 5648 phrases; found: 5610 phrases; correct: 5127.\n",
      "accuracy:  98.08%; precision:  91.39%; recall:  90.78%; FB1:  91.08\n",
      "              LOC: precision:  92.45%; recall:  93.23%; FB1:  92.84  1682\n",
      "             MISC: precision:  79.61%; recall:  81.77%; FB1:  80.67  721\n",
      "              ORG: precision:  90.59%; recall:  88.14%; FB1:  89.35  1616\n",
      "              PER: precision:  96.42%; recall:  94.87%; FB1:  95.64  1591\n",
      "\n",
      "Epoch 61/80\n"
     ]
    },
    {
     "name": "stderr",
     "output_type": "stream",
     "text": [
      "76it [00:35,  2.14it/s]\n"
     ]
    },
    {
     "name": "stdout",
     "output_type": "stream",
     "text": [
      "CoNLL score dev set\n",
      "total 51578, correct 51046, accuracy 0.989686\n",
      "total unknown 713, correct 687, accuracy 0.963534\n",
      "processed 51578 tokens with 5942 phrases; found: 5934 phrases; correct: 5616.\n",
      "accuracy:  98.97%; precision:  94.64%; recall:  94.51%; FB1:  94.58\n",
      "              LOC: precision:  95.66%; recall:  97.22%; FB1:  96.44  1867\n",
      "             MISC: precision:  89.67%; recall:  89.48%; FB1:  89.58  920\n",
      "              ORG: precision:  93.36%; recall:  91.28%; FB1:  92.31  1311\n",
      "              PER: precision:  97.00%; recall:  96.69%; FB1:  96.85  1836\n",
      "\n",
      "CoNLL score test set\n",
      "total 46666, correct 45716, accuracy 0.979643\n",
      "total unknown 1143, correct 1077, accuracy 0.942257\n"
     ]
    },
    {
     "name": "stderr",
     "output_type": "stream",
     "text": [
      "0it [00:00, ?it/s]"
     ]
    },
    {
     "name": "stdout",
     "output_type": "stream",
     "text": [
      "processed 46666 tokens with 5648 phrases; found: 5644 phrases; correct: 5122.\n",
      "accuracy:  97.96%; precision:  90.75%; recall:  90.69%; FB1:  90.72\n",
      "              LOC: precision:  90.17%; recall:  94.60%; FB1:  92.33  1750\n",
      "             MISC: precision:  79.19%; recall:  80.77%; FB1:  79.97  716\n",
      "              ORG: precision:  90.57%; recall:  86.75%; FB1:  88.62  1591\n",
      "              PER: precision:  96.79%; recall:  94.99%; FB1:  95.88  1587\n",
      "\n",
      "Epoch 62/80\n"
     ]
    },
    {
     "name": "stderr",
     "output_type": "stream",
     "text": [
      "76it [00:35,  2.15it/s]\n"
     ]
    },
    {
     "name": "stdout",
     "output_type": "stream",
     "text": [
      "CoNLL score dev set\n",
      "total 51578, correct 51018, accuracy 0.989143\n",
      "total unknown 713, correct 689, accuracy 0.966339\n",
      "processed 51578 tokens with 5942 phrases; found: 5919 phrases; correct: 5597.\n",
      "accuracy:  98.91%; precision:  94.56%; recall:  94.19%; FB1:  94.38\n",
      "              LOC: precision:  96.47%; recall:  96.62%; FB1:  96.55  1840\n",
      "             MISC: precision:  91.14%; recall:  88.18%; FB1:  89.64  892\n",
      "              ORG: precision:  91.74%; recall:  91.13%; FB1:  91.43  1332\n",
      "              PER: precision:  96.33%; recall:  97.01%; FB1:  96.67  1855\n",
      "\n",
      "CoNLL score test set\n",
      "total 46666, correct 45705, accuracy 0.979407\n",
      "total unknown 1143, correct 1076, accuracy 0.941382\n"
     ]
    },
    {
     "name": "stderr",
     "output_type": "stream",
     "text": [
      "0it [00:00, ?it/s]"
     ]
    },
    {
     "name": "stdout",
     "output_type": "stream",
     "text": [
      "processed 46666 tokens with 5648 phrases; found: 5647 phrases; correct: 5131.\n",
      "accuracy:  97.94%; precision:  90.86%; recall:  90.85%; FB1:  90.85\n",
      "              LOC: precision:  91.60%; recall:  94.18%; FB1:  92.88  1715\n",
      "             MISC: precision:  79.38%; recall:  80.06%; FB1:  79.72  708\n",
      "              ORG: precision:  89.90%; recall:  87.84%; FB1:  88.86  1623\n",
      "              PER: precision:  96.13%; recall:  95.18%; FB1:  95.65  1601\n",
      "\n",
      "Epoch 63/80\n"
     ]
    },
    {
     "name": "stderr",
     "output_type": "stream",
     "text": [
      "76it [00:35,  2.13it/s]\n"
     ]
    },
    {
     "name": "stdout",
     "output_type": "stream",
     "text": [
      "CoNLL score dev set\n",
      "total 51578, correct 51003, accuracy 0.988852\n",
      "total unknown 713, correct 685, accuracy 0.960729\n",
      "processed 51578 tokens with 5942 phrases; found: 5928 phrases; correct: 5584.\n",
      "accuracy:  98.89%; precision:  94.20%; recall:  93.98%; FB1:  94.09\n",
      "              LOC: precision:  96.56%; recall:  96.41%; FB1:  96.49  1834\n",
      "             MISC: precision:  89.53%; recall:  88.07%; FB1:  88.79  907\n",
      "              ORG: precision:  89.91%; recall:  92.39%; FB1:  91.14  1378\n",
      "              PER: precision:  97.40%; recall:  95.66%; FB1:  96.52  1809\n",
      "\n",
      "CoNLL score test set\n",
      "total 46666, correct 45708, accuracy 0.979471\n",
      "total unknown 1143, correct 1074, accuracy 0.939633\n"
     ]
    },
    {
     "name": "stderr",
     "output_type": "stream",
     "text": [
      "0it [00:00, ?it/s]"
     ]
    },
    {
     "name": "stdout",
     "output_type": "stream",
     "text": [
      "processed 46666 tokens with 5648 phrases; found: 5641 phrases; correct: 5105.\n",
      "accuracy:  97.95%; precision:  90.50%; recall:  90.39%; FB1:  90.44\n",
      "              LOC: precision:  92.07%; recall:  93.29%; FB1:  92.67  1690\n",
      "             MISC: precision:  80.54%; recall:  80.77%; FB1:  80.65  704\n",
      "              ORG: precision:  87.00%; recall:  89.46%; FB1:  88.22  1708\n",
      "              PER: precision:  97.21%; recall:  92.52%; FB1:  94.80  1539\n",
      "\n",
      "Epoch 64/80\n"
     ]
    },
    {
     "name": "stderr",
     "output_type": "stream",
     "text": [
      "76it [00:34,  2.17it/s]\n"
     ]
    },
    {
     "name": "stdout",
     "output_type": "stream",
     "text": [
      "CoNLL score dev set\n",
      "total 51578, correct 51013, accuracy 0.989046\n",
      "total unknown 713, correct 685, accuracy 0.960729\n",
      "processed 51578 tokens with 5942 phrases; found: 5915 phrases; correct: 5596.\n",
      "accuracy:  98.90%; precision:  94.61%; recall:  94.18%; FB1:  94.39\n",
      "              LOC: precision:  97.41%; recall:  96.19%; FB1:  96.80  1814\n",
      "             MISC: precision:  89.77%; recall:  88.50%; FB1:  89.13  909\n",
      "              ORG: precision:  91.34%; recall:  91.20%; FB1:  91.27  1339\n",
      "              PER: precision:  96.60%; recall:  97.18%; FB1:  96.89  1853\n",
      "\n",
      "CoNLL score test set\n",
      "total 46666, correct 45705, accuracy 0.979407\n",
      "total unknown 1143, correct 1072, accuracy 0.937883\n"
     ]
    },
    {
     "name": "stderr",
     "output_type": "stream",
     "text": [
      "0it [00:00, ?it/s]"
     ]
    },
    {
     "name": "stdout",
     "output_type": "stream",
     "text": [
      "processed 46666 tokens with 5648 phrases; found: 5634 phrases; correct: 5120.\n",
      "accuracy:  97.94%; precision:  90.88%; recall:  90.65%; FB1:  90.76\n",
      "              LOC: precision:  92.81%; recall:  92.93%; FB1:  92.87  1670\n",
      "             MISC: precision:  79.27%; recall:  80.63%; FB1:  79.94  714\n",
      "              ORG: precision:  88.50%; recall:  88.02%; FB1:  88.26  1652\n",
      "              PER: precision:  96.50%; recall:  95.36%; FB1:  95.93  1598\n",
      "\n",
      "Epoch 65/80\n"
     ]
    },
    {
     "name": "stderr",
     "output_type": "stream",
     "text": [
      "76it [00:35,  2.16it/s]\n"
     ]
    },
    {
     "name": "stdout",
     "output_type": "stream",
     "text": [
      "CoNLL score dev set\n",
      "total 51578, correct 51035, accuracy 0.989472\n",
      "total unknown 713, correct 683, accuracy 0.957924\n",
      "processed 51578 tokens with 5942 phrases; found: 5921 phrases; correct: 5597.\n",
      "accuracy:  98.95%; precision:  94.53%; recall:  94.19%; FB1:  94.36\n",
      "              LOC: precision:  97.76%; recall:  95.10%; FB1:  96.41  1787\n",
      "             MISC: precision:  90.25%; recall:  88.39%; FB1:  89.32  903\n",
      "              ORG: precision:  89.63%; recall:  93.44%; FB1:  91.49  1398\n",
      "              PER: precision:  97.22%; recall:  96.74%; FB1:  96.98  1833\n",
      "\n",
      "CoNLL score test set\n",
      "total 46666, correct 45709, accuracy 0.979493\n",
      "total unknown 1143, correct 1072, accuracy 0.937883\n"
     ]
    },
    {
     "name": "stderr",
     "output_type": "stream",
     "text": [
      "0it [00:00, ?it/s]"
     ]
    },
    {
     "name": "stdout",
     "output_type": "stream",
     "text": [
      "processed 46666 tokens with 5648 phrases; found: 5640 phrases; correct: 5107.\n",
      "accuracy:  97.95%; precision:  90.55%; recall:  90.42%; FB1:  90.49\n",
      "              LOC: precision:  93.98%; recall:  91.73%; FB1:  92.84  1628\n",
      "             MISC: precision:  79.80%; recall:  79.91%; FB1:  79.86  703\n",
      "              ORG: precision:  86.02%; recall:  90.01%; FB1:  87.97  1738\n",
      "              PER: precision:  96.82%; recall:  94.06%; FB1:  95.42  1571\n",
      "\n",
      "Epoch 66/80\n"
     ]
    },
    {
     "name": "stderr",
     "output_type": "stream",
     "text": [
      "76it [00:35,  2.14it/s]\n"
     ]
    },
    {
     "name": "stdout",
     "output_type": "stream",
     "text": [
      "CoNLL score dev set\n",
      "total 51578, correct 51056, accuracy 0.989879\n",
      "total unknown 713, correct 688, accuracy 0.964937\n",
      "processed 51578 tokens with 5942 phrases; found: 5939 phrases; correct: 5622.\n",
      "accuracy:  98.99%; precision:  94.66%; recall:  94.61%; FB1:  94.64\n",
      "              LOC: precision:  96.64%; recall:  96.95%; FB1:  96.79  1843\n",
      "             MISC: precision:  89.86%; recall:  89.37%; FB1:  89.61  917\n",
      "              ORG: precision:  92.07%; recall:  91.80%; FB1:  91.93  1337\n",
      "              PER: precision:  96.96%; recall:  96.96%; FB1:  96.96  1842\n",
      "\n",
      "CoNLL score test set\n",
      "total 46666, correct 45751, accuracy 0.980393\n",
      "total unknown 1143, correct 1076, accuracy 0.941382\n"
     ]
    },
    {
     "name": "stderr",
     "output_type": "stream",
     "text": [
      "0it [00:00, ?it/s]"
     ]
    },
    {
     "name": "stdout",
     "output_type": "stream",
     "text": [
      "processed 46666 tokens with 5648 phrases; found: 5667 phrases; correct: 5151.\n",
      "accuracy:  98.04%; precision:  90.89%; recall:  91.20%; FB1:  91.05\n",
      "              LOC: precision:  92.13%; recall:  94.00%; FB1:  93.06  1702\n",
      "             MISC: precision:  79.31%; recall:  81.34%; FB1:  80.31  720\n",
      "              ORG: precision:  89.17%; recall:  89.22%; FB1:  89.20  1662\n",
      "              PER: precision:  96.65%; recall:  94.62%; FB1:  95.62  1583\n",
      "\n",
      "Epoch 67/80\n"
     ]
    },
    {
     "name": "stderr",
     "output_type": "stream",
     "text": [
      "76it [00:35,  2.15it/s]\n"
     ]
    },
    {
     "name": "stdout",
     "output_type": "stream",
     "text": [
      "CoNLL score dev set\n",
      "total 51578, correct 51051, accuracy 0.989782\n",
      "total unknown 713, correct 689, accuracy 0.966339\n",
      "processed 51578 tokens with 5942 phrases; found: 5918 phrases; correct: 5610.\n",
      "accuracy:  98.98%; precision:  94.80%; recall:  94.41%; FB1:  94.60\n",
      "              LOC: precision:  97.00%; recall:  96.84%; FB1:  96.92  1834\n",
      "             MISC: precision:  90.15%; recall:  88.39%; FB1:  89.27  904\n",
      "              ORG: precision:  92.45%; recall:  91.28%; FB1:  91.86  1324\n",
      "              PER: precision:  96.55%; recall:  97.29%; FB1:  96.92  1856\n",
      "\n",
      "CoNLL score test set\n",
      "total 46666, correct 45714, accuracy 0.979600\n",
      "total unknown 1143, correct 1080, accuracy 0.944882\n"
     ]
    },
    {
     "name": "stderr",
     "output_type": "stream",
     "text": [
      "0it [00:00, ?it/s]"
     ]
    },
    {
     "name": "stdout",
     "output_type": "stream",
     "text": [
      "processed 46666 tokens with 5648 phrases; found: 5638 phrases; correct: 5124.\n",
      "accuracy:  97.96%; precision:  90.88%; recall:  90.72%; FB1:  90.80\n",
      "              LOC: precision:  91.96%; recall:  93.88%; FB1:  92.91  1703\n",
      "             MISC: precision:  80.26%; recall:  80.48%; FB1:  80.37  704\n",
      "              ORG: precision:  89.13%; recall:  87.84%; FB1:  88.48  1637\n",
      "              PER: precision:  96.24%; recall:  94.87%; FB1:  95.55  1594\n",
      "\n",
      "Epoch 68/80\n"
     ]
    },
    {
     "name": "stderr",
     "output_type": "stream",
     "text": [
      "76it [00:35,  2.15it/s]\n"
     ]
    },
    {
     "name": "stdout",
     "output_type": "stream",
     "text": [
      "CoNLL score dev set\n",
      "total 51578, correct 51021, accuracy 0.989201\n",
      "total unknown 713, correct 685, accuracy 0.960729\n",
      "processed 51578 tokens with 5942 phrases; found: 5934 phrases; correct: 5594.\n",
      "accuracy:  98.92%; precision:  94.27%; recall:  94.14%; FB1:  94.21\n",
      "              LOC: precision:  97.40%; recall:  95.70%; FB1:  96.54  1805\n",
      "             MISC: precision:  91.27%; recall:  87.31%; FB1:  89.25  882\n",
      "              ORG: precision:  88.60%; recall:  93.29%; FB1:  90.88  1412\n",
      "              PER: precision:  97.00%; recall:  96.63%; FB1:  96.82  1835\n",
      "\n",
      "CoNLL score test set\n",
      "total 46666, correct 45693, accuracy 0.979150\n",
      "total unknown 1143, correct 1063, accuracy 0.930009\n"
     ]
    },
    {
     "name": "stderr",
     "output_type": "stream",
     "text": [
      "0it [00:00, ?it/s]"
     ]
    },
    {
     "name": "stdout",
     "output_type": "stream",
     "text": [
      "processed 46666 tokens with 5648 phrases; found: 5666 phrases; correct: 5116.\n",
      "accuracy:  97.91%; precision:  90.29%; recall:  90.58%; FB1:  90.44\n",
      "              LOC: precision:  93.20%; recall:  92.81%; FB1:  93.00  1661\n",
      "             MISC: precision:  82.27%; recall:  78.63%; FB1:  80.41  671\n",
      "              ORG: precision:  84.65%; recall:  90.61%; FB1:  87.53  1778\n",
      "              PER: precision:  97.11%; recall:  93.44%; FB1:  95.24  1556\n",
      "\n",
      "Epoch 69/80\n"
     ]
    },
    {
     "name": "stderr",
     "output_type": "stream",
     "text": [
      "76it [00:35,  2.16it/s]\n"
     ]
    },
    {
     "name": "stdout",
     "output_type": "stream",
     "text": [
      "CoNLL score dev set\n",
      "total 51578, correct 51040, accuracy 0.989569\n",
      "total unknown 713, correct 689, accuracy 0.966339\n",
      "processed 51578 tokens with 5942 phrases; found: 5936 phrases; correct: 5621.\n",
      "accuracy:  98.96%; precision:  94.69%; recall:  94.60%; FB1:  94.65\n",
      "              LOC: precision:  96.58%; recall:  96.73%; FB1:  96.65  1840\n",
      "             MISC: precision:  91.47%; recall:  88.39%; FB1:  89.91  891\n",
      "              ORG: precision:  90.72%; recall:  92.54%; FB1:  91.62  1368\n",
      "              PER: precision:  97.33%; recall:  97.07%; FB1:  97.20  1837\n",
      "\n",
      "CoNLL score test set\n",
      "total 46666, correct 45703, accuracy 0.979364\n",
      "total unknown 1143, correct 1070, accuracy 0.936133\n"
     ]
    },
    {
     "name": "stderr",
     "output_type": "stream",
     "text": [
      "0it [00:00, ?it/s]"
     ]
    },
    {
     "name": "stdout",
     "output_type": "stream",
     "text": [
      "processed 46666 tokens with 5648 phrases; found: 5663 phrases; correct: 5132.\n",
      "accuracy:  97.94%; precision:  90.62%; recall:  90.86%; FB1:  90.74\n",
      "              LOC: precision:  91.64%; recall:  94.00%; FB1:  92.81  1711\n",
      "             MISC: precision:  81.92%; recall:  80.06%; FB1:  80.98  686\n",
      "              ORG: precision:  86.88%; recall:  89.70%; FB1:  88.27  1715\n",
      "              PER: precision:  97.49%; recall:  93.51%; FB1:  95.45  1551\n",
      "\n",
      "Epoch 70/80\n"
     ]
    },
    {
     "name": "stderr",
     "output_type": "stream",
     "text": [
      "76it [00:35,  2.11it/s]\n"
     ]
    },
    {
     "name": "stdout",
     "output_type": "stream",
     "text": [
      "CoNLL score dev set\n",
      "total 51578, correct 50964, accuracy 0.988096\n",
      "total unknown 713, correct 687, accuracy 0.963534\n",
      "processed 51578 tokens with 5942 phrases; found: 5887 phrases; correct: 5570.\n",
      "accuracy:  98.81%; precision:  94.62%; recall:  93.74%; FB1:  94.18\n",
      "              LOC: precision:  96.47%; recall:  96.73%; FB1:  96.60  1842\n",
      "             MISC: precision:  91.92%; recall:  87.64%; FB1:  89.73  879\n",
      "              ORG: precision:  90.27%; recall:  89.93%; FB1:  90.10  1336\n",
      "              PER: precision:  97.21%; recall:  96.58%; FB1:  96.90  1830\n",
      "\n",
      "CoNLL score test set\n",
      "total 46666, correct 45642, accuracy 0.978057\n",
      "total unknown 1143, correct 1068, accuracy 0.934383\n"
     ]
    },
    {
     "name": "stderr",
     "output_type": "stream",
     "text": [
      "0it [00:00, ?it/s]"
     ]
    },
    {
     "name": "stdout",
     "output_type": "stream",
     "text": [
      "processed 46666 tokens with 5648 phrases; found: 5602 phrases; correct: 5081.\n",
      "accuracy:  97.81%; precision:  90.70%; recall:  89.96%; FB1:  90.33\n",
      "              LOC: precision:  91.47%; recall:  93.82%; FB1:  92.63  1711\n",
      "             MISC: precision:  81.18%; recall:  80.48%; FB1:  80.83  696\n",
      "              ORG: precision:  87.55%; recall:  86.82%; FB1:  87.18  1647\n",
      "              PER: precision:  97.48%; recall:  93.32%; FB1:  95.36  1548\n",
      "\n",
      "Epoch 71/80\n"
     ]
    },
    {
     "name": "stderr",
     "output_type": "stream",
     "text": [
      "76it [00:35,  2.15it/s]\n"
     ]
    },
    {
     "name": "stdout",
     "output_type": "stream",
     "text": [
      "CoNLL score dev set\n",
      "total 51578, correct 51041, accuracy 0.989589\n",
      "total unknown 713, correct 687, accuracy 0.963534\n",
      "processed 51578 tokens with 5942 phrases; found: 5949 phrases; correct: 5629.\n",
      "accuracy:  98.96%; precision:  94.62%; recall:  94.73%; FB1:  94.68\n",
      "              LOC: precision:  96.58%; recall:  96.90%; FB1:  96.74  1843\n",
      "             MISC: precision:  87.45%; recall:  90.67%; FB1:  89.03  956\n",
      "              ORG: precision:  93.91%; recall:  90.90%; FB1:  92.38  1298\n",
      "              PER: precision:  96.87%; recall:  97.39%; FB1:  97.13  1852\n",
      "\n",
      "CoNLL score test set\n",
      "total 46666, correct 45675, accuracy 0.978764\n",
      "total unknown 1143, correct 1071, accuracy 0.937008\n"
     ]
    },
    {
     "name": "stderr",
     "output_type": "stream",
     "text": [
      "0it [00:00, ?it/s]"
     ]
    },
    {
     "name": "stdout",
     "output_type": "stream",
     "text": [
      "processed 46666 tokens with 5648 phrases; found: 5659 phrases; correct: 5106.\n",
      "accuracy:  97.88%; precision:  90.23%; recall:  90.40%; FB1:  90.32\n",
      "              LOC: precision:  91.15%; recall:  93.82%; FB1:  92.47  1717\n",
      "             MISC: precision:  74.97%; recall:  82.34%; FB1:  78.48  771\n",
      "              ORG: precision:  90.61%; recall:  85.97%; FB1:  88.23  1576\n",
      "              PER: precision:  96.24%; recall:  94.93%; FB1:  95.58  1595\n",
      "\n",
      "Epoch 72/80\n"
     ]
    },
    {
     "name": "stderr",
     "output_type": "stream",
     "text": [
      "76it [00:35,  2.16it/s]\n"
     ]
    },
    {
     "name": "stdout",
     "output_type": "stream",
     "text": [
      "CoNLL score dev set\n",
      "total 51578, correct 51051, accuracy 0.989782\n",
      "total unknown 713, correct 687, accuracy 0.963534\n",
      "processed 51578 tokens with 5942 phrases; found: 5911 phrases; correct: 5613.\n",
      "accuracy:  98.98%; precision:  94.96%; recall:  94.46%; FB1:  94.71\n",
      "              LOC: precision:  96.74%; recall:  96.90%; FB1:  96.82  1840\n",
      "             MISC: precision:  89.57%; recall:  90.35%; FB1:  89.96  930\n",
      "              ORG: precision:  94.01%; recall:  90.16%; FB1:  92.04  1286\n",
      "              PER: precision:  96.55%; recall:  97.23%; FB1:  96.89  1855\n",
      "\n",
      "CoNLL score test set\n",
      "total 46666, correct 45700, accuracy 0.979300\n",
      "total unknown 1143, correct 1065, accuracy 0.931759\n"
     ]
    },
    {
     "name": "stderr",
     "output_type": "stream",
     "text": [
      "0it [00:00, ?it/s]"
     ]
    },
    {
     "name": "stdout",
     "output_type": "stream",
     "text": [
      "processed 46666 tokens with 5648 phrases; found: 5606 phrases; correct: 5083.\n",
      "accuracy:  97.93%; precision:  90.67%; recall:  90.00%; FB1:  90.33\n",
      "              LOC: precision:  90.75%; recall:  94.06%; FB1:  92.38  1729\n",
      "             MISC: precision:  77.57%; recall:  81.77%; FB1:  79.61  740\n",
      "              ORG: precision:  91.31%; recall:  84.77%; FB1:  87.92  1542\n",
      "              PER: precision:  96.05%; recall:  94.74%; FB1:  95.39  1595\n",
      "\n",
      "Epoch 73/80\n"
     ]
    },
    {
     "name": "stderr",
     "output_type": "stream",
     "text": [
      "76it [00:35,  2.13it/s]\n"
     ]
    },
    {
     "name": "stdout",
     "output_type": "stream",
     "text": [
      "CoNLL score dev set\n",
      "total 51578, correct 51036, accuracy 0.989492\n",
      "total unknown 713, correct 686, accuracy 0.962132\n",
      "processed 51578 tokens with 5942 phrases; found: 5924 phrases; correct: 5611.\n",
      "accuracy:  98.95%; precision:  94.72%; recall:  94.43%; FB1:  94.57\n",
      "              LOC: precision:  97.46%; recall:  96.19%; FB1:  96.82  1813\n",
      "             MISC: precision:  91.28%; recall:  88.50%; FB1:  89.87  894\n",
      "              ORG: precision:  89.85%; recall:  93.06%; FB1:  91.43  1389\n",
      "              PER: precision:  97.37%; recall:  96.63%; FB1:  97.00  1828\n",
      "\n",
      "CoNLL score test set\n",
      "total 46666, correct 45681, accuracy 0.978893\n",
      "total unknown 1143, correct 1065, accuracy 0.931759\n"
     ]
    },
    {
     "name": "stderr",
     "output_type": "stream",
     "text": [
      "0it [00:00, ?it/s]"
     ]
    },
    {
     "name": "stdout",
     "output_type": "stream",
     "text": [
      "processed 46666 tokens with 5648 phrases; found: 5630 phrases; correct: 5096.\n",
      "accuracy:  97.89%; precision:  90.52%; recall:  90.23%; FB1:  90.37\n",
      "              LOC: precision:  92.55%; recall:  93.11%; FB1:  92.83  1678\n",
      "             MISC: precision:  80.46%; recall:  80.34%; FB1:  80.40  701\n",
      "              ORG: precision:  86.58%; recall:  89.34%; FB1:  87.94  1714\n",
      "              PER: precision:  97.27%; recall:  92.46%; FB1:  94.80  1537\n",
      "\n",
      "Epoch 74/80\n"
     ]
    },
    {
     "name": "stderr",
     "output_type": "stream",
     "text": [
      "76it [00:35,  2.15it/s]\n"
     ]
    },
    {
     "name": "stdout",
     "output_type": "stream",
     "text": [
      "CoNLL score dev set\n",
      "total 51578, correct 51053, accuracy 0.989821\n",
      "total unknown 713, correct 689, accuracy 0.966339\n",
      "processed 51578 tokens with 5942 phrases; found: 5961 phrases; correct: 5631.\n",
      "accuracy:  98.98%; precision:  94.46%; recall:  94.77%; FB1:  94.61\n",
      "              LOC: precision:  96.07%; recall:  97.17%; FB1:  96.62  1858\n",
      "             MISC: precision:  91.18%; recall:  88.61%; FB1:  89.88  896\n",
      "              ORG: precision:  90.51%; recall:  93.14%; FB1:  91.80  1380\n",
      "              PER: precision:  97.43%; recall:  96.63%; FB1:  97.03  1827\n",
      "\n",
      "CoNLL score test set\n",
      "total 46666, correct 45688, accuracy 0.979043\n",
      "total unknown 1143, correct 1059, accuracy 0.926509\n"
     ]
    },
    {
     "name": "stderr",
     "output_type": "stream",
     "text": [
      "0it [00:00, ?it/s]"
     ]
    },
    {
     "name": "stdout",
     "output_type": "stream",
     "text": [
      "processed 46666 tokens with 5648 phrases; found: 5679 phrases; correct: 5120.\n",
      "accuracy:  97.90%; precision:  90.16%; recall:  90.65%; FB1:  90.40\n",
      "              LOC: precision:  91.46%; recall:  94.42%; FB1:  92.92  1722\n",
      "             MISC: precision:  79.46%; recall:  79.34%; FB1:  79.40  701\n",
      "              ORG: precision:  86.66%; recall:  89.58%; FB1:  88.10  1717\n",
      "              PER: precision:  97.47%; recall:  92.76%; FB1:  95.06  1539\n",
      "\n",
      "Epoch 75/80\n"
     ]
    },
    {
     "name": "stderr",
     "output_type": "stream",
     "text": [
      "76it [00:35,  2.15it/s]\n"
     ]
    },
    {
     "name": "stdout",
     "output_type": "stream",
     "text": [
      "CoNLL score dev set\n",
      "total 51578, correct 51036, accuracy 0.989492\n",
      "total unknown 713, correct 687, accuracy 0.963534\n",
      "processed 51578 tokens with 5942 phrases; found: 5987 phrases; correct: 5634.\n",
      "accuracy:  98.95%; precision:  94.10%; recall:  94.82%; FB1:  94.46\n",
      "              LOC: precision:  97.47%; recall:  96.41%; FB1:  96.93  1817\n",
      "             MISC: precision:  90.48%; recall:  88.61%; FB1:  89.53  903\n",
      "              ORG: precision:  89.18%; recall:  93.44%; FB1:  91.26  1405\n",
      "              PER: precision:  96.29%; recall:  97.34%; FB1:  96.81  1862\n",
      "\n",
      "CoNLL score test set\n",
      "total 46666, correct 45689, accuracy 0.979064\n",
      "total unknown 1143, correct 1067, accuracy 0.933508\n"
     ]
    },
    {
     "name": "stderr",
     "output_type": "stream",
     "text": [
      "0it [00:00, ?it/s]"
     ]
    },
    {
     "name": "stdout",
     "output_type": "stream",
     "text": [
      "processed 46666 tokens with 5648 phrases; found: 5730 phrases; correct: 5146.\n",
      "accuracy:  97.91%; precision:  89.81%; recall:  91.11%; FB1:  90.46\n",
      "              LOC: precision:  92.12%; recall:  93.23%; FB1:  92.67  1688\n",
      "             MISC: precision:  80.78%; recall:  79.63%; FB1:  80.20  692\n",
      "              ORG: precision:  85.45%; recall:  90.49%; FB1:  87.89  1759\n",
      "              PER: precision:  96.10%; recall:  94.56%; FB1:  95.32  1591\n",
      "\n",
      "Epoch 76/80\n"
     ]
    },
    {
     "name": "stderr",
     "output_type": "stream",
     "text": [
      "76it [00:35,  2.14it/s]\n"
     ]
    },
    {
     "name": "stdout",
     "output_type": "stream",
     "text": [
      "CoNLL score dev set\n",
      "total 51578, correct 51011, accuracy 0.989007\n",
      "total unknown 713, correct 685, accuracy 0.960729\n",
      "processed 51578 tokens with 5942 phrases; found: 5965 phrases; correct: 5617.\n",
      "accuracy:  98.90%; precision:  94.17%; recall:  94.53%; FB1:  94.35\n",
      "              LOC: precision:  97.11%; recall:  96.79%; FB1:  96.95  1831\n",
      "             MISC: precision:  91.68%; recall:  88.39%; FB1:  90.01  889\n",
      "              ORG: precision:  91.31%; recall:  90.90%; FB1:  91.11  1335\n",
      "              PER: precision:  94.50%; recall:  97.99%; FB1:  96.22  1910\n",
      "\n",
      "CoNLL score test set\n",
      "total 46666, correct 45754, accuracy 0.980457\n",
      "total unknown 1143, correct 1074, accuracy 0.939633\n"
     ]
    },
    {
     "name": "stderr",
     "output_type": "stream",
     "text": [
      "0it [00:00, ?it/s]"
     ]
    },
    {
     "name": "stdout",
     "output_type": "stream",
     "text": [
      "processed 46666 tokens with 5648 phrases; found: 5665 phrases; correct: 5154.\n",
      "accuracy:  98.05%; precision:  90.98%; recall:  91.25%; FB1:  91.12\n",
      "              LOC: precision:  92.15%; recall:  94.24%; FB1:  93.18  1706\n",
      "             MISC: precision:  81.12%; recall:  80.20%; FB1:  80.66  694\n",
      "              ORG: precision:  90.17%; recall:  88.38%; FB1:  89.27  1628\n",
      "              PER: precision:  94.75%; recall:  95.92%; FB1:  95.33  1637\n",
      "\n",
      "Epoch 77/80\n"
     ]
    },
    {
     "name": "stderr",
     "output_type": "stream",
     "text": [
      "76it [00:35,  2.17it/s]\n"
     ]
    },
    {
     "name": "stdout",
     "output_type": "stream",
     "text": [
      "CoNLL score dev set\n",
      "total 51578, correct 51031, accuracy 0.989395\n",
      "total unknown 713, correct 690, accuracy 0.967742\n",
      "processed 51578 tokens with 5942 phrases; found: 5949 phrases; correct: 5620.\n",
      "accuracy:  98.94%; precision:  94.47%; recall:  94.58%; FB1:  94.53\n",
      "              LOC: precision:  97.84%; recall:  96.30%; FB1:  97.06  1808\n",
      "             MISC: precision:  91.74%; recall:  87.96%; FB1:  89.81  884\n",
      "              ORG: precision:  89.04%; recall:  93.29%; FB1:  91.11  1405\n",
      "              PER: precision:  96.60%; recall:  97.12%; FB1:  96.86  1852\n",
      "\n",
      "CoNLL score test set\n",
      "total 46666, correct 45672, accuracy 0.978700\n",
      "total unknown 1143, correct 1074, accuracy 0.939633\n"
     ]
    },
    {
     "name": "stderr",
     "output_type": "stream",
     "text": [
      "0it [00:00, ?it/s]"
     ]
    },
    {
     "name": "stdout",
     "output_type": "stream",
     "text": [
      "processed 46666 tokens with 5648 phrases; found: 5660 phrases; correct: 5109.\n",
      "accuracy:  97.87%; precision:  90.27%; recall:  90.46%; FB1:  90.36\n",
      "              LOC: precision:  93.26%; recall:  92.93%; FB1:  93.09  1662\n",
      "             MISC: precision:  81.50%; recall:  79.06%; FB1:  80.26  681\n",
      "              ORG: precision:  85.31%; recall:  89.83%; FB1:  87.51  1749\n",
      "              PER: precision:  96.43%; recall:  93.51%; FB1:  94.95  1568\n",
      "\n",
      "Epoch 78/80\n"
     ]
    },
    {
     "name": "stderr",
     "output_type": "stream",
     "text": [
      "76it [00:35,  2.16it/s]\n"
     ]
    },
    {
     "name": "stdout",
     "output_type": "stream",
     "text": [
      "CoNLL score dev set\n",
      "total 51578, correct 51071, accuracy 0.990170\n",
      "total unknown 713, correct 691, accuracy 0.969144\n",
      "processed 51578 tokens with 5942 phrases; found: 5907 phrases; correct: 5628.\n",
      "accuracy:  99.02%; precision:  95.28%; recall:  94.72%; FB1:  95.00\n",
      "              LOC: precision:  96.91%; recall:  97.28%; FB1:  97.09  1844\n",
      "             MISC: precision:  91.72%; recall:  88.94%; FB1:  90.31  894\n",
      "              ORG: precision:  92.89%; recall:  91.57%; FB1:  92.23  1322\n",
      "              PER: precision:  97.08%; recall:  97.34%; FB1:  97.21  1847\n",
      "\n",
      "CoNLL score test set\n",
      "total 46666, correct 45710, accuracy 0.979514\n",
      "total unknown 1143, correct 1074, accuracy 0.939633\n"
     ]
    },
    {
     "name": "stderr",
     "output_type": "stream",
     "text": [
      "0it [00:00, ?it/s]"
     ]
    },
    {
     "name": "stdout",
     "output_type": "stream",
     "text": [
      "processed 46666 tokens with 5648 phrases; found: 5594 phrases; correct: 5106.\n",
      "accuracy:  97.95%; precision:  91.28%; recall:  90.40%; FB1:  90.84\n",
      "              LOC: precision:  91.04%; recall:  94.36%; FB1:  92.67  1729\n",
      "             MISC: precision:  80.95%; recall:  79.91%; FB1:  80.43  693\n",
      "              ORG: precision:  90.26%; recall:  87.06%; FB1:  88.63  1602\n",
      "              PER: precision:  97.13%; recall:  94.31%; FB1:  95.70  1570\n",
      "\n",
      "Epoch 79/80\n"
     ]
    },
    {
     "name": "stderr",
     "output_type": "stream",
     "text": [
      "76it [00:35,  2.15it/s]\n"
     ]
    },
    {
     "name": "stdout",
     "output_type": "stream",
     "text": [
      "CoNLL score dev set\n",
      "total 51578, correct 51059, accuracy 0.989938\n",
      "total unknown 713, correct 690, accuracy 0.967742\n",
      "processed 51578 tokens with 5942 phrases; found: 5943 phrases; correct: 5631.\n",
      "accuracy:  98.99%; precision:  94.75%; recall:  94.77%; FB1:  94.76\n",
      "              LOC: precision:  96.73%; recall:  96.68%; FB1:  96.71  1836\n",
      "             MISC: precision:  91.21%; recall:  88.94%; FB1:  90.06  899\n",
      "              ORG: precision:  91.64%; recall:  92.32%; FB1:  91.98  1351\n",
      "              PER: precision:  96.77%; recall:  97.56%; FB1:  97.16  1857\n",
      "\n",
      "CoNLL score test set\n",
      "total 46666, correct 45741, accuracy 0.980178\n",
      "total unknown 1143, correct 1077, accuracy 0.942257\n"
     ]
    },
    {
     "name": "stderr",
     "output_type": "stream",
     "text": [
      "0it [00:00, ?it/s]"
     ]
    },
    {
     "name": "stdout",
     "output_type": "stream",
     "text": [
      "processed 46666 tokens with 5648 phrases; found: 5657 phrases; correct: 5146.\n",
      "accuracy:  98.02%; precision:  90.97%; recall:  91.11%; FB1:  91.04\n",
      "              LOC: precision:  91.75%; recall:  94.00%; FB1:  92.86  1709\n",
      "             MISC: precision:  80.95%; recall:  80.48%; FB1:  80.71  698\n",
      "              ORG: precision:  89.13%; recall:  88.86%; FB1:  89.00  1656\n",
      "              PER: precision:  96.42%; recall:  95.05%; FB1:  95.73  1594\n",
      "\n",
      "Epoch 80/80\n"
     ]
    },
    {
     "name": "stderr",
     "output_type": "stream",
     "text": [
      "76it [00:34,  2.20it/s]\n"
     ]
    },
    {
     "name": "stdout",
     "output_type": "stream",
     "text": [
      "CoNLL score dev set\n",
      "total 51578, correct 51054, accuracy 0.989841\n",
      "total unknown 713, correct 688, accuracy 0.964937\n",
      "processed 51578 tokens with 5942 phrases; found: 5930 phrases; correct: 5621.\n",
      "accuracy:  98.98%; precision:  94.79%; recall:  94.60%; FB1:  94.69\n",
      "              LOC: precision:  95.46%; recall:  97.22%; FB1:  96.33  1871\n",
      "             MISC: precision:  92.45%; recall:  89.05%; FB1:  90.72  888\n",
      "              ORG: precision:  92.58%; recall:  91.13%; FB1:  91.85  1320\n",
      "              PER: precision:  96.81%; recall:  97.29%; FB1:  97.05  1851\n",
      "\n",
      "CoNLL score test set\n",
      "total 46666, correct 45731, accuracy 0.979964\n",
      "total unknown 1143, correct 1070, accuracy 0.936133\n",
      "processed 46666 tokens with 5648 phrases; found: 5617 phrases; correct: 5109.\n",
      "accuracy:  98.00%; precision:  90.96%; recall:  90.46%; FB1:  90.71\n",
      "              LOC: precision:  90.19%; recall:  94.84%; FB1:  92.46  1754\n",
      "             MISC: precision:  80.35%; recall:  78.06%; FB1:  79.19  682\n",
      "              ORG: precision:  90.51%; recall:  87.30%; FB1:  88.88  1602\n",
      "              PER: precision:  96.83%; recall:  94.56%; FB1:  95.68  1579\n",
      "\n"
     ]
    }
   ],
   "source": [
    "for epoch in range(EPOCHS):    \n",
    "    print(\"Epoch {}/{}\".format(epoch + 1, EPOCHS))\n",
    "    for i, batch in tqdm(enumerate(minibatch_generator(training_bins))):\n",
    "        char_batch, token_batch, label_batch = batch  \n",
    "        loss = model.train_on_batch([char_batch, token_batch], \n",
    "                                    label_batch)\n",
    "\n",
    "    # We evaluate the dev set\n",
    "    print('CoNLL score dev set')\n",
    "    Y_dev_hat = predict(X_dev_char_idx, X_dev_word_idx, model, idx2ner)\n",
    "    conll_dev_pred = format_conll(X_dev_word_cat, Y_dev_cat, Y_dev_hat)\n",
    "    \n",
    "    signature = '_' + str(CHAR_DROPOUT) + '_' + str(DROPOUT_RATE_PRE) + '_' +\\\n",
    "    str(RECURRENT_DROPOUT) + '_' + str(DROPOUT_RATE) + '_' + str(DROPOUT_RATE_POST) + '_'\n",
    "    \n",
    "    outfile = 'results/' + 'dev' + signature + '.out'\n",
    "    with open(outfile, 'w') as file:\n",
    "        file.write(conll_dev_pred)\n",
    "    print(os.popen('perl -w conlleval.pl <' + outfile).read())\n",
    "    \n",
    "    # We evaluate the test set\n",
    "    print('CoNLL score test set')\n",
    "    Y_test_hat = predict(X_test_char_idx, X_test_word_idx, model, idx2ner)\n",
    "    conll_test_pred = format_conll(X_test_word_cat, Y_test_cat, Y_test_hat)\n",
    "    \n",
    "    outfile = 'results/' + 'test' + signature + '.out'\n",
    "    with open(outfile, 'w') as file:\n",
    "        file.write(conll_test_pred)\n",
    "    print(os.popen('perl -w conlleval.pl <' + outfile).read())"
   ]
  },
  {
   "cell_type": "code",
   "execution_count": 34,
   "metadata": {},
   "outputs": [
    {
     "data": {
      "text/plain": [
       "[['O'],\n",
       " ['O', 'O', 'S-LOC', 'O', 'O', 'O', 'O', 'S-PER', 'O', 'O', 'O', 'O'],\n",
       " ['B-PER', 'E-PER']]"
      ]
     },
     "execution_count": 34,
     "metadata": {},
     "output_type": "execute_result"
    }
   ],
   "source": [
    "Y_test_cat[:3]"
   ]
  },
  {
   "cell_type": "markdown",
   "metadata": {},
   "source": [
    "## Using the Recognizer"
   ]
  },
  {
   "cell_type": "markdown",
   "metadata": {},
   "source": [
    "A sentence"
   ]
  },
  {
   "cell_type": "code",
   "execution_count": 35,
   "metadata": {},
   "outputs": [],
   "source": [
    "sentence = 'Yesterday , I met Pierre Nugues in Dammarie'"
   ]
  },
  {
   "cell_type": "markdown",
   "metadata": {},
   "source": [
    "We create the character input"
   ]
  },
  {
   "cell_type": "code",
   "execution_count": 36,
   "metadata": {},
   "outputs": [
    {
     "data": {
      "text/plain": [
       "[array([[56, 65, 79, 80, 65, 78, 64, 61, 85,  0,  0,  0,  0,  0,  0,  0,\n",
       "          0,  0,  0,  0],\n",
       "        [13,  0,  0,  0,  0,  0,  0,  0,  0,  0,  0,  0,  0,  0,  0,  0,\n",
       "          0,  0,  0,  0],\n",
       "        [40,  0,  0,  0,  0,  0,  0,  0,  0,  0,  0,  0,  0,  0,  0,  0,\n",
       "          0,  0,  0,  0],\n",
       "        [73, 65, 80,  0,  0,  0,  0,  0,  0,  0,  0,  0,  0,  0,  0,  0,\n",
       "          0,  0,  0,  0],\n",
       "        [47, 69, 65, 78, 78, 65,  0,  0,  0,  0,  0,  0,  0,  0,  0,  0,\n",
       "          0,  0,  0,  0],\n",
       "        [45, 81, 67, 81, 65, 79,  0,  0,  0,  0,  0,  0,  0,  0,  0,  0,\n",
       "          0,  0,  0,  0],\n",
       "        [69, 74,  0,  0,  0,  0,  0,  0,  0,  0,  0,  0,  0,  0,  0,  0,\n",
       "          0,  0,  0,  0],\n",
       "        [35, 61, 73, 73, 61, 78, 69, 65,  0,  0,  0,  0,  0,  0,  0,  0,\n",
       "          0,  0,  0,  0]], dtype=int32)]"
      ]
     },
     "execution_count": 36,
     "metadata": {},
     "output_type": "execute_result"
    }
   ],
   "source": [
    "sent_char_idx = to_char_index([sentence.split()], char2idx)\n",
    "sent_char_idx_padded = list(map(lambda x: pad_sequences(x, maxlen=MAX_LEN_CHARS, padding='post'), \n",
    "                            sent_char_idx))\n",
    "sent_char_idx_padded"
   ]
  },
  {
   "cell_type": "markdown",
   "metadata": {},
   "source": [
    "And the word input"
   ]
  },
  {
   "cell_type": "code",
   "execution_count": 37,
   "metadata": {},
   "outputs": [
    {
     "data": {
      "text/plain": [
       "[[401928, 217563, 83385, 166468, 186189, 1, 93692, 1]]"
      ]
     },
     "execution_count": 37,
     "metadata": {},
     "output_type": "execute_result"
    }
   ],
   "source": [
    "sent_word_idx = to_index([sentence.lower().split()], word2idx)\n",
    "sent_word_idx"
   ]
  },
  {
   "cell_type": "markdown",
   "metadata": {},
   "source": [
    "And we predict the tags"
   ]
  },
  {
   "cell_type": "code",
   "execution_count": 38,
   "metadata": {},
   "outputs": [
    {
     "data": {
      "text/plain": [
       "[['O', 'O', 'O', 'O', 'B-PER', 'E-PER', 'O', 'S-LOC']]"
      ]
     },
     "execution_count": 38,
     "metadata": {},
     "output_type": "execute_result"
    }
   ],
   "source": [
    "predict(sent_char_idx_padded, sent_word_idx, model, idx2ner)"
   ]
  },
  {
   "cell_type": "code",
   "execution_count": null,
   "metadata": {},
   "outputs": [],
   "source": []
  }
 ],
 "metadata": {
  "kernelspec": {
   "display_name": "Python 3",
   "language": "python",
   "name": "python3"
  },
  "language_info": {
   "codemirror_mode": {
    "name": "ipython",
    "version": 3
   },
   "file_extension": ".py",
   "mimetype": "text/x-python",
   "name": "python",
   "nbconvert_exporter": "python",
   "pygments_lexer": "ipython3",
   "version": "3.7.7"
  }
 },
 "nbformat": 4,
 "nbformat_minor": 4
}
